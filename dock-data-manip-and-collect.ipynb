{
 "cells": [
  {
   "cell_type": "markdown",
   "id": "42a4797b-a4ea-4722-8848-82d80c1a72f2",
   "metadata": {},
   "source": [
    "# Basil Docking V0.1 - Data Manipulation and Collection\n",
    "## Purpose\n",
    "\n",
    "__Target Audience__<br>\n",
    "Undergraduate chemistry/biochemistry students and, in general, people that have little to no knowledge of protein-ligand docking and would like to understand the general process of docking a ligand to a protein receptor.\n",
    "\n",
    "__Brief Overview__<br>\n",
    "Molecular docking is a computational method used to predict where molecules are able to bind to a protein receptor and what interactions exist between the molecule (from now on, refered to as \"ligand\") and the receptor. It is a popular technique utilized in drug discovery and design, as when creating new drugs and testing existing drugs aginst new receptors, it is useful to determine the likelihood of binding prior to screening as it can be used to eliminate molecules that are unlikely to bind to the receptor. This significantly reduces the potential cost and time needed to test the efficacy of a set of possible ligands. <br>\n",
    "\n",
    "The general steps to perform molecular docking, assuming the ligand and receptor are ready to be docked, include the generation of potential ligand binding poses and the scoring of each generated pose (which predicts how strongly the ligand binds to the receptor, with a more negative score corresponding to a stronger bond). To dock a ligand to a protein, (insert text).<br>\n",
    "\n",
    "This notebook series encompasses \n",
    "1. The preparation needed prior to docking (protein and ligand sanitation, ensuring files are in readable formats, and finding possible binding pockets)\n",
    "2. The process of docking ligand/s to a protein receptor using two docking engines (VINA and SMINA) and visualizing/analyzing the outputs\n",
    "3. __Further data collection and manipulation__\n",
    "4. Utilizing machine learning to determine key residues (on the protein) and functional groups (on the ligand) responsible for protein-ligand binding\n",
    "\n",
    "__Stepwise summary for this notebook (docking data manipulation and collection, notebook 3 out of 4)__\n",
    "- Create derivatives for ligands by substituting/modifying functional groups on a canonical ligand\n",
    "- Dock derivative/s to receptor\n",
    "- Collect and store data including but not limited to the score, interaction type, distance between interacting atoms from the ligand and protein, and functional group involved in interaction\n"
   ]
  },
  {
   "cell_type": "markdown",
   "id": "f519a1e6-3c92-436b-987b-34e93ffd4a4f",
   "metadata": {},
   "source": [
    "## Table of Libraries Used\n",
    "### Operations, variable creation, and variable manipulation\n",
    "\n",
    "| Module (Submodule/s) | Abbreviation| Role | Citation |\n",
    "| :--- | :--- | :--- | :--- |\n",
    "| numpy | np | perform mathematical operations and fix NaN values in dataframe outputs | Harris, C.R., Millman, K.J., van der Walt, S.J. et al. Array programming with NumPy. Nature 585, 357–362 (2020). DOI: 10.1038/s41586-020-2649-2. (Publisher link). |\n",
    "| pandas | pd | organize data in an easy-to-read format and allow for the exporting of data as a .csv file | The pandas development team. (2024). pandas-dev/pandas: Pandas (v2.2.3). Zenodo. https://doi.org/10.5281/zenodo.13819579 |\n",
    "| re |n/a| regular expression; find and pull specific strings of characters depending on need, allow for easy naming and variable creation | Van Rossum, G. (2020). The Python Library Reference, release 3.8.2. Python Software Foundation. |\n",
    "| os | n/a| allow for interaction with computer operating system, including the reading and writing of files |  Van Rossum, G. (2020). The Python Library Reference, release 3.8.2. Python Software Foundation. |\n",
    "| sys |n/a| manipulate python runtime environment |  Van Rossum, G. (2020). The Python Library Reference, release 3.8.2. Python Software Foundation.|\n",
    "| glob |n/a| pull files of interest, specifically for blind docking |  Van Rossum, G. (2020). The Python Library Reference, release 3.8.2. Python Software Foundation. |\n",
    "| warnings | n/a | filter warnings | Van Rossum, G. (2020). The Python Library Reference, release 3.8.2. Python Software Foundation. |\n",
    "\n",
    "### Protein and Ligand Preparation\n",
    "| Module (Submodule/s)| Abbreviation | Role | Citation |\n",
    "| :--- | :--- | :--- | :--- |\n",
    "| open babel (pybel)| n/a | prepare ligand derivatives for docking |  O'Boyle, N.M., Banck, M., James, C.A. et al. Open Babel: An open chemical toolbox. J Cheminform 3, 33 (2011). https://doi.org/10.1186/1758-2946-3-33.|\n",
    "| rdkit (Chem)| n/a | ligand creation and sanitation |  RDKit: Open-source cheminformatics; http://www.rdkit.org |\n",
    "\n",
    "### Visualization\n",
    "| Module (Submodule/s)| Abbreviation | Role | Citation |\n",
    "| :--- | :--- | :--- | :--- |\n",
    "| rdkit.Chem (AllChem, Draw)| n/a | derivative visualization |  RDKit: Open-source cheminformatics; http://www.rdkit.org |\n",
    "| py3Dmol | n/a | apoprotein and protein complex visualization |  Keshavan Seshadri, Peng Liu, and David Ryan Koes. Journal of Chemical Education 2020 97 (10), 3872-3876. https://doi.org/10.1021/acs.jchemed.0c00579. |\n",
    "\n",
    "### Docking\n",
    "| Module (Submodule/s)| Abbreviation | Role | Citation |\n",
    "| :--- | :--- | :--- | :--- |\n",
    "| vina | n/a | ligand-protein docking |  Eberhardt, J., Santos-Martins, D., Tillack, A.F., Forli, S. (2021). AutoDock Vina 1.2.0: New Docking Methods, Expanded Force Field, and Python Bindings. Journal of Chemical Information and Modeling. |\n",
    "| --- | --- | --- | Trott, O., & Olson, A. J. (2010). AutoDock Vina: improving the speed and accuracy of docking with a new scoring function, efficient optimization, and multithreading. Journal of computational chemistry, 31(2), 455-461. |\n",
    "| smina | n/a | ligand-protein docking |  Koes, D. R., Baumgartner, M. P., & Camacho, C. J. (2013). Lessons learned in empirical scoring with smina from the CSAR 2011 benchmarking exercise. Journal of chemical information and modeling, 53(8), 1893–1904. https://doi.org/10.1021/ci300604z |\n",
    "| fpocket | n/a | find possible binding pockets in protein receptors | Le Guilloux, V., Schmidtke, P. & Tuffery, P. Fpocket: An open source platform for ligand pocket detection. BMC Bioinformatics 10, 168 (2009). https://doi.org/10.1186/1471-2105-10-168. |\n",
    "|pdbqt_to_sdf | n/a | create sdf files from pdbqt files created from docking with vina | Ruiz-Moreno A.J. Jupyter Dock: Molecular Docking integrated in Jupyter Notebooks. https://doi.org/10.5281/zenodo.5514956 |\n",
    "\n",
    "### Data analysis\n",
    "| Module (Submodule/s)| Abbreviation | Role | Citation |\n",
    "| :--- | :--- | :--- | :--- |\n",
    "| MDAnalysis | mda | allow for the selection of atoms for separating protein from ligands and ligands from each other | R. J. Gowers, M. Linke, J. Barnoud, T. J. E. Reddy, M. N. Melo, S. L. Seyler, D. L. Dotson, J. Domanski, S. Buchoux, I. M. Kenney, and O. Beckstein. MDAnalysis: A Python package for the rapid analysis of molecular dynamics simulations. In S. Benthall and S. Rostrup, editors, Proceedings of the 15th Python in Science Conference, pages 98-105, Austin, TX, 2016. SciPy, doi:10.25080/majora-629e541a-00e. |\n",
    "| --- | --- | --- | N. Michaud-Agrawal, E. J. Denning, T. B. Woolf, and O. Beckstein. MDAnalysis: A Toolkit for the Analysis of Molecular Dynamics Simulations. J. Comput. Chem. 32 (2011), 2319-2327, doi:10.1002/jcc.21787. PMCID:PMC3144279. |\n",
    "| rdkit (Chem)| n/a | reorder/retrieve derivative atoms, retrieve information from derivative sdf files for visualization and comparison  |  RDKit: Open-source cheminformatics; http://www.rdkit.org |\n",
    "| prolif (Complex3D)| plf | calculate, record, and view protein-ligand interactions|  chemosim-lab/ProLIF: v0.3.3 - 2021-06-11.https://doi.org/10.5281/zenodo.4386984. |\n",
    "\n",
    "### UI\n",
    "| Module (Submodule/s)| Abbreviation | Role | Citation |\n",
    "| :--- | :--- | :--- | :--- |\n",
    "| IPython (ipywidgets)| n/a | allow for widgets to be implemented | Fernando Pérez, Brian E. Granger, IPython: A System for Interactive Scientific Computing, Computing in Science and Engineering, vol. 9, no. 3, pp. 21-29, May/June 2007, doi:10.1109/MCSE.2007.53. URL: https://ipython.org |\n",
    "| ipywidgets (Layout, Label, Dropdown, Box)| widgets | create dropdowns for docking engine, pocket number, ligand, and pose selection | Fernando Pérez, Brian E. Granger, IPython: A System for Interactive Scientific Computing, Computing in Science and Engineering, vol. 9, no. 3, pp. 21-29, May/June 2007, doi:10.1109/MCSE.2007.53. URL: https://ipython.org |\n"
   ]
  },
  {
   "cell_type": "markdown",
   "id": "d9268ad9",
   "metadata": {},
   "source": [
    "For using this notebook, certain libraries are required in order for analysis to perform as planned. You can either use a conda library (provided as a yml file) or install all required libraries using pip install. Only run the cells below if you will not use a conda library to install required libraries, and only use them as needed. If you are using a conda library, start at the coding cell that imports the libraries."
   ]
  },
  {
   "cell_type": "code",
   "execution_count": null,
   "id": "9fa961d2",
   "metadata": {},
   "outputs": [],
   "source": [
    "# create cell to import all libraries via pip install\n",
    "! pip install numpy"
   ]
  },
  {
   "cell_type": "code",
   "execution_count": null,
   "id": "310e9558",
   "metadata": {},
   "outputs": [],
   "source": [
    "! pip install pandas"
   ]
  },
  {
   "cell_type": "code",
   "execution_count": null,
   "id": "90c29a0d",
   "metadata": {},
   "outputs": [],
   "source": [
    "! pip install ipywidgets"
   ]
  },
  {
   "cell_type": "code",
   "execution_count": null,
   "id": "fdbb55af",
   "metadata": {},
   "outputs": [],
   "source": [
    "! pip install mdanalysis"
   ]
  },
  {
   "cell_type": "code",
   "execution_count": null,
   "id": "db653ceb",
   "metadata": {},
   "outputs": [],
   "source": [
    "! pip install openbabel"
   ]
  },
  {
   "cell_type": "code",
   "execution_count": null,
   "id": "1fef0bcb",
   "metadata": {},
   "outputs": [],
   "source": [
    "! pip install rdkit"
   ]
  },
  {
   "cell_type": "code",
   "execution_count": null,
   "id": "2e797012",
   "metadata": {},
   "outputs": [],
   "source": [
    "! pip install py3dmol"
   ]
  },
  {
   "cell_type": "code",
   "execution_count": null,
   "id": "82001e7f",
   "metadata": {},
   "outputs": [],
   "source": [
    "! pip install vina"
   ]
  },
  {
   "cell_type": "code",
   "execution_count": null,
   "id": "56f7b719",
   "metadata": {},
   "outputs": [],
   "source": [
    "! pip install smina"
   ]
  },
  {
   "cell_type": "code",
   "execution_count": null,
   "id": "c70318dc",
   "metadata": {},
   "outputs": [],
   "source": [
    "! pip install prolif"
   ]
  },
  {
   "cell_type": "code",
   "execution_count": null,
   "id": "ac448d0e",
   "metadata": {},
   "outputs": [],
   "source": [
    "! pip install scipy"
   ]
  },
  {
   "cell_type": "code",
   "execution_count": null,
   "id": "6957918c-e1e8-49ed-b8c7-2f57290b6558",
   "metadata": {},
   "outputs": [],
   "source": [
    "import numpy as np\n",
    "import pandas as pd\n",
    "import scipy\n",
    "from scipy.sparse import csr_matrix\n",
    "import re\n",
    "import sys, os\n",
    "import glob\n",
    "sys.path.insert(1, 'utilities/')\n",
    "from utils import pdbqt_to_sdf\n",
    "import ipywidgets as widgets\n",
    "from ipywidgets import Layout, Label, Dropdown, Box, SelectMultiple\n",
    "\n",
    "from openbabel import pybel\n",
    "from rdkit import Chem\n",
    "from rdkit.Chem import AllChem, Draw\n",
    "\n",
    "import prolif as plf\n",
    "from prolif.plotting.complex3d import Complex3D\n",
    "import MDAnalysis as mda \n",
    "from MDAnalysis.coordinates import PDB\n",
    "\n",
    "sys.path.insert(1, 'utilities/ligandsplitter/ligandsplitter')\n",
    "from ligandanalysis import get_vars, group_idxes_from_mol\n",
    "\n",
    "import warnings\n",
    "warnings.simplefilter(action='ignore', category=pd.errors.PerformanceWarning)"
   ]
  },
  {
   "cell_type": "markdown",
   "id": "dec697c6",
   "metadata": {},
   "source": [
    "## Import Values from docking-and-prelim-analysis"
   ]
  },
  {
   "cell_type": "markdown",
   "id": "3a2d83e6",
   "metadata": {},
   "source": [
    "Prior to docking, the data obtained from the previous notebook needs to be imported in order to be used. The glob library gets the pdb file containing the receptor, and the ligand information is obtained from the ligand_information.csv file created at the end of the previous notebook. The protein pocket information generated from fpocket is imported from the prot_pockets.csv file."
   ]
  },
  {
   "cell_type": "code",
   "execution_count": null,
   "id": "424e7bc3-d0ef-4936-9336-39eab2829e13",
   "metadata": {},
   "outputs": [],
   "source": [
    "# get needed values \n",
    "prot_pockets = pd.read_csv('data/protein_pockets.csv',index_col=[0])\n",
    "ligand_information = pd.read_csv('data/ligand_information.csv')\n",
    "\n",
    "find_pdb = os.path.join('data', 'PDB_files', '*.ent')\n",
    "prot_file = glob.glob(find_pdb)[0]\n",
    "prot_file_split = prot_file.split('/')[-1]\n",
    "pdb_id = prot_file_split[3:7]"
   ]
  },
  {
   "cell_type": "code",
   "execution_count": null,
   "id": "e0a9833e-40a9-4f54-8917-d47929a0b262",
   "metadata": {},
   "outputs": [],
   "source": [
    "ligs = []\n",
    "filenames = []\n",
    "filenames_H = []\n",
    "filenames_pdbqt = []\n",
    "for r in ligand_information.index:\n",
    "    ligs.append(ligand_information[\"ligs\"][r])\n",
    "    filenames.append(ligand_information[\"filenames\"][r])\n",
    "    filenames_H.append(ligand_information[\"filenames_H\"][r])\n",
    "    filenames_pdbqt.append(ligand_information[\"filenames_pdbqt\"][r])"
   ]
  },
  {
   "cell_type": "markdown",
   "id": "c8a4d69c-2f0d-46a8-adec-6e1eac230879",
   "metadata": {},
   "source": [
    "## Data manipulation and collection"
   ]
  },
  {
   "cell_type": "markdown",
   "id": "ecc8267d-8bfc-4df8-83db-8dc218040122",
   "metadata": {},
   "source": [
    "### Analyze functional groups in each ligand and create derivatives"
   ]
  },
  {
   "cell_type": "markdown",
   "id": "e26d0088",
   "metadata": {},
   "source": [
    "To create modified ligands to dock against the receptor, the functional groups of the original ligand/s are identified using substructure matching of SMILES and SMARTS strings pertaining to different functional groups. The names of each functional group present in the original ligand are saved along with the indexes of the atoms in the ligand making up the functional group. The result is a list of ones and zeros called `all_func_groups`, where a \"1\" corresponds to a functional group being present and a \"0\" corresponds to a functional group being absent. If the functional groups of multiple ligands are being idendified, `all_func_groups` will be a nested list containing the results for each ligand."
   ]
  },
  {
   "cell_type": "markdown",
   "id": "82042407",
   "metadata": {},
   "source": [
    "Derivatives of each original ligand will be created by replacing one of its identified functional groups with a different functional group. To reduce the number of small ligands created due to fragmentation, ligands with a SMILES string containing less than 25 characters will be ignored and will not be used for docking. If there are any inconsistancies within the derived ligand (i.e. atoms marked as aromatic that shouldn't be, atoms not following traditional binding rules) the derived ligand will be ignored and will not be used for docking."
   ]
  },
  {
   "cell_type": "code",
   "execution_count": null,
   "id": "bde62bd7-d169-463a-97b7-bb0cb1dc6650",
   "metadata": {},
   "outputs": [],
   "source": [
    "derivative_mols = []\n",
    "derivative_smile = []\n",
    "\n",
    "groups_dict = {\n",
    "    'ester': ['C(=O)-[NH]-C', 'C[C](=O)[O][C](=O)C'],\n",
    "    'ether': ['C-S-C'],\n",
    "    'hydroxy': ['C(=O)[OH]', 'C(=O)[H]', 'C(=O)-Cl'],\n",
    "    'carbox_acid': ['C(=O)-[H]', 'C(=O)-Cl'],\n",
    "    'aldehyde': ['C(=O)[OH]', 'C(=O)-Cl', 'C-[OH]', 'C-S-[H]', 'C(=[NH])[H]'],\n",
    "    'anhydr': ['C(=O)-[NH]-C','C(=O)OC', 'C(=O)-[NH]-C'],\n",
    "    'amine': ['CC', 'C-[N+](=O)-[O-]'],\n",
    "    'amide': ['C(=O)[OH]', 'C(=O)[H]'],\n",
    "    'amide_2': ['C(=O)OC'],\n",
    "    'nitro': ['C-[NH2]'],\n",
    "    'f_hal': ['Cl', 'Br', 'I'],\n",
    "    'cl_hal': ['F', 'Br', 'I'],\n",
    "    'br_hal': ['F', 'Cl', 'I'],\n",
    "    'i_hal': ['F', 'Cl', 'Br'],\n",
    "    'alkyne_term': ['C#N'], \n",
    "    'phenyl' : ['Cc1ccc([OH])cc1','Cc1ccc(OC)cc1', 'Cc1ccc(C)cc1', 'Cc1ccccc1'],\n",
    "    'benzyl': ['CCc1ccc([OH])cc1','CCc1ccc(OC)cc1', 'CCc1ccc(C)cc1', 'CCc1ccccc1'],\n",
    "    'pyrrole': ['[NH]1C=NC=C1'],\n",
    "    'imidiz': ['[NH]1C=CC=C1'],\n",
    "    'pyridine': ['n1cnccc1'],\n",
    "    'pyrimidine': ['n1ccccc1']\n",
    "}\n",
    "#clean up\n",
    "def derive(ligand, group):\n",
    "    mol = Chem.MolFromMol2File(f\"data/MOL2_files/{ligand}_H.mol2\",sanitize=False)\n",
    "    old_substr = Chem.MolFromSmarts(group)\n",
    "    if functional_groups_dict[group] in groups_dict:\n",
    "        replacement_values = groups_dict[functional_groups_dict[group]]\n",
    "        for a in replacement_values:\n",
    "            if a != group:\n",
    "                new_substr = Chem.MolFromSmiles(a)\n",
    "                rms = AllChem.ReplaceSubstructs(mol, old_substr, new_substr)\n",
    "                fragments = Chem.GetMolFrags(rms[0])\n",
    "                for frag in fragments:\n",
    "                    ind_frag = Chem.MolFragmentToSmiles(rms[0], frag)\n",
    "                    if (len(ind_frag) > 25) & (ind_frag != \"O[H][H]\") & (ind_frag not in derivative_smile):\n",
    "                        derivative_smile.append(ind_frag)\n",
    "                        temp_mol = Chem.MolFromSmiles(ind_frag)\n",
    "                        if temp_mol is not None:\n",
    "                            derivative_mols.append(temp_mol)\n",
    "\n",
    "for i in ligs:\n",
    "    mol_groups = []\n",
    "    mol = Chem.MolFromMol2File(f\"data/MOL2_files/{i}_H.mol2\", sanitize = False)\n",
    "    for j in functional_groups:\n",
    "        k = Chem.MolFromSmarts(j)\n",
    "        if mol.HasSubstructMatch(k):\n",
    "            mol_groups.append(1) # 1 corresponds to a functional group being present\n",
    "            print(f'Atom indices for substructure match (type: {functional_groups_dict[j]}) in ligand {i}: ')\n",
    "            idxes = mol.GetSubstructMatches(k)\n",
    "            idxes_list = list(idxes)\n",
    "            print(idxes)\n",
    "        else:\n",
    "            mol_groups.append(0) # 0 corresponds to a functional group being absent\n",
    "    all_func_groups.append(mol_groups)\n",
    "    \n",
    "for location, i in enumerate(ligs):\n",
    "    matches = []\n",
    "    for func_loc, j in enumerate(all_func_groups[location]):\n",
    "        if j == 1:\n",
    "            matches.append(functional_groups[func_loc]) #list of smiles strings for all functional groups in ligand\n",
    "        for group in matches:\n",
    "            derive(i, group)"
   ]
  },
  {
   "cell_type": "markdown",
   "id": "6b889822",
   "metadata": {},
   "source": [
    "To get the functional groups in each derivative, a similar method used to determine the functional groups in the original ligand/s is utilized, with a few small changes. The output of this function is a dictionary, where the keys are the indexes of atoms determined to be in a functional group, and the corresponding value is the name of the functional group. Due to keys being unable to be used more than once in a dictionary, atoms that are members of two or more functional groups will only have one of their functional groups listed as the value."
   ]
  },
  {
   "cell_type": "code",
   "execution_count": null,
   "id": "dbec62c6",
   "metadata": {},
   "outputs": [],
   "source": [
    "group_idxes_from_mol(derivative_mols[1])"
   ]
  },
  {
   "cell_type": "markdown",
   "id": "06a6243c",
   "metadata": {},
   "source": [
    "In order to dock the derivatives, local files in mol2 and pdbqt formats need to be created. As rdkit molecules cannot be converted to these file types directly, derivative molecules must first be converted and saved as a pdb file. The names of each created file are added to its respective list (`filenames`, `filenames_H`, and `filenames_pdbqt`)"
   ]
  },
  {
   "cell_type": "code",
   "execution_count": null,
   "id": "33bc878a-c993-4949-9d52-7c11a34ad19f",
   "metadata": {},
   "outputs": [],
   "source": [
    "# LEE NOTE FROM LEE: clunky. FIX\n",
    "derivs = []\n",
    "ligs_with_derivs = []\n",
    "fxnal_groups_with_derivs = []\n",
    "\n",
    "for h, i in enumerate(ligs):\n",
    "    ligs_with_derivs.append(i)\n",
    "    fxnal_groups_with_derivs.append(all_func_groups[h])\n",
    "\n",
    "for mol_num, mol in enumerate(derivative_mols):\n",
    "    new_ligand = 'derivative_' + str(mol_num)\n",
    "    pdb_file = 'data/PDB_files/' + str(new_ligand) + '.pdb'\n",
    "    Chem.MolToPDBFile(mol, pdb_file)\n",
    "    \n",
    "    # make mol2 file\n",
    "    pdb_mol = [m for m in pybel.readfile(filename = pdb_file, format='pdb')][0]\n",
    "    out = pybel.Outputfile(filename= f\"data/MOL2_files/{new_ligand}.mol2\", overwrite = True, format='mol2')\n",
    "    out.write(pdb_mol)\n",
    "    out.close()\n",
    "    \n",
    "    # make mol2 file (including hydrogens)\n",
    "    mol2_mol = [m for m in pybel.readfile(filename = f\"data/MOL2_files/{new_ligand}.mol2\", format='mol2')][0]\n",
    "    mol2_mol.make3D()\n",
    "    mol2_mol.addh()\n",
    "    out = pybel.Outputfile(filename= f\"data/MOL2_files/{new_ligand}_H.mol2\", overwrite = True, format='mol2')\n",
    "    out.write(mol2_mol)\n",
    "    out.close()\n",
    "    \n",
    "    # make pdbqt file\n",
    "    out2 = pybel.Outputfile(filename= f\"data/PDBQT_files/{new_ligand}.pdbqt\", overwrite = True, format='pdbqt')\n",
    "    out2.write(mol2_mol)\n",
    "    out2.close()\n",
    "\n",
    "    # get functional groups of derivatives\n",
    "    mol_groups = []\n",
    "    for j in functional_groups:\n",
    "        k = Chem.MolFromSmarts(j)\n",
    "        if mol.HasSubstructMatch(k):\n",
    "            mol_groups.append(1) # 1 corresponds to a functional group being present\n",
    "        else:\n",
    "            mol_groups.append(0) # 0 corresponds to a functional group being absent\n",
    "    fxnal_groups_with_derivs.append(mol_groups)\n",
    "    \n",
    "    # append lists with derivatives\n",
    "    derivs.append(new_ligand)\n",
    "    ligs_with_derivs.append(new_ligand)\n",
    "    filenames.append(f\"data/MOL2_files/{new_ligand}.mol2\")\n",
    "    filenames_H.append(f\"data/MOL2_files/{new_ligand}_H.mol2\")\n",
    "    filenames_pdbqt.append(f\"data/PDBQT_files/{new_ligand}.pdbqt\")\n"
   ]
  },
  {
   "cell_type": "code",
   "execution_count": null,
   "id": "e95f527b",
   "metadata": {},
   "outputs": [],
   "source": [
    "Draw.MolsToGridImage(derivative_mols, molsPerRow=5, subImgSize=(300,300))"
   ]
  },
  {
   "cell_type": "markdown",
   "id": "be15aad9",
   "metadata": {},
   "source": [
    "## Dock and Analyze Derivatives"
   ]
  },
  {
   "cell_type": "markdown",
   "id": "987837d4",
   "metadata": {},
   "source": [
    "The derivatives can be docked against the receptor using the same procedure used to dock the original ligands in the previous notebook (`docking-and-prelim-analysis`). The number of derivatives to be docked and the derivatives that will be used depends on the selection/s using the widget above. As the procedure is the same, the step-by-step guide for VINA and SMINA is identical to the one in `docking-and-prelim-analysis`."
   ]
  },
  {
   "cell_type": "markdown",
   "id": "3d3af2be",
   "metadata": {},
   "source": [
    "Docking every generated derivative would quickly use up a lot of memory. The widget created by the cell below allows for both a single derivative and multiple derivatives to be docked. To select multiple derivatives, hold down the control key (PC) or command key (Mac) while clicking on the names of each derivative you would like to dock. The names of a given derivative corresponds to its location in the grid above (for example, `derivative_0` is at index 0 and is the first derivative shown in the grid)"
   ]
  },
  {
   "cell_type": "code",
   "execution_count": null,
   "id": "b9ef5a40",
   "metadata": {},
   "outputs": [],
   "source": [
    "style = {'description_width': 'initial'}\n",
    "select_drop = SelectMultiple(options = derivs, description = 'Select Derivative/s to Dock:', style = style)\n",
    "select_drop"
   ]
  },
  {
   "cell_type": "markdown",
   "id": "70e62bcb",
   "metadata": {},
   "source": [
    "Ligand docking can either be site-specific or blind. Site-specific docking uses a location of the receptor where we know the ligand binds, and uses the center and size of the ligand as determined in docking_prep. Blind docking attempts to bind the ligand in multiple potential pockets in the protein (determined using fpocket in docking_prep) and requires more computational energy to perform. The option selected in the dropbox below will determine the method used in this notebook."
   ]
  },
  {
   "cell_type": "code",
   "execution_count": null,
   "id": "e4c4d81f",
   "metadata": {},
   "outputs": [],
   "source": [
    "style = {'description_width': 'initial'}\n",
    "select_type = Dropdown(options = [\"Site-specific docking\",\"Blind docking\"], description = 'Select Docking Type:', style = style)\n",
    "select_type"
   ]
  },
  {
   "cell_type": "markdown",
   "id": "db52e0a5",
   "metadata": {},
   "source": [
    "### Docking with Vina"
   ]
  },
  {
   "cell_type": "markdown",
   "id": "236dc8e6",
   "metadata": {},
   "source": [
    "Below is a step-by-step (cell-by-cell) guide on how the VINA docking engine is used to generate poses and scores for each pocket and ligand\n",
    "\n",
    "- Prior to docking, two new folders are created in the data folder to organize the output data (vina_out and vina_out_2).\n",
    "- Using the information collected in the docking-prep notebook, each pocket's center values and size values are added to their respective lists, which are called pocket_center and pocket_size. In both lists, each instance is a list of the x, y, and z values corresponding to one pocket's data (as a result, pocket_center and pocket_size are nested lists, and the length of both lists is equal to the number of binding pockets)\n",
    "    - For example, pocket_center may look like this: [[x1, y1, z1][x2, y2, z2][x3, y3, z3]]\n",
    "- Using the pocket size and center lists and the pdbqt files for the receptor and desired ligand, ligand poses are generated for each binding pocket (the number of poses depends on the value of n_poses, which is set to 5 in this notebook). The amount of computational effort needed to generate the poses for a given pocket and ligand is called the exhaustiveness. As exhaustiveness increases, the more reproducible the results tend to be. While the default value of exhaustiveness is 8, this notebook uses an exhaustiveness of 5 due to memory limitations.\n",
    "- The results of running the VINA docking engine are stored as pdbqt files and can be located in the vina_out folder. In order to analyze and vizualize the results, the pdbqt files are converted into sdf files using the function pdbqt_to_sdf (created by Angel Ruiz-Moreno), which can be found in the vina_out_2 folder. The names of each file follows the formula of `(ligand name)_vina_pocket_(pocket number).pdbqt` for the pdbqt files and `(ligand name)_pocket_(pocket number)_(name of folder).sdf` for the sdf files."
   ]
  },
  {
   "cell_type": "code",
   "execution_count": null,
   "id": "aff3775a",
   "metadata": {},
   "outputs": [],
   "source": [
    "from vina import Vina\n",
    "\n",
    "current_dir = os.getcwd()\n",
    "vina_out = os.path.join(current_dir, \"data\", \"vina_out\")\n",
    "vina_out_2 = os.path.join(current_dir, \"data\", \"vina_out_2\")\n",
    "\n",
    "pocket_center = []\n",
    "pocket_size = []\n",
    "\n",
    "for i in select_drop.value:\n",
    "    for pocket in prot_pockets.index:\n",
    "        c_x = prot_pockets.loc[pocket,'center_x']\n",
    "        c_y = prot_pockets.loc[pocket,'center_y']\n",
    "        c_z = prot_pockets.loc[pocket,'center_z']\n",
    "        s_x = prot_pockets.loc[pocket,'size_x']\n",
    "        s_y = prot_pockets.loc[pocket,'size_y']\n",
    "        s_z = prot_pockets.loc[pocket,'size_z']\n",
    "        pocket_center.append([c_x, c_y, c_z])\n",
    "        pocket_size.append([s_x, s_y, s_z])"
   ]
  },
  {
   "cell_type": "code",
   "execution_count": null,
   "id": "b3b71a09",
   "metadata": {},
   "outputs": [],
   "source": [
    "def vina_dock(ligand):\n",
    "    v = Vina(sf_name='vina')\n",
    "    v.set_receptor(f'data/PDBQT_files/{pdb_id}_protein.pdbqt')\n",
    "    v.set_ligand_from_file(f\"data/PDBQT_files/{ligand}.pdbqt\")\n",
    "    if select_type == \"Blind docking\":\n",
    "        for pock_num, pocket in enumerate(prot_pockets.index):\n",
    "            v.compute_vina_maps(center = pocket_center[pock_num], box_size = pocket_size[pock_num])\n",
    "            v.dock(exhaustiveness=5, n_poses=5)\n",
    "            v.write_poses(\"data/vina_out/\" + str(ligand) + \"_vina_pocket_\" + str(pocket) + '.pdbqt', n_poses=5, overwrite=True)\n",
    "    else:\n",
    "        # need to fix center and size for derivatives\n",
    "        v.compute_vina_maps(center = center[derivs.index(ligand)], box_size = size[derivs.index(ligand)])\n",
    "        v.dock(exhaustiveness=5, n_poses=5)\n",
    "        v.write_poses(\"data/vina_out/\" + str(ligand) + '.pdbqt', n_poses=5, overwrite=True)"
   ]
  },
  {
   "cell_type": "code",
   "execution_count": null,
   "id": "f6d563ec",
   "metadata": {},
   "outputs": [],
   "source": [
    "for i in select_drop.value:\n",
    "    vina_dock(i)"
   ]
  },
  {
   "cell_type": "code",
   "execution_count": null,
   "id": "14ff14bf",
   "metadata": {},
   "outputs": [],
   "source": [
    "for i in select_drop.value:\n",
    "    if select_type == \"Blind docking\":\n",
    "        for pocket in prot_pockets.index:\n",
    "            pdbqt_to_sdf(pdbqt_file=f\"data/vina_out/{i}_vina_pocket_{pocket}.pdbqt\",output=f\"data/vina_out_2/{i}_pocket_{pocket}_vina_out_2.sdf\")\n",
    "    else:\n",
    "        pdbqt_to_sdf(pdbqt_file=f\"data/vina_out/{i}.pdbqt\",output=f\"data/vina_out_2/{i}_vina_out_2.sdf\")"
   ]
  },
  {
   "cell_type": "markdown",
   "id": "284a343f",
   "metadata": {},
   "source": [
    "### Docking with Smina"
   ]
  },
  {
   "cell_type": "markdown",
   "id": "c0658b94",
   "metadata": {},
   "source": [
    "Below is a step-by-step (cell-by-cell) guide on how the SMINA docking engine is used to generate poses and scores for each pocket and ligand\n",
    "- Prior to docking, two new folders are created in the data folder to organize the output data (smina_out and smina_out_2). The path for the smina docking engine executable is also initialized to allow for the docking engine to be used, as it is a local file.\n",
    "- Using the the pdbqt file for the receptor, the mol2 file for the desired ligand, and the pocket center/size values from the prot_pockets dataframe, ligand poses are generated for each binding pocket (the number of poses depends on the value of num_modes, which is set to 5 in this notebook). The amount of computational effort needed to generate the poses for a given pocket and ligand is called the exhaustiveness. As exhaustiveness increases, the more reproducible the results tend to be. While the default value of exhaustiveness is 8, this notebook uses an exhaustiveness of 5 due to memory limitations.\n",
    "- The results of running the SMINA docking engine are stored as sdf files and can be located in the smina_out folder. However, due to the fact that the output files do not have a flag marking it as three dimensional, the sdf files must be read using SDMolSupplier and re-written using SDWriter to avoid excessive errors. The re-written sdf files can be found in the smina_out_2 folder. The names of each file follows the formula of `(ligand name)_pocket_(pocket number)_(name of folder).sdf` for the sdf files."
   ]
  },
  {
   "cell_type": "code",
   "execution_count": null,
   "id": "0ccc1f5e",
   "metadata": {},
   "outputs": [],
   "source": [
    "# Using SMINA to dock ligand/s in docking boxes based on fpocket's identified pockets\n",
    "d = 0\n",
    "for i in select_drop.value: \n",
    "    if select_type.value == \"Blind docking\":\n",
    "        for pock_num, pocket in enumerate(prot_pockets.index):\n",
    "            rec = f'data/PDBQT_files/{pdb_id}_protein.pdbqt'\n",
    "            lig = f'data/MOL2_files/{i}_H.mol2'\n",
    "            outfile = f'data/smina_out/{i}_pocket_{pocket}_smina_out.sdf'\n",
    "            ! smina -r {rec} -l {lig} -o {outfile} -center_x {pocket_center[pock_num][0]} -center_y {pocket_center[pock_num][1]} -center_z {pocket_center[pock_num][2]} -size_x {pocket_size[pock_num][0]} -size_y {pocket_size[pock_num][1]} -size_z {pocket_size[pock_num][2]} --exhaustiveness 5 --num_modes 5\n",
    "    else:\n",
    "        rec = f'data/PDBQT_files/{pdb_id}_protein.pdbqt'\n",
    "        lig = f'data/MOL2_files/{i}_H.mol2'\n",
    "        outfile = f'data/smina_out/{i}_smina_out.sdf'\n",
    "        ! smina -r {rec} -l {lig} -o {outfile} --autobox_ligand {lig} --autobox_add 5 --exhaustiveness 5 --num_modes 5"
   ]
  },
  {
   "cell_type": "code",
   "execution_count": null,
   "id": "426ae64d",
   "metadata": {},
   "outputs": [],
   "source": [
    "# Rewrite .sdf output files to add 3D tag\n",
    "# This code will result in warnings. This is normal as long as the warning is\n",
    "# \"Warning: molecule is tagged as 2D, but at least one Z coordinate is not zero. Marking the mol as 3D.\"\n",
    "mols_all = []\n",
    "for i in select_drop.value:\n",
    "    mols = []\n",
    "    if select_type.value == \"Blind docking\":\n",
    "        for pocket in prot_pockets.index:\n",
    "            with Chem.SDMolSupplier(f'data/smina_out/{i}_pocket_{pocket}_smina_out.sdf') as suppl:\n",
    "                for mol in suppl:\n",
    "                    if mol is not None:\n",
    "                        Chem.MolToMolBlock(mol)\n",
    "                        mols.append(mol)\n",
    "            with Chem.SDWriter(f\"data/smina_out_2/{i}_pocket_{pocket}_smina_out_2.sdf\") as w:\n",
    "                for mol in mols:\n",
    "                    w.write(mol)\n",
    "    else:\n",
    "        with Chem.SDMolSupplier(f'data/smina_out/{i}_smina_out.sdf') as suppl:\n",
    "            for mol in suppl:\n",
    "                if mol is not None:\n",
    "                    Chem.MolToMolBlock(mol)\n",
    "                    mols.append(mol)\n",
    "        with Chem.SDWriter(f\"data/smina_out_2/{i}_smina_out_2.sdf\") as w:\n",
    "            for mol in mols:\n",
    "                w.write(mol)"
   ]
  },
  {
   "cell_type": "markdown",
   "id": "b6e3735b",
   "metadata": {},
   "source": [
    "## Analysis of derivative docking output"
   ]
  },
  {
   "cell_type": "markdown",
   "id": "a0d502dd",
   "metadata": {},
   "source": [
    "Now that we have results from molecular docking, we need to make sense of the information. If you were to open the sdf files in a text editor, you would see x, y, and z coordinates for each atom in the ligand, the bond types between atoms in the ligand, and the score of the ligand pose. While useful, this information is difficult to interpret and visualize. To get information regarding the number of interactions, the types of interaction, and the atoms (ligand) and residues (receptor) involved in binding the ligand to the receptor, interaction fingerprints (IFPs) can be generated and viewed using the prolif library, which can be used to identify key atoms in the ligand and key residues in the receptor involved in protein-ligand complex formation."
   ]
  },
  {
   "cell_type": "code",
   "execution_count": null,
   "id": "5dc4bb9c",
   "metadata": {},
   "outputs": [],
   "source": [
    "style = {'description_width': 'initial'}\n",
    "select_dock = Dropdown(options = [\"smina\", \"vina\"], description = 'Select Docking Engine:', style = style)\n",
    "select_dock"
   ]
  },
  {
   "cell_type": "markdown",
   "id": "37e6f4d5",
   "metadata": {},
   "source": [
    "(get scores for all results)"
   ]
  },
  {
   "cell_type": "code",
   "execution_count": null,
   "id": "5fd29d66",
   "metadata": {},
   "outputs": [],
   "source": [
    "all_results = []\n",
    "scores = [] # get list of scores for each pose\n",
    "for h, i in enumerate(select_drop.value):\n",
    "    # initialize list that contains values all poses in all pockets (for 1 ligand at a time)\n",
    "    nested_results = []\n",
    "    # append pose data for each pocket to nested_results\n",
    "    if select_type.value == \"Blind docking\":\n",
    "        for pocket in prot_pockets.index:\n",
    "            results = Chem.SDMolSupplier(f\"data/{select_dock.value}_out_2/{i}_pocket_{pocket}_{select_dock.value}_out_2.sdf\")\n",
    "            nested_results.append(results)\n",
    "    else:\n",
    "        results = Chem.SDMolSupplier(f\"data/{select_dock.value}_out_2/{i}_{select_dock.value}_out_2.sdf\")\n",
    "        nested_results.append(results) \n",
    "    # add all values in nested_results to allResults list\n",
    "    all_results.append(nested_results)\n",
    "    \n",
    "# get score values for every pose in allResults\n",
    "if select_type.value == \"Blind docking\":\n",
    "    for linenum, i in enumerate(all_results):\n",
    "        for num, pocket in enumerate(i):\n",
    "            for num2, pose in enumerate(pocket):\n",
    "                if select_dock.value == \"smina\":\n",
    "                    scores.append(float(all_results[linenum][num][num2].GetProp('minimizedAffinity')))\n",
    "                else:\n",
    "                    scores.append(float(all_results[linenum][num][num2].GetProp('Score')))\n",
    "else:\n",
    "    for linenum, i in enumerate(all_results):\n",
    "        for num, pose in enumerate(i):\n",
    "            for num2, item in enumerate(pose):\n",
    "                if select_dock.value == \"smina\":\n",
    "                    scores.append(float(all_results[linenum][num][num2].GetProp('minimizedAffinity')))\n",
    "                else:\n",
    "                    scores.append(float(all_results[linenum][num][num2].GetProp('Score')))"
   ]
  },
  {
   "cell_type": "markdown",
   "id": "d70090e7",
   "metadata": {},
   "source": [
    "(Get interactions for derivatives)"
   ]
  },
  {
   "cell_type": "code",
   "execution_count": null,
   "id": "d885274f",
   "metadata": {},
   "outputs": [],
   "source": [
    "prot_mol = Chem.MolFromPDBFile(\"data/PDB_files/\" + str(pdb_id) + \"_protein_H.pdb\")\n",
    "protein_plf = plf.Molecule.from_rdkit(prot_mol)"
   ]
  },
  {
   "cell_type": "code",
   "execution_count": null,
   "id": "54ec87bc",
   "metadata": {},
   "outputs": [],
   "source": [
    "all_ligand_plf = []\n",
    "ligand_plf = []\n",
    "all_df = []\n",
    "all_ifps = []\n",
    "for i in select_drop.value:\n",
    "    if select_type.value == \"Blind docking\":\n",
    "        for pocket in prot_pockets.index:\n",
    "            lig_suppl = plf.sdf_supplier(f\"data/{select_dock.value}_out_2/{i}_pocket_{pocket}_{select_dock.value}_out_2.sdf\")\n",
    "            fp = plf.Fingerprint(count=True)\n",
    "            fp.run_from_iterable(lig_suppl, protein_plf)\n",
    "            results_df = fp.to_dataframe()\n",
    "            all_df.append(results_df)\n",
    "            for lig in lig_suppl:\n",
    "                all_ligand_plf.append(lig)\n",
    "                ifp = fp.generate(lig, protein_plf, metadata = True)\n",
    "                all_ifps.append(ifp)\n",
    "    else:\n",
    "        lig_suppl = plf.sdf_supplier(f\"data/{select_dock.value}_out_2/{i}_{select_dock.value}_out_2.sdf\")\n",
    "        fp = plf.Fingerprint(count=True)\n",
    "        fp.run_from_iterable(lig_suppl, protein_plf)\n",
    "        results_df = fp.to_dataframe()\n",
    "        all_df.append(results_df)\n",
    "        for lig in lig_suppl:\n",
    "            all_ligand_plf.append(lig)\n",
    "            ifp = fp.generate(lig, protein_plf, metadata = True)\n",
    "            all_ifps.append(ifp)"
   ]
  },
  {
   "cell_type": "code",
   "execution_count": null,
   "id": "be6710cd",
   "metadata": {},
   "outputs": [],
   "source": [
    "# OLD\n",
    "if select_type.value == \"Blind docking\":\n",
    "    df = pd.concat([d for d in all_df], axis=0, ignore_index=False, sort=False, keys = prot_pockets.index).reset_index()\n",
    "else:\n",
    "    df = pd.concat([d for d in all_df], axis=0, ignore_index=False, sort=False).reset_index()\n",
    "df.insert(2, \"Score\", pd.Series(scores))\n",
    "df = df.fillna(0)"
   ]
  },
  {
   "cell_type": "code",
   "execution_count": null,
   "id": "1eb90f26",
   "metadata": {},
   "outputs": [],
   "source": [
    "# prot pockets not listed - try to fix?\n",
    "df = pd.concat([d for d in all_df], axis=0, ignore_index=False, sort=False).reset_index()\n",
    "df.insert(1, \"Score\", pd.Series(scores))\n",
    "df = df.fillna(0)"
   ]
  },
  {
   "cell_type": "markdown",
   "id": "327239c9",
   "metadata": {},
   "source": [
    "While the dataframe generated using the prolif library has a lot of useful information, we are also going to add the distance between interacting ligand and protein atoms, the indexes of both the ligand and protein atoms involved in the interaction, and the functional group the ligand's atom is a member of if applicable."
   ]
  },
  {
   "cell_type": "code",
   "execution_count": null,
   "id": "189b723c",
   "metadata": {},
   "outputs": [],
   "source": [
    "# fix for site specific\n",
    "if select_type.value == \"Blind docking\":\n",
    "    #df2 = df[[\"cav_id\", \"Frame\", \"Score\"]].copy()\n",
    "    df2 = df[[\"Frame\", \"Score\", \"UNL1\"]].copy()\n",
    "else:\n",
    "    df2 = df[[\"Frame\", \"Score\", \"UNL1\"]].copy()"
   ]
  },
  {
   "cell_type": "code",
   "execution_count": null,
   "id": "8eb80bbf",
   "metadata": {},
   "outputs": [],
   "source": [
    "largest_array_column = {}\n",
    "for col_num, column in enumerate(df):\n",
    "    largest_array = 0\n",
    "    if col_num > 1:\n",
    "        for row in df[column]:\n",
    "            if int(row) > largest_array:\n",
    "                largest_array = int(row)\n",
    "        largest_array_column[column] = largest_array"
   ]
  },
  {
   "cell_type": "code",
   "execution_count": null,
   "id": "338c6f0d",
   "metadata": {},
   "outputs": [],
   "source": [
    "%%capture\n",
    "# create new columns for functional group, residue type, distance, and index information\n",
    "# LEE NOTE TO LEE: fix how columns are added. make pretty\n",
    "col_names_list = []\n",
    "residues = []\n",
    "interactions = []\n",
    "total_counter = 0\n",
    "for key in all_ifps:\n",
    "    for key_new in key:\n",
    "        for key_2 in key[key_new]:\n",
    "            print(key_new)\n",
    "            residues.append(str(key_new[1]))\n",
    "            interactions.append(str(key_2))\n",
    "            lig_name = str(key_new[0])\n",
    "            res_name = str(key_new[1])\n",
    "            column_name = (lig_name, res_name, key_2)\n",
    "            if column_name not in col_names_list:\n",
    "                df2[column_name] = df[column_name]\n",
    "                number_of_ints = int(largest_array_column[column_name])\n",
    "                counter_ind = 0\n",
    "                while counter_ind < number_of_ints:\n",
    "                    df2[(lig_name, res_name, f\"Functional group involved ({key_2}){counter_ind}\")] = pd.Series([0] * df.shape[0])\n",
    "                    df2[(lig_name, res_name, f\"Residue type({key_2}){counter_ind}\")] = pd.Series([0] * df.shape[0])\n",
    "                    df2[(lig_name, res_name, f\"Distance ({key_2}){counter_ind}\")] = pd.Series([0] * df.shape[0])\n",
    "                    df2[(lig_name, res_name, f\"Index 1 (Ligand) ({key_2}){counter_ind}\")] = pd.Series([0] * df.shape[0])\n",
    "                    df2[(lig_name, res_name, f\"Index 2 (Ligand) ({key_2}){counter_ind}\")] = pd.Series([0] * df.shape[0])\n",
    "                    df2[(lig_name, res_name, f\"Index 3 (Protein) ({key_2}){counter_ind}\")] = pd.Series([0] * df.shape[0])\n",
    "                    df2[(lig_name, res_name, f\"Index 4 (Protein) ({key_2}){counter_ind}\")] = pd.Series([0] * df.shape[0])\n",
    "                    counter_ind += 1\n",
    "            total_counter += 1"
   ]
  },
  {
   "cell_type": "code",
   "execution_count": null,
   "id": "7cebfa97",
   "metadata": {},
   "outputs": [],
   "source": [
    "# create amino acid residue and functional group dictionaries\n",
    "all_func_groups, type_dict, functional_groups, functional_groups_dict, groups_to_numbers, groups_dict = get_vars()\n",
    "\n",
    "# find atom indices for ligand and protein, functional groups involved (ligand), residue type (protein), and\n",
    "# distance between ligand and protein in interaction\n",
    "data_dict = {}\n",
    "total_counter = 0\n",
    "for number, key in enumerate(all_ifps):\n",
    "    for key_new in key:\n",
    "        for key_2 in key[key_new]:\n",
    "            lig_name = str(key_new[0])\n",
    "            res_name = str(key_new[1])\n",
    "            column_name = (lig_name, res_name, key_2)\n",
    "            get_pose = df2[\"Frame\"][number]\n",
    "            x = key[key_new]\n",
    "            y = x[key_2]\n",
    "            df_groups = [0] * largest_array_column[column_name]\n",
    "            df_residue = [0] * largest_array_column[column_name]\n",
    "            df_distance = [0] * largest_array_column[column_name]\n",
    "            df_ind_1 = [0] * largest_array_column[column_name]\n",
    "            df_ind_2 = [0] * largest_array_column[column_name]\n",
    "            df_ind_3 = [0] * largest_array_column[column_name]\n",
    "            df_ind_4 = [0] * largest_array_column[column_name]\n",
    "            for inst_num, instance in enumerate(y):\n",
    "                distance = instance[\"distance\"]\n",
    "                df_distance[inst_num] = distance\n",
    "                found_res = res_name[:3]\n",
    "                df_residue[inst_num] = (type_dict[found_res])\n",
    "                parent_index = instance[\"parent_indices\"]\n",
    "                if len(parent_index[\"ligand\"]) == 2:\n",
    "                    df_ind_1[inst_num] = parent_index[\"ligand\"][0]\n",
    "                    df_ind_2[inst_num] = parent_index[\"ligand\"][1]\n",
    "                else:\n",
    "                    df_ind_1[inst_num] = parent_index[\"ligand\"][0]\n",
    "                    df_ind_2[inst_num] = 0\n",
    "                if len(parent_index[\"protein\"]) == 2:\n",
    "                    df_ind_3[inst_num] = parent_index[\"protein\"][0]\n",
    "                    df_ind_4[inst_num] = parent_index[\"protein\"][1]\n",
    "                else:\n",
    "                    df_ind_3[inst_num] = parent_index[\"protein\"][0]\n",
    "                    df_ind_4[inst_num] = 0\n",
    "                current = all_ligand_plf[number]\n",
    "                group_ints = group_idxes_from_mol(current)\n",
    "                for value in group_ints.keys():\n",
    "                    if len(parent_index[\"ligand\"]) == 2:\n",
    "                        if value == parent_index[\"ligand\"][0] | value == parent_index[\"ligand\"][1]:\n",
    "                            df_groups[inst_num] = int(groups_to_numbers[group_ints[value]])\n",
    "                    else:\n",
    "                        if value == parent_index[\"ligand\"][0]:\n",
    "                            df_groups[inst_num] = int(groups_to_numbers[group_ints[value]])\n",
    "            number_of_ints = int(largest_array_column[column_name])\n",
    "            counter_ind = 0\n",
    "            while counter_ind < number_of_ints:\n",
    "                df2.at[number, (lig_name, res_name, f\"Functional group involved ({key_2}){counter_ind}\")] = df_groups[counter_ind]\n",
    "                df2.at[number, (lig_name, res_name, f\"Residue type({key_2}){counter_ind}\")] = df_residue[counter_ind]\n",
    "                df2.at[number, (lig_name, res_name, f\"Distance ({key_2}){counter_ind}\")] = df_distance[counter_ind]\n",
    "                df2.at[number, (lig_name, res_name, f\"Index 1 (Ligand) ({key_2}){counter_ind}\")] = df_ind_1[counter_ind]\n",
    "                df2.at[number, (lig_name, res_name, f\"Index 2 (Ligand) ({key_2}){counter_ind}\")] = df_ind_2[counter_ind]\n",
    "                df2.at[number, (lig_name, res_name, f\"Index 3 (Protein) ({key_2}){counter_ind}\")] = df_ind_3[counter_ind]\n",
    "                df2.at[number, (lig_name, res_name, f\"Index 4 (Protein) ({key_2}){counter_ind}\")] = df_ind_4[counter_ind]\n",
    "                counter_ind += 1\n",
    "            total_counter += 1"
   ]
  },
  {
   "cell_type": "code",
   "execution_count": null,
   "id": "072cd454",
   "metadata": {},
   "outputs": [],
   "source": [
    "df2 = df2.convert_dtypes()\n",
    "df2.to_csv('data/deriv_information.csv', index = False)\n",
    "df2"
   ]
  },
  {
   "cell_type": "markdown",
   "id": "636e51e0-b87d-4af7-bfb1-a37b800d3c4a",
   "metadata": {},
   "source": [
    "### Title here"
   ]
  },
  {
   "cell_type": "markdown",
   "id": "7bf24875",
   "metadata": {},
   "source": [
    "Using an IFP, the interactions between the ligand and the receptor can be visualized using prolif's Complex3D submodule. Only one pose and its interactions can be viewed at a time."
   ]
  },
  {
   "cell_type": "code",
   "execution_count": null,
   "id": "9de42c3a",
   "metadata": {},
   "outputs": [],
   "source": [
    "# display interactions. select which one to view using dropdown\n",
    "pose_pock_select = []\n",
    "a = 0\n",
    "while a < int(df.shape[0]):\n",
    "    pose_pock_select.append(a + 1)\n",
    "    a += 1\n",
    "style = {'description_width': 'initial'}\n",
    "select_pose = Dropdown(options = pose_pock_select, description = 'Select Pose to View:', style = style)\n",
    "select_pose"
   ]
  },
  {
   "cell_type": "code",
   "execution_count": null,
   "id": "42d51f20-9cd0-41b3-8234-30b4fd2fe143",
   "metadata": {},
   "outputs": [],
   "source": [
    "comp = Complex3D(all_ifps[select_pose.value], all_ligand_plf[select_pose.value], protein_plf)\n",
    "comp.display()"
   ]
  },
  {
   "cell_type": "markdown",
   "id": "190dc200",
   "metadata": {},
   "source": [
    "## Save results for further use"
   ]
  },
  {
   "cell_type": "code",
   "execution_count": null,
   "id": "d450e3e7",
   "metadata": {},
   "outputs": [],
   "source": [
    "deriv_smiles_data = pd.DataFrame({\"filename_hydrogens\": filenames_H,\n",
    "                                   \"smiles\": derivative_smile})\n",
    "deriv_smiles_data.to_csv('data/deriv_smiles_data.csv', index = False)"
   ]
  }
 ],
 "metadata": {
  "kernelspec": {
   "display_name": "Python 3 (ipykernel)",
   "language": "python",
   "name": "python3"
  },
  "language_info": {
   "codemirror_mode": {
    "name": "ipython",
    "version": 3
   },
   "file_extension": ".py",
   "mimetype": "text/x-python",
   "name": "python",
   "nbconvert_exporter": "python",
   "pygments_lexer": "ipython3",
   "version": "3.12.4"
  },
  "toc": {
   "base_numbering": 1,
   "nav_menu": {},
   "number_sections": true,
   "sideBar": true,
   "skip_h1_title": false,
   "title_cell": "Table of Contents",
   "title_sidebar": "Contents",
   "toc_cell": false,
   "toc_position": {},
   "toc_section_display": true,
   "toc_window_display": false
  }
 },
 "nbformat": 4,
 "nbformat_minor": 5
}
