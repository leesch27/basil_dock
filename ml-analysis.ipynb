{
 "cells": [
  {
   "cell_type": "markdown",
   "id": "c3768777",
   "metadata": {},
   "source": [
    "# Basil Docking V0.1 - Machine Learning Analysis\n",
    "## Purpose\n",
    "\n",
    "__Target Audience__<br>\n",
    "Undergraduate chemistry/biochemistry students and, in general, people that have little to no knowledge of protein-ligand docking and would like to understand the general process of docking a ligand to a protein receptor.\n",
    "\n",
    "__Brief Overview__<br>\n",
    "Molecular docking is a computational method used to predict where molecules are able to bind to a protein receptor and what interactions exist between the molecule (from now on, refered to as \"ligand\") and the receptor. It is a popular technique utilized in drug discovery and design, as when creating new drugs and testing existing drugs aginst new receptors, it is useful to determine the likelihood of binding prior to screening as it can be used to eliminate molecules that are unlikely to bind to the receptor. This significantly reduces the potential cost and time needed to test the efficacy of a set of possible ligands. <br>\n",
    "\n",
    "The general steps to perform molecular docking, assuming the ligand and receptor are ready to be docked, include the generation of potential ligand binding poses and the scoring of each generated pose (which predicts how strongly the ligand binds to the receptor, with a more negative score corresponding to a stronger bond). To dock a ligand to a protein, (insert text).<br>\n",
    "\n",
    "This notebook series encompasses<br>\n",
    "1. The preparation needed prior to docking (protein and ligand sanitation, ensuring files are in readable formats, and finding possible binding pockets)\n",
    "2. The process of docking ligand/s to a protein receptor using two docking engines (VINA and SMINA) and visualizing/analyzing the outputs\n",
    "3. Further data collection and manipulation\n",
    "4. __Utilizing machine learning to determine key residues (on the protein) and functional groups (on the ligand) responsible for protein-ligand binding__\n",
    "\n",
    "__Stepwise summary for this notebook (docking preparation, notebook 4 out of 4)__<br>\n",
    "- Determine the likelihood of a compound being orally bioactive using Lipinski's Rule of Five\n"
   ]
  },
  {
   "cell_type": "markdown",
   "id": "701e1f97",
   "metadata": {},
   "source": [
    "## Table of Libraries Used\n",
    "### Operations, variable creation, and variable manipulation\n",
    "\n",
    "| Module (Submodule)| Abbreviation | Role | Citation |\n",
    "| :--- | :--- | :--- | :--- |\n",
    "| numpy | np | performs mathematical operations, fixes NaN values in dataframe outputs, and gets docking box values from MDAnalysis | Harris, C.R., Millman, K.J., van der Walt, S.J. et al. Array programming with NumPy. Nature 585, 357–362 (2020). DOI: 10.1038/s41586-020-2649-2. (Publisher link). |\n",
    "| pandas | pd | organizes data in an easy-to-read format and allows for the exporting of data as a .csv file | The pandas development team. (2024). pandas-dev/pandas: Pandas (v2.2.3). Zenodo. https://doi.org/10.5281/zenodo.13819579 |\n",
    "| re |n/a| regular expression; finds and pulls specific strings of characters depending on need, allows for easy naming and variable creation | Van Rossum, G. (2020). The Python Library Reference, release 3.8.2. Python Software Foundation. |\n",
    "| os | n/a| allows for interaction with computer operating system, including the reading and writing of files |  Van Rossum, G. (2020). The Python Library Reference, release 3.8.2. Python Software Foundation. |\n",
    "| sys |n/a| manipulates python runtime environment |  Van Rossum, G. (2020). The Python Library Reference, release 3.8.2. Python Software Foundation.|\n",
    "\n",
    "### Protein and Ligand Preparation\n",
    "| Module (Submodule)| Abbreviation | Role | Citation |\n",
    "| :--- | :--- | :--- | :--- |\n",
    "| open babel (pybel)| n/a | hygrogenates ligands and prepares ligands for docking |  O'Boyle, N.M., Banck, M., James, C.A. et al. Open Babel: An open chemical toolbox. J Cheminform 3, 33 (2011). https://doi.org/10.1186/1758-2946-3-33.|\n",
    "| rdkit (Chem)| n/a | ligand creation and sanitation |  RDKit: Open-source cheminformatics; http://www.rdkit.org |\n",
    "\n",
    "### Machine Learning Methods\n",
    "| Library/Module | Abbreviation | Role | Citation |\n",
    "| :--- | :--- | :--- | :--- |\n",
    "| sklearn (RandomForestClassifier, DecisionTreeClassifier, SVC)| n/a | add descrip. |  Scikit-learn: Machine Learning in Python, Pedregosa et al., JMLR 12, pp. 2825-2830, 2011. |\n",
    "\n",
    "### Data analysis\n",
    "| Module (Submodule) | Abbreviation | Role | Citation |\n",
    "| :--- | :--- | :--- | :--- |\n",
    "| rdkit (Chem (AllChem, Crippen, Lipinski))| n/a | calculate Lipinski descriptors using RDKit mol and SMILES strings  |  RDKit: Open-source cheminformatics; http://www.rdkit.org |\n",
    "| prolif | plf | calculate, record, and view protein-ligand interactions|  chemosim-lab/ProLIF: v0.3.3 - 2021-06-11.https://doi.org/10.5281/zenodo.4386984. |"
   ]
  },
  {
   "cell_type": "markdown",
   "id": "156dabb6",
   "metadata": {},
   "source": [
    "For using this notebook, certain libraries are required in order for analysis to perform as planned. You can either use a conda library (provided as a yml file) or install all required libraries using pip install. Only run the cells below if you will not use a conda library to install required libraries, and only use them as needed. If you are using a conda library, start at the coding cell that imports the libraries."
   ]
  },
  {
   "cell_type": "code",
   "execution_count": null,
   "id": "1578a3d7",
   "metadata": {},
   "outputs": [],
   "source": [
    "# create cell to import all libraries via pip install\n",
    "! pip install numpy"
   ]
  },
  {
   "cell_type": "code",
   "execution_count": null,
   "id": "0d75b146",
   "metadata": {},
   "outputs": [],
   "source": [
    "! pip install pandas"
   ]
  },
  {
   "cell_type": "code",
   "execution_count": null,
   "id": "7d887fb3",
   "metadata": {},
   "outputs": [],
   "source": [
    "! pip install ipywidgets"
   ]
  },
  {
   "cell_type": "code",
   "execution_count": null,
   "id": "55ebb5f9",
   "metadata": {},
   "outputs": [],
   "source": [
    "! pip install mdanalysis"
   ]
  },
  {
   "cell_type": "code",
   "execution_count": null,
   "id": "cfc4c511",
   "metadata": {},
   "outputs": [],
   "source": [
    "! pip install pybel"
   ]
  },
  {
   "cell_type": "code",
   "execution_count": null,
   "id": "31e22971",
   "metadata": {},
   "outputs": [],
   "source": [
    "! pip install rdkit"
   ]
  },
  {
   "cell_type": "code",
   "execution_count": null,
   "id": "15ff1fa6",
   "metadata": {},
   "outputs": [],
   "source": [
    "! pip install sklearn"
   ]
  },
  {
   "cell_type": "code",
   "execution_count": null,
   "id": "5174d9c8",
   "metadata": {},
   "outputs": [],
   "source": [
    "! pip install prolif"
   ]
  },
  {
   "cell_type": "code",
   "execution_count": null,
   "id": "0864551d",
   "metadata": {},
   "outputs": [],
   "source": [
    "! pip install scipy"
   ]
  },
  {
   "cell_type": "code",
   "execution_count": null,
   "id": "12f27b32",
   "metadata": {},
   "outputs": [],
   "source": [
    "# Random Forest, SVM, DecisionTree\n",
    "import re\n",
    "import numpy as np\n",
    "import pandas as pd\n",
    "import os, sys\n",
    "from rdkit import Chem\n",
    "from rdkit.Chem import Descriptors, AllChem, Draw, Crippen, Lipinski\n",
    "from rdkit import DataStructs\n",
    "from rdkit.Chem.Draw import IPythonConsole\n",
    "\n",
    "from sklearn.model_selection import GridSearchCV, RandomizedSearchCV, train_test_split, cross_val_score, cross_validate\n",
    "from sklearn.preprocessing import OneHotEncoder, OrdinalEncoder, StandardScaler\n",
    "from sklearn.pipeline import Pipeline, make_pipeline\n",
    "from sklearn.compose import ColumnTransformer, make_column_transformer\n",
    "from sklearn.ensemble import RandomForestClassifier #maybe regressor using score as target\n",
    "\n",
    "IPythonConsole.ipython_useSVG=True"
   ]
  },
  {
   "cell_type": "markdown",
   "id": "f8511b0e",
   "metadata": {},
   "source": [
    "## Lipinski's Rule of 5 and Oral Bioactivity"
   ]
  },
  {
   "cell_type": "code",
   "execution_count": null,
   "id": "f5a69d37",
   "metadata": {},
   "outputs": [],
   "source": [
    "#lipinski's rule of 5 and determining if a ligand/derivative is likely to be pharmacologically active using decision tree\n",
    "# (only for orally active -- look into other routes of administation too?)"
   ]
  },
  {
   "cell_type": "code",
   "execution_count": null,
   "id": "94bfbfac",
   "metadata": {},
   "outputs": [],
   "source": [
    "lro5 = pd.read_csv('data/ligand_smiles_data.csv') # find way to add other csv files?\n",
    "# get possible ligands based on receptor protein type?"
   ]
  },
  {
   "cell_type": "code",
   "execution_count": null,
   "id": "c514537e",
   "metadata": {},
   "outputs": [],
   "source": [
    "# determine and record the number of atoms and the number of heavy atoms in each ligand\n",
    "atom_type_dict = {}\n",
    "atom_abbriv = ['C','N','O','F','Al','P','S','Cl','Cr','Mn','Fe','Co','Ni','Cu',\n",
    "               'Zn','Ga','Ge','As','Br','Zr','Mo','Pd','Ag','Cd','In','Sn','Sb',\n",
    "               'I','Ir','Pt','Au','Hg','Pb','Bi']\n",
    "mol_format = []\n",
    "atom_total = []\n",
    "atom_total_heavy = []\n",
    "for index, row in lro5.iterrows():\n",
    "    mol = Chem.MolFromMol2File(row['filename_hydrogens'],sanitize=False)\n",
    "    if mol is not None:\n",
    "        mol_H = Chem.AddHs(mol)\n",
    "        mol_format.append(mol_H)\n",
    "        mol_atoms = mol_H.GetNumAtoms()\n",
    "        atom_total.append(mol_atoms)\n",
    "        mol_atoms_heavy = mol_H.GetNumHeavyAtoms()\n",
    "        atom_total_heavy.append(mol_atoms_heavy)\n",
    "    else:\n",
    "        #currently only works for molecules containing only atoms with single letter names, need to fix\n",
    "        string = row['smiles']\n",
    "        string_alpha = re.findall(r'[a-zA-Z]', string)\n",
    "        string_H = re.findall(r'[H]', string)\n",
    "        mol_format.append(np.nan)\n",
    "        atom_total.append(len(string_alpha))\n",
    "        atom_total_heavy.append(len(string_alpha) - len(string_H))\n",
    "lro5['mol'] = mol_format\n",
    "lro5['num_of_atoms'] = atom_total\n",
    "lro5['num_of_heavy_atoms'] = atom_total_heavy\n",
    "lro5"
   ]
  },
  {
   "cell_type": "code",
   "execution_count": null,
   "id": "90718b8c",
   "metadata": {},
   "outputs": [],
   "source": [
    "# determine the number of different heavy atoms\n",
    "# LEE - TEST WITH LIG CONT. Co2+ or Co3+\n",
    "num_of_atoms_dict = {}\n",
    "def number_of_atoms(atom_list, df):\n",
    "    for i in atom_list:\n",
    "        substruct_list = []\n",
    "        for index, row in df.iterrows():\n",
    "            smile_string = row['smiles']\n",
    "            if len(i) == 1:\n",
    "                string_finder_lower = re.findall(r'{}(?![aelu+][+\\d])(?!([aeolu]+[+\\d]))'.format(i.lower()), smile_string)\n",
    "                string_finder_upper = re.findall(r'{}(?![aelu+][+\\d])(?!([aeolu]+[+\\d]))'.format(i), smile_string)\n",
    "                substruct_list.append(len(string_finder_lower) + len(string_finder_upper))\n",
    "            else:\n",
    "                string_finder_brackets = re.findall(r'[\\[]{}[\\]]'.format(i), smile_string)\n",
    "                string_finder_charged = re.findall(r'[\\[]{}[+][+\\d]'.format(i), smile_string)\n",
    "                substruct_list.append(len(string_finder_brackets) + len(string_finder_charged))\n",
    "        df['num_of_{}_atoms'.format(i)] = substruct_list\n",
    "\n",
    "number_of_atoms(atom_abbriv, lro5)\n",
    "lro5"
   ]
  },
  {
   "cell_type": "code",
   "execution_count": null,
   "id": "c7465125",
   "metadata": {},
   "outputs": [],
   "source": [
    "# calculate weight of ligands\n",
    "atom_weights = {\n",
    "    'C':12.0096,\n",
    "    'N': 14.006,\n",
    "    'O': 15.999,\n",
    "    'F': 18.998,\n",
    "    'Al': 26.981,\n",
    "    'P': 30.974,\n",
    "    'S': 32.059,\n",
    "    'Cl': 35.45,\n",
    "    'Cr': 51.9961,\n",
    "    'Mn': 54.938,\n",
    "    'Fe': 55.845,\n",
    "    'Co': 58.933,\n",
    "    'Ni': 58.693,\n",
    "    'Cu': 63.546,\n",
    "    'Zn': 65.38,\n",
    "    'Ga': 69.723,\n",
    "    'Ge': 72.630,\n",
    "    'As': 74.921,\n",
    "    'Br': 79.901,\n",
    "    'Zr': 91.224,\n",
    "    'Mo': 95.95,\n",
    "    'Pd': 106.42,\n",
    "    'Ag': 107.8682,\n",
    "    'Cd': 112.414,\n",
    "    'In': 114.818,\n",
    "    'Sn': 118.71,\n",
    "    'Sb': 121.760,\n",
    "    'I': 126.904,\n",
    "    'Ir': 192.217,\n",
    "    'Pt': 195.08,\n",
    "    'Au': 196.966570,\n",
    "    'Hg': 200.592,\n",
    "    'Pb': 207.2,\n",
    "    'Bi': 208.980\n",
    "}\n",
    "ligand_weights = []\n",
    "for index, row in lro5.iterrows():\n",
    "    ligand_atom_nums = sum(row[5:])\n",
    "    weight_da = 0\n",
    "    if row['num_of_heavy_atoms'] == ligand_atom_nums:\n",
    "        for num, column in enumerate(row[5:]):\n",
    "            column_title = list(lro5)[num + 5]\n",
    "            atom_name = re.split(\"_\", column_title)\n",
    "            atom_type_weight = atom_weights[atom_name[2]]\n",
    "            weight_da = weight_da + (atom_type_weight *  column)\n",
    "    weight_da = weight_da + ((row.iloc[3] - row.iloc[4]) * 1.007)\n",
    "    ligand_weights.append(weight_da)\n",
    "lro5.insert(2, \"molecular_weight\", ligand_weights)\n",
    "lro5"
   ]
  },
  {
   "cell_type": "code",
   "execution_count": null,
   "id": "e10b5d5c",
   "metadata": {},
   "outputs": [],
   "source": [
    "# calculate logP (partition coefficient) of ligands\n",
    "log_P = []\n",
    "H_donors = []\n",
    "H_acceptors = []\n",
    "for index, row in lro5.iterrows():\n",
    "    mol = row.iloc[3]\n",
    "    if type(mol) != float:\n",
    "        log = Crippen.MolLogP(mol)\n",
    "        log_P.append(log)\n",
    "        donor = Lipinski.NumHDonors(mol)\n",
    "        H_donors.append(donor)\n",
    "        acceptor = Lipinski.NumHAcceptors(mol)\n",
    "        H_acceptors.append(acceptor)\n",
    "    else:\n",
    "        pass\n",
    "lro5.insert(3, \"log_P\", log_P)\n",
    "lro5.insert(4, \"H_donors\", H_donors)\n",
    "lro5.insert(5, \"H_acceptors\", H_acceptors)\n",
    "lro5"
   ]
  },
  {
   "cell_type": "code",
   "execution_count": null,
   "id": "0e10b296",
   "metadata": {},
   "outputs": [],
   "source": [
    "# LEE NOTE TO LEE: create csv file with same columns generate above for testing/training"
   ]
  },
  {
   "cell_type": "code",
   "execution_count": null,
   "id": "543d6cfd",
   "metadata": {},
   "outputs": [],
   "source": [
    "# determine important residues/residue types (receptor), fxnal groups (ligand), and important interactions"
   ]
  }
 ],
 "metadata": {
  "kernelspec": {
   "display_name": "Python 3 (ipykernel)",
   "language": "python",
   "name": "python3"
  },
  "language_info": {
   "codemirror_mode": {
    "name": "ipython",
    "version": 3
   },
   "file_extension": ".py",
   "mimetype": "text/x-python",
   "name": "python",
   "nbconvert_exporter": "python",
   "pygments_lexer": "ipython3",
   "version": "3.12.4"
  },
  "toc": {
   "base_numbering": 1,
   "nav_menu": {},
   "number_sections": true,
   "sideBar": true,
   "skip_h1_title": false,
   "title_cell": "Table of Contents",
   "title_sidebar": "Contents",
   "toc_cell": false,
   "toc_position": {},
   "toc_section_display": true,
   "toc_window_display": false
  }
 },
 "nbformat": 4,
 "nbformat_minor": 5
}
