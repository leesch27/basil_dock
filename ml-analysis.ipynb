{
 "cells": [
  {
   "cell_type": "markdown",
   "id": "c3768777",
   "metadata": {},
   "source": [
    "# Basil Docking V0.1 - Machine Learning Analysis\n",
    "## Purpose\n",
    "\n",
    "Target Audience:\n",
    "Undergraduate chemistry/biochemistry students and people in general that have little to no knowledge of protein-ligand docking. (more text)\n",
    "\n",
    "Brief Overview:\n",
    "(introduction). This notebook series encompasses \n",
    "1. the preparation needed prior to docking (protein and ligand sanitation, ensuring files are in readable formats, and finding possible binding pockets)\n",
    "2. the process of docking ligand/s to a protein receptor using two docking engines (VINA and SMINA) and visualizing/analyzing the outputs\n",
    "3. further data collection and manipulation\n",
    "4. __utilizing machine learning to determine key residues (on the protein) and functional groups (on the ligand) responsible for protein-ligand binding__\n",
    "\n",
    "Stepwise summary for this notebook (machine learning, notebook 4 out of (number))\n",
    "- lwehd\n",
    "- df\n",
    "- wg\n",
    "- wdg"
   ]
  },
  {
   "cell_type": "markdown",
   "id": "701e1f97",
   "metadata": {},
   "source": [
    "## Table of Libraries Used\n",
    "### Operations, variable creation, and variable manipulation\n",
    "\n",
    "| Module (Submodule)| Abbreviation | Role | Citation |\n",
    "| :--- | :--- | :--- | :--- |\n",
    "| numpy | np | add description | Harris, C.R., Millman, K.J., van der Walt, S.J. et al. Array programming with NumPy. Nature 585, 357–362 (2020). DOI: 10.1038/s41586-020-2649-2. (Publisher link). |\n",
    "| re | n/a | add description |  add source |\n",
    "| os | n/a | add description |  add source |\n",
    "| sys | n/a | add description |  add source |\n",
    "\n",
    "### Protein and Ligand Preparation\n",
    "| Module (Submodule)| Abbreviation | Role | Citation |\n",
    "| :--- | :--- | :--- | :--- |\n",
    "| open babel (pybel)| n/a | hygrogenates ligands and prepares ligands for docking |  O'Boyle, N.M., Banck, M., James, C.A. et al. Open Babel: An open chemical toolbox. J Cheminform 3, 33 (2011). https://doi.org/10.1186/1758-2946-3-33.|\n",
    "| rdkit (Chem)| n/a | ligand creation and sanitation |  RDKit: Open-source cheminformatics; http://www.rdkit.org |\n",
    "\n",
    "### Machine Learning Methods\n",
    "| Library/Module | Abbreviation | Role | Citation |\n",
    "| :--- | :--- | :--- | :--- |\n",
    "| scikit-learn | sklearn | add descrip. |  add source |\n",
    "\n",
    "### Data analysis\n",
    "| Module (Submodule) | Abbreviation | Role | Citation |\n",
    "| :--- | :--- | :--- | :--- |\n",
    "| MDAnalysis | mda | add description | R. J. Gowers, M. Linke, J. Barnoud, T. J. E. Reddy, M. N. Melo, S. L. Seyler, D. L. Dotson, J. Domanski, S. Buchoux, I. M. Kenney, and O. Beckstein. MDAnalysis: A Python package for the rapid analysis of molecular dynamics simulations. In S. Benthall and S. Rostrup, editors, Proceedings of the 15th Python in Science Conference, pages 98-105, Austin, TX, 2016. SciPy, doi:10.25080/majora-629e541a-00e. |\n",
    "| --- | --- | --- | N. Michaud-Agrawal, E. J. Denning, T. B. Woolf, and O. Beckstein. MDAnalysis: A Toolkit for the Analysis of Molecular Dynamics Simulations. J. Comput. Chem. 32 (2011), 2319-2327, doi:10.1002/jcc.21787. PMCID:PMC3144279. |\n",
    "| prolif | plf | add description|  chemosim-lab/ProLIF: v0.3.3 - 2021-06-11.https://doi.org/10.5281/zenodo.4386984. |\n",
    "| pandas | pd | add description |  add source |"
   ]
  },
  {
   "cell_type": "code",
   "execution_count": 3,
   "id": "12f27b32",
   "metadata": {},
   "outputs": [],
   "source": [
    "# Random Forest, SVM, DecisionTree\n",
    "import numpy as np\n",
    "import pandas as pd\n",
    "import os, sys\n",
    "#import sklearn"
   ]
  },
  {
   "cell_type": "code",
   "execution_count": null,
   "id": "f5a69d37",
   "metadata": {},
   "outputs": [],
   "source": [
    "#lipinski's rule of 5 and determining if a ligand/derivative is likely to be pharmacologically active \n",
    "# (only for orally active -- look into other routes of administation too?)"
   ]
  },
  {
   "cell_type": "code",
   "execution_count": null,
   "id": "543d6cfd",
   "metadata": {},
   "outputs": [],
   "source": [
    "# determine important residues/residue types (receptor), fxnal groups (ligand), and important interactions"
   ]
  }
 ],
 "metadata": {
  "kernelspec": {
   "display_name": "Python 3 (ipykernel)",
   "language": "python",
   "name": "python3"
  },
  "language_info": {
   "codemirror_mode": {
    "name": "ipython",
    "version": 3
   },
   "file_extension": ".py",
   "mimetype": "text/x-python",
   "name": "python",
   "nbconvert_exporter": "python",
   "pygments_lexer": "ipython3",
   "version": "3.12.4"
  },
  "toc": {
   "base_numbering": 1,
   "nav_menu": {},
   "number_sections": true,
   "sideBar": true,
   "skip_h1_title": false,
   "title_cell": "Table of Contents",
   "title_sidebar": "Contents",
   "toc_cell": false,
   "toc_position": {},
   "toc_section_display": true,
   "toc_window_display": false
  }
 },
 "nbformat": 4,
 "nbformat_minor": 5
}
