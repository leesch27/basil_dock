{
 "cells": [
  {
   "cell_type": "markdown",
   "id": "71124ca5-1599-4a84-9838-033adce14c3e",
   "metadata": {},
   "source": [
    "# Basil Docking V0.1 - Docking Preparation\n",
    "## Purpose\n",
    "\n",
    "__Target Audience__<br>\n",
    "Undergraduate chemistry/biochemistry students and, in general, people that have little to no knowledge of protein-ligand docking and would like to understand the general process of docking a ligand to a protein receptor.\n",
    "\n",
    "__Brief Overview__<br>\n",
    "Molecular docking is a computational method used to predict where molecules are able to bind to a protein receptor and what interactions exist between the molecule (from now on, refered to as \"ligand\") and the receptor. It is a popular technique utilized in drug discovery and design, as when creating new drugs and testing existing drugs aginst new receptors, it is useful to determine the likelihood of binding prior to screening as it can be used to eliminate molecules that are unlikely to bind to the receptor. This significantly reduces the potential cost and time needed to test the efficacy of a set of possible ligands. <br>\n",
    "\n",
    "The general steps to perform molecular docking, assuming the ligand and receptor are ready to be docked, include the generation of potential ligand binding poses and the scoring of each generated pose (which predicts how strongly the ligand binds to the receptor, with a more negative score corresponding to a stronger bond). To dock a ligand to a protein, both the receptor and the ligand/s need to be \"sanitized\"; which includes making sure bonds and protonation states are as they would be in an organism. The receptor and ligand/s also need to be converted into the correct file formats and (more). (more text)<br>\n",
    "\n",
    "This notebook series encompasses<br>\n",
    "1. __The preparation needed prior to docking (protein and ligand sanitation, ensuring files are in readable formats, and finding possible binding pockets)__\n",
    "2. The process of docking ligand/s to a protein receptor using two docking engines (VINA and SMINA) and visualizing/analyzing the outputs\n",
    "3. Further data collection and manipulation\n",
    "4. Utilizing machine learning to determine key residues (on the protein) and functional groups (on the ligand) responsible for protein-ligand binding\n",
    "\n",
    "__Stepwise summary for this notebook (docking preparation, notebook 1 out of 4)__<br>\n",
    "- Get PDB file from the protein data bank and separate the protein and ligand into different files\n",
    "- Import additional ligands (if desired)\n",
    "- Prepare and separate ligands into their own MOL2 and PDBQT files\n",
    "- Find possible binding pockets in protein\n",
    "- View protein and ligand/s\n",
    "\n",
    "The methods utilized by this notebook are based off of Angel J. Ruiz-Moreno's Jupyter-Dock notebooks, which can be found on their GitHub account AngelRuizMoreno\n",
    "\n",
    "Ruiz-Moreno A.J. Jupyter Dock: Molecular Docking integrated in Jupyter Notebooks. https://doi.org/10.5281/zenodo.5514956\n",
    "\n",
    "Methods for sanitizing the protein PDBQT file was adapted from Jessica Nash's iqb-2024 repository, which was used in the IQB 2024 workshop - Python for Molecular Docking, and can be found on her GitHub account janash. "
   ]
  },
  {
   "cell_type": "markdown",
   "id": "5f4974b5-03cf-4cd4-a533-889c579a00e2",
   "metadata": {},
   "source": [
    "## Table of Libraries Used\n",
    "### Operations, variable creation, and variable manipulation\n",
    "\n",
    "| Module (Submodule/s)| Abbreviation| Role | Citation |\n",
    "| :--- | :--- | :--- | :--- |\n",
    "| numpy | np | perform mathematical operations, fix NaN values in dataframe outputs, and get docking box values from MDAnalysis | Harris, C.R., Millman, K.J., van der Walt, S.J. et al. Array programming with NumPy. Nature 585, 357–362 (2020). DOI: 10.1038/s41586-020-2649-2. (Publisher link). |\n",
    "| pandas | pd | organize data in an easy-to-read format and allow for the exporting of data as a .csv file | The pandas development team. (2024). pandas-dev/pandas: Pandas (v2.2.3). Zenodo. https://doi.org/10.5281/zenodo.13819579 |\n",
    "| re |n/a| regular expression; find and pull specific strings of characters depending on need, allow for easy naming and variable creation | Van Rossum, G. (2020). The Python Library Reference, release 3.8.2. Python Software Foundation. |\n",
    "| os | n/a| allow for interaction with computer operating system, including the reading and writing of files |  Van Rossum, G. (2020). The Python Library Reference, release 3.8.2. Python Software Foundation. |\n",
    "| sys |n/a| manipulate python runtime environment |  Van Rossum, G. (2020). The Python Library Reference, release 3.8.2. Python Software Foundation.|\n",
    "| glob |n/a| pull files of interest, specifically for blind docking |  Van Rossum, G. (2020). The Python Library Reference, release 3.8.2. Python Software Foundation. |\n",
    "| warnings | n/a | filter warnings | Van Rossum, G. (2020). The Python Library Reference, release 3.8.2. Python Software Foundation. |\n",
    "\n",
    "### Protein and Ligand Preparation\n",
    "| Module (Submodule/s)| Abbreviation | Role | Citation |\n",
    "| :--- | :--- | :--- | :--- |\n",
    "| biopython (Bio.PDB, PDBList)| n/a | fetch and download pdb strucures from rcsb.org | Cock, P.J.A. et al. Biopython: freely available Python tools for computational molecular biology and bioinformatics. Bioinformatics 2009 Jun 1; 25(11) 1422-3 https://doi.org/10.1093/bioinformatics/btp163 pmid:19304878 |\n",
    "| MDAnalysis (PDB)| mda | allow for the selection of atoms for separating protein from ligands and ligands from each other | R. J. Gowers, M. Linke, J. Barnoud, T. J. E. Reddy, M. N. Melo, S. L. Seyler, D. L. Dotson, J. Domanski, S. Buchoux, I. M. Kenney, and O. Beckstein. MDAnalysis: A Python package for the rapid analysis of molecular dynamics simulations. In S. Benthall and S. Rostrup, editors, Proceedings of the 15th Python in Science Conference, pages 98-105, Austin, TX, 2016. SciPy, doi:10.25080/majora-629e541a-00e. |\n",
    "| --- | --- | --- | N. Michaud-Agrawal, E. J. Denning, T. B. Woolf, and O. Beckstein. MDAnalysis: A Toolkit for the Analysis of Molecular Dynamics Simulations. J. Comput. Chem. 32 (2011), 2319-2327, doi:10.1002/jcc.21787. PMCID:PMC3144279. |\n",
    "| pdb2pqr | n/a | prepare protein receptors for docking | PDB2PQR: expanding and upgrading automated preparation of biomolecular structures for molecular simulations. Dolinsky TJ, Czodrowski P, Li H, Nielsen JE, Jensen JH, Klebe G, Baker NA. Nucleic Acids Res. 2007 Jul;35(Web Server issue):W522-5. |\n",
    "| --- | --- | --- | PDB2PQR: an automated pipeline for the setup of Poisson-Boltzmann electrostatics calculations. Dolinsky TJ, Nielsen JE, McCammon JA, Baker NA. Nucleic Acids Res. 2004 Jul 1;32(Web Server issue):W665-7. |\n",
    "| open babel (pybel)| n/a | prepare ligands for docking and allow for the conversion of ligand information to different file types |  O'Boyle, N.M., Banck, M., James, C.A. et al. Open Babel: An open chemical toolbox. J Cheminform 3, 33 (2011). https://doi.org/10.1186/1758-2946-3-33.|\n",
    "| rdkit (Chem)| n/a | ligand sanitation |  RDKit: Open-source cheminformatics; http://www.rdkit.org |\n",
    "| fpocket | n/a | find possible binding pockets in protein receptors | Le Guilloux, V., Schmidtke, P. & Tuffery, P. Fpocket: An open source platform for ligand pocket detection. BMC Bioinformatics 10, 168 (2009). https://doi.org/10.1186/1471-2105-10-168. |\n",
    "\n",
    "### Visualization\n",
    "| Module (Submodule/s)| Abbreviation | Role | Citation |\n",
    "| :--- | :--- | :--- | :--- |\n",
    "| rdkit.Chem (Draw)| n/a | ligand visualization |  RDKit: Open-source cheminformatics; http://www.rdkit.org |\n",
    "| py3Dmol | n/a | apoprotein and protein complex visualization |  Keshavan Seshadri, Peng Liu, and David Ryan Koes. Journal of Chemical Education 2020 97 (10), 3872-3876. https://doi.org/10.1021/acs.jchemed.0c00579. |\n",
    "\n",
    "### UI\n",
    "| Module (Submodule/s)| Abbreviation | Role | Citation |\n",
    "| :--- | :--- | :--- | :--- |\n",
    "| IPython (ipywidgets, display)| n/a | allow for widgets to be implemented and displayed | Fernando Pérez, Brian E. Granger, IPython: A System for Interactive Scientific Computing, Computing in Science and Engineering, vol. 9, no. 3, pp. 21-29, May/June 2007, doi:10.1109/MCSE.2007.53. URL: https://ipython.org |\n",
    "| ipywidgets (FileUpload, Dropdown, Text, Layout, Label, Box, HBox)| widgets | create interactable wigets of different types | Fernando Pérez, Brian E. Granger, IPython: A System for Interactive Scientific Computing, Computing in Science and Engineering, vol. 9, no. 3, pp. 21-29, May/June 2007, doi:10.1109/MCSE.2007.53. URL: https://ipython.org |"
   ]
  },
  {
   "cell_type": "markdown",
   "id": "89d2b56e",
   "metadata": {},
   "source": [
    "For using this notebook, certain libraries are required in order for analysis to perform as planned. You can either use a conda library (provided as a yml file) or install all required libraries using pip install. Only run the cells below if you will not use a conda library to install required libraries, and only use them as needed. If you are using a conda library, start at the coding cell that imports the libraries."
   ]
  },
  {
   "cell_type": "code",
   "execution_count": null,
   "id": "7de08b32",
   "metadata": {},
   "outputs": [],
   "source": [
    "# create cell to import all libraries via pip install\n",
    "! pip install numpy"
   ]
  },
  {
   "cell_type": "code",
   "execution_count": null,
   "id": "982ccbc1",
   "metadata": {},
   "outputs": [],
   "source": [
    "! pip install pandas"
   ]
  },
  {
   "cell_type": "code",
   "execution_count": null,
   "id": "76e22549",
   "metadata": {},
   "outputs": [],
   "source": [
    "! pip install git"
   ]
  },
  {
   "cell_type": "code",
   "execution_count": null,
   "id": "9ad248c1",
   "metadata": {},
   "outputs": [],
   "source": [
    "! pip install ipywidgets"
   ]
  },
  {
   "cell_type": "code",
   "execution_count": null,
   "id": "b7017aff",
   "metadata": {},
   "outputs": [],
   "source": [
    "! pip install biopython"
   ]
  },
  {
   "cell_type": "code",
   "execution_count": null,
   "id": "9d3bc117",
   "metadata": {},
   "outputs": [],
   "source": [
    "! pip install pdb2pqr"
   ]
  },
  {
   "cell_type": "code",
   "execution_count": null,
   "id": "16bf6d4f",
   "metadata": {},
   "outputs": [],
   "source": [
    "! pip install mdanalysis"
   ]
  },
  {
   "cell_type": "code",
   "execution_count": null,
   "id": "d053eabd",
   "metadata": {},
   "outputs": [],
   "source": [
    "! pip install openbabel"
   ]
  },
  {
   "cell_type": "code",
   "execution_count": null,
   "id": "7adab608",
   "metadata": {},
   "outputs": [],
   "source": [
    "! pip install rdkit"
   ]
  },
  {
   "cell_type": "code",
   "execution_count": null,
   "id": "66377311",
   "metadata": {},
   "outputs": [],
   "source": [
    "! pip install py3dmol"
   ]
  },
  {
   "cell_type": "markdown",
   "id": "4df1606e",
   "metadata": {},
   "source": [
    "If you are running this notebook for the first time, please execute the next cell"
   ]
  },
  {
   "cell_type": "code",
   "execution_count": null,
   "id": "1b2cbd5c",
   "metadata": {},
   "outputs": [],
   "source": [
    "! git clone --recursive git@github.com:leesch27/ligandsplitter.git"
   ]
  },
  {
   "cell_type": "markdown",
   "id": "48da728c",
   "metadata": {},
   "source": [
    "Import all necessary libraries using the cells below"
   ]
  },
  {
   "cell_type": "code",
   "execution_count": null,
   "id": "9bef77df",
   "metadata": {},
   "outputs": [],
   "source": [
    "! git submodule update --init --recursive\n",
    "! git submodule update --force --recursive --init --remote"
   ]
  },
  {
   "cell_type": "code",
   "execution_count": 1,
   "id": "4a042c4b-b20f-44b3-8c43-207e6b21e379",
   "metadata": {},
   "outputs": [],
   "source": [
    "import numpy as np\n",
    "import pandas as pd\n",
    "import numbers\n",
    "import re\n",
    "import sys, os\n",
    "import glob\n",
    "import ipywidgets as widgets\n",
    "from ipywidgets import FileUpload, Dropdown, Text, Layout, Label, Box, HBox, Button, Output\n",
    "from IPython.display import display\n",
    "\n",
    "from Bio.PDB import PDBList\n",
    "import pdb2pqr\n",
    "import MDAnalysis as mda \n",
    "from MDAnalysis.coordinates import PDB\n",
    "from openbabel import pybel\n",
    "from rdkit import Chem\n",
    "from rdkit.Chem import Draw\n",
    "\n",
    "sys.path.insert(1, 'utilities/ligandsplitter/ligandsplitter')\n",
    "from basefunctions import create_folders, convert_type\n",
    "from ligandsplit import File_Info, Ligand, retrieve_pdb_file, get_mol2_info, get_ligands, find_ligands_unique, write_mol2, separate_mol2_ligs\n",
    "from ligandvalidate import parse_unique_ligands, validate_unique_ligands\n",
    "from ligandsmiles import create_ligands_from_smiles, display_form, create_mols_from_smiles, create_search_for_expo, display_expo_form, create_ligands_from_expo\n",
    "\n",
    "import py3Dmol\n",
    "\n",
    "import warnings\n",
    "warnings.filterwarnings(\"ignore\")"
   ]
  },
  {
   "cell_type": "markdown",
   "id": "7d9a566d-67a1-4b9f-8a09-55b8642c35c1",
   "metadata": {},
   "source": [
    "## Retrieve desired protein and ligand/s"
   ]
  },
  {
   "cell_type": "markdown",
   "id": "1c52db56",
   "metadata": {},
   "source": [
    "The desired protein receptor (and ligand/s, if the PDB entry is a complex) can be retrieved from the Protein Data Bank using the biopython module; specifically, the Bio.PDB package. The retrieved PDB structure file is then cleaned (refering to the removal of water molecules and ions that may interfere with docking) before it is separated into two files using MDAnalysis atom selection: a PDB file containing the protein receptor, and a MOL2 file containing the ligand/s bound to the protein receptor (if present)."
   ]
  },
  {
   "cell_type": "code",
   "execution_count": null,
   "id": "c025dd49",
   "metadata": {},
   "outputs": [],
   "source": [
    "current_dir = create_folders()"
   ]
  },
  {
   "cell_type": "markdown",
   "id": "b1e88fc0",
   "metadata": {},
   "source": [
    "Using the text input box created from running the cell below, type in the 4-character PDB ID for the desired receptor for molecular docking. The protein can either be just the apoprotein (no bound ligands) or in complex. The subsequent cell splits the PDB file into PDB files containing just the protein and just the ligands (if present)\n",
    "\n",
    "Here are some possible PDB IDs to use if you need suggestions\n",
    "- __1oyt__ (small protein with two ligands in complex)\n",
    "- __id1__ (find a single chain protein with 2-4+ ligands)\n",
    "- __id2__ (find a multi-chain ligand, all distinct chains)\n",
    "- __id3__ (find a multi-chain ligand that has some identical chains)"
   ]
  },
  {
   "cell_type": "code",
   "execution_count": null,
   "id": "d62fca44",
   "metadata": {},
   "outputs": [],
   "source": [
    "name = Text(value = '', placeholder='Type 4-character PDB ID to be used', disabled=False)\n",
    "name"
   ]
  },
  {
   "cell_type": "code",
   "execution_count": null,
   "id": "3da48b98",
   "metadata": {},
   "outputs": [],
   "source": [
    "# The following four cells implement the fetching of a random PDB ID in order to test as many unique \n",
    "# receptors/ligands as possible\n",
    "import random\n",
    "import requests\n",
    "import rcsbsearchapi\n",
    "from rcsbsearchapi.search import AttributeQuery, Attr, TextQuery, ChemSimilarityQuery"
   ]
  },
  {
   "cell_type": "code",
   "execution_count": null,
   "id": "417814ce",
   "metadata": {},
   "outputs": [],
   "source": [
    "q1 = AttributeQuery(attribute = \"rcsb_entry_info.selected_polymer_entity_types\", operator = \"exact_match\", value = \"Protein (only)\")\n",
    "q2 = AttributeQuery(attribute = \"rcsb_polymer_entity.formula_weight\", operator = \"less_or_equal\", value = 300)\n",
    "q3 = AttributeQuery(attribute = \"pdbx_database_status.pdb_format_compatible\", operator = \"exact_match\", value = \"Y\")\n",
    "query = q1 & q2 & q3\n",
    "result_random = list(query())"
   ]
  },
  {
   "cell_type": "code",
   "execution_count": null,
   "id": "86fbfd4c",
   "metadata": {},
   "outputs": [],
   "source": [
    "# using the PDB's advanced search api, generate a random PDB ID to use in docking\n",
    "lucky = Button(description=\"I'm feeling lucky\",\n",
    "               disabled=False,\n",
    "               button_style='',\n",
    "               tooltip='Click me to generate a random PDB ID',\n",
    "               icon='check')\n",
    "\n",
    "output = widgets.Output()\n",
    "display(lucky, output)\n",
    "\n",
    "def on_button_clicked(b):\n",
    "    global new_name\n",
    "    with output:\n",
    "        print(\"Loading...\")\n",
    "        new_name = random.choice(result_random)\n",
    "        print(f\"PDB ID retieved: {new_name}\")\n",
    "        \n",
    "lucky.on_click(on_button_clicked)"
   ]
  },
  {
   "cell_type": "code",
   "execution_count": null,
   "id": "a66e4955",
   "metadata": {},
   "outputs": [],
   "source": [
    "style = {'description_width': 'initial'}\n",
    "fetch_methods = Dropdown(options = [\"Manual\", \"Random\"], description = 'Select Method to Choose PDB ID:', style = style)\n",
    "fetch_methods"
   ]
  },
  {
   "cell_type": "code",
   "execution_count": null,
   "id": "e1f1c476",
   "metadata": {},
   "outputs": [],
   "source": [
    "style = {'description_width': 'initial'}\n",
    "file_format = Dropdown(options = [\"pdb\", \"mmcif\"], description = 'Select Desired Format for PDB ID File:', style = style)\n",
    "file_format"
   ]
  },
  {
   "cell_type": "code",
   "execution_count": null,
   "id": "7c1382de",
   "metadata": {},
   "outputs": [],
   "source": [
    "pdb_list = PDBList()\n",
    "\n",
    "# get PDB from pdb.org\n",
    "pdb_id = ''\n",
    "if fetch_methods.value == \"Manual\":\n",
    "    pdb_id = str(name.value)\n",
    "else:\n",
    "    pdb_id = new_name.lower()\n",
    "retrieve_pdb_file(pdb_id, file_format.value)"
   ]
  },
  {
   "cell_type": "markdown",
   "id": "6aab4453-cbe5-41c9-a188-0af2e2e236ff",
   "metadata": {},
   "source": [
    "## Separating ligands into separate .mol2 files"
   ]
  },
  {
   "cell_type": "markdown",
   "id": "0e77663d",
   "metadata": {},
   "source": [
    "__1. Separating ligands from input pdb file into separate mol2 files (if needed)__ <br>\n",
    "In this notebook, we will make sure that each ligand has its own mol2/pdbqt files. While this isn't a required step for for docking, separating the ligands into separate files makes data collection and analysis easier to perform and understand.\n",
    "\n",
    "__2. Importing local mol2 files from a personal computer__ <br>\n",
    "__3. Getting ligand/s mol2 files using SMILES strings__ <br>\n",
    "In addition to ligand separation, this notebook also contains two methods of retrieving additional ligands to be used in ligand docking other than those present in the original protein complex. This allows for the testing of non-canonical binding agents using ligands that are of interest to the user."
   ]
  },
  {
   "cell_type": "markdown",
   "id": "e2bde2ba",
   "metadata": {},
   "source": [
    "### Method 1 : Obtaining ligands from input PDB file"
   ]
  },
  {
   "cell_type": "markdown",
   "id": "7e8ed2fb",
   "metadata": {},
   "source": [
    "To create multiple output files from one input file, the original file must be read thoroughly to ensure all data is captured and the resulting files must be carefully pieced together to ensure that the mol2 format is followed perfectly, as any descrepencies in the output files can drastically impact docking results. The function `separate_mol2_ligs` first parses through the input file, obtaining the line numbers for the different attributes (molecule, atom, bond, and substructure) and determining which information belongs to each ligand based on the name associated with it. From this, the following attributes are obtained:\n",
    "- Molecule Information\n",
    "    - The line number where molecule information begins in the file\n",
    "    - Ligand names in order of appearance in the file\n",
    "    - Whether or not one ligand is present in the original MOL2 file multiple times\n",
    "- Atom Information\n",
    "    - The line number where atom information begins in the file\n",
    "    - The location of the first instance of an atom corresponding to a given ligand\n",
    "    - The number of atoms in a given ligand\n",
    "    - The lines of the mol2 file that contain atom information acros all ligands\n",
    "    - The total number of atoms across all ligands\n",
    "- Bond Information\n",
    "    - The line number where bond information begins in the file\n",
    "    - The location of the first instance of a bond corresponding to a given ligand\n",
    "    - The number of bonds in a given ligand\n",
    "    - The lines of the mol2 file that contain bond information across all ligands\n",
    "    - The total number of bonds across all ligands\n",
    "\n",
    "Using all of this information, new mol2 files are created for each ligand, with the final number of mol2 files outputted equalling the number of ligands present in the input file.\n",
    "\n",
    "For more information on the mol2 file format, [this pdf has a lot of useful information](https://www.structbio.vanderbilt.edu/archives/amber-archive/2007/att-1568/01-mol2_2pg_113.pdf)"
   ]
  },
  {
   "cell_type": "code",
   "execution_count": null,
   "id": "12152da5-f39d-461a-b45b-04d16da51a9d",
   "metadata": {},
   "outputs": [],
   "source": [
    "# create separate mol2 files for ligand/s in input pdb file\n",
    "file = \"data/MOL2_files/\" + str(pdb_id) + \"_ligand.mol2\"\n",
    "ligs, filenames = separate_mol2_ligs(filename = file)"
   ]
  },
  {
   "cell_type": "code",
   "execution_count": null,
   "id": "62bacb63",
   "metadata": {},
   "outputs": [],
   "source": [
    "print(ligs)"
   ]
  },
  {
   "cell_type": "code",
   "execution_count": null,
   "id": "3e475b3f",
   "metadata": {},
   "outputs": [],
   "source": [
    "print(filenames)"
   ]
  },
  {
   "cell_type": "markdown",
   "id": "ddfe13cb",
   "metadata": {},
   "source": [
    "If a protein has multiple identical chains, it is likely that identical ligands are written in the original MOL2 file under different indentifiers (for example, there could be two instances of dimethylsulfide, with one being labelled as DMS101 and the other labelled as DMS102). Since these ligands have an identical structure, only one instance is needed for docking. The cells below compare the SMILES strings of each ligand in the original MOL2 file to see if there are any redundant ligands and to remove all but one instance of the ligand if redundancies are detected."
   ]
  },
  {
   "cell_type": "code",
   "execution_count": null,
   "id": "cc23aac1",
   "metadata": {},
   "outputs": [],
   "source": [
    "validate_unique_ligands(ligs)"
   ]
  },
  {
   "cell_type": "markdown",
   "id": "63c5cc30",
   "metadata": {},
   "source": [
    "<div class=\"alert alert-block alert-info\">\n",
    "<b>Please note:</b> Some ligands covalently bind to residues of the receptor, and thus are not good candidates for molecular docking. Iron-sulfur clusters, for example, are cofactors that typically bind to sulfur atoms on CYS residues via thiol exchange or a similar mechanism. This means that trying to dock them into potential binding pockets is not necessarily the best method of determining where they will bind. </div>"
   ]
  },
  {
   "cell_type": "markdown",
   "id": "a30a566f",
   "metadata": {},
   "source": [
    "Duplicates of a ligand in a protein complex's pdb file can result in innacurate calculations of ligand locations, sizes, and centers in future cells. To prevent this, the chain ID of the first occurence of each ligand present in the input pdb file is recorded, and will be used to accurately and precisely select the atoms present in the ligand."
   ]
  },
  {
   "cell_type": "code",
   "execution_count": null,
   "id": "838af572",
   "metadata": {},
   "outputs": [],
   "source": [
    "# determine which chain each ligand is in\n",
    "lig_chain = []\n",
    "with open(f\"data/PDB_files/{pdb_id}_ligand.pdb\", \"r\") as outfile:\n",
    "    temp_ligs = []\n",
    "    data = outfile.readlines()\n",
    "    for linenum, line in enumerate(data):\n",
    "        ligand = line.split()\n",
    "        if \"HETATM\" in ligand[0]:\n",
    "            lig1 = ligand[3] + ligand[5]\n",
    "            if \".\" in lig1:\n",
    "                temp_num = re.findall(r'\\d+', ligand[4])\n",
    "                temp2_num = ''.join(str(x) for x in temp_num)\n",
    "                lig1 = ligand[3] + temp2_num\n",
    "            if (lig1 in ligs) and (lig1 not in temp_ligs):\n",
    "                temp_ligs.append(lig1)\n",
    "                chain_id = ligand[4][0]\n",
    "                lig_chain.append(chain_id[0])\n",
    "print(lig_chain)"
   ]
  },
  {
   "cell_type": "markdown",
   "id": "77ca2618",
   "metadata": {},
   "source": [
    "### Method 2:  Adding ligands from the chemical component dictionary"
   ]
  },
  {
   "cell_type": "markdown",
   "id": "023546c1",
   "metadata": {},
   "source": [
    "IN PROGRESS.\n",
    "\n",
    "Import ligands using chemical component dictionary.\n",
    "\n",
    "Maybe use ligand expo?"
   ]
  },
  {
   "cell_type": "code",
   "execution_count": null,
   "id": "66089a69",
   "metadata": {},
   "outputs": [],
   "source": [
    "attr_bool, attr_val, form_items1, form_items2 = create_search_for_expo()"
   ]
  },
  {
   "cell_type": "code",
   "execution_count": null,
   "id": "b925fba1",
   "metadata": {},
   "outputs": [],
   "source": [
    "display_expo_form(form_items1, form_items2)"
   ]
  },
  {
   "cell_type": "code",
   "execution_count": null,
   "id": "6495747e",
   "metadata": {},
   "outputs": [],
   "source": [
    "result_lig, query = create_ligands_from_expo(attr_bool, attr_val)"
   ]
  },
  {
   "cell_type": "code",
   "execution_count": null,
   "id": "3e0005b9",
   "metadata": {},
   "outputs": [],
   "source": [
    "result_lig_list = []\n",
    "for nonPoly in query(return_type=\"mol_definition\"):\n",
    "    result_lig_list.append(nonPoly)"
   ]
  },
  {
   "cell_type": "code",
   "execution_count": null,
   "id": "34a67d7f",
   "metadata": {},
   "outputs": [],
   "source": [
    "select_ligand = Dropdown(options = result_lig_list, description = 'Select Desired Ligand from Dropdown:', style = style)\n",
    "select_ligand"
   ]
  },
  {
   "cell_type": "code",
   "execution_count": null,
   "id": "69187889",
   "metadata": {},
   "outputs": [],
   "source": [
    "ligand_id = select_ligand.value\n",
    "pdb_lig_filename = pdb_list.retrieve_pdb_file(ligand_id, pdir=\"data/PDB_files\", file_format=\"pdb\")\n",
    "pdb_mol2 = [m for m in pybel.readfile(filename = pdb_lig_filename, format='pdb')][0]\n",
    "out_mol2 = pybel.Outputfile(filename = f\"data/MOL2_files/{ligand_id}_ligand.mol2\", overwrite = True, format='mol2')\n",
    "out_mol2.write(pdb_mol2)\n",
    "ligs.append(ligand_id)\n",
    "filenames.append(f\"data/MOL2_files/{ligand_id}_ligand.mol2\")"
   ]
  },
  {
   "cell_type": "markdown",
   "id": "b7fcb4af-cfe9-4ad3-88f4-b3ad7966af34",
   "metadata": {},
   "source": [
    "### Method 3:  Adding ligands from local .mol2 files"
   ]
  },
  {
   "cell_type": "markdown",
   "id": "7e85b962",
   "metadata": {},
   "source": [
    "To dock a ligand that is not present in the imported PDB file, we can upload its mol2 file (which can be obtained on the pdb website) and obtain all the relavent information using ipywidgets. The upload widget will only accept mol2 files; any other file type will result in an error. Multiple files are able to be uploaded at once. To use the uploader, the cell below needs to be run. After running the cell, the upload button will appear, allowing mol2 files to be selected. After uploading the files, the next cell will be ready to be run and will write each uploaded mol2 file into the \"Data\" folder."
   ]
  },
  {
   "cell_type": "code",
   "execution_count": null,
   "id": "d983daca",
   "metadata": {},
   "outputs": [],
   "source": [
    "lig_files = []\n",
    "upload = widgets.FileUpload(accept='.mol2', multiple=True)\n",
    "display(upload)"
   ]
  },
  {
   "cell_type": "code",
   "execution_count": null,
   "id": "9100edee",
   "metadata": {},
   "outputs": [],
   "source": [
    "# get information for each uploaded mol2 file\n",
    "for file_num, upload_filename in enumerate(upload.value):\n",
    "    uploaded_file_name = upload_filename['name']\n",
    "    lig_files.append(uploaded_file_name)\n",
    "\n",
    "# write mol2 files into data folder for each ligand \n",
    "for lig_num, name in enumerate(lig_files):\n",
    "    with open(\"data/MOL2_files/\" + str(name), \"wb\") as fp:\n",
    "        fp.write(upload.value[lig_num][\"content\"])\n",
    "    filenames.append(name)\n",
    "    name_alone = name.split('.')[0]\n",
    "    ligs.append(name_alone)"
   ]
  },
  {
   "cell_type": "code",
   "execution_count": null,
   "id": "a6f2dc58",
   "metadata": {},
   "outputs": [],
   "source": [
    "print(ligs)"
   ]
  },
  {
   "cell_type": "markdown",
   "id": "894c3d75-1bf9-42ea-8ae3-7f462864c37a",
   "metadata": {},
   "source": [
    "### Method 4: Adding ligands using user-input SMILE format"
   ]
  },
  {
   "cell_type": "markdown",
   "id": "af28e4e0",
   "metadata": {},
   "source": [
    "If you are familiar with SMILES format, you can input the SMILES string for the ligand/s in the cell below. Invalid SMILES strings will result in an error. This method is not recommended for those with no experience with SMILES formatting, as a small mistake in the SMILES string can result in the creation of an invalid molecule and can cause issues in the docking process."
   ]
  },
  {
   "cell_type": "code",
   "execution_count": null,
   "id": "fb88411b",
   "metadata": {},
   "outputs": [],
   "source": [
    "style = {'description_width': 'initial'}\n",
    "num_of_ligs = Dropdown(options = [1, 2, 3, 4, 5], description = 'Select number of ligands to input', style = style)\n",
    "num_of_ligs"
   ]
  },
  {
   "cell_type": "markdown",
   "id": "ed1a45fc",
   "metadata": {},
   "source": [
    "(talk about function)"
   ]
  },
  {
   "cell_type": "code",
   "execution_count": null,
   "id": "2af36d77",
   "metadata": {},
   "outputs": [],
   "source": [
    "names_for_ligs, smiles_for_ligs, form_items1, form_items2 = create_ligands_from_smiles(num_of_ligs)"
   ]
  },
  {
   "cell_type": "markdown",
   "id": "a9b73ede",
   "metadata": {},
   "source": [
    "(talk about function)"
   ]
  },
  {
   "cell_type": "code",
   "execution_count": null,
   "id": "e249ec4b",
   "metadata": {},
   "outputs": [],
   "source": [
    "display_form(num_of_ligs, form_items1, form_items2)"
   ]
  },
  {
   "cell_type": "markdown",
   "id": "bc915d63",
   "metadata": {},
   "source": [
    "(talk about function)"
   ]
  },
  {
   "cell_type": "code",
   "execution_count": null,
   "id": "0582fcef",
   "metadata": {},
   "outputs": [],
   "source": [
    "create_mols_from_smiles(num_of_ligs)"
   ]
  },
  {
   "cell_type": "markdown",
   "id": "9083d26b",
   "metadata": {},
   "source": [
    "(talk about function)"
   ]
  },
  {
   "cell_type": "code",
   "execution_count": null,
   "id": "ba4a3826",
   "metadata": {},
   "outputs": [],
   "source": [
    "separate_mol2_ligs(filename = 'data/MOL2_files/InputMols.mol2')"
   ]
  },
  {
   "cell_type": "markdown",
   "id": "93954cf6-a77c-4f36-bfb8-4b9b3217ca13",
   "metadata": {},
   "source": [
    "## Cleaning and Preparing Ligands for Docking"
   ]
  },
  {
   "cell_type": "markdown",
   "id": "7676e36d",
   "metadata": {},
   "source": [
    "Before docking, both the protein receptor and ligand/s need to be sanitized to ensure the shape of the ligand and receptor molecules are valid and to reduce the possibility of biologically irrelevant/unlikely/impossible poses. Sanitizing includes adding the hydrogens that are missing in the PDB/MOL2 files, making sure the charges of the protein are correct, and converting both PDB (protein receptor) and MOL2 (ligand/s) files to PDBQT format (which is necessary for docking using the VINA engine), which stores the hydrogen and charge information for each molecule."
   ]
  },
  {
   "cell_type": "code",
   "execution_count": null,
   "id": "fb4714f2",
   "metadata": {},
   "outputs": [],
   "source": [
    "# protein sanitization\n",
    "# add hydrogens to protein receptor\n",
    "input_file = \"data/PDB_files/\" + str(pdb_id) + \"_protein.pdb\"\n",
    "pqr_file = \"data/PDB_files/\" + str(pdb_id) + \"_protein.pqr\"\n",
    "output_file = \"data/PDB_files/\" + str(pdb_id) + \"_protein_H.pdb\"\n",
    "! pdb2pqr --pdb-output {output_file} --pH 7.4 --whitespace {input_file} {pqr_file}"
   ]
  },
  {
   "cell_type": "code",
   "execution_count": null,
   "id": "3b59f151",
   "metadata": {},
   "outputs": [],
   "source": [
    "# protein sanitization\n",
    "# create pdbqt file for receptor\n",
    "to_pdbqt = mda.Universe(pqr_file)\n",
    "to_pdbqt.atoms.write(f\"data/PDBQT_files/{pdb_id}_protein.pdbqt\")\n",
    "\n",
    "# remove \"TITLE\" and \"CRYST1\" labels with \"REMARK\" to reduce chance of errors later on\n",
    "with open(f\"data/PDBQT_files/{pdb_id}_protein.pdbqt\", 'r') as file:\n",
    "    file_content = file.read()\n",
    "file_content = file_content.replace('TITLE', 'REMARK').replace('CRYST1', 'REMARK')\n",
    "with open(f\"data/PDBQT_files/{pdb_id}_protein.pdbqt\", 'w') as file:\n",
    "    file.write(file_content)"
   ]
  },
  {
   "cell_type": "code",
   "execution_count": null,
   "id": "182378bd-0085-4ba1-b04c-20bcd2d04637",
   "metadata": {},
   "outputs": [],
   "source": [
    "# ligand sanitization\n",
    "# add hydrogens to ligands\n",
    "filenames_H = []\n",
    "a = 0\n",
    "for i in filenames:\n",
    "    mol= [m for m in pybel.readfile(filename= str(i),format='mol2')][0]\n",
    "    mol.addh()\n",
    "    s = \"data/MOL2_files/\" + str(ligs[a]) + \"_H.mol2\"\n",
    "    filenames_H.append(s)\n",
    "    out = pybel.Outputfile(filename= \"data/MOL2_files/\" + str(ligs[a]) + \"_H.mol2\",format='mol2',overwrite=True)\n",
    "    out.write(mol)\n",
    "    out.close()\n",
    "    a += 1"
   ]
  },
  {
   "cell_type": "code",
   "execution_count": null,
   "id": "09782a13-693f-42dd-9672-737d5457f186",
   "metadata": {},
   "outputs": [],
   "source": [
    "# ligand sanitization\n",
    "# convert to pdbqt\n",
    "n = 0\n",
    "filenames_pdbqt = []\n",
    "for i in filenames:\n",
    "    ligand = [m for m in pybel.readfile(filename= str(i) ,format='mol2')][0]\n",
    "    s = \"data/PDBQT_files/\" + str(ligs[n]) + \"_H.pdbqt\"\n",
    "    filenames_pdbqt.append(s)\n",
    "    ligand.write(filename = s, format='pdbqt', overwrite=True)\n",
    "    n += 1"
   ]
  },
  {
   "cell_type": "markdown",
   "id": "4e265b89",
   "metadata": {},
   "source": [
    "For docking, information about the size and center of the ligand/s is needed to ensure that the entire ligand can be docked to the desired binding pocket. To add a little bit of \"wiggle room\", the lengths of the x, y, and z dimensions are increased by 5 angstroms (if the length is positive, five is added; if the length is negative, five is subtracted)."
   ]
  },
  {
   "cell_type": "code",
   "execution_count": null,
   "id": "00ec7fc5-5395-43eb-935a-a7c3bcc34955",
   "metadata": {},
   "outputs": [],
   "source": [
    "# get center and size of ligand/s\n",
    "lig_box_c = []\n",
    "lig_box_s = []\n",
    "u = mda.Universe(f\"data/PDB_files/{pdb_id}_clean_ligand.pdb\")\n",
    "for h, i in enumerate(filenames_H):\n",
    "    res_name_joined = ligs[h][0:3]\n",
    "    res_id_joined = ligs[h][3:]\n",
    "    if h < len(lig_chain):\n",
    "        res_chain = lig_chain[h]\n",
    "        ligand_mda = u.select_atoms(\"resname \" + str(res_name_joined) + \" and resnum \" + str(res_id_joined) +\" and chainID \" + str(res_chain))\n",
    "    else:\n",
    "        u2 = mda.Universe(i)\n",
    "        ligand_mda = u2.atoms\n",
    "    pocket_center = ligand_mda.center_of_geometry()\n",
    "    pocket_center_list = np.ndarray.tolist(pocket_center)\n",
    "    ligand_box = ligand_mda.positions.max(axis=0) - ligand_mda.positions.min(axis=0)\n",
    "    ligand_box_list = np.ndarray.tolist(ligand_box)\n",
    "    ligand_box_list2 = []\n",
    "    for value in ligand_box_list:\n",
    "        if value < 0:\n",
    "            ligand_box_list2.append(float(value - 5))\n",
    "        elif value > 0:\n",
    "            ligand_box_list2.append(float(value + 5))\n",
    "        else:\n",
    "            ligand_box_list2.append(float(0))\n",
    "    lig_box_c.append(pocket_center_list)\n",
    "    lig_box_s.append(ligand_box_list2)"
   ]
  },
  {
   "cell_type": "markdown",
   "id": "d1e51001-5157-4967-a87a-5b5c706d4c6d",
   "metadata": {},
   "source": [
    "## Find possible binding pockets in protein using fpocket"
   ]
  },
  {
   "cell_type": "markdown",
   "id": "92466a68-708d-4861-b296-53049bb70865",
   "metadata": {},
   "source": [
    "fpocket is an algorithm that aids in protein pocket detection and scoring. Based on variables including solvent accessibility, the hydrophobicity of residues, density, flexibility, residue charges, and more (all contributing variables are listed in the table below), the likelihood of a pocket acting as a binding site to a nonspecified ligand is calculated (also known as the druggability score), which helps determine possible docking boxes to be used in ligand docking.\n",
    "\n",
    "Column descriptions for data output (pocket_descriptors.csv):\n",
    "\n",
    "| Descriptor | Role |\n",
    "| :--- | :--- |\n",
    "| drug_score | score ranging from 0 to 1 describing the likelihood of a drug binding to a given pocket, where 0.5 is the threshold where the binding of a drug in the pocket is possible |\n",
    "| volume | pocket volume|\n",
    "|nb_asph| the number of alpha spheres in a pocket, which measures the size of cavity normalized to the largest pocket|\n",
    "|inter_chain | an integer equal to 0 (if the pocket is made of a single chain) or 1 (if the pocket is comprised of 2 chains)|\n",
    "|apol_asph_proportion | proportion of apolar alpha spheres; the percentage of alpha spheres in a pocket that are apolar|\n",
    "|mean_asph_radius| mean alpha sphere radius|\n",
    "|as_density| alpha sphere density of pocket, calculated by taking the mean of all alpha sphere pair-to-pair distances. smaller values indicate a more compact and dense pocket|\n",
    "|mean_asph_solv_acc| mean alpha sphere solvent accessibility|\n",
    "|mean_loc_hyd_dens| mean local hydrophobic density; identification of areas of the binding pocket with localized hydrophobicity. calculated by seeing how many apolar spheres overlap with each other. the sum of all apolar neighbors is divided by the total number of apolar spheres|\n",
    "|flex| flexibility of pocket (b factor)|\n",
    "|hydrophobicity_score| the hydrophobicity score, which is the mean hydrophobicity score of all residues in the pocket|\n",
    "|volume_score| the volume score, which is the mean volume score of all amino acids in contact with at least one alpha sphere of the pocket|\n",
    "|charge_score| the charge score, which is the mean charge for all amino acids in contact with at least one alpha sphere of the pocket|\n",
    "|polarity_score| the polarity score, which is the hydrophilicity of the binding pocket, which is calculated by taking the mean of all polarity scores of all residues in the pocket|\n",
    "|a0_apol | describes apolar Van der Waals surface of pocket|\n",
    "|a0_pol | describes polar Van der Waals surface of pocket|\n",
    "|af_apol | describes apolar Van der Waals surface of pocket|\n",
    "|af_pol | describes polar Van der Waals surface of pocket|\n",
    "|n_abpa| the number of abpas in the binding site |\n",
    "|three-letter amino acid code (i.e. \"ala\")|Absolute amino acid composition of a given pocket, divided into groups by amino acid|\n",
    "|chain_1_type| chain 1 type; an integer equal to 0 (if the pocket is a protein pocket), 1 (if the pocket is a nucleic acid pocket), or 2 (if the pocket is a HETATM pocket)|\n",
    "|chain_2_type| chain 2 type; an integer equal to 0 (if the pocket is a protein pocket), 1 (if the pocket is a nucleic acid pocket), or 2 (if the pocket is a HETATM pocket)|\n",
    "|num_res_chain_1|  the total number of residues in chain 1|\n",
    "|num_res_chain_2| number of residues on chain 2. if the pocket is only made up of one chain, the value of this descriptor is equal to the value of \"num_res_chain_1\"|\n",
    "|lig_het_tag|  HETATM tag of ligands situated in the binding pocket|\n",
    "|name_chain_1|  the name of the first chain in contact with the pocket (denoted using a letter [i.e. \"A\"])|\n",
    "|name_chain_2|  the name of the second chain in contact with the pocket (denoted using a letter [i.e. \"A\"]). if the pocket is only made up of one chain, the value of this descriptor is equal to the value of \"name_chain_1\"|"
   ]
  },
  {
   "cell_type": "code",
   "execution_count": null,
   "id": "4e8d5770-efd2-4b8e-ba75-6353cd156276",
   "metadata": {},
   "outputs": [],
   "source": [
    "#use fpocket to view potential pockets in protein\n",
    "! fpocket -f {\"data/PDB_files/\"+ str(pdb_id)+\"_protein.pdb\"} -d > {\"data/pocket_descriptors.csv\"}"
   ]
  },
  {
   "cell_type": "code",
   "execution_count": null,
   "id": "143cfeaf-e44f-4a1a-8f30-5a0bf3cab104",
   "metadata": {},
   "outputs": [],
   "source": [
    "prot_pockets = pd.read_csv('data/pocket_descriptors.csv',sep=' ',index_col=[0])"
   ]
  },
  {
   "cell_type": "code",
   "execution_count": null,
   "id": "28da53f5-154c-42c1-ae0d-7f65d74fcfe7",
   "metadata": {},
   "outputs": [],
   "source": [
    "#get pockets and docking boxes for all pockets in a dataframe\n",
    "fpocket_out = \"data/PDB_files/\" + str(pdb_id)+ \"_protein_out/\"\n",
    "f_pocket_dir = os.path.join(current_dir, fpocket_out)\n",
    "u_prot = mda.Universe(f\"data/PDB_files/{pdb_id}_protein.pdb\")\n",
    "for file in os.listdir(f_pocket_dir):\n",
    "    if 'env_atm' in file:\n",
    "        atoms = []\n",
    "        res_and_atoms = []\n",
    "        pocket_num = int(file.split('_')[0].replace('pocket',''))\n",
    "        out_dir = os.path.join(f_pocket_dir, file)\n",
    "        with open(out_dir, 'r') as outfile:\n",
    "            data = outfile.readlines()\n",
    "        for line in data:\n",
    "            split_line = line.split()\n",
    "            if len(split_line) > 1:\n",
    "                select_atom_num = split_line[1]\n",
    "                select_atom = split_line[2]\n",
    "                select_residue = split_line[3]\n",
    "                select_residue_num = split_line[5]\n",
    "                # if the residue number for a protein has four digits (greater than 999), split_line[5] will be \n",
    "                # equal to the x coordinate of the atom as the whitespace between the chain identifier and the \n",
    "                # residue number will disappear. the following if statement addresses this\n",
    "                if \".\" in select_residue_num: \n",
    "                    temp_residue_num = re.findall(r'\\d+', split_line[4])\n",
    "                    temp2_residue_num = ''.join(str(x) for x in temp_residue_num)\n",
    "                    select_residue_num = int(temp2_residue_num)\n",
    "                atoms.append(select_atom_num)\n",
    "                md_input1 = \"(resid \" + str(select_residue_num) + \" and name \" + str(select_atom) + \")\"\n",
    "                res_and_atoms.append(md_input1)\n",
    "\n",
    "        # get center of docking box\n",
    "        atom_string = ', '.join(str(x) for x in atoms)\n",
    "        res_and_atom_string = ' or '.join(str(x) for x in res_and_atoms)\n",
    "        md_input2 = \"id \" + str(atom_string)\n",
    "        pocket_mda = u_prot.select_atoms(res_and_atom_string)\n",
    "        pocket_center = pocket_mda.center_of_geometry()\n",
    "        pocket_center_list = np.ndarray.tolist(pocket_center)\n",
    "\n",
    "        # get size of docking box\n",
    "        ligand_box = pocket_mda.positions.max(axis=0) - ligand_mda.positions.min(axis=0)\n",
    "        ligand_box_list = np.ndarray.tolist(ligand_box)\n",
    "        ligand_box_list2 = []\n",
    "        for value in ligand_box_list:\n",
    "            if value < 0:\n",
    "                ligand_box_list2.append(float(value - 5))\n",
    "            elif value > 0:\n",
    "                ligand_box_list2.append(float(value + 5))\n",
    "            else:\n",
    "                ligand_box_list2.append(float(0))\n",
    "        \n",
    "        prot_pockets.loc[pocket_num,'center_x'] = pocket_center_list[0]\n",
    "        prot_pockets.loc[pocket_num,'center_y'] = pocket_center_list[1]\n",
    "        prot_pockets.loc[pocket_num,'center_z'] = pocket_center_list[2]\n",
    "        prot_pockets.loc[pocket_num,'size_x'] = abs(ligand_box_list2[0])\n",
    "        prot_pockets.loc[pocket_num,'size_y'] = abs(ligand_box_list2[1])\n",
    "        prot_pockets.loc[pocket_num,'size_z'] = abs(ligand_box_list2[2])\n",
    "        \n",
    "with pd.option_context('display.max_rows', None, 'display.max_columns', None):\n",
    "    display(prot_pockets)"
   ]
  },
  {
   "cell_type": "markdown",
   "id": "9bed0a00",
   "metadata": {},
   "source": [
    "To make docking more efficient, all pockets with a drugability score greater than 0.20 will be added to a new dataframe, which will be used to create the docking boxes for ligands. If the number of posible binding pockets found by fpocket exceeds 25, it is highly recommended that the cell below is run."
   ]
  },
  {
   "cell_type": "code",
   "execution_count": null,
   "id": "e7c280a8",
   "metadata": {},
   "outputs": [],
   "source": [
    "prot_pockets2 = prot_pockets[prot_pockets['drug_score'] >= 0.20]\n",
    "prot_pockets2"
   ]
  },
  {
   "cell_type": "code",
   "execution_count": null,
   "id": "ca4ad668-befd-4936-a300-d95a5823ce96",
   "metadata": {},
   "outputs": [],
   "source": [
    "prot_pockets2.to_csv(\"data/protein_pockets.csv\")"
   ]
  },
  {
   "cell_type": "markdown",
   "id": "8b348c27-3f1e-4adb-8654-93c26377aed2",
   "metadata": {},
   "source": [
    "## View ligands and proteins together prior to docking"
   ]
  },
  {
   "cell_type": "markdown",
   "id": "99cdae85",
   "metadata": {},
   "source": [
    "While viewing the ligand/s and receptor is not required, being able to see what the molecules look like as well as being able to see the possible binding pockes on the receptor does help (continue). There are a few different methods this notebook will use to visualize the ligands/proteins to be used in docking. <br>\n",
    "The first method this notebook will be using is rdkit's Draw module, which takes rdkit molecules and displays a static image of them. This method is easy to implement and only takes one line of code (assuming a list of rdkit Molecules already exists).<br> \n",
    "The second method that will be used is py3Dmol, which requires more code to implement but allows for the user to move and rotate the molecule/s and allows for larger molecules (including proteins) to be viewed."
   ]
  },
  {
   "cell_type": "code",
   "execution_count": null,
   "id": "a413a11c-e59e-415e-8e0e-ad16e5fbc27f",
   "metadata": {},
   "outputs": [],
   "source": [
    "# create list of rdkit molecules\n",
    "mols = []\n",
    "ligand_smiles = []\n",
    "for i in ligs:\n",
    "    mol = Chem.MolFromMol2File(\"data/MOL2_files/\" + str(i) + \"_H.mol2\",sanitize=False)\n",
    "    select_mol_smile = Chem.MolToSmiles(mol)\n",
    "    ligand_smiles.append(select_mol_smile)\n",
    "    mols.append(mol)\n",
    "\n",
    "# view ligands\n",
    "Draw.MolsToGridImage(mols, molsPerRow=5, subImgSize=(300,300))"
   ]
  },
  {
   "cell_type": "markdown",
   "id": "69074738",
   "metadata": {},
   "source": [
    "Below is code to create the py3Dmol viewer, which consists of three different views. They are as follows:\n",
    "1. a viewer containing the ligand/s and the receptor, in which the space filling model (surface) of the receptor is present\n",
    "2. a viewer containing the ligand/s and the receptor, with the addition of transparent boxes around each ligand demonstrating the size and center of the ligand docking boxes. The colors of the ligand boxes differ for clarity's sake, but are otherwise meaningless\n",
    "3. a viewer containing the ligand/s and the receptor, with the addition of the binding pockets found by fpocket. The colors of the binding pockets differ for clarity's sake, but are otherwise meaningless"
   ]
  },
  {
   "cell_type": "markdown",
   "id": "46cfbc07",
   "metadata": {},
   "source": [
    "To avoid parsing through every binding pocket file only to visualize a portion of them, a list containing all of the pqr file paths for binding pockets with a druggability score greater than 0.20 will be created. The pqr file format includes charge and radius field information for each atom in a binding pocket in addition to information recorded in pdb files."
   ]
  },
  {
   "cell_type": "code",
   "execution_count": null,
   "id": "ce11c4ec",
   "metadata": {},
   "outputs": [],
   "source": [
    "revised_files = []\n",
    "pocketPath = os.path.join(current_dir, \"data\", \"PDB_files\", str(pdb_id) + \"_clean_out\", \"*.pqr\")\n",
    "pocketFiles = glob.glob(pocketPath)\n",
    "for file in pocketFiles:\n",
    "    split_1 = file.split(\"/\")[-1]\n",
    "    split_2 = split_1.split(\"_\")[0]\n",
    "    index_num = re.findall(r'\\d+', split_2)\n",
    "    index_num2 = ''.join(str(x) for x in index_num)\n",
    "    if int(index_num2) in prot_pockets2.index:\n",
    "        revised_files.append(file)"
   ]
  },
  {
   "cell_type": "markdown",
   "id": "5b7467d3",
   "metadata": {},
   "source": [
    "<div class=\"alert alert-block alert-info\">\n",
    "<b>Please note:</b> \n",
    "When viewing a larger protein receptor, a py3Dmol viewer may not be able to support three views at once. For proteins that are greater than 100 kDa in size, it is recommended to use two different py3Dmol viewers that depict one view each.\n",
    "</div>"
   ]
  },
  {
   "cell_type": "markdown",
   "id": "afdca227",
   "metadata": {},
   "source": [
    "The cell below creates a py3Dmol viewer that has all three views described above in a grid that are linked, where moving one view moves the other two views to the same position in space. __Only use for proteins that are less than 100 kDa in size.__"
   ]
  },
  {
   "cell_type": "code",
   "execution_count": null,
   "id": "12352931-c29d-4f11-99bd-4420cb599dd4",
   "metadata": {},
   "outputs": [],
   "source": [
    "# View Protein and ligand/s together\n",
    "# Only use for smaller proteins\n",
    "view = py3Dmol.view(height = 800, width = 900, viewergrid = (1,3), linked = True)\n",
    "view.removeAllModels()\n",
    "view.setViewStyle({'style':'outline','color':'black','width':0.1})\n",
    "\n",
    "for i in filenames_H:\n",
    "    viewer_count = 0\n",
    "    while viewer_count < 3:\n",
    "        # add receptor (protein) model to all py3Dmol viewers\n",
    "        view.addModel(open('data/PDB_files/' + str(pdb_id) + '_protein.pdb','r').read(),format='pdb')\n",
    "        Prot=view.getModel(viewer = (0,viewer_count))\n",
    "        Prot.setStyle({'cartoon':{'arrows':True, 'tubes':True, 'style':'oval', 'color':'white'}}, viewer=(0,viewer_count))\n",
    " \n",
    "        # add ligand/s to all py3Dmol viewers\n",
    "        view.addModel(open(i,'r').read(),format='mol2')\n",
    "        ref_m = view.getModel(viewer = (0, viewer_count))\n",
    "        ref_m.setStyle({},{'stick':{'colorscheme':'greenCarbon','radius':0.2}})\n",
    "        viewer_count += 1\n",
    "\n",
    "view.addSurface(py3Dmol.VDW,{'opacity':0.6,'color':'white'}, viewer=(0,0))\n",
    "\n",
    "#visualization for docking boxes for each ligand (viewer 2)\n",
    "a = 0\n",
    "colors = ['red', 'orange', 'yellow', 'green', 'blue', 'purple', 'magenta']\n",
    "for num, i in enumerate(filenames_H):\n",
    "    view.addBox({\"center\" :dict(x = lig_box_c[num][0], y = lig_box_c[num][1], z = lig_box_c[num][2]), \"dimensions\": dict(d = abs(lig_box_s[num][0]), h = abs(lig_box_s[num][1]), w = abs(lig_box_s[num][2])), \"color\" : colors[a], \"opacity\" : 0.5}, viewer = (0,1))\n",
    "    a += 1\n",
    "    if a > 6:\n",
    "        a = 0\n",
    "\n",
    "#visualization for binding pockets found by fpocket (viewer 3)\n",
    "b = 0\n",
    "for file in revised_files:\n",
    "    view.addModel(open(file,'r').read(),format = 'pqr', viewer = (0,2))\n",
    "    pockets = view.getModel(viewer = (0,2))\n",
    "    pockets.setStyle({},{'sphere':{'color':colors[b],'opacity':0.5}}) \n",
    "    b += 1\n",
    "    if b > 6:\n",
    "        b = 0\n",
    "\n",
    "view.zoomTo()\n",
    "view.show()"
   ]
  },
  {
   "cell_type": "markdown",
   "id": "0b8424a0",
   "metadata": {},
   "source": [
    "The cells below creates a py3Dmol viewer that 1) visualizes ligands and their docking boxes with the receptor and 2) visualizes the size and location of potential binding pockets along with the ligands and receptor. These can be used for proteins that are of any size, but are necessary for proteins greater than 100 kDa in size."
   ]
  },
  {
   "cell_type": "code",
   "execution_count": null,
   "id": "6ff0968b",
   "metadata": {},
   "outputs": [],
   "source": [
    "view = py3Dmol.view()\n",
    "view.removeAllModels()\n",
    "view.setViewStyle({'style':'outline','color':'black','width':0.1})\n",
    "\n",
    "# add receptor (protein) model to py3Dmol viewer\n",
    "view.addModel(open('data/PDB_files/' + str(pdb_id) + '_protein.pdb','r').read(),format='pdb')\n",
    "Prot=view.getModel()\n",
    "Prot.setStyle({'cartoon':{'arrows':True, 'tubes':True, 'style':'oval', 'color':'white'}})\n",
    "\n",
    "#visualization for ligands and docking boxes for each ligand\n",
    "for i in filenames_H:\n",
    "    view.addModel(open(i,'r').read(),format='mol2')\n",
    "    ref_m = view.getModel()\n",
    "    ref_m.setStyle({},{'stick':{'colorscheme':'greenCarbon','radius':0.2}})\n",
    "    \n",
    "colors = ['red', 'orange', 'yellow', 'green', 'blue', 'purple', 'magenta']\n",
    "a = 0\n",
    "for j, i in enumerate(filenames_H):\n",
    "    view.addBox({\"center\": dict(x = lig_box_c[j][0], y = lig_box_c[j][1], z= lig_box_c[j][2]), \"dimensions\": dict(d = abs(lig_box_s[j][0]), h = abs(lig_box_s[j][1]), w = abs(lig_box_s[j][2])), \"color\" : colors[a], \"opacity\" : 0.5})\n",
    "    a += 1\n",
    "    if a > 6:\n",
    "        a = 0\n",
    "\n",
    "view.zoomTo()\n",
    "view.show()"
   ]
  },
  {
   "cell_type": "code",
   "execution_count": null,
   "id": "49dada9d",
   "metadata": {},
   "outputs": [],
   "source": [
    "view = py3Dmol.view()\n",
    "view.removeAllModels()\n",
    "view.setViewStyle({'style':'outline','color':'black','width':0.1})\n",
    "\n",
    "# add receptor (protein) model to py3Dmol viewer\n",
    "view.addModel(open('data/PDB_files/' + str(pdb_id) + '_protein.pdb','r').read(),format='pdb')\n",
    "Prot=view.getModel()\n",
    "Prot.setStyle({'cartoon':{'arrows':True, 'tubes':True, 'style':'oval', 'color':'white'}})\n",
    "\n",
    "#visualization ligands\n",
    "colors = ['red', 'orange', 'yellow', 'green', 'blue', 'purple', 'magenta']\n",
    "for h, i in enumerate(filenames_H):\n",
    "    # add ligand/s to all py3Dmol viewers\n",
    "    view.addModel(open(i,'r').read(),format='mol2')\n",
    "    ref_m = view.getModel()\n",
    "    ref_m.setStyle({},{'stick':{'colorscheme':'greenCarbon','radius':0.2}})\n",
    "\n",
    "a = 0\n",
    "for file in revised_files:\n",
    "    view.addModel(open(file,'r').read(),format = 'pqr')\n",
    "    pockets = view.getModel()\n",
    "    pockets.setStyle({},{'sphere':{'color':colors[a],'opacity':0.5}}) \n",
    "    a += 1\n",
    "    if a > 6:\n",
    "        a = 0\n",
    "\n",
    "view.zoomTo()\n",
    "view.show()"
   ]
  },
  {
   "cell_type": "markdown",
   "id": "1414372f-7997-4c0e-94fd-bdd408405d7e",
   "metadata": {},
   "source": [
    "## Save results for further use"
   ]
  },
  {
   "cell_type": "markdown",
   "id": "7c0c23bb",
   "metadata": {},
   "source": [
    "To use the data collected in this notebook for the next notebook in this series (Docking and Preliminary Analysis), a .csv file containing ligand filenames and ligand box sizes and centers will be created, allowing for the variables to be easily imported and used."
   ]
  },
  {
   "cell_type": "code",
   "execution_count": null,
   "id": "fd00918f-cd34-42ec-ad1e-cd70ffcaa565",
   "metadata": {},
   "outputs": [],
   "source": [
    "center_x = []\n",
    "center_y = []\n",
    "center_z = []\n",
    "size_x = []\n",
    "size_y = []\n",
    "size_z = []\n",
    "for h, i in enumerate(ligs):\n",
    "    center_x.append(lig_box_c[h][0])\n",
    "    center_y.append(lig_box_c[h][1])\n",
    "    center_z.append(lig_box_c[h][2])\n",
    "    size_x.append(lig_box_s[h][0])\n",
    "    size_y.append(lig_box_s[h][1])\n",
    "    size_z.append(lig_box_s[h][2])\n",
    "ligand_information = pd.DataFrame({\"pdb_id\": pdb_id,\n",
    "                                   \"ligs\": ligs,\n",
    "                                   \"filenames\": filenames,\n",
    "                                   \"filenames_H\": filenames_H,\n",
    "                                   \"filenames_pdbqt\": filenames_pdbqt,\n",
    "                                   \"center_x\": center_x,\n",
    "                                   \"center_y\": center_y,\n",
    "                                   \"center_z\": center_z,\n",
    "                                   \"size_x\": size_x,\n",
    "                                   \"size_y\": size_y,\n",
    "                                   \"size_z\": size_z\n",
    "                                  })\n",
    "ligand_smiles_data = pd.DataFrame({\"filename_hydrogens\": filenames_H,\n",
    "                                   \"smiles\": ligand_smiles})\n",
    "ligand_information.to_csv('data/ligand_information.csv', index = True)\n",
    "ligand_smiles_data.to_csv('data/ligand_smiles_data.csv', index = False)"
   ]
  },
  {
   "cell_type": "code",
   "execution_count": null,
   "id": "3faaf830",
   "metadata": {},
   "outputs": [],
   "source": []
  }
 ],
 "metadata": {
  "kernelspec": {
   "display_name": "Python 3 (ipykernel)",
   "language": "python",
   "name": "python3"
  },
  "language_info": {
   "codemirror_mode": {
    "name": "ipython",
    "version": 3
   },
   "file_extension": ".py",
   "mimetype": "text/x-python",
   "name": "python",
   "nbconvert_exporter": "python",
   "pygments_lexer": "ipython3",
   "version": "3.12.4"
  },
  "toc": {
   "base_numbering": 1,
   "nav_menu": {},
   "number_sections": true,
   "sideBar": true,
   "skip_h1_title": false,
   "title_cell": "Table of Contents",
   "title_sidebar": "Contents",
   "toc_cell": false,
   "toc_position": {},
   "toc_section_display": true,
   "toc_window_display": false
  }
 },
 "nbformat": 4,
 "nbformat_minor": 5
}
