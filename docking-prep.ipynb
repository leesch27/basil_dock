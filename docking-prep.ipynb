{
 "cells": [
  {
   "cell_type": "markdown",
   "id": "71124ca5-1599-4a84-9838-033adce14c3e",
   "metadata": {},
   "source": [
    "# Basil Docking V0.1 - Docking Preparation\n",
    "## Purpose\n",
    "\n",
    "__Target Audience__<br>\n",
    "Undergraduate chemistry/biochemistry students and, in general, people that have little to no knowledge of protein-ligand docking and would like to understand the general process of docking a ligand to a protein receptor.\n",
    "\n",
    "__Brief Overview__<br>\n",
    "Molecular docking is a computational method used to predict where molecules are able to bind to a protein receptor and what interactions exist between the molecule (from now on, refered to as \"ligand\") and the receptor. It is a popular technique utilized in drug discovery and design, as when creating new drugs and testing existing drugs aginst new receptors, it is useful to determine the likelihood of binding prior to screening as it can be used to eliminate molecules that are unlikely to bind to the receptor. This significantly reduces the potential cost and time needed to test the efficacy of a set of possible ligands. <br>\n",
    "\n",
    "The general steps to perform molecular docking, assuming the ligand and receptor are ready to be docked, include the generation of potential ligand binding poses and the scoring of each generated pose (which predicts how strongly the ligand binds to the receptor, with a more negative score corresponding to a stronger bond). To dock a ligand to a protein, both the receptor and the ligand/s need to be \"sanitized\"; which includes making sure bonds and protonation states are as they would be in an organism. The receptor and ligand/s also need to be converted into the correct file formats depending on which docking engine is utilized. With all of these steps needed for preparation alone, introducing a need for an in depth view for each distinct step. This series attempts to provide that, as well as give users flexibility to customize the proteins, ligands, and procedures used.<br>\n",
    "\n",
    "This notebook series encompasses<br>\n",
    "1. __The preparation needed prior to docking (protein and ligand sanitation, ensuring files are in readable formats, and finding possible binding pockets)__\n",
    "2. The process of docking ligand/s to a protein receptor using two docking engines (VINA and SMINA) and visualizing/analyzing the outputs\n",
    "3. Further data collection and manipulation\n",
    "\n",
    "__Stepwise summary for this notebook (docking preparation, notebook 1 out of 3)__<br>\n",
    "- Get PDB file from the protein data bank and separate the protein and ligand into different files\n",
    "- Import additional ligands (if desired)\n",
    "- Prepare and separate ligands into their own MOL2 and PDBQT files\n",
    "- Find possible binding pockets in protein\n",
    "- View protein and ligand/s\n",
    "\n",
    "The methods utilized by this notebook are based off of Angel J. Ruiz-Moreno's Jupyter-Dock notebooks, which can be found on their GitHub account AngelRuizMoreno\n",
    "\n",
    "Ruiz-Moreno A.J. Jupyter Dock: Molecular Docking integrated in Jupyter Notebooks. https://doi.org/10.5281/zenodo.5514956\n",
    "\n",
    "Methods for sanitizing the protein PDBQT file was adapted from Jessica Nash's iqb-2024 repository, which was used in the IQB 2024 workshop - Python for Molecular Docking, and can be found on her GitHub account janash. "
   ]
  },
  {
   "cell_type": "markdown",
   "id": "5f4974b5-03cf-4cd4-a533-889c579a00e2",
   "metadata": {},
   "source": [
    "## Table of Libraries Used\n",
    "### Operations, variable creation, and variable manipulation\n",
    "\n",
    "| Module (Submodule/s)| Abbreviation| Role | Citation |\n",
    "| :--- | :--- | :--- | :--- |\n",
    "| numpy | np | perform mathematical operations, fix NaN values in dataframe outputs, and get docking box values from MDAnalysis | Harris, C.R., Millman, K.J., van der Walt, S.J. et al. Array programming with NumPy. Nature 585, 357–362 (2020). DOI: 10.1038/s41586-020-2649-2. (Publisher link). |\n",
    "| pandas | pd | organize data in an easy-to-read format and allow for the exporting of data as a .csv file | The pandas development team. (2024). pandas-dev/pandas: Pandas (v2.2.3). Zenodo. https://doi.org/10.5281/zenodo.13819579 |\n",
    "| re |n/a| regular expression; find and pull specific strings of characters depending on need, allow for easy naming and variable creation | Van Rossum, G. (2020). The Python Library Reference, release 3.8.2. Python Software Foundation. |\n",
    "| os | n/a| allow for interaction with computer operating system, including the reading and writing of files |  Van Rossum, G. (2020). The Python Library Reference, release 3.8.2. Python Software Foundation. |\n",
    "| sys |n/a| manipulate python runtime environment |  Van Rossum, G. (2020). The Python Library Reference, release 3.8.2. Python Software Foundation.|\n",
    "| glob |n/a| pull files of interest, specifically for blind docking |  Van Rossum, G. (2020). The Python Library Reference, release 3.8.2. Python Software Foundation. |\n",
    "| warnings | n/a | filter warnings | Van Rossum, G. (2020). The Python Library Reference, release 3.8.2. Python Software Foundation. |\n",
    "\n",
    "### Protein and Ligand Preparation\n",
    "| Module (Submodule/s)| Abbreviation | Role | Citation |\n",
    "| :--- | :--- | :--- | :--- |\n",
    "| biopython (Bio.PDB, PDBList)| n/a | fetch and download pdb strucures from rcsb.org | Cock, P.J.A. et al. Biopython: freely available Python tools for computational molecular biology and bioinformatics. Bioinformatics 2009 Jun 1; 25(11) 1422-3 https://doi.org/10.1093/bioinformatics/btp163 pmid:19304878 |\n",
    "| MDAnalysis (PDB)| mda | allow for the selection of atoms for separating protein from ligands and ligands from each other | R. J. Gowers, M. Linke, J. Barnoud, T. J. E. Reddy, M. N. Melo, S. L. Seyler, D. L. Dotson, J. Domanski, S. Buchoux, I. M. Kenney, and O. Beckstein. MDAnalysis: A Python package for the rapid analysis of molecular dynamics simulations. In S. Benthall and S. Rostrup, editors, Proceedings of the 15th Python in Science Conference, pages 98-105, Austin, TX, 2016. SciPy, doi:10.25080/majora-629e541a-00e. |\n",
    "| --- | --- | --- | N. Michaud-Agrawal, E. J. Denning, T. B. Woolf, and O. Beckstein. MDAnalysis: A Toolkit for the Analysis of Molecular Dynamics Simulations. J. Comput. Chem. 32 (2011), 2319-2327, doi:10.1002/jcc.21787. PMCID:PMC3144279. |\n",
    "| pdb2pqr | n/a | prepare protein receptors for docking | PDB2PQR: expanding and upgrading automated preparation of biomolecular structures for molecular simulations. Dolinsky TJ, Czodrowski P, Li H, Nielsen JE, Jensen JH, Klebe G, Baker NA. Nucleic Acids Res. 2007 Jul;35(Web Server issue):W522-5. |\n",
    "| --- | --- | --- | PDB2PQR: an automated pipeline for the setup of Poisson-Boltzmann electrostatics calculations. Dolinsky TJ, Nielsen JE, McCammon JA, Baker NA. Nucleic Acids Res. 2004 Jul 1;32(Web Server issue):W665-7. |\n",
    "| open babel (pybel)| n/a | prepare ligands for docking and allow for the conversion of ligand information to different file types |  O'Boyle, N.M., Banck, M., James, C.A. et al. Open Babel: An open chemical toolbox. J Cheminform 3, 33 (2011). https://doi.org/10.1186/1758-2946-3-33.|\n",
    "| rdkit (Chem)| n/a | ligand sanitation |  RDKit: Open-source cheminformatics; http://www.rdkit.org |\n",
    "| fpocket | n/a | find possible binding pockets in protein receptors | Le Guilloux, V., Schmidtke, P. & Tuffery, P. Fpocket: An open source platform for ligand pocket detection. BMC Bioinformatics 10, 168 (2009). https://doi.org/10.1186/1471-2105-10-168. |\n",
    "\n",
    "### Visualization\n",
    "| Module (Submodule/s)| Abbreviation | Role | Citation |\n",
    "| :--- | :--- | :--- | :--- |\n",
    "| rdkit.Chem (Draw)| n/a | ligand visualization |  RDKit: Open-source cheminformatics; http://www.rdkit.org |\n",
    "| py3Dmol | n/a | apoprotein and protein complex visualization |  Keshavan Seshadri, Peng Liu, and David Ryan Koes. Journal of Chemical Education 2020 97 (10), 3872-3876. https://doi.org/10.1021/acs.jchemed.0c00579. |\n",
    "\n",
    "### UI\n",
    "| Module (Submodule/s)| Abbreviation | Role | Citation |\n",
    "| :--- | :--- | :--- | :--- |\n",
    "| IPython (ipywidgets, display)| n/a | allow for widgets to be implemented and displayed | Fernando Pérez, Brian E. Granger, IPython: A System for Interactive Scientific Computing, Computing in Science and Engineering, vol. 9, no. 3, pp. 21-29, May/June 2007, doi:10.1109/MCSE.2007.53. URL: https://ipython.org |\n",
    "| ipywidgets (FileUpload, Dropdown, Text, Layout, Label, Box, HBox)| widgets | create interactable wigets of different types | Fernando Pérez, Brian E. Granger, IPython: A System for Interactive Scientific Computing, Computing in Science and Engineering, vol. 9, no. 3, pp. 21-29, May/June 2007, doi:10.1109/MCSE.2007.53. URL: https://ipython.org |"
   ]
  },
  {
   "cell_type": "markdown",
   "id": "89d2b56e",
   "metadata": {},
   "source": [
    "For using this notebook, certain libraries are required in order for analysis to perform as planned. You can either use a conda library (provided as a yml file) or install all required libraries using pip install. Only run the cells below if you will not use a conda library to install required libraries, and only use them as needed. If you are using a conda library, start at the coding cell that imports the libraries."
   ]
  },
  {
   "cell_type": "markdown",
   "id": "f086221a",
   "metadata": {},
   "source": [
    "### Import libraries"
   ]
  },
  {
   "cell_type": "markdown",
   "id": "48da728c",
   "metadata": {},
   "source": [
    "Import all necessary libraries using the cells below"
   ]
  },
  {
   "cell_type": "code",
   "execution_count": null,
   "id": "9bef77df",
   "metadata": {},
   "outputs": [],
   "source": [
    "# wouldn't work well on windows (issue with finding git), find solution?\n",
    "! git submodule update --recursive --init --remote"
   ]
  },
  {
   "cell_type": "code",
   "execution_count": null,
   "id": "4a042c4b-b20f-44b3-8c43-207e6b21e379",
   "metadata": {},
   "outputs": [],
   "source": [
    "import numpy as np\n",
    "import pandas as pd\n",
    "import numbers\n",
    "import re\n",
    "import sys, os\n",
    "import requests\n",
    "import glob\n",
    "import ipywidgets as widgets\n",
    "from ipywidgets import FileUpload, Dropdown, SelectMultiple, Text, Layout, Label, Box, HBox, Button, Output\n",
    "from IPython.display import display\n",
    "\n",
    "from Bio.PDB import PDBList\n",
    "import pdb2pqr\n",
    "import MDAnalysis as mda \n",
    "from MDAnalysis.coordinates import PDB\n",
    "from openbabel import pybel\n",
    "from rdkit import Chem\n",
    "from rdkit.Chem import Draw\n",
    "import rcsbapi\n",
    "from rcsbapi.search import AttributeQuery, Attr, TextQuery, ChemSimilarityQuery\n",
    "\n",
    "sys.path.insert(1, 'utilities/ligandsplitter')\n",
    "from ligandsplitter.basefunctions import create_folders, convert_type\n",
    "from ligandsplitter.ligandsplit import File_Info, Ligand, retrieve_pdb_file, get_mol2_info, get_ligands, find_ligands_unique, write_mol2, separate_mol2_ligs, isolate_by_method\n",
    "from ligandsplitter.ligandvalidate import parse_unique_ligands, validate_unique_ligands\n",
    "from ligandsplitter.ligandgenerate import create_ligands_from_smiles, display_smiles_form, create_mols_from_smiles, create_search_for_expo, create_search_for_protein, display_expo_form, create_ligands_from_expo, create_proteins\n",
    "\n",
    "sys.path.insert(1, 'utilities/')\n",
    "from basil_utils import get_prot_pockets_data\n",
    "\n",
    "import py3Dmol\n",
    "\n",
    "import warnings\n",
    "warnings.filterwarnings(\"ignore\")"
   ]
  },
  {
   "cell_type": "markdown",
   "id": "7d9a566d-67a1-4b9f-8a09-55b8642c35c1",
   "metadata": {},
   "source": [
    "## Retrieve desired macromolecule for receptor"
   ]
  },
  {
   "cell_type": "markdown",
   "id": "9e4f24e1",
   "metadata": {},
   "source": [
    "The desired protein receptor (and ligand/s, if the PDB entry is a complex) can be retrieved from a variety of sources. \n",
    "\n",
    "1. Retrieval Using Manual Text Entry\n",
    "2. Retrieval Using Upload from Local File\n",
    "3. Retrieval Using RCSB PDB Advanced Search\n",
    "\n",
    "Before retrieving the receptor, folders to contain the data used within this notebook series need to be created and variables need to be initialized."
   ]
  },
  {
   "cell_type": "code",
   "execution_count": null,
   "id": "c025dd49",
   "metadata": {},
   "outputs": [],
   "source": [
    "current_dir = create_folders()\n",
    "name = \"\" #placeholder variable for receptor name\n",
    "upload = {} #placeholder variable for uploaded receptor metadata"
   ]
  },
  {
   "cell_type": "markdown",
   "id": "39ae2fd0",
   "metadata": {},
   "source": [
    "### Method One: Retrieval Using Manual Text Entry\n",
    "One method of obtaining a protein receptor includes retrieval from the Protein Data Bank using the biopython module; specifically, the Bio.PDB package. The retrieved PDB structure file is then cleaned (refering to the removal of water molecules and ions that may interfere with docking) before it is separated into two files using MDAnalysis atom selection: a PDB file containing the protein receptor, and a MOL2 file containing the ligand/s bound to the protein receptor (if present)."
   ]
  },
  {
   "cell_type": "markdown",
   "id": "b1e88fc0",
   "metadata": {},
   "source": [
    "Using the text input box created from running the cell below, type in the 4-character PDB ID for the desired receptor for molecular docking. The protein can either be just the apoprotein (no bound ligands) or in complex. Later cells splits the file into PDB files containing just the protein and just the ligands (if present).\n",
    "\n",
    "Here are some possible PDB IDs to use if you need suggestions\n",
    "- __1oyt__ (small protein with two ligands in complex)\n",
    "- __9bxw__ (single chain protein with four unique ligands, nine total)\n",
    "- __1a3b__ (small heterotrimer protein with one ligand in complex)\n",
    "- __9dvp__ (large homodimer (greater than 1000 residues) with four unique ligands, 13 total)"
   ]
  },
  {
   "cell_type": "markdown",
   "id": "1a5e9baf",
   "metadata": {},
   "source": [
    "<div class=\"alert alert-block alert-info\">\n",
    "<b>Tip for Text Widgets: </b> For cells that use a \"Text\" widget (like the one below), first execute the cell and then type in your text -- in this case, the PDB ID. Once you type in text, you can move on to the next cell, no need to press \"Enter\"/\"Return\"</div>"
   ]
  },
  {
   "cell_type": "code",
   "execution_count": null,
   "id": "d62fca44",
   "metadata": {},
   "outputs": [],
   "source": [
    "#Do not type in cell, execute and then type in the produced text box\n",
    "select_name = Text(value = '', placeholder='Type 4-character PDB ID to be used', disabled=False)\n",
    "select_name"
   ]
  },
  {
   "cell_type": "code",
   "execution_count": null,
   "id": "3b220a91",
   "metadata": {},
   "outputs": [],
   "source": [
    "name = select_name.value\n",
    "print(name)"
   ]
  },
  {
   "cell_type": "markdown",
   "id": "7b7dfa18",
   "metadata": {},
   "source": [
    "### Method Two: Retrieval Using Upload from Local File\n",
    "If you have a file on your local device that contains information for a protein you'd like to use as a receptor, it can be uploaded and used within this notebook series. This allows for the use of structures generated from prediction software like AlphaFold, so proteins without an experimentally determined structure can be used.\n",
    "The formats supported for upload include:\n",
    "- .cif\n",
    "- .pdb\n",
    "- .ent\n",
    "</br>\n",
    "\n",
    "If your desired receptor is in a format that is not listed above, please convert it to one of the supported formats before uploading it."
   ]
  },
  {
   "cell_type": "markdown",
   "id": "98b4f6cf",
   "metadata": {},
   "source": [
    "<div class=\"alert alert-block alert-info\">\n",
    "<b>Tip for Upload Widgets: </b> For cells that use a \"Upload\" widget (like the one below), first execute the cell, then click the \"Upload\" button that is produced. </div>"
   ]
  },
  {
   "cell_type": "code",
   "execution_count": null,
   "id": "46a3ac23",
   "metadata": {},
   "outputs": [],
   "source": [
    "# run this cell to create upload widget\n",
    "file_upload = widgets.FileUpload(accept='.cif,.pdb,.ent', multiple=False)\n",
    "display(file_upload)"
   ]
  },
  {
   "cell_type": "code",
   "execution_count": null,
   "id": "2bc0e8f8",
   "metadata": {},
   "outputs": [],
   "source": [
    "upload = file_upload.value"
   ]
  },
  {
   "cell_type": "markdown",
   "id": "59d3170c",
   "metadata": {},
   "source": [
    "### Method Three: Retrieval Using Advanced Search"
   ]
  },
  {
   "cell_type": "markdown",
   "id": "53bb3550",
   "metadata": {},
   "source": [
    "If you want to search for proteins with specific properties, the advanced search function can be used to filter by enzyme classification name or number, the number of chains present, the number of amino acids present, or molecular weight. To make this process as simple as possible, a form will be generated where the criteria of interest can be selected by the user. After selecting the criteria you would like to search by, execute the cell containing the `create_proteins()` function to generate a list of proteins that meet your criteria."
   ]
  },
  {
   "cell_type": "code",
   "execution_count": null,
   "id": "c96e6538",
   "metadata": {},
   "outputs": [],
   "source": [
    "attr_bool, attr_val, attr_comp, form_1, form_2, form_3 = create_search_for_protein()"
   ]
  },
  {
   "cell_type": "code",
   "execution_count": null,
   "id": "def696bc",
   "metadata": {},
   "outputs": [],
   "source": [
    "display_expo_form(form_1, form_2, form_3)"
   ]
  },
  {
   "cell_type": "code",
   "execution_count": null,
   "id": "1b5dee4e",
   "metadata": {},
   "outputs": [],
   "source": [
    "result_receptor, query = create_proteins(attr_bool, attr_val, attr_comp)"
   ]
  },
  {
   "cell_type": "markdown",
   "id": "036b6d17",
   "metadata": {},
   "source": [
    "With the list of potential receptors generated, you can look at various proteins that fit your criteria by first selecting it from the Dropdown widget below and then executing the cell underneath it. The cell underneath the Dropdown widget uses py3Dmol to allow for a 3D-view of the protein that can be moved and rotated.\n",
    "\n",
    "To view other potential receptors, simply change the protein selected in the Dropdown widget (no need to re-run the Dropdown cell) then execute the cell that uses py3Dmol again.\n"
   ]
  },
  {
   "cell_type": "code",
   "execution_count": null,
   "id": "9d612b75",
   "metadata": {},
   "outputs": [],
   "source": [
    "# view proteins that satisfy criteria\n",
    "style = {'description_width': 'initial'}\n",
    "view_receptor = Dropdown(options = result_receptor, description = 'Select Desired Receptor to View:', style = style)\n",
    "view_receptor"
   ]
  },
  {
   "cell_type": "code",
   "execution_count": null,
   "id": "d8f01d21",
   "metadata": {},
   "outputs": [],
   "source": [
    "# whichever pdb id is selected in the dropdown cell above will be visualized in this cell\n",
    "# to view a different protein to use as a receptor, select the desired pdb id in the drop down and re-run this cell\n",
    "pdb_list = PDBList()\n",
    "view = py3Dmol.view()\n",
    "view.removeAllModels()\n",
    "view.setViewStyle({'style':'outline','color':'black','width':0.1})\n",
    "\n",
    "#visualization for ligands\n",
    "pdb_lig_filename = pdb_list.retrieve_pdb_file(view_receptor.value, pdir=\"data/test_files\", file_format=\"pdb\")\n",
    "view.addModel(open('data/test_files/pdb' + str(view_receptor.value) + '.ent','r').read(),format='pdb')\n",
    "Prot=view.getModel()\n",
    "Prot.setStyle({'cartoon':{'arrows':True, 'tubes':True, 'style':'oval', 'color':'white'}})\n",
    "view.zoomTo()\n",
    "view.show()"
   ]
  },
  {
   "cell_type": "markdown",
   "id": "c75d5f5c",
   "metadata": {},
   "source": [
    "Once the receptor to use have been determined, run the cell below and select the PDB ID of the protein you would like to use in molecular docking. Retrieved proteins can be found in the \"data/PDB_files/\" folder."
   ]
  },
  {
   "cell_type": "code",
   "execution_count": null,
   "id": "478482ba",
   "metadata": {},
   "outputs": [],
   "source": [
    "select_receptor = Dropdown(options = result_receptor, description = 'Select Receptor from Dropdown:', style = style)\n",
    "select_receptor"
   ]
  },
  {
   "cell_type": "code",
   "execution_count": null,
   "id": "5a869345",
   "metadata": {},
   "outputs": [],
   "source": [
    "name = select_receptor.value\n",
    "print(name)"
   ]
  },
  {
   "cell_type": "markdown",
   "id": "3aa8c218",
   "metadata": {},
   "source": [
    "### Select Method of Retrieval \n",
    "Depending on the method used to get the receptor, different processes need to be used to get the required information for docking. "
   ]
  },
  {
   "cell_type": "markdown",
   "id": "4a8823d2",
   "metadata": {},
   "source": [
    "Run the cell to be able to choose the method to use to retrieve the desired receptor. Select \"Manual text entry\" to use the 4 character PDB ID in the Text Widget above to download the protein from rcsb.org, \"Upload from local file\" to use a local .pdb/.ent/.cif file containing the receptor of interest, or \"Advanced Search\" to use a selected PDB ID that has desired properties."
   ]
  },
  {
   "cell_type": "code",
   "execution_count": null,
   "id": "a66e4955",
   "metadata": {},
   "outputs": [],
   "source": [
    "# select method of obtaining PDB ID using Dropdown widget: manual or random generation\n",
    "style = {'description_width': 'initial'}\n",
    "fetch_methods = Dropdown(options = [\"Manual text entry\", \"Upload from local file\", \"Advanced Search\"], description = 'Select Method to Choose PDB ID:', style = style)\n",
    "fetch_methods"
   ]
  },
  {
   "cell_type": "code",
   "execution_count": null,
   "id": "e1f1c476",
   "metadata": {},
   "outputs": [],
   "source": [
    "# select desired output file for PDB ID: PDB or MMCIF\n",
    "style = {'description_width': 'initial'}\n",
    "file_format = Dropdown(options = [\"pdb\", \"mmcif\"], description = 'Select Desired Format for PDB ID File:', style = style)\n",
    "file_format"
   ]
  },
  {
   "cell_type": "markdown",
   "id": "8ddaeacf",
   "metadata": {},
   "source": [
    "The following cell retrieves the protein receptor and any ligands that may be present in the file based on the value of the Dropdown above. "
   ]
  },
  {
   "cell_type": "code",
   "execution_count": null,
   "id": "7c1382de",
   "metadata": {},
   "outputs": [],
   "source": [
    "protein_filename, ligand_filename_initial = isolate_by_method(fetch_methods.value, file_format.value, name, upload)\n",
    "short_filename = protein_filename.split(\"/\")[-1]\n",
    "pdb_id_initial = short_filename.split(\"_\")[:-1]\n",
    "if len(pdb_id_initial[0]) > 1:\n",
    "    pdb_id = '_'.join(str(x) for x in pdb_id_initial)\n",
    "else:\n",
    "    pdb_id = pdb_id_initial\n",
    "print(pdb_id)"
   ]
  },
  {
   "cell_type": "markdown",
   "id": "6aab4453-cbe5-41c9-a188-0af2e2e236ff",
   "metadata": {},
   "source": [
    "## Retrieving desired ligand/s and separating ligands into separate .mol2 files"
   ]
  },
  {
   "cell_type": "markdown",
   "id": "0e77663d",
   "metadata": {},
   "source": [
    "In this notebook, we will make sure that each ligand has its own mol2/pdbqt files. While this isn't a required step for for docking, separating the ligands into separate files makes data collection and analysis easier to perform and understand.\n",
    "\n",
    "In addition to ligand separation, this notebook also contains three methods of retrieving additional ligands to be used in ligand docking other than those present in the original protein complex. This allows for the testing of non-canonical binding agents using ligands that are of interest to the user.\n",
    "\n",
    "    1. Fetching from the RCSB Chemical Components Dictionary\n",
    "    2. Importing local mol2 files from a personal computer\n",
    "    3. Getting ligand/s mol2 files using SMILES strings\n"
   ]
  },
  {
   "cell_type": "markdown",
   "id": "e2bde2ba",
   "metadata": {},
   "source": [
    "### Obtaining ligands from input PDB file"
   ]
  },
  {
   "cell_type": "markdown",
   "id": "7e8ed2fb",
   "metadata": {},
   "source": [
    "To create multiple output files from one input file, the original file must be read thoroughly to ensure all data is captured and the resulting files must be carefully pieced together to ensure that the mol2 format is followed perfectly, as any descrepencies in the output files can drastically impact docking results. The function `separate_mol2_ligs` first parses through the input file, obtaining the line numbers for the different attributes (molecule, atom, bond, and substructure) and determining which information belongs to each ligand based on the name associated with it. From this, the following attributes are obtained:\n",
    "- Molecule Information\n",
    "    - The line number where molecule information begins in the file\n",
    "    - Ligand names in order of appearance in the file\n",
    "    - Whether or not one ligand is present in the original MOL2 file multiple times\n",
    "- Atom Information\n",
    "    - The line number where atom information begins in the file\n",
    "    - The location of the first instance of an atom corresponding to a given ligand\n",
    "    - The number of atoms in a given ligand\n",
    "    - The lines of the mol2 file that contain atom information acros all ligands\n",
    "    - The total number of atoms across all ligands\n",
    "- Bond Information\n",
    "    - The line number where bond information begins in the file\n",
    "    - The location of the first instance of a bond corresponding to a given ligand\n",
    "    - The number of bonds in a given ligand\n",
    "    - The lines of the mol2 file that contain bond information across all ligands\n",
    "    - The total number of bonds across all ligands\n",
    "\n",
    "Using all of this information, new mol2 files are created for each ligand, with the final number of mol2 files outputted equalling the number of ligands present in the input file.\n",
    "\n",
    "For more information on the mol2 file format, [this pdf has a lot of useful information](https://www.structbio.vanderbilt.edu/archives/amber-archive/2007/att-1568/01-mol2_2pg_113.pdf)"
   ]
  },
  {
   "cell_type": "code",
   "execution_count": null,
   "id": "12152da5-f39d-461a-b45b-04d16da51a9d",
   "metadata": {},
   "outputs": [],
   "source": [
    "# create separate mol2 files for ligand/s in input pdb file\n",
    "try:\n",
    "    ligs, filenames = separate_mol2_ligs(filename = ligand_filename_initial)\n",
    "except:\n",
    "    ligs = []\n",
    "    filenames = []\n",
    "    \n",
    "print(ligs)\n",
    "print(filenames)"
   ]
  },
  {
   "cell_type": "markdown",
   "id": "ddfe13cb",
   "metadata": {},
   "source": [
    "If a protein has multiple identical chains, it is likely that identical ligands are written in the original MOL2 file under different indentifiers (for example, there could be two instances of dimethylsulfide, with one being labelled as DMS101 and the other labelled as DMS102). Since these ligands have an identical structure, only one instance is needed for docking. The cells below compare the SMILES strings of each ligand in the original MOL2 file to see if there are any redundant ligands and to remove all but one instance of the ligand if redundancies are detected."
   ]
  },
  {
   "cell_type": "code",
   "execution_count": null,
   "id": "cc23aac1",
   "metadata": {},
   "outputs": [],
   "source": [
    "# only execute validate_unique_ligands if ligands were extracted from input pdb file, else do nothing\n",
    "if len(ligs) > 0 and len(filenames) > 0:\n",
    "    ligs, filenames = validate_unique_ligands(ligs)"
   ]
  },
  {
   "cell_type": "markdown",
   "id": "63c5cc30",
   "metadata": {},
   "source": [
    "<div class=\"alert alert-block alert-info\">\n",
    "<b>Please note:</b> Some ligands covalently bind to residues of the receptor, and thus are not good candidates for molecular docking. Iron-sulfur clusters, for example, are cofactors that typically bind to sulfur atoms on CYS residues via thiol exchange or a similar mechanism. This means that trying to dock them into potential binding pockets is not necessarily the best method of determining where they will bind. </div>"
   ]
  },
  {
   "cell_type": "markdown",
   "id": "a30a566f",
   "metadata": {},
   "source": [
    "Duplicates of a ligand in a protein complex's pdb file can result in innacurate calculations of ligand locations, sizes, and centers in future cells. To prevent this, the chain ID of the first occurence of each ligand present in the input pdb file is recorded, and will be used to accurately and precisely select the atoms present in the ligand."
   ]
  },
  {
   "cell_type": "code",
   "execution_count": null,
   "id": "838af572",
   "metadata": {},
   "outputs": [],
   "source": [
    "# only determine which chain each ligand is in if ligands were extracted from input pdb file, else do nothing\n",
    "# see if needed still \n",
    "lig_chain = []\n",
    "if len(ligs) > 0 and len(filenames) > 0:\n",
    "    with open(f\"data/PDB_files/{pdb_id}_clean_ligand.pdb\", \"r\") as outfile:\n",
    "        temp_ligs = []\n",
    "        data = outfile.readlines()\n",
    "        for linenum, line in enumerate(data):\n",
    "            ligand = line.split()\n",
    "            if \"HETATM\" in ligand[0]:\n",
    "                lig1 = ligand[3] + ligand[5]\n",
    "                if \".\" in lig1:\n",
    "                    temp_num = re.findall(r'\\d+', ligand[4])\n",
    "                    temp2_num = ''.join(str(x) for x in temp_num)\n",
    "                    lig1 = ligand[3] + temp2_num\n",
    "                if (lig1 in ligs) and (lig1 not in temp_ligs):\n",
    "                    temp_ligs.append(lig1)\n",
    "                    chain_id = ligand[4][0]\n",
    "                    lig_chain.append(chain_id[0])\n",
    "    for index, value in enumerate(lig_chain):\n",
    "        print(f\"Ligand {ligs[index]} is found in chain {value}\")"
   ]
  },
  {
   "cell_type": "markdown",
   "id": "77ca2618",
   "metadata": {},
   "source": [
    "### Method 1:  Adding ligands from the chemical component dictionary"
   ]
  },
  {
   "cell_type": "markdown",
   "id": "023546c1",
   "metadata": {},
   "source": [
    "If the ligand you want to dock is not present in the initial protein PDB, there are multiple ways to search for one. One method is by using the RCSB Chemical Component Dictionary (CCD), where ligands can be searched for by its chemical name, type, ID, or brand name, as well as by formula or structural similarity. To make this process as simple as possible, a form will be generated where the criteria of interest can be selected as specified"
   ]
  },
  {
   "cell_type": "code",
   "execution_count": null,
   "id": "66089a69",
   "metadata": {},
   "outputs": [],
   "source": [
    "# create form for selecting properties to search by\n",
    "attr_bool, attr_val, form_items1, form_items2 = create_search_for_expo()"
   ]
  },
  {
   "cell_type": "code",
   "execution_count": null,
   "id": "b925fba1",
   "metadata": {},
   "outputs": [],
   "source": [
    "# view form\n",
    "display_expo_form(form_items1, form_items2)"
   ]
  },
  {
   "cell_type": "markdown",
   "id": "8cad16d2",
   "metadata": {},
   "source": [
    "After selecting the criteria you would like to search by, execute the next two cells to generate a list of ligands that meet your criteria. "
   ]
  },
  {
   "cell_type": "code",
   "execution_count": null,
   "id": "6495747e",
   "metadata": {},
   "outputs": [],
   "source": [
    "# obtain a list of PDB IDs that meet form requirements \n",
    "result_lig, query = create_ligands_from_expo(attr_bool, attr_val)"
   ]
  },
  {
   "cell_type": "code",
   "execution_count": null,
   "id": "3e0005b9",
   "metadata": {},
   "outputs": [],
   "source": [
    "# select only molecular definitions that are in output; no structures\n",
    "result_lig_list = []\n",
    "for nonPoly in query(return_type=\"mol_definition\"):\n",
    "    result_lig_list.append(nonPoly)"
   ]
  },
  {
   "cell_type": "markdown",
   "id": "accb3bc7",
   "metadata": {},
   "source": [
    "With the list of potential ligands generated, you can look at various ligands that fit your criteria by first selecting it from the Dropdown widget below and then executing the cell underneath it. The cell underneath the Dropdown widget uses py3Dmol to allow for a 3D-view of the ligand that can be moved and rotated. \n",
    "\n",
    "To view other ligands, simply change the ligand selected in the Dropdown widget (no need to re-run the Dropdown cell) then execute the cell that uses py3Dmol again."
   ]
  },
  {
   "cell_type": "code",
   "execution_count": null,
   "id": "97844bef",
   "metadata": {},
   "outputs": [],
   "source": [
    "# view ligands that satisfy criteria\n",
    "style = {'description_width': 'initial'}\n",
    "view_ligand = Dropdown(options = result_lig_list, description = 'Select Ligand to View from Dropdown:', style = style)\n",
    "view_ligand"
   ]
  },
  {
   "cell_type": "code",
   "execution_count": null,
   "id": "ae851231",
   "metadata": {},
   "outputs": [],
   "source": [
    "# whichever pdb id is selected in the dropdown cell above will be visualized in this cell\n",
    "# to view a different ligand, select the desired ligand pdb id in the drop down and re-run this cell\n",
    "view = py3Dmol.view()\n",
    "view.removeAllModels()\n",
    "view.setViewStyle({'style':'outline','color':'black','width':0.1})\n",
    "\n",
    "#visualization for ligands\n",
    "try: # try getting ligand as sdf file first\n",
    "    lig_mol2 = requests.get(f'https://files.rcsb.org/ligands/download/{view_ligand.value}_ideal.sdf')\n",
    "    with open(f\"data/test_files/{view_ligand.value}_ligand.sdf\", \"w+\") as file:\n",
    "        file.write(lig_mol2.text)\n",
    "    lig_filename = f\"data/test_files/{view_ligand.value}_ligand.sdf\"\n",
    "except: # if sdf doesn't work, get ligand as cif file\n",
    "    lig_mol2 = requests.get(f'https://files.rcsb.org/ligands/download/{view_ligand.value}.cif')\n",
    "    with open(f\"data/PDB_files/{view_ligand.value}_ligand.cif\", \"w+\") as file:\n",
    "        file.write(lig_mol2.text)\n",
    "    lig_filename = f\"data/PDB_files/{view_ligand.value}_ligand.cif\"\n",
    "    pdb_mol2 = [m for m in pybel.readfile(filename = lig_filename, format='cif')][0]\n",
    "    out_mol2 = pybel.Outputfile(filename = f\"data/test_files/{view_ligand.value}_ligand.sdf\", overwrite = True, format='sdf')\n",
    "    out_mol2.write(pdb_mol2)\n",
    "view.addModel(open('data/test_files/' + str(view_ligand.value) + '_ligand.sdf','r').read(),format='sdf')\n",
    "view.zoomTo()\n",
    "view.show()"
   ]
  },
  {
   "cell_type": "markdown",
   "id": "f4fadb73",
   "metadata": {},
   "source": [
    "Once the ligand or ligands to use have been determined, run the cell below and select all ligands you would like to use in molecular docking."
   ]
  },
  {
   "cell_type": "markdown",
   "id": "e8817bcd",
   "metadata": {},
   "source": [
    "<div class=\"alert alert-block alert-info\">\n",
    "<b>Tip for SelectMultiple Widgets: </b> For cells that use a \"Select Multiple\" widget (like the one below), first execute the cell and then select the desired output/outputs -- in this case, ligands that satisfy the criteria selected. To select multiple ligands using the selection widget, hold down the control key (PC) or command key (Mac) while clicking on the names of each ligand you would like to dock</div>"
   ]
  },
  {
   "cell_type": "code",
   "execution_count": null,
   "id": "34a67d7f",
   "metadata": {},
   "outputs": [],
   "source": [
    "# select ligand of interest using SelectMultiple widget\n",
    "# To select multiple ligands using the selection widget, \n",
    "# hold down the control key (PC) or command key (Mac) \n",
    "# while clicking on the names of each ligand you would like to dock\n",
    "select_ligand = SelectMultiple(options = result_lig_list, description = 'Select Desired Ligand from Dropdown:', style = style)\n",
    "select_ligand"
   ]
  },
  {
   "cell_type": "markdown",
   "id": "6a728085",
   "metadata": {},
   "source": [
    "All ligands selected in the SelectMultiple widget above will be iterated through and downloaded to the data folder in .sdf or .cif format (data/PDB_files/) and in .mol2 format (data/MOL2_files/). The names of each ligand will be added to the lig and filenames lists."
   ]
  },
  {
   "cell_type": "code",
   "execution_count": null,
   "id": "69187889",
   "metadata": {},
   "outputs": [],
   "source": [
    "# create mol2 file for each ligand selected\n",
    "for ligand_id in select_ligand.value:\n",
    "    try: # try getting ligand as sdf file first\n",
    "        lig_mol2 = requests.get(f'https://files.rcsb.org/ligands/download/{ligand_id}_ideal.sdf')\n",
    "        with open(f\"data/PDB_files/{ligand_id}_ligand.sdf\", \"w+\") as file:\n",
    "            file.write(lig_mol2.text)\n",
    "        lig_filename = f\"data/PDB_files/{ligand_id}_ligand.sdf\"\n",
    "        pdb_mol2 = [m for m in pybel.readfile(filename = lig_filename, format='sdf')][0]\n",
    "    except: # if sdf doesn't work, get ligand as cif file\n",
    "        lig_mol2 = requests.get(f'https://files.rcsb.org/ligands/download/{ligand_id}.cif')\n",
    "        with open(f\"data/PDB_files/{ligand_id}_ligand.cif\", \"w+\") as file:\n",
    "            file.write(lig_mol2.text)\n",
    "        lig_filename = f\"data/PDB_files/{ligand_id}_ligand.cif\"\n",
    "        pdb_mol2 = [m for m in pybel.readfile(filename = lig_filename, format='cif')][0]\n",
    "    out_mol2 = pybel.Outputfile(filename = f\"data/MOL2_files/{ligand_id}.mol2\", overwrite = True, format='mol2')\n",
    "    out_mol2.write(pdb_mol2)\n",
    "    ligs.append(ligand_id)\n",
    "    filenames.append(f\"data/MOL2_files/{ligand_id}.mol2\")"
   ]
  },
  {
   "cell_type": "code",
   "execution_count": null,
   "id": "66132bbb",
   "metadata": {},
   "outputs": [],
   "source": [
    "print(ligs)"
   ]
  },
  {
   "cell_type": "markdown",
   "id": "b7fcb4af-cfe9-4ad3-88f4-b3ad7966af34",
   "metadata": {},
   "source": [
    "### Method 2:  Adding ligands from local .mol2 files"
   ]
  },
  {
   "cell_type": "markdown",
   "id": "7e85b962",
   "metadata": {},
   "source": [
    "To dock a ligand that is not present in the imported PDB file, we can upload its mol2 file (which can be obtained on the pdb website) and obtain all the relavent information using ipywidgets. The upload widget will only accept mol2 files; any other file type will result in an error. Multiple files are able to be uploaded at once. To use the uploader, the cell below needs to be run. After running the cell, the upload button will appear, allowing mol2 files to be selected. After uploading the files, the next cell will be ready to be run and will write each uploaded mol2 file into the \"Data\" folder."
   ]
  },
  {
   "cell_type": "code",
   "execution_count": null,
   "id": "d983daca",
   "metadata": {},
   "outputs": [],
   "source": [
    "# create upload widget to allow for uploading of local mol2 files\n",
    "lig_files = []\n",
    "upload = widgets.FileUpload(accept='.mol2', multiple=True)\n",
    "display(upload)"
   ]
  },
  {
   "cell_type": "code",
   "execution_count": null,
   "id": "9100edee",
   "metadata": {},
   "outputs": [],
   "source": [
    "# get information for each uploaded mol2 file\n",
    "for file_num, upload_filename in enumerate(upload.value):\n",
    "    uploaded_file_name = upload_filename['name']\n",
    "    lig_files.append(uploaded_file_name)\n",
    "\n",
    "# write mol2 files into data folder for each ligand \n",
    "for lig_num, name in enumerate(lig_files):\n",
    "    with open(\"data/MOL2_files/\" + str(name), \"wb\") as fp:\n",
    "        fp.write(upload.value[lig_num][\"content\"])\n",
    "    filenames.append(\"data/MOL2_files/\" + str(name))\n",
    "    name_alone = name.split('.')[0]\n",
    "    ligs.append(name_alone)"
   ]
  },
  {
   "cell_type": "code",
   "execution_count": null,
   "id": "a6f2dc58",
   "metadata": {},
   "outputs": [],
   "source": [
    "print(ligs)"
   ]
  },
  {
   "cell_type": "markdown",
   "id": "894c3d75-1bf9-42ea-8ae3-7f462864c37a",
   "metadata": {},
   "source": [
    "### Method 3: Adding ligands using user-input SMILE format"
   ]
  },
  {
   "cell_type": "markdown",
   "id": "af28e4e0",
   "metadata": {},
   "source": [
    "If you are familiar with SMILES format, you can input the SMILES string for the ligand/s in the cell below. Invalid SMILES strings will result in an error. This method is not recommended for those with no experience with SMILES formatting, as a small mistake in the SMILES string can result in the creation of an invalid molecule and can cause issues in the docking process. Up to 20 ligands at a time can currently be generated using SMILES strings depending on the size of the ligands."
   ]
  },
  {
   "cell_type": "code",
   "execution_count": null,
   "id": "fb88411b",
   "metadata": {},
   "outputs": [],
   "source": [
    "# let users select how many ligands to add (up to 20)\n",
    "style = {'description_width': 'initial'}\n",
    "num_of_ligs = Dropdown(options = range(1, 21), description = 'Select number of ligands to input', style = style)\n",
    "num_of_ligs"
   ]
  },
  {
   "cell_type": "markdown",
   "id": "ed1a45fc",
   "metadata": {},
   "source": [
    "To allow for easy creation of ligands, a form will be used that will take in a name for the ligand and the SMILES string for the ligand. It will be oriented so that each row corresponds to one ligand, and the number of rows depends on the number of ligands your selected in the Dropdown widget above. After the form is filled out, do not re-run the cell."
   ]
  },
  {
   "cell_type": "code",
   "execution_count": null,
   "id": "2af36d77",
   "metadata": {},
   "outputs": [],
   "source": [
    "# create form to take name and smiles input\n",
    "names_for_ligs, smiles_for_ligs, form_items1, form_items2 = create_ligands_from_smiles(num_of_ligs)"
   ]
  },
  {
   "cell_type": "code",
   "execution_count": null,
   "id": "e249ec4b",
   "metadata": {},
   "outputs": [],
   "source": [
    "# display form\n",
    "display_smiles_form(num_of_ligs, form_items1, form_items2)"
   ]
  },
  {
   "cell_type": "markdown",
   "id": "bc915d63",
   "metadata": {},
   "source": [
    "The cell below will use the values entered in the form above to create a mol2 file containing all of the ligands generated by SMILES strings, iterating through each entry in the form. "
   ]
  },
  {
   "cell_type": "code",
   "execution_count": null,
   "id": "ad443d2f",
   "metadata": {},
   "outputs": [],
   "source": [
    "cleaned_names = {}\n",
    "cleaned_smiles = {}\n",
    "\n",
    "# because widgets result in names/smiles strings being stored as a text object, retrieve and store form inputs as\n",
    "# strings in new dictionary (cleaned_names, cleaned_smiles)\n",
    "for num, val in enumerate(names_for_ligs):\n",
    "    index = \"name\" + str(num + 1)\n",
    "    cleaned_names[index] = names_for_ligs[val].value\n",
    "for num, val in enumerate(smiles_for_ligs):\n",
    "    index = \"scratch\" + str(num + 1)\n",
    "    cleaned_smiles[index] = smiles_for_ligs[val].value"
   ]
  },
  {
   "cell_type": "code",
   "execution_count": null,
   "id": "0582fcef",
   "metadata": {},
   "outputs": [],
   "source": [
    "# use values in form to create a concatenated mol2 file containing information for each ligand\n",
    "name_vals, scratch_vals = create_mols_from_smiles(num_of_ligs.value, cleaned_names, cleaned_smiles)"
   ]
  },
  {
   "cell_type": "markdown",
   "id": "9083d26b",
   "metadata": {},
   "source": [
    "Using the combined mol2 file generated above, mol2 files for each ligand will be created and stored in the \"data/MOL2_files/\" folder. The name of the ligand that was chosen (via the form above) will be used to name the resulting files."
   ]
  },
  {
   "cell_type": "code",
   "execution_count": null,
   "id": "ba4a3826",
   "metadata": {},
   "outputs": [],
   "source": [
    "# split concatenated mol2 file into separate mol2 files for each ligand\n",
    "smile_lig, smile_filename = separate_mol2_ligs(filename = 'data/MOL2_files/InputMols.mol2', name_vals = name_vals)"
   ]
  },
  {
   "cell_type": "code",
   "execution_count": null,
   "id": "2c42a63f",
   "metadata": {},
   "outputs": [],
   "source": [
    "for num, i in enumerate(smile_lig):\n",
    "    ligs.append(i)\n",
    "    filenames.append(smile_filename)"
   ]
  },
  {
   "cell_type": "code",
   "execution_count": null,
   "id": "dc48088d",
   "metadata": {},
   "outputs": [],
   "source": [
    "print(ligs)"
   ]
  },
  {
   "cell_type": "markdown",
   "id": "93954cf6-a77c-4f36-bfb8-4b9b3217ca13",
   "metadata": {},
   "source": [
    "## Cleaning and Preparing Ligands for Docking"
   ]
  },
  {
   "cell_type": "markdown",
   "id": "7676e36d",
   "metadata": {},
   "source": [
    "Before docking, both the protein receptor and ligand/s need to be sanitized to ensure the shape of the ligand and receptor molecules are valid and to reduce the possibility of biologically irrelevant/unlikely/impossible poses. Sanitizing includes adding the hydrogens that are missing in the PDB/MOL2 files, making sure the charges of the protein are correct, and converting both PDB (protein receptor) and MOL2 (ligand/s) files to PDBQT format (which is necessary for docking using the VINA engine), which stores the hydrogen and charge information for each molecule."
   ]
  },
  {
   "cell_type": "code",
   "execution_count": null,
   "id": "ed7e4a55",
   "metadata": {},
   "outputs": [],
   "source": [
    "# protein sanitization\n",
    "# add hydrogens to protein receptor\n",
    "input_file = f\"data/PDB_files/{pdb_id}_protein.pdb\"\n",
    "pqr_file = f\"data/PDB_files/{pdb_id}_protein.pqr\"\n",
    "output_file = f\"data/PDB_files/{pdb_id}_protein_H.pdb\"\n",
    "\n",
    "! pdb2pqr --pdb-output={output_file} --pH=7.4 --whitespace {input_file} {pqr_file}"
   ]
  },
  {
   "cell_type": "code",
   "execution_count": null,
   "id": "fb4714f2",
   "metadata": {},
   "outputs": [],
   "source": [
    "# protein sanitization\n",
    "# create pdbqt file for receptor\n",
    "try:\n",
    "    to_pdbqt = mda.Universe(pqr_file)\n",
    "    to_pdbqt.atoms.write(f\"data/PDBQT_files/{pdb_id}_protein.pdbqt\")\n",
    "\n",
    "    # remove \"TITLE\" and \"CRYST1\" labels with \"REMARK\" to reduce chance of errors later on\n",
    "    with open(f\"data/PDBQT_files/{pdb_id}_protein.pdbqt\", 'r') as file:\n",
    "        file_content = file.read()\n",
    "    file_content = file_content.replace('TITLE', 'REMARK').replace('CRYST1', 'REMARK')\n",
    "    with open(f\"data/PDBQT_files/{pdb_id}_protein.pdbqt\", 'w') as file:\n",
    "        file.write(file_content)\n",
    "except EOFError as error:\n",
    "    print(f\"Hydrogens unable to be added. Check log output generated by pdb2pqr: data/PDB_files/{pdb_id}_protein.log\")"
   ]
  },
  {
   "cell_type": "markdown",
   "id": "95ccb5cf",
   "metadata": {},
   "source": [
    "The cells below focus on ligand sanitation, creating new MOL2 files that contain the locations of hydrogens in the ligand/s which then get converted into PDBQT files."
   ]
  },
  {
   "cell_type": "code",
   "execution_count": null,
   "id": "182378bd-0085-4ba1-b04c-20bcd2d04637",
   "metadata": {},
   "outputs": [],
   "source": [
    "# ligand sanitization\n",
    "# add hydrogens to ligands\n",
    "filenames_H = []\n",
    "a = 0\n",
    "for i in filenames:\n",
    "    mol= [m for m in pybel.readfile(filename= str(i),format='mol2')][0]\n",
    "    mol.addh()\n",
    "    s = \"data/MOL2_files/\" + str(ligs[a]) + \"_H.mol2\"\n",
    "    filenames_H.append(s)\n",
    "    out = pybel.Outputfile(filename= \"data/MOL2_files/\" + str(ligs[a]) + \"_H.mol2\",format='mol2',overwrite=True)\n",
    "    out.write(mol)\n",
    "    out.close()\n",
    "    a += 1"
   ]
  },
  {
   "cell_type": "code",
   "execution_count": null,
   "id": "09782a13-693f-42dd-9672-737d5457f186",
   "metadata": {},
   "outputs": [],
   "source": [
    "# ligand sanitization\n",
    "# convert to pdbqt\n",
    "n = 0\n",
    "filenames_pdbqt = []\n",
    "for i in filenames:\n",
    "    ligand = [m for m in pybel.readfile(filename= str(i) ,format='mol2')][0]\n",
    "    s = \"data/PDBQT_files/\" + str(ligs[n]) + \"_H.pdbqt\"\n",
    "    filenames_pdbqt.append(s)\n",
    "    ligand.write(filename = s, format='pdbqt', overwrite=True)\n",
    "    n += 1"
   ]
  },
  {
   "cell_type": "markdown",
   "id": "4e265b89",
   "metadata": {},
   "source": [
    "For docking, information about the size and center of the ligand/s is needed to ensure that the entire ligand can be docked to the desired binding pocket. To add a little bit of \"wiggle room\", the lengths of the x, y, and z dimensions are increased by 5 angstroms (if the length is positive, five is added; if the length is negative, five is subtracted)."
   ]
  },
  {
   "cell_type": "code",
   "execution_count": null,
   "id": "602546e1",
   "metadata": {},
   "outputs": [],
   "source": [
    "# get center and size of ligand/s\n",
    "lig_box_c = []\n",
    "lig_box_s = []\n",
    "for h, i in enumerate(filenames_H):\n",
    "    u2 = mda.Universe(i)\n",
    "    ligand_mda = u2.atoms\n",
    "    pocket_center = ligand_mda.center_of_geometry() # get coordinates for center of ligand\n",
    "    pocket_center_list = np.ndarray.tolist(pocket_center)\n",
    "    ligand_box = ligand_mda.positions.max(axis=0) - ligand_mda.positions.min(axis=0) #calculate size of ligand\n",
    "    ligand_box_list = np.ndarray.tolist(ligand_box)\n",
    "    ligand_box_list2 = []\n",
    "    for value in ligand_box_list: # add five angstroms to each value to allow for \"wiggle room\"\n",
    "        if value < 0:\n",
    "            ligand_box_list2.append(float(value - 5))\n",
    "        elif value > 0:\n",
    "            ligand_box_list2.append(float(value + 5))\n",
    "        else:\n",
    "            ligand_box_list2.append(float(0))\n",
    "    lig_box_c.append(pocket_center_list)\n",
    "    lig_box_s.append(ligand_box_list2)"
   ]
  },
  {
   "cell_type": "markdown",
   "id": "d1e51001-5157-4967-a87a-5b5c706d4c6d",
   "metadata": {},
   "source": [
    "## Find possible binding pockets in protein using fpocket"
   ]
  },
  {
   "cell_type": "markdown",
   "id": "92466a68-708d-4861-b296-53049bb70865",
   "metadata": {},
   "source": [
    "fpocket is an algorithm that aids in protein pocket detection and scoring. Based on variables including solvent accessibility, the hydrophobicity of residues, density, flexibility, residue charges, and more (all contributing variables are listed in the table below), the likelihood of a pocket acting as a binding site to a nonspecified ligand is calculated (also known as the druggability score), which helps determine possible docking boxes to be used in ligand docking.\n",
    "\n",
    "Column descriptions for data output (pocket_descriptors.csv):\n",
    "\n",
    "| Descriptor | Role |\n",
    "| :--- | :--- |\n",
    "| drug_score | score ranging from 0 to 1 describing the likelihood of a drug binding to a given pocket, where 0.5 is the threshold where the binding of a drug in the pocket is possible |\n",
    "| volume | pocket volume|\n",
    "|nb_asph| the number of alpha spheres in a pocket, which measures the size of cavity normalized to the largest pocket|\n",
    "|inter_chain | an integer equal to 0 (if the pocket is made of a single chain) or 1 (if the pocket is comprised of 2 chains)|\n",
    "|apol_asph_proportion | proportion of apolar alpha spheres; the percentage of alpha spheres in a pocket that are apolar|\n",
    "|mean_asph_radius| mean alpha sphere radius|\n",
    "|as_density| alpha sphere density of pocket, calculated by taking the mean of all alpha sphere pair-to-pair distances. smaller values indicate a more compact and dense pocket|\n",
    "|mean_asph_solv_acc| mean alpha sphere solvent accessibility|\n",
    "|mean_loc_hyd_dens| mean local hydrophobic density; identification of areas of the binding pocket with localized hydrophobicity. calculated by seeing how many apolar spheres overlap with each other. the sum of all apolar neighbors is divided by the total number of apolar spheres|\n",
    "|flex| flexibility of pocket (b factor)|\n",
    "|hydrophobicity_score| the hydrophobicity score, which is the mean hydrophobicity score of all residues in the pocket|\n",
    "|volume_score| the volume score, which is the mean volume score of all amino acids in contact with at least one alpha sphere of the pocket|\n",
    "|charge_score| the charge score, which is the mean charge for all amino acids in contact with at least one alpha sphere of the pocket|\n",
    "|polarity_score| the polarity score, which is the hydrophilicity of the binding pocket, which is calculated by taking the mean of all polarity scores of all residues in the pocket|\n",
    "|a0_apol | describes apolar Van der Waals surface of pocket|\n",
    "|a0_pol | describes polar Van der Waals surface of pocket|\n",
    "|af_apol | describes apolar Van der Waals surface of pocket|\n",
    "|af_pol | describes polar Van der Waals surface of pocket|\n",
    "|n_abpa| the number of abpas in the binding site |\n",
    "|three-letter amino acid code (i.e. \"ala\")|Absolute amino acid composition of a given pocket, divided into groups by amino acid|\n",
    "|chain_1_type| chain 1 type; an integer equal to 0 (if the pocket is a protein pocket), 1 (if the pocket is a nucleic acid pocket), or 2 (if the pocket is a HETATM pocket)|\n",
    "|chain_2_type| chain 2 type; an integer equal to 0 (if the pocket is a protein pocket), 1 (if the pocket is a nucleic acid pocket), or 2 (if the pocket is a HETATM pocket)|\n",
    "|num_res_chain_1|  the total number of residues in chain 1|\n",
    "|num_res_chain_2| number of residues on chain 2. if the pocket is only made up of one chain, the value of this descriptor is equal to the value of \"num_res_chain_1\"|\n",
    "|lig_het_tag|  HETATM tag of ligands situated in the binding pocket|\n",
    "|name_chain_1|  the name of the first chain in contact with the pocket (denoted using a letter [i.e. \"A\"])|\n",
    "|name_chain_2|  the name of the second chain in contact with the pocket (denoted using a letter [i.e. \"A\"]). if the pocket is only made up of one chain, the value of this descriptor is equal to the value of \"name_chain_1\"|"
   ]
  },
  {
   "cell_type": "code",
   "execution_count": null,
   "id": "4e8d5770-efd2-4b8e-ba75-6353cd156276",
   "metadata": {},
   "outputs": [],
   "source": [
    "#use fpocket to view potential pockets in protein\n",
    "try:\n",
    "    ! fpocket -f {\"data/PDB_files/\"+ str(pdb_id)+\"_protein.pdb\"} -d > {\"data/pocket_descriptors.csv\"}\n",
    "    can_blind_dock = True\n",
    "except:\n",
    "    print(\"Unable to find protein pockets\")\n",
    "    can_blind_dock = False"
   ]
  },
  {
   "cell_type": "code",
   "execution_count": null,
   "id": "143cfeaf-e44f-4a1a-8f30-5a0bf3cab104",
   "metadata": {},
   "outputs": [],
   "source": [
    "if can_blind_dock:\n",
    "    prot_pockets = pd.read_csv('data/pocket_descriptors.csv',sep=' ',index_col=[0])\n",
    "else:\n",
    "    print(\"Cannot determine pockets. Skip to Section 1.7 - View ligands and receptor together prior to docking\")"
   ]
  },
  {
   "cell_type": "code",
   "execution_count": null,
   "id": "28da53f5-154c-42c1-ae0d-7f65d74fcfe7",
   "metadata": {},
   "outputs": [],
   "source": [
    "#get pockets and docking boxes for all pockets in a dataframe\n",
    "if can_blind_dock:\n",
    "    get_prot_pockets_data(current_dir, pdb_id, prot_pockets)\n",
    "    with pd.option_context('display.max_rows', None, 'display.max_columns', None):\n",
    "        display(prot_pockets)\n",
    "else:\n",
    "    print(\"Cannot determine pockets for a non-protein receptor. Skip to Section 1.7 - View ligands and receptor together prior to docking\")"
   ]
  },
  {
   "cell_type": "markdown",
   "id": "9bed0a00",
   "metadata": {},
   "source": [
    "To make docking more efficient, a drugability score cutoff can be implemented, where all pockets with a drugability score greater than the selected value will be added to a new dataframe, which will be used to create the docking boxes for ligands. If the number of posible binding pockets found by fpocket exceeds 25, it is highly recommended that the cells below are run and a cutoff implemented."
   ]
  },
  {
   "cell_type": "code",
   "execution_count": null,
   "id": "2aab05eb",
   "metadata": {},
   "outputs": [],
   "source": [
    "if can_blind_dock:\n",
    "    value = [round(x * 0.05, 2) for x in range(20)]\n",
    "    value = value[1:]\n",
    "    cutoff_score = Dropdown(options = value, description = 'Select Cutoff Druggability Score:', style = style)\n",
    "    display(cutoff_score)\n",
    "else:\n",
    "    print(\"Cannot determine pockets for a non-protein receptor. Skip to Section 1.7 - View ligands and receptor together prior to docking\")"
   ]
  },
  {
   "cell_type": "code",
   "execution_count": null,
   "id": "e7c280a8",
   "metadata": {},
   "outputs": [],
   "source": [
    "if can_blind_dock:\n",
    "    prot_pockets = prot_pockets[prot_pockets['drug_score'] >= float(cutoff_score.value)]\n",
    "    display(prot_pockets)\n",
    "else:\n",
    "    print(\"Cannot determine pockets for a non-protein receptor. Skip to Section 1.7 - View ligands and receptor together prior to docking\")"
   ]
  },
  {
   "cell_type": "markdown",
   "id": "d8877c71",
   "metadata": {},
   "source": [
    "Regardless if a druggability cutoff is used, the cell below exports the dataframe as a .csv file, as the pockets and their properties need to be accessed by future notebooks. "
   ]
  },
  {
   "cell_type": "code",
   "execution_count": null,
   "id": "ca4ad668-befd-4936-a300-d95a5823ce96",
   "metadata": {},
   "outputs": [],
   "source": [
    "if can_blind_dock:\n",
    "    prot_pockets.to_csv(f\"data/protein_pockets_id_{pdb_id}.csv\")\n",
    "else:\n",
    "    print(\"Cannot determine pockets for a non-protein receptor. Skip to Section 1.7 - View ligands and receptor together prior to docking\")"
   ]
  },
  {
   "cell_type": "markdown",
   "id": "8b348c27-3f1e-4adb-8654-93c26377aed2",
   "metadata": {},
   "source": [
    "## View ligands and receptor together prior to docking"
   ]
  },
  {
   "cell_type": "markdown",
   "id": "99cdae85",
   "metadata": {},
   "source": [
    "While viewing the ligand/s and receptor is not required, being able to see what the molecules look like as well as being able to see the possible binding pockes on the receptor does help (continue). There are a few different methods this notebook will use to visualize the ligands/proteins to be used in docking. <br>\n",
    "The first method this notebook will be using is rdkit's Draw module, which takes rdkit molecules and displays a static image of them. This method is easy to implement and only takes one line of code (assuming a list of rdkit Molecules already exists).<br> \n",
    "The second method that will be used is py3Dmol, which requires more code to implement but allows for the user to move and rotate the molecule/s and allows for larger molecules (including proteins) to be viewed."
   ]
  },
  {
   "cell_type": "code",
   "execution_count": null,
   "id": "a413a11c-e59e-415e-8e0e-ad16e5fbc27f",
   "metadata": {},
   "outputs": [],
   "source": [
    "# create list of rdkit molecules\n",
    "mols = []\n",
    "ligand_smiles = []\n",
    "for i in ligs:\n",
    "    mol = Chem.MolFromMol2File(\"data/MOL2_files/\" + str(i) + \"_H.mol2\",sanitize=False)\n",
    "    select_mol_smile = Chem.MolToSmiles(mol)\n",
    "    print(select_mol_smile)\n",
    "    ligand_smiles.append(select_mol_smile)\n",
    "    mols.append(mol)\n",
    "\n",
    "# view ligands\n",
    "Draw.MolsToGridImage(mols, molsPerRow=5, subImgSize=(300,300))"
   ]
  },
  {
   "cell_type": "markdown",
   "id": "69074738",
   "metadata": {},
   "source": [
    "Below is code to create the py3Dmol viewer, which consists of three different views. They are as follows:\n",
    "1. a viewer containing the ligand/s and the receptor, in which the space filling model (surface) of the receptor is present\n",
    "2. a viewer containing the ligand/s and the receptor, with the addition of transparent boxes around each ligand demonstrating the size and center of the ligand docking boxes. The colors of the ligand boxes differ for clarity's sake, but are otherwise meaningless\n",
    "3. a viewer containing the ligand/s and the receptor, with the addition of the binding pockets found by fpocket. The colors of the binding pockets differ for clarity's sake, but are otherwise meaningless"
   ]
  },
  {
   "cell_type": "markdown",
   "id": "ad0d82cd",
   "metadata": {},
   "source": [
    "### View 1:  ligand/s and the space filling model (surface) of the receptor"
   ]
  },
  {
   "cell_type": "code",
   "execution_count": null,
   "id": "12352931-c29d-4f11-99bd-4420cb599dd4",
   "metadata": {
    "scrolled": true
   },
   "outputs": [],
   "source": [
    "view = py3Dmol.view()\n",
    "view.removeAllModels()\n",
    "view.setViewStyle({'style':'outline','color':'black','width':0.1})\n",
    "\n",
    "# add models to viewers\n",
    "view.addModel(open(f'data/PDB_files/{pdb_id}_protein.pdb','r').read(),format='pdb')\n",
    "Prot=view.getModel()\n",
    "Prot.setStyle({'cartoon':{'arrows':True, 'tubes':True, 'style':'oval', 'color':'white'}})\n",
    " \n",
    "# add ligand/s to all py3Dmol viewers\n",
    "for i in filenames_H:\n",
    "    view.addModel(open(i,'r').read(),format='mol2')\n",
    "    ref_m = view.getModel()\n",
    "    ref_m.setStyle({},{'stick':{'colorscheme':'greenCarbon','radius':0.2}})\n",
    "            \n",
    "view.addSurface(py3Dmol.VDW,{'opacity':0.6,'color':'white'})\n",
    "\n",
    "\n",
    "view.zoomTo()\n",
    "view.show()"
   ]
  },
  {
   "cell_type": "markdown",
   "id": "42d4e84e",
   "metadata": {},
   "source": [
    "### View 2: receptor and ligand/s with ligand docking boxes."
   ]
  },
  {
   "cell_type": "code",
   "execution_count": null,
   "id": "6ff0968b",
   "metadata": {},
   "outputs": [],
   "source": [
    "view = py3Dmol.view()\n",
    "view.removeAllModels()\n",
    "view.setViewStyle({'style':'outline','color':'black','width':0.1})\n",
    "\n",
    "# add receptor (protein) model to py3Dmol viewer\n",
    "view.addModel(open(f'data/PDB_files/{pdb_id}_protein.pdb','r').read(),format='pdb')\n",
    "Prot=view.getModel()\n",
    "Prot.setStyle({'cartoon':{'arrows':True, 'tubes':True, 'style':'oval', 'color':'white'}})\n",
    "\n",
    "#visualization for ligands and docking boxes for each ligand\n",
    "for i in filenames_H:\n",
    "    view.addModel(open(i,'r').read(),format='mol2')\n",
    "    ref_m = view.getModel()\n",
    "    ref_m.setStyle({},{'stick':{'colorscheme':'greenCarbon','radius':0.2}})\n",
    "    \n",
    "colors = ['red', 'orange', 'yellow', 'green', 'blue', 'purple', 'magenta']\n",
    "a = 0\n",
    "for j, i in enumerate(filenames_H):\n",
    "    view.addBox({\"center\": dict(x = lig_box_c[j][0], y = lig_box_c[j][1], z= lig_box_c[j][2]), \"dimensions\": dict(d = abs(lig_box_s[j][0]), h = abs(lig_box_s[j][1]), w = abs(lig_box_s[j][2])), \"color\" : colors[a], \"opacity\" : 0.5})\n",
    "    a += 1\n",
    "    if a > 6:\n",
    "        a = 0\n",
    "\n",
    "view.zoomTo()\n",
    "view.show()"
   ]
  },
  {
   "cell_type": "markdown",
   "id": "ccbd7ffe",
   "metadata": {},
   "source": [
    "### View 3: receptor and ligand/s with protein binding pockets"
   ]
  },
  {
   "cell_type": "markdown",
   "id": "e4442d39",
   "metadata": {},
   "source": [
    "To avoid parsing through every binding pocket file only to visualize a portion of them, a list containing all of the pqr file paths for binding pockets with a druggability score greater than the selected cutoff will be created. The pqr file format includes charge and radius field information for each atom in a binding pocket in addition to information recorded in pdb files."
   ]
  },
  {
   "cell_type": "code",
   "execution_count": null,
   "id": "d3af3e5c",
   "metadata": {},
   "outputs": [],
   "source": [
    "if can_blind_dock:\n",
    "    revised_files = []\n",
    "    pocketPath = os.path.join(current_dir, \"data\", \"PDB_files\", str(pdb_id) + \"_protein_out\", \"*.pqr\")\n",
    "    pocketFiles = glob.glob(pocketPath)\n",
    "    for file in pocketFiles:\n",
    "        split_1 = file.split(\"/\")[-1]\n",
    "        split_2 = split_1.split(\"_\")[0]\n",
    "        index_num = re.findall(r'\\d+', split_2)\n",
    "        index_num2 = ''.join(str(x) for x in index_num)\n",
    "        if int(index_num2) in prot_pockets.index:\n",
    "            revised_files.append(file)"
   ]
  },
  {
   "cell_type": "code",
   "execution_count": null,
   "id": "49dada9d",
   "metadata": {},
   "outputs": [],
   "source": [
    "view = py3Dmol.view()\n",
    "view.removeAllModels()\n",
    "view.setViewStyle({'style':'outline','color':'black','width':0.1})\n",
    "\n",
    "# add receptor (protein) model to py3Dmol viewer\n",
    "if can_blind_dock:\n",
    "    view.addModel(open(f'data/PDB_files/{pdb_id}_protein.pdb','r').read(),format='pdb')\n",
    "    Prot=view.getModel()\n",
    "    Prot.setStyle({'cartoon':{'arrows':True, 'tubes':True, 'style':'oval', 'color':'white'}})\n",
    "\n",
    "    #visualization ligands\n",
    "    colors = ['red', 'orange', 'yellow', 'green', 'blue', 'purple', 'magenta']\n",
    "    for h, i in enumerate(filenames_H):\n",
    "        # add ligand/s to all py3Dmol viewers\n",
    "        view.addModel(open(i,'r').read(),format='mol2')\n",
    "        ref_m = view.getModel()\n",
    "        ref_m.setStyle({},{'stick':{'colorscheme':'greenCarbon','radius':0.2}})\n",
    "\n",
    "    a = 0\n",
    "    for file in revised_files:\n",
    "        view.addModel(open(file,'r').read(),format = 'pqr')\n",
    "        pockets = view.getModel()\n",
    "        pockets.setStyle({},{'sphere':{'color':colors[a],'opacity':0.5}}) \n",
    "        a += 1\n",
    "        if a > 6:\n",
    "            a = 0\n",
    "\n",
    "    view.zoomTo()\n",
    "    view.show()"
   ]
  },
  {
   "cell_type": "markdown",
   "id": "1414372f-7997-4c0e-94fd-bdd408405d7e",
   "metadata": {},
   "source": [
    "## Saving results for further use and cleaning up"
   ]
  },
  {
   "cell_type": "markdown",
   "id": "7c0c23bb",
   "metadata": {},
   "source": [
    "To use the data collected in this notebook for the next notebook in this series (Docking and Preliminary Analysis), a .csv file containing ligand filenames and ligand box sizes and centers will be created, allowing for the variables to be easily imported and used."
   ]
  },
  {
   "cell_type": "code",
   "execution_count": null,
   "id": "fd00918f-cd34-42ec-ad1e-cd70ffcaa565",
   "metadata": {},
   "outputs": [],
   "source": [
    "center_x = []\n",
    "center_y = []\n",
    "center_z = []\n",
    "size_x = []\n",
    "size_y = []\n",
    "size_z = []\n",
    "for h, i in enumerate(ligs):\n",
    "    center_x.append(lig_box_c[h][0])\n",
    "    center_y.append(lig_box_c[h][1])\n",
    "    center_z.append(lig_box_c[h][2])\n",
    "    size_x.append(lig_box_s[h][0])\n",
    "    size_y.append(lig_box_s[h][1])\n",
    "    size_z.append(lig_box_s[h][2])\n",
    "ligand_information = pd.DataFrame({\"pdb_id\": pdb_id,\n",
    "                                   \"ligs\": ligs,\n",
    "                                   \"filenames\": filenames,\n",
    "                                   \"filenames_H\": filenames_H,\n",
    "                                   \"filenames_pdbqt\": filenames_pdbqt,\n",
    "                                   \"center_x\": center_x,\n",
    "                                   \"center_y\": center_y,\n",
    "                                   \"center_z\": center_z,\n",
    "                                   \"size_x\": size_x,\n",
    "                                   \"size_y\": size_y,\n",
    "                                   \"size_z\": size_z\n",
    "                                  })\n",
    "\n",
    "ligand_smiles_data = pd.DataFrame({\"filename_hydrogens\": filenames_H,\n",
    "                                   \"smiles\": ligand_smiles})\n",
    "\n",
    "ligand_information.to_csv(f'data/ligand_information_id_{pdb_id}_{str(len(ligs))}.csv', index = True)\n",
    "ligand_smiles_data.to_csv(f'data/ligand_smiles_data_id_{pdb_id}_{str(len(ligs))}.csv', index = False)"
   ]
  },
  {
   "cell_type": "markdown",
   "id": "7504612a",
   "metadata": {},
   "source": [
    "At this point, you may have some files in the \"data/test_files/\" folder that you no longer need. You can remove these files manually using your computers directory, or you can run the next two cells to delete them. The first cell outputs the names of every file within the folder: __please make sure you no longer need any of the files listed before running the second cell__. The files will be permanently removed from your computer."
   ]
  },
  {
   "cell_type": "code",
   "execution_count": null,
   "id": "d304c1c8",
   "metadata": {},
   "outputs": [],
   "source": [
    "testing_data = os.path.join('data', 'test_files', '*')\n",
    "testing_files = glob.glob(testing_data)\n",
    "testing_files"
   ]
  },
  {
   "cell_type": "code",
   "execution_count": null,
   "id": "e3000a41",
   "metadata": {},
   "outputs": [],
   "source": [
    "for file in testing_files:\n",
    "    ! rm {file}"
   ]
  },
  {
   "cell_type": "code",
   "execution_count": null,
   "id": "0cf641a4",
   "metadata": {},
   "outputs": [],
   "source": []
  }
 ],
 "metadata": {
  "kernelspec": {
   "display_name": "Python 3 (ipykernel)",
   "language": "python",
   "name": "python3"
  },
  "language_info": {
   "codemirror_mode": {
    "name": "ipython",
    "version": 3
   },
   "file_extension": ".py",
   "mimetype": "text/x-python",
   "name": "python",
   "nbconvert_exporter": "python",
   "pygments_lexer": "ipython3",
   "version": "3.12.4"
  },
  "toc": {
   "base_numbering": 1,
   "nav_menu": {},
   "number_sections": true,
   "sideBar": true,
   "skip_h1_title": false,
   "title_cell": "Table of Contents",
   "title_sidebar": "Contents",
   "toc_cell": false,
   "toc_position": {},
   "toc_section_display": true,
   "toc_window_display": false
  }
 },
 "nbformat": 4,
 "nbformat_minor": 5
}
