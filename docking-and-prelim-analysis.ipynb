{
 "cells": [
  {
   "cell_type": "markdown",
   "id": "5b15646e-72dd-48b6-ab6d-a98bfbd56cd1",
   "metadata": {},
   "source": [
    "# Basil Docking V0.1 - Docking and Preliminary Analysis\n",
    "## Purpose\n",
    "\n",
    "__Target Audience__<br>\n",
    "Undergraduate chemistry/biochemistry students and, in general, people that have little to no knowledge of protein-ligand docking and would like to understand the general process of docking a ligand to a protein receptor.\n",
    "\n",
    "__Brief Overview__<br>\n",
    "Molecular docking is a computational method used to predict where molecules are able to bind to a protein receptor and what interactions exist between the molecule (from now on, refered to as \"ligand\") and the receptor. It is a popular technique utilized in drug discovery and design, as when creating new drugs and testing existing drugs aginst new receptors, it is useful to determine the likelihood of binding prior to screening as it can be used to eliminate molecules that are unlikely to bind to the receptor. This significantly reduces the potential cost and time needed to test the efficacy of a set of possible ligands. <br>\n",
    "\n",
    "The general steps to perform molecular docking, assuming the ligand and receptor are ready to be docked, include the generation of potential ligand binding poses and the scoring of each generated pose (which predicts how strongly the ligand binds to the receptor, with a more negative score corresponding to a stronger bond). To dock a ligand to a protein, (insert text).<br>\n",
    "\n",
    "This notebook series encompasses \n",
    "1. The preparation needed prior to docking (protein and ligand sanitation, ensuring files are in readable formats, and finding possible binding pockets)\n",
    "2. __The process of docking ligand/s to a protein receptor using two docking engines (VINA and SMINA) and visualizing/analyzing the outputs__\n",
    "3. Further data collection and manipulation\n",
    "4. Utilizing machine learning to determine key residues (on the protein) and functional groups (on the ligand) responsible for protein-ligand binding\n",
    "\n",
    "__Stepwise summary for this notebook (docking and preliminary analysis, notebook 2 out of 4)__\n",
    "- Get docking box sizes from docking-prep notebook\n",
    "- Dock ligand to protein using either VINA or SMINA\n",
    "- Visualize different poses of ligands docked to protein\n",
    "- Visualize protein-ligand interactions of poses\n",
    "\n",
    "The methods utilized by this notebook are based off of Angel J. Ruiz-Moreno's Jupyter-Dock notebooks, which can be found on their GitHub account AngelRuizMoreno\n",
    "\n",
    "Ruiz-Moreno A.J. Jupyter Dock: Molecular Docking integrated in Jupyter Notebooks. https://doi.org/10.5281/zenodo.5514956"
   ]
  },
  {
   "cell_type": "markdown",
   "id": "33404172-d119-4364-8f44-808a1d703b95",
   "metadata": {},
   "source": [
    "## Table of Libraries Used\n",
    "### Operations, variable creation, and variable manipulation\n",
    "\n",
    "| Module (Submodule/s)| Abbreviation | Role | Citation |\n",
    "| :--- | :--- | :--- | :---|\n",
    "| numpy | np | perform mathematical operations and fix NaN values in dataframe outputs | Harris, C.R., Millman, K.J., van der Walt, S.J. et al. Array programming with NumPy. Nature 585, 357–362 (2020). DOI: 10.1038/s41586-020-2649-2. (Publisher link). |\n",
    "| pandas | pd | organize data in an easy-to-read format and allow for the exporting of data as a .csv file | The pandas development team. (2024). pandas-dev/pandas: Pandas (v2.2.3). Zenodo. https://doi.org/10.5281/zenodo.13819579 |\n",
    "| re |n/a| regular expression; find and pull specific strings of characters depending on need, allow for easy naming and variable creation | Van Rossum, G. (2020). The Python Library Reference, release 3.8.2. Python Software Foundation. |\n",
    "| os | n/a| allow for interaction with computer operating system, including the reading and writing of files |  Van Rossum, G. (2020). The Python Library Reference, release 3.8.2. Python Software Foundation. |\n",
    "| sys |n/a| manipulate python runtime environment |  Van Rossum, G. (2020). The Python Library Reference, release 3.8.2. Python Software Foundation.|\n",
    "| glob |n/a| pull files of interest, specifically for blind docking |  Van Rossum, G. (2020). The Python Library Reference, release 3.8.2. Python Software Foundation. |\n",
    "| warnings | n/a | filter warnings | Van Rossum, G. (2020). The Python Library Reference, release 3.8.2. Python Software Foundation. |\n",
    "\n",
    "### Visualization\n",
    "| Module (Submodule/s)| Abbreviation | Role | Citation |\n",
    "| :--- | :--- | :--- | :--- |\n",
    "| py3Dmol | n/a | apoprotein and protein complex visualization |  Keshavan Seshadri, Peng Liu, and David Ryan Koes. Journal of Chemical Education 2020 97 (10), 3872-3876. https://doi.org/10.1021/acs.jchemed.0c00579. |\n",
    "\n",
    "### Docking\n",
    "| Module (Submodule/s)| Abbreviation | Role | Citation |\n",
    "| :--- | :--- | :--- | :--- |\n",
    "| vina | n/a | ligand-protein docking |  Eberhardt, J., Santos-Martins, D., Tillack, A.F., Forli, S. (2021). AutoDock Vina 1.2.0: New Docking Methods, Expanded Force Field, and Python Bindings. Journal of Chemical Information and Modeling. |\n",
    "| --- | --- | --- | Trott, O., & Olson, A. J. (2010). AutoDock Vina: improving the speed and accuracy of docking with a new scoring function, efficient optimization, and multithreading. Journal of computational chemistry, 31(2), 455-461. |\n",
    "| smina | n/a | ligand-protein docking |  Koes, D. R., Baumgartner, M. P., & Camacho, C. J. (2013). Lessons learned in empirical scoring with smina from the CSAR 2011 benchmarking exercise. Journal of chemical information and modeling, 53(8), 1893–1904. https://doi.org/10.1021/ci300604z |\n",
    "| fpocket | n/a | find possible binding pockets in protein receptors | Le Guilloux, V., Schmidtke, P. & Tuffery, P. Fpocket: An open source platform for ligand pocket detection. BMC Bioinformatics 10, 168 (2009). https://doi.org/10.1186/1471-2105-10-168. |\n",
    "|pdbqt_to_sdf | n/a | create sdf files from pdbqt files created from docking with vina | Ruiz-Moreno A.J. Jupyter Dock: Molecular Docking integrated in Jupyter Notebooks. https://doi.org/10.5281/zenodo.5514956 |\n",
    "\n",
    "### Data analysis\n",
    "| Module (Submodule/s)| Abbreviation | Role | Citation |\n",
    "| :--- | :--- | :--- | :--- |\n",
    "| rdkit (Chem)| n/a | reorder/retrieve ligand atoms, retrieve information from ligand sdf files for visualization and comparison  |  RDKit: Open-source cheminformatics; http://www.rdkit.org |\n",
    "| MDAnalysis (PDB)| mda | allow for the selection of atoms for separating protein from ligands and ligands from each other | R. J. Gowers, M. Linke, J. Barnoud, T. J. E. Reddy, M. N. Melo, S. L. Seyler, D. L. Dotson, J. Domanski, S. Buchoux, I. M. Kenney, and O. Beckstein. MDAnalysis: A Python package for the rapid analysis of molecular dynamics simulations. In S. Benthall and S. Rostrup, editors, Proceedings of the 15th Python in Science Conference, pages 98-105, Austin, TX, 2016. SciPy, doi:10.25080/majora-629e541a-00e. |\n",
    "| --- | --- | --- | N. Michaud-Agrawal, E. J. Denning, T. B. Woolf, and O. Beckstein. MDAnalysis: A Toolkit for the Analysis of Molecular Dynamics Simulations. J. Comput. Chem. 32 (2011), 2319-2327, doi:10.1002/jcc.21787. PMCID:PMC3144279. |\n",
    "| prolif (Complex3D)| plf | calculate, record, and view protein-ligand interactions |  chemosim-lab/ProLIF: v0.3.3 - 2021-06-11.https://doi.org/10.5281/zenodo.4386984. |\n",
    "\n",
    "### UI\n",
    "| Module (Submodule/s)| Abbreviation | Role | Citation |\n",
    "| :--- | :--- | :--- | :--- |\n",
    "| IPython (ipywidgets)| n/a | allow for widgets to be implemented | Fernando Pérez, Brian E. Granger, IPython: A System for Interactive Scientific Computing, Computing in Science and Engineering, vol. 9, no. 3, pp. 21-29, May/June 2007, doi:10.1109/MCSE.2007.53. URL: https://ipython.org |\n",
    "| ipywidgets (Layout, Label, Dropdown, Box)| widgets | create dropdowns for docking engine, pocket number, ligand, and pose selection | Fernando Pérez, Brian E. Granger, IPython: A System for Interactive Scientific Computing, Computing in Science and Engineering, vol. 9, no. 3, pp. 21-29, May/June 2007, doi:10.1109/MCSE.2007.53. URL: https://ipython.org |"
   ]
  },
  {
   "cell_type": "code",
   "execution_count": 95,
   "id": "c5a96bde-11e2-4d91-8ad8-6cad43704c9a",
   "metadata": {},
   "outputs": [],
   "source": [
    "import numpy as np\n",
    "import pandas as pd\n",
    "import numbers\n",
    "import re\n",
    "import sys, os\n",
    "import glob\n",
    "sys.path.insert(1, 'utilities/')\n",
    "from utils import pdbqt_to_sdf\n",
    "\n",
    "import py3Dmol\n",
    "import ipywidgets as widgets\n",
    "from ipywidgets import Layout, Label, Dropdown, Box, HBox, SelectMultiple\n",
    "\n",
    "from vina import Vina\n",
    "\n",
    "from openbabel import pybel\n",
    "from rdkit import Chem\n",
    "import MDAnalysis as mda \n",
    "from MDAnalysis.coordinates import PDB\n",
    "import prolif as plf\n",
    "from prolif.plotting.complex3d import Complex3D\n",
    "\n",
    "sys.path.insert(1, 'utilities/ligandsplitter/ligandsplitter')\n",
    "from ligandanalysis import get_vars, group_idxes_from_mol\n",
    "\n",
    "import warnings\n",
    "warnings.filterwarnings(\"ignore\")\n",
    "warnings.simplefilter(action='ignore', category=pd.errors.PerformanceWarning)"
   ]
  },
  {
   "cell_type": "markdown",
   "id": "823d8be5-c088-4c6b-88ee-b193b1e71657",
   "metadata": {},
   "source": [
    "## Import values from docking-prep"
   ]
  },
  {
   "cell_type": "markdown",
   "id": "e612c7ad",
   "metadata": {},
   "source": [
    "Prior to docking, the data obtained from the previous notebook needs to be imported in order to be used. The glob library gets the pdb file containing the receptor, and the ligand information is obtained from the ligand_information.csv file created at the end of the previous notebook. The protein pocket information generated from fpocket is imported from the prot_pockets.csv file."
   ]
  },
  {
   "cell_type": "code",
   "execution_count": 48,
   "id": "53d1444d-c773-43fa-832b-23a02a19170e",
   "metadata": {},
   "outputs": [],
   "source": [
    "prot_pockets = pd.read_csv('data/protein_pockets.csv',index_col=[0])\n",
    "ligand_information = pd.read_csv('data/ligand_information.csv')\n",
    "\n",
    "pdb_id = ligand_information[\"pdb_id\"][0]"
   ]
  },
  {
   "cell_type": "code",
   "execution_count": 18,
   "id": "a0f5ee3a-4dce-4ac4-9fc5-b582ec3c2785",
   "metadata": {},
   "outputs": [],
   "source": [
    "ligs = []\n",
    "filenames = []\n",
    "filenames_H = []\n",
    "filenames_pdbqt = []\n",
    "center = []\n",
    "size = []\n",
    "for r in ligand_information.index:\n",
    "    ligs.append(ligand_information[\"ligs\"][r])\n",
    "    filenames.append(ligand_information[\"filenames\"][r])\n",
    "    filenames_H.append(ligand_information[\"filenames_H\"][r])\n",
    "    filenames_pdbqt.append(ligand_information[\"filenames_pdbqt\"][r])\n",
    "    temp = [float(ligand_information[\"center_x\"][r]), float(ligand_information[\"center_y\"][r]), float(ligand_information[\"center_z\"][r])]\n",
    "    center.append(temp)\n",
    "    temp1 = [float(ligand_information[\"size_x\"][r]), float(ligand_information[\"size_y\"][r]), float(ligand_information[\"size_z\"][r])]\n",
    "    size.append(temp1)"
   ]
  },
  {
   "cell_type": "markdown",
   "id": "b8e71e39-9a2c-4d76-9a9f-cd506e5a7c78",
   "metadata": {},
   "source": [
    "## Docking"
   ]
  },
  {
   "cell_type": "markdown",
   "id": "38ea86fb",
   "metadata": {},
   "source": [
    "This notebook utilizes two docking engines for molecular docking: VINA and SMINA. VINA is one of many docking engines available in AutoDock Suite, and is widely used due to its relatively quick docking speed and easy-to-use interface compared to the other docking engines in the suite. SMINA is a fork of VINA, and allows for the modification of scoring terms by users and also adds other functions that make the engine more convenient (allowing multi-ligand files such as .sdf files, improving minimization algorithms, adding additional term types, and allowing for multiple ligand molecular formats). "
   ]
  },
  {
   "cell_type": "markdown",
   "id": "d4edcedc",
   "metadata": {},
   "source": [
    "<div class=\"alert alert-block alert-info\">\n",
    "<b>Please note:</b> \n",
    "VINA only has force field parameters for atoms of the following elements\n",
    "<ul> <li>hydrogen</li> <li>carbon</li> <li>oxygen</li> <li>nitrogen</li> <li>phosphorous</li> <li>sulfur</li> <li>calcium</li> <li>maganese</li> <li>iron</li> <li>zinc</li> <li>halogens (fluorine, chlorine, bromine, iodine)</li> </ul>\n",
    "For ligands containing atoms that are not listed above, it is recommended that users either 1) select all ligands other than those containing atoms that are not supported using the selection widget below or 2) only use SMINA as the docking engine. Trying to dock a ligand with an unsupported ligand using VINA will result in an error.\n",
    "\n",
    "To select multiple ligands using the selection widget, hold down the control key (PC) or command key (Mac) while clicking on the names of each ligand you would like to dock\n",
    "</div>"
   ]
  },
  {
   "cell_type": "code",
   "execution_count": 19,
   "id": "4fc844e7",
   "metadata": {},
   "outputs": [
    {
     "data": {
      "application/vnd.jupyter.widget-view+json": {
       "model_id": "f8541485b69f4b1ea8eceb7f31fccfa4",
       "version_major": 2,
       "version_minor": 0
      },
      "text/plain": [
       "SelectMultiple(description='Select Ligand/s to Dock:', options=('SIN1', 'FSN501'), style=DescriptionStyle(desc…"
      ]
     },
     "execution_count": 19,
     "metadata": {},
     "output_type": "execute_result"
    }
   ],
   "source": [
    "style = {'description_width': 'initial'}\n",
    "select_ligs = SelectMultiple(options = ligs, description = 'Select Ligand/s to Dock:', style = style)\n",
    "select_ligs"
   ]
  },
  {
   "cell_type": "markdown",
   "id": "1bca9219",
   "metadata": {},
   "source": [
    "Ligand docking can either be site-specific or blind. Site-specific docking uses a location of the receptor where we know the ligand binds, and uses the center and size of the ligand as determined in docking_prep. Blind docking attempts to bind the ligand in multiple potential pockets in the protein (determined using fpocket in docking_prep) and requires more computational energy to perform. The option selected in the dropbox below will determine the method used in this notebook."
   ]
  },
  {
   "cell_type": "code",
   "execution_count": 20,
   "id": "15a3cc4e",
   "metadata": {},
   "outputs": [
    {
     "data": {
      "application/vnd.jupyter.widget-view+json": {
       "model_id": "0e952709c59e45bebbbc184d7dbef170",
       "version_major": 2,
       "version_minor": 0
      },
      "text/plain": [
       "Dropdown(description='Select Docking Type:', options=('Site-specific docking', 'Blind docking'), style=Descrip…"
      ]
     },
     "execution_count": 20,
     "metadata": {},
     "output_type": "execute_result"
    }
   ],
   "source": [
    "style = {'description_width': 'initial'}\n",
    "select_type = Dropdown(options = [\"Site-specific docking\",\"Blind docking\"], description = 'Select Docking Type:', style = style)\n",
    "select_type"
   ]
  },
  {
   "cell_type": "markdown",
   "id": "126a57d9-40ba-48c1-b6e9-b8e22e6c908d",
   "metadata": {},
   "source": [
    "### Docking using VINA"
   ]
  },
  {
   "cell_type": "markdown",
   "id": "7151d7bd",
   "metadata": {},
   "source": [
    "Below is a step-by-step (cell-by-cell) guide on how the VINA docking engine is used to generate poses and scores for each pocket and ligand\n",
    "- Prior to docking, two new folders are created in the data folder to organize the output data (vina_out and vina_out_2). \n",
    "- Using the information collected in the docking-prep notebook, each pocket's center values and size values are added to their respective lists, which are called pocket_center and pocket_size. In both lists, each instance is a list of the x, y, and z values corresponding to one pocket's data (as a result, pocket_center and pocket_size are nested lists, and the length of both lists is equal to the number of binding pockets)\n",
    "    - For example, pocket_center may look like this: [[x1, y1, z1][x2, y2, z2][x3, y3, z3]]\n",
    "- Using the pocket size and center lists and the pdbqt files for the receptor and desired ligand, ligand poses are generated for each binding pocket (the number of poses depends on the value of n_poses, which is set to 5 in this notebook). The amount of computational effort needed to generate the poses for a given pocket and ligand is called the exhaustiveness. As exhaustiveness increases, the more reproducible the results tend to be. While the default value of exhaustiveness is 8, this notebook uses an exhaustiveness of 5 due to memory limitations.\n",
    "- The results of running the VINA docking engine are stored as pdbqt files and can be located in the vina_out folder. In order to analyze and vizualize the results, the pdbqt files are converted into sdf files using the function pdbqt_to_sdf (created by Angel Ruiz-Moreno), which can be found in the vina_out_2 folder. The names of each file follows the formula of `(ligand name)_vina_pocket_(pocket number).pdbqt` for the pdbqt files and `(ligand name)_pocket_(pocket number)_(name of folder).sdf` for the sdf files."
   ]
  },
  {
   "cell_type": "code",
   "execution_count": 21,
   "id": "66bded5b-1591-4b56-8659-36ddb5dea0db",
   "metadata": {},
   "outputs": [
    {
     "name": "stdout",
     "output_type": "stream",
     "text": [
      "[Errno 17] File exists: '/Users/leesch/Desktop/BASIL/data/vina_out'\n",
      "[Errno 17] File exists: '/Users/leesch/Desktop/BASIL/data/vina_out_2'\n"
     ]
    }
   ],
   "source": [
    "# Create paths for vina output files\n",
    "current_dir = os.getcwd()\n",
    "dataPath = os.path.join(current_dir, \"data\")\n",
    "\n",
    "# create vina_out file path/dir, return error if exists\n",
    "vina_out = os.path.join(dataPath, \"vina_out\")\n",
    "try:\n",
    "    os.mkdir(vina_out)\n",
    "except OSError as error:\n",
    "    print(error)\n",
    "\n",
    "# create vina_out_2 file path/dir, return error if exists\n",
    "vina_out_2 = os.path.join(dataPath, \"vina_out_2\")\n",
    "try:\n",
    "    os.mkdir(vina_out_2)\n",
    "except OSError as error:\n",
    "    print(error)"
   ]
  },
  {
   "cell_type": "code",
   "execution_count": 49,
   "id": "0a36228b",
   "metadata": {},
   "outputs": [],
   "source": [
    "pocket_center = []\n",
    "pocket_size = []\n",
    "for i in select_ligs.value:\n",
    "    for pocket in prot_pockets.index:\n",
    "        c_x = prot_pockets.loc[pocket,'center_x']\n",
    "        c_y = prot_pockets.loc[pocket,'center_y']\n",
    "        c_z = prot_pockets.loc[pocket,'center_z']\n",
    "        s_x = prot_pockets.loc[pocket,'size_x']\n",
    "        s_y = prot_pockets.loc[pocket,'size_y']\n",
    "        s_z = prot_pockets.loc[pocket,'size_z']\n",
    "        pocket_center.append([c_x, c_y, c_z])\n",
    "        pocket_size.append([s_x, s_y, s_z])"
   ]
  },
  {
   "cell_type": "code",
   "execution_count": 50,
   "id": "41efb55a",
   "metadata": {},
   "outputs": [],
   "source": [
    "def vina_dock(ligand):\n",
    "    v = Vina(sf_name='vina')\n",
    "    v.set_receptor(f'data/PDBQT_files/{pdb_id}_protein.pdbqt')\n",
    "    v.set_ligand_from_file(f\"data/PDBQT_files/{ligand}_H.pdbqt\")\n",
    "    if select_type.value == \"Blind docking\":\n",
    "        for pock_num, pocket in enumerate(prot_pockets.index):\n",
    "            v.compute_vina_maps(center = pocket_center[pock_num], box_size = pocket_size[pock_num])\n",
    "            v.dock(exhaustiveness=5, n_poses=5)\n",
    "            v.write_poses(\"data/vina_out/\" + str(ligand) + \"_vina_pocket_\" + str(pocket) + '.pdbqt', n_poses=5, overwrite=True)\n",
    "    else:\n",
    "        v.compute_vina_maps(center = center[ligs.index(ligand)], box_size = size[ligs.index(ligand)])\n",
    "        v.dock(exhaustiveness=5, n_poses=5)\n",
    "        v.write_poses(\"data/vina_out/\" + str(ligand) + '.pdbqt', n_poses=5, overwrite=True)"
   ]
  },
  {
   "cell_type": "code",
   "execution_count": 51,
   "id": "83d532c9",
   "metadata": {},
   "outputs": [
    {
     "name": "stdout",
     "output_type": "stream",
     "text": [
      "\n",
      "mode |   affinity | dist from best mode\n",
      "     | (kcal/mol) | rmsd l.b.| rmsd u.b.\n",
      "-----+------------+----------+----------\n",
      "   1       -9.929          0          0\n",
      "   2       -8.508        3.1      7.059\n",
      "   3       -8.448      3.027      3.801\n",
      "   4         -8.3      3.472      7.512\n",
      "   5       -8.025       2.59      3.379\n",
      "Computing Vina grid ... done.\n",
      "Performing docking (random seed: -941108634) ... \n",
      "0%   10   20   30   40   50   60   70   80   90   100%\n",
      "|----|----|----|----|----|----|----|----|----|----|\n",
      "***************************************************\n",
      "\n",
      "mode |   affinity | dist from best mode\n",
      "     | (kcal/mol) | rmsd l.b.| rmsd u.b.\n",
      "-----+------------+----------+----------\n",
      "   1       -3.402          0          0\n",
      "   2       -3.296      1.316      3.386\n",
      "   3       -3.174      1.064      1.604\n",
      "   4       -2.911      7.161      8.344\n",
      "   5       -2.833      8.628      9.521\n",
      "Computing Vina grid ... done.\n"
     ]
    },
    {
     "name": "stderr",
     "output_type": "stream",
     "text": [
      "WARNING: At low exhaustiveness, it may be impossible to utilize all CPUs.\n",
      "WARNING: At low exhaustiveness, it may be impossible to utilize all CPUs.\n",
      "WARNING: At low exhaustiveness, it may be impossible to utilize all CPUs.\n"
     ]
    },
    {
     "name": "stdout",
     "output_type": "stream",
     "text": [
      "Performing docking (random seed: -941108634) ... \n",
      "0%   10   20   30   40   50   60   70   80   90   100%\n",
      "|----|----|----|----|----|----|----|----|----|----|\n",
      "***************************************************\n",
      "\n",
      "mode |   affinity | dist from best mode\n",
      "     | (kcal/mol) | rmsd l.b.| rmsd u.b.\n",
      "-----+------------+----------+----------\n",
      "   1       -3.857          0          0\n",
      "   2       -3.727     0.7923      3.478\n",
      "   3       -3.512      1.096      1.367\n",
      "   4       -1.914      9.189      9.763\n",
      "Computing Vina grid ... done.\n",
      "Performing docking (random seed: -941108634) ... \n",
      "0%   10   20   30   40   50   60   70   80   90   100%\n",
      "|----|----|----|----|----|----|----|----|----|----|\n",
      "***************************************************\n",
      "\n",
      "mode |   affinity | dist from best mode\n",
      "     | (kcal/mol) | rmsd l.b.| rmsd u.b.\n",
      "-----+------------+----------+----------\n",
      "   1       -3.682          0          0\n",
      "   2       -3.512      1.415       3.93\n",
      "   3       -3.309      2.316      2.768\n",
      "   4       -2.746      1.437      4.139\n",
      "   5        19.07      13.68      14.15\n",
      "Computing Vina grid ... done.\n",
      "Performing docking (random seed: -941108634) ... \n",
      "0%   10   20   30   40   50   60   70   80   90   100%\n",
      "|----|----|----|----|----|----|----|----|----|----|\n",
      "***************************************************\n",
      "\n",
      "mode |   affinity | dist from best mode\n",
      "     | (kcal/mol) | rmsd l.b.| rmsd u.b.\n",
      "-----+------------+----------+----------\n",
      "   1       -2.889          0          0\n",
      "   2       -2.807     0.8652      3.608\n",
      "   3       -2.686      1.932      4.297\n",
      "   4       -2.626      2.286       3.07\n",
      "   5       -2.621      1.666      2.163\n",
      "Computing Vina grid ... done.\n",
      "Performing docking (random seed: -941108634) ... \n",
      "0%   10   20   30   40   50   60   70   80   90   100%\n",
      "|----|----|----|----|----|----|----|----|----|----|\n",
      "***************************************************\n"
     ]
    },
    {
     "name": "stderr",
     "output_type": "stream",
     "text": [
      "WARNING: At low exhaustiveness, it may be impossible to utilize all CPUs.\n",
      "WARNING: At low exhaustiveness, it may be impossible to utilize all CPUs.\n",
      "WARNING: At low exhaustiveness, it may be impossible to utilize all CPUs.\n"
     ]
    },
    {
     "name": "stdout",
     "output_type": "stream",
     "text": [
      "\n",
      "mode |   affinity | dist from best mode\n",
      "     | (kcal/mol) | rmsd l.b.| rmsd u.b.\n",
      "-----+------------+----------+----------\n",
      "   1       -3.041          0          0\n",
      "   2       -2.944      1.222      4.148\n",
      "   3       -2.712      1.626      3.813\n",
      "   4       -2.648      2.908      4.056\n",
      "   5       -2.618      2.464      2.598\n",
      "Computing Vina grid ... done.\n",
      "Performing docking (random seed: -941108634) ... \n",
      "0%   10   20   30   40   50   60   70   80   90   100%\n",
      "|----|----|----|----|----|----|----|----|----|----|\n",
      "***************************************************\n",
      "\n",
      "mode |   affinity | dist from best mode\n",
      "     | (kcal/mol) | rmsd l.b.| rmsd u.b.\n",
      "-----+------------+----------+----------\n",
      "   1       -2.459          0          0\n",
      "   2        -2.41     0.8961      4.262\n",
      "   3       -2.375      2.498      4.273\n",
      "   4       -2.285      2.248      3.233\n",
      "   5        -2.18      1.941      2.524\n",
      "Computing Vina grid ... done.\n",
      "Performing docking (random seed: -941108634) ... \n",
      "0%   10   20   30   40   50   60   70   80   90   100%\n",
      "|----|----|----|----|----|----|----|----|----|----|\n",
      "***************************************************\n",
      "\n",
      "mode |   affinity | dist from best mode\n",
      "     | (kcal/mol) | rmsd l.b.| rmsd u.b.\n",
      "-----+------------+----------+----------\n",
      "   1       -3.545          0          0\n",
      "   2       -3.456       1.22      4.018\n",
      "   3       -3.278      1.823       2.13\n",
      "   4        -3.01      14.14      15.08\n",
      "   5       -2.937      14.26      15.45\n",
      "Computing Vina grid ... done.\n",
      "Performing docking (random seed: -941108634) ... \n",
      "0%   10   20   30   40   50   60   70   80   90   100%\n",
      "|----|----|----|----|----|----|----|----|----|----|\n",
      "***************************************************\n",
      "\n",
      "mode |   affinity | dist from best mode\n",
      "     | (kcal/mol) | rmsd l.b.| rmsd u.b.\n",
      "-----+------------+----------+----------\n",
      "   1       -2.826          0          0\n",
      "   2       -2.742       14.8      15.64\n",
      "   3       -2.564      14.95      15.96\n",
      "   4       -2.529      18.75      20.26\n",
      "   5       -2.274       14.9      15.45\n",
      "Computing Vina grid ... done.\n",
      "Performing docking (random seed: -941108634) ... \n",
      "0%   10   20   30   40   50   60   70   80   90   100%\n",
      "|----|----|----|----|----|----|----|----|----|----|\n",
      "***************************************************\n"
     ]
    },
    {
     "name": "stderr",
     "output_type": "stream",
     "text": [
      "WARNING: At low exhaustiveness, it may be impossible to utilize all CPUs.\n",
      "WARNING: At low exhaustiveness, it may be impossible to utilize all CPUs.\n",
      "WARNING: At low exhaustiveness, it may be impossible to utilize all CPUs.\n",
      "WARNING: At low exhaustiveness, it may be impossible to utilize all CPUs.\n",
      "WARNING: At low exhaustiveness, it may be impossible to utilize all CPUs.\n"
     ]
    },
    {
     "name": "stdout",
     "output_type": "stream",
     "text": [
      "\n",
      "mode |   affinity | dist from best mode\n",
      "     | (kcal/mol) | rmsd l.b.| rmsd u.b.\n",
      "-----+------------+----------+----------\n",
      "   1       -3.044          0          0\n",
      "   2       -3.017     0.9377      3.386\n",
      "   3       -2.793      1.464       1.82\n",
      "   4       -2.705     0.6798      1.492\n",
      "   5       -2.526      2.345      4.023\n",
      "Computing Vina grid ... done.\n",
      "Performing docking (random seed: -941108634) ... \n",
      "0%   10   20   30   40   50   60   70   80   90   100%\n",
      "|----|----|----|----|----|----|----|----|----|----|\n",
      "***************************************************\n",
      "\n",
      "mode |   affinity | dist from best mode\n",
      "     | (kcal/mol) | rmsd l.b.| rmsd u.b.\n",
      "-----+------------+----------+----------\n",
      "   1        -2.42          0          0\n",
      "   2       -2.361      15.81      16.28\n",
      "   3       -2.321      2.241      3.359\n",
      "   4        -1.97      1.795      3.379\n",
      "   5        82.02      14.86      16.04\n",
      "Computing Vina grid ... done.\n",
      "Performing docking (random seed: -941108634) ... \n",
      "0%   10   20   30   40   50   60   70   80   90   100%\n",
      "|----|----|----|----|----|----|----|----|----|----|\n",
      "***************************************************\n",
      "\n",
      "mode |   affinity | dist from best mode\n",
      "     | (kcal/mol) | rmsd l.b.| rmsd u.b.\n",
      "-----+------------+----------+----------\n",
      "   1       -3.037          0          0\n",
      "   2       -2.999     0.8731      3.316\n",
      "   3       -2.848      1.638      3.417\n",
      "   4       -2.562      16.01      17.26\n",
      "   5       -2.495      16.24      16.85\n",
      "Computing Vina grid ... done.\n",
      "Performing docking (random seed: -941108634) ... \n",
      "0%   10   20   30   40   50   60   70   80   90   100%\n",
      "|----|----|----|----|----|----|----|----|----|----|\n",
      "***************************************************\n"
     ]
    },
    {
     "name": "stderr",
     "output_type": "stream",
     "text": [
      "WARNING: At low exhaustiveness, it may be impossible to utilize all CPUs.\n",
      "WARNING: At low exhaustiveness, it may be impossible to utilize all CPUs.\n"
     ]
    },
    {
     "name": "stdout",
     "output_type": "stream",
     "text": [
      "\n",
      "mode |   affinity | dist from best mode\n",
      "     | (kcal/mol) | rmsd l.b.| rmsd u.b.\n",
      "-----+------------+----------+----------\n",
      "   1       -3.593          0          0\n",
      "   2       -3.572      1.629      1.991\n",
      "   3       -3.461      1.757      3.941\n",
      "   4       -2.925       2.21      3.032\n",
      "   5       -2.795      7.686       8.72\n",
      "Computing Vina grid ... done.\n",
      "Performing docking (random seed: -941108634) ... \n",
      "0%   10   20   30   40   50   60   70   80   90   100%\n",
      "|----|----|----|----|----|----|----|----|----|----|\n",
      "***************************************************\n",
      "\n",
      "mode |   affinity | dist from best mode\n",
      "     | (kcal/mol) | rmsd l.b.| rmsd u.b.\n",
      "-----+------------+----------+----------\n",
      "   1       -2.554          0          0\n",
      "   2       -2.494      0.967       3.58\n",
      "   3       -2.463      1.402      1.803\n",
      "   4       -2.194      2.205      2.447\n",
      "Computing Vina grid ... done.\n",
      "Performing docking (random seed: -941108634) ... \n",
      "0%   10   20   30   40   50   60   70   80   90   100%\n",
      "|----|----|----|----|----|----|----|----|----|----|\n",
      "***************************************************\n",
      "\n",
      "mode |   affinity | dist from best mode\n",
      "     | (kcal/mol) | rmsd l.b.| rmsd u.b.\n",
      "-----+------------+----------+----------\n",
      "   1       -3.075          0          0\n",
      "   2       -3.047      14.27       15.1\n",
      "   3       -3.013      2.297      3.076\n",
      "   4       -2.859      2.203      3.343\n",
      "   5        -2.64      2.077      2.425\n",
      "Computing Vina grid ... done.\n",
      "Performing docking (random seed: -941108634) ... \n",
      "0%   10   20   30   40   50   60   70   80   90   100%\n",
      "|----|----|----|----|----|----|----|----|----|----|\n",
      "***************************************************\n",
      "\n",
      "mode |   affinity | dist from best mode\n",
      "     | (kcal/mol) | rmsd l.b.| rmsd u.b.\n",
      "-----+------------+----------+----------\n",
      "   1       -2.401          0          0\n",
      "   2       -2.374      1.294       3.69\n",
      "   3       -2.341     0.9239        3.5\n",
      "   4       -2.249     0.9202      1.522\n",
      "   5       -2.016      12.01       12.9\n",
      "Computing Vina grid ... done.\n",
      "Performing docking (random seed: -941108634) ... \n",
      "0%   10   20   30   40   50   60   70   80   90   100%\n",
      "|----|----|----|----|----|----|----|----|----|----|\n",
      "***************************************************\n",
      "\n",
      "mode |   affinity | dist from best mode\n",
      "     | (kcal/mol) | rmsd l.b.| rmsd u.b.\n",
      "-----+------------+----------+----------\n",
      "   1       -2.555          0          0\n",
      "   2       -2.463      1.127      3.872\n",
      "   3        -2.32      2.222      3.673\n",
      "   4       -2.118      1.933      4.168\n",
      "   5       -2.041      2.336      3.481\n",
      "Computing Vina grid ... done.\n",
      "Performing docking (random seed: -941108634) ... \n",
      "0%   10   20   30   40   50   60   70   80   90   100%\n",
      "|----|----|----|----|----|----|----|----|----|----|\n",
      "***************************************************\n",
      "\n",
      "mode |   affinity | dist from best mode\n",
      "     | (kcal/mol) | rmsd l.b.| rmsd u.b.\n",
      "-----+------------+----------+----------\n",
      "   1       -3.575          0          0\n",
      "   2       -3.571     0.9769      4.045\n",
      "   3        -2.39      11.56      12.15\n",
      "   4       -2.303      11.15      11.67\n",
      "   5        134.9      1.862      3.968\n",
      "Computing Vina grid ... done.\n"
     ]
    },
    {
     "name": "stderr",
     "output_type": "stream",
     "text": [
      "WARNING: At low exhaustiveness, it may be impossible to utilize all CPUs.\n",
      "WARNING: At low exhaustiveness, it may be impossible to utilize all CPUs.\n",
      "WARNING: At low exhaustiveness, it may be impossible to utilize all CPUs.\n",
      "WARNING: At low exhaustiveness, it may be impossible to utilize all CPUs.\n",
      "WARNING: At low exhaustiveness, it may be impossible to utilize all CPUs.\n"
     ]
    },
    {
     "name": "stdout",
     "output_type": "stream",
     "text": [
      "Performing docking (random seed: -941108634) ... \n",
      "0%   10   20   30   40   50   60   70   80   90   100%\n",
      "|----|----|----|----|----|----|----|----|----|----|\n",
      "***************************************************\n",
      "\n",
      "mode |   affinity | dist from best mode\n",
      "     | (kcal/mol) | rmsd l.b.| rmsd u.b.\n",
      "-----+------------+----------+----------\n",
      "   1       -3.083          0          0\n",
      "   2       -3.057      2.242      3.218\n",
      "   3       -2.994      15.08      15.54\n",
      "   4       -2.932      14.27      15.42\n",
      "   5       -2.711      14.92      16.16\n",
      "Computing Vina grid ... done.\n",
      "Performing docking (random seed: -941108634) ... \n",
      "0%   10   20   30   40   50   60   70   80   90   100%\n",
      "|----|----|----|----|----|----|----|----|----|----|\n",
      "***************************************************\n",
      "\n",
      "mode |   affinity | dist from best mode\n",
      "     | (kcal/mol) | rmsd l.b.| rmsd u.b.\n",
      "-----+------------+----------+----------\n",
      "   1       -2.429          0          0\n",
      "   2       -2.342      1.592      2.857\n",
      "   3       -2.288      1.396      1.748\n",
      "   4       -2.228     0.9956       3.65\n",
      "   5       -1.819      2.644      3.786\n",
      "Computing Vina grid ... done.\n",
      "Performing docking (random seed: -941108634) ... \n",
      "0%   10   20   30   40   50   60   70   80   90   100%\n",
      "|----|----|----|----|----|----|----|----|----|----|\n",
      "***************************************************\n"
     ]
    },
    {
     "name": "stderr",
     "output_type": "stream",
     "text": [
      "WARNING: At low exhaustiveness, it may be impossible to utilize all CPUs.\n",
      "WARNING: At low exhaustiveness, it may be impossible to utilize all CPUs.\n"
     ]
    },
    {
     "name": "stdout",
     "output_type": "stream",
     "text": [
      "\n",
      "mode |   affinity | dist from best mode\n",
      "     | (kcal/mol) | rmsd l.b.| rmsd u.b.\n",
      "-----+------------+----------+----------\n",
      "   1       -2.635          0          0\n",
      "   2       -2.627      1.111      3.903\n",
      "   3       -2.557      2.582      3.835\n",
      "   4       -2.483       1.58      2.033\n",
      "   5       -2.467      2.667      3.007\n",
      "Computing Vina grid ... done.\n",
      "Performing docking (random seed: -941108634) ... \n",
      "0%   10   20   30   40   50   60   70   80   90   100%\n",
      "|----|----|----|----|----|----|----|----|----|----|\n",
      "***************************************************\n",
      "\n",
      "mode |   affinity | dist from best mode\n",
      "     | (kcal/mol) | rmsd l.b.| rmsd u.b.\n",
      "-----+------------+----------+----------\n",
      "   1       -3.418          0          0\n",
      "   2       -3.358       1.19      1.673\n",
      "   3       -3.249      1.276       3.54\n",
      "   4       -2.917      7.318      8.499\n",
      "Computing Vina grid ... done.\n",
      "Performing docking (random seed: -941108634) ... \n",
      "0%   10   20   30   40   50   60   70   80   90   100%\n",
      "|----|----|----|----|----|----|----|----|----|----|\n",
      "***************************************************\n"
     ]
    },
    {
     "name": "stderr",
     "output_type": "stream",
     "text": [
      "WARNING: At low exhaustiveness, it may be impossible to utilize all CPUs.\n",
      "WARNING: At low exhaustiveness, it may be impossible to utilize all CPUs.\n"
     ]
    },
    {
     "name": "stdout",
     "output_type": "stream",
     "text": [
      "\n",
      "mode |   affinity | dist from best mode\n",
      "     | (kcal/mol) | rmsd l.b.| rmsd u.b.\n",
      "-----+------------+----------+----------\n",
      "   1        -2.72          0          0\n",
      "   2        -2.71      1.873      2.627\n",
      "   3       -2.582      7.666      8.716\n",
      "   4       -2.529      8.348      9.534\n",
      "   5       -2.524      8.897      9.456\n",
      "Computing Vina grid ... done.\n",
      "Performing docking (random seed: 123073671) ... \n",
      "0%   10   20   30   40   50   60   70   80   90   100%\n",
      "|----|----|----|----|----|----|----|----|----|----|\n",
      "***************************************************\n"
     ]
    },
    {
     "name": "stderr",
     "output_type": "stream",
     "text": [
      "WARNING: At low exhaustiveness, it may be impossible to utilize all CPUs.\n"
     ]
    },
    {
     "name": "stdout",
     "output_type": "stream",
     "text": [
      "\n",
      "mode |   affinity | dist from best mode\n",
      "     | (kcal/mol) | rmsd l.b.| rmsd u.b.\n",
      "-----+------------+----------+----------\n",
      "   1          -10          0          0\n",
      "   2       -8.541       2.03       2.48\n",
      "   3       -8.527      2.987       3.74\n",
      "   4       -8.366      3.065      6.991\n",
      "   5       -8.359      3.488      7.496\n",
      "Computing Vina grid ... done.\n",
      "Performing docking (random seed: 123073671) ... \n",
      "0%   10   20   30   40   50   60   70   80   90   100%\n",
      "|----|----|----|----|----|----|----|----|----|----|\n",
      "***************************************************\n",
      "\n",
      "mode |   affinity | dist from best mode\n",
      "     | (kcal/mol) | rmsd l.b.| rmsd u.b.\n",
      "-----+------------+----------+----------\n",
      "   1           27          0          0\n",
      "   2        52.15      3.273      7.386\n",
      "   3        65.03      8.271      11.73\n",
      "Computing Vina grid ... done.\n",
      "Performing docking (random seed: 123073671) ... \n",
      "0%   10   20   30   40   50   60   70   80   90   100%\n",
      "|----|----|----|----|----|----|----|----|----|----|\n",
      "***************************************************\n"
     ]
    },
    {
     "name": "stderr",
     "output_type": "stream",
     "text": [
      "WARNING: At low exhaustiveness, it may be impossible to utilize all CPUs.\n",
      "WARNING: At low exhaustiveness, it may be impossible to utilize all CPUs.\n",
      "WARNING: At low exhaustiveness, it may be impossible to utilize all CPUs.\n",
      "WARNING: At low exhaustiveness, it may be impossible to utilize all CPUs.\n"
     ]
    },
    {
     "name": "stdout",
     "output_type": "stream",
     "text": [
      "\n",
      "mode |   affinity | dist from best mode\n",
      "     | (kcal/mol) | rmsd l.b.| rmsd u.b.\n",
      "-----+------------+----------+----------\n",
      "   1        36.01          0          0\n",
      "   2        64.79      9.435      13.47\n",
      "   3        73.02       8.72      13.42\n",
      "   4        73.11      10.21      13.11\n",
      "   5        77.18      8.051      12.41\n",
      "Computing Vina grid ... done.\n",
      "Performing docking (random seed: 123073671) ... \n",
      "0%   10   20   30   40   50   60   70   80   90   100%\n",
      "|----|----|----|----|----|----|----|----|----|----|\n",
      "***************************************************\n",
      "\n",
      "mode |   affinity | dist from best mode\n",
      "     | (kcal/mol) | rmsd l.b.| rmsd u.b.\n",
      "-----+------------+----------+----------\n",
      "   1       -6.988          0          0\n",
      "   2       -6.471      1.948      2.657\n",
      "   3       -5.995      3.649      7.754\n",
      "   4       -5.989       3.48      7.654\n",
      "   5       -5.877      3.668      6.484\n",
      "Computing Vina grid ... done.\n",
      "Performing docking (random seed: 123073671) ... \n",
      "0%   10   20   30   40   50   60   70   80   90   100%\n",
      "|----|----|----|----|----|----|----|----|----|----|\n",
      "***************************************************\n",
      "\n",
      "mode |   affinity | dist from best mode\n",
      "     | (kcal/mol) | rmsd l.b.| rmsd u.b.\n",
      "-----+------------+----------+----------\n",
      "   1       -5.871          0          0\n",
      "   2       -5.768      2.978        3.9\n",
      "   3       -5.603      2.036      2.614\n",
      "   4       -5.448      3.421      6.305\n",
      "   5       -5.072      5.134      8.555\n",
      "Computing Vina grid ... done.\n",
      "Performing docking (random seed: 123073671) ... \n",
      "0%   10   20   30   40   50   60   70   80   90   100%\n",
      "|----|----|----|----|----|----|----|----|----|----|\n",
      "***************************************************\n",
      "\n",
      "mode |   affinity | dist from best mode\n",
      "     | (kcal/mol) | rmsd l.b.| rmsd u.b.\n",
      "-----+------------+----------+----------\n",
      "   1       -4.703          0          0\n",
      "   2         -4.7      3.577       5.41\n",
      "   3       -4.672      2.872      5.396\n",
      "   4        -4.55      2.868      4.892\n",
      "   5        -4.51       3.38      7.957\n",
      "Computing Vina grid ... done.\n",
      "Performing docking (random seed: 123073671) ... \n",
      "0%   10   20   30   40   50   60   70   80   90   100%\n",
      "|----|----|----|----|----|----|----|----|----|----|\n",
      "***************************************************\n",
      "\n",
      "mode |   affinity | dist from best mode\n",
      "     | (kcal/mol) | rmsd l.b.| rmsd u.b.\n",
      "-----+------------+----------+----------\n",
      "   1       -5.204          0          0\n",
      "   2       -5.172      3.993      5.555\n",
      "   3       -5.012        9.6      12.03\n",
      "   4       -4.965      7.615      11.33\n",
      "   5          132      4.808      7.365\n",
      "Computing Vina grid ... done.\n",
      "Performing docking (random seed: 123073671) ... \n",
      "0%   10   20   30   40   50   60   70   80   90   100%\n",
      "|----|----|----|----|----|----|----|----|----|----|\n",
      "***************************************************\n"
     ]
    },
    {
     "name": "stderr",
     "output_type": "stream",
     "text": [
      "WARNING: At low exhaustiveness, it may be impossible to utilize all CPUs.\n",
      "WARNING: At low exhaustiveness, it may be impossible to utilize all CPUs.\n",
      "WARNING: At low exhaustiveness, it may be impossible to utilize all CPUs.\n",
      "WARNING: At low exhaustiveness, it may be impossible to utilize all CPUs.\n"
     ]
    },
    {
     "name": "stdout",
     "output_type": "stream",
     "text": [
      "\n",
      "mode |   affinity | dist from best mode\n",
      "     | (kcal/mol) | rmsd l.b.| rmsd u.b.\n",
      "-----+------------+----------+----------\n",
      "   1       -5.131          0          0\n",
      "   2       -4.972      4.228       6.25\n",
      "   3       -4.878      3.113      6.511\n",
      "   4       -4.736      2.828      6.118\n",
      "   5       -4.635      3.335      7.092\n",
      "Computing Vina grid ... done.\n",
      "Performing docking (random seed: 123073671) ... \n",
      "0%   10   20   30   40   50   60   70   80   90   100%\n",
      "|----|----|----|----|----|----|----|----|----|----|\n",
      "***************************************************\n",
      "\n",
      "mode |   affinity | dist from best mode\n",
      "     | (kcal/mol) | rmsd l.b.| rmsd u.b.\n",
      "-----+------------+----------+----------\n",
      "   1       -6.794          0          0\n",
      "   2        -6.18       6.66      9.567\n",
      "   3       -6.146      3.445      5.937\n",
      "   4       -6.074       4.07      5.477\n",
      "   5       -5.745      4.506      6.514\n",
      "Computing Vina grid ... done.\n",
      "Performing docking (random seed: 123073671) ... \n",
      "0%   10   20   30   40   50   60   70   80   90   100%\n",
      "|----|----|----|----|----|----|----|----|----|----|\n",
      "***************************************************\n",
      "\n",
      "mode |   affinity | dist from best mode\n",
      "     | (kcal/mol) | rmsd l.b.| rmsd u.b.\n",
      "-----+------------+----------+----------\n",
      "   1       -4.447          0          0\n",
      "   2       -4.377      4.549      6.971\n",
      "   3       -4.362      3.184      5.597\n",
      "   4        -4.11      3.223      5.004\n",
      "   5       -3.666      3.192      6.824\n",
      "Computing Vina grid ... done.\n"
     ]
    },
    {
     "name": "stderr",
     "output_type": "stream",
     "text": [
      "WARNING: At low exhaustiveness, it may be impossible to utilize all CPUs.\n",
      "WARNING: At low exhaustiveness, it may be impossible to utilize all CPUs.\n"
     ]
    },
    {
     "name": "stdout",
     "output_type": "stream",
     "text": [
      "Performing docking (random seed: 123073671) ... \n",
      "0%   10   20   30   40   50   60   70   80   90   100%\n",
      "|----|----|----|----|----|----|----|----|----|----|\n",
      "***************************************************\n",
      "\n",
      "mode |   affinity | dist from best mode\n",
      "     | (kcal/mol) | rmsd l.b.| rmsd u.b.\n",
      "-----+------------+----------+----------\n",
      "   1       -6.816          0          0\n",
      "   2        -6.43      3.761      6.683\n",
      "   3       -6.413      12.73      15.97\n",
      "   4       -6.403      2.653      5.931\n",
      "   5       -6.335      13.52      16.08\n",
      "Computing Vina grid ... done.\n",
      "Performing docking (random seed: 123073671) ... \n",
      "0%   10   20   30   40   50   60   70   80   90   100%\n",
      "|----|----|----|----|----|----|----|----|----|----|\n",
      "***************************************************\n"
     ]
    },
    {
     "name": "stderr",
     "output_type": "stream",
     "text": [
      "WARNING: At low exhaustiveness, it may be impossible to utilize all CPUs.\n",
      "WARNING: At low exhaustiveness, it may be impossible to utilize all CPUs.\n",
      "WARNING: At low exhaustiveness, it may be impossible to utilize all CPUs.\n"
     ]
    },
    {
     "name": "stdout",
     "output_type": "stream",
     "text": [
      "\n",
      "mode |   affinity | dist from best mode\n",
      "     | (kcal/mol) | rmsd l.b.| rmsd u.b.\n",
      "-----+------------+----------+----------\n",
      "   1       -5.176          0          0\n",
      "   2       -5.138      3.397      6.889\n",
      "   3       -5.023      3.118      7.001\n",
      "   4       -4.848       2.87      5.184\n",
      "   5       -4.845      3.066      4.416\n",
      "Computing Vina grid ... done.\n",
      "Performing docking (random seed: 123073671) ... \n",
      "0%   10   20   30   40   50   60   70   80   90   100%\n",
      "|----|----|----|----|----|----|----|----|----|----|\n",
      "***************************************************\n",
      "\n",
      "mode |   affinity | dist from best mode\n",
      "     | (kcal/mol) | rmsd l.b.| rmsd u.b.\n",
      "-----+------------+----------+----------\n",
      "   1       -4.266          0          0\n",
      "   2       -4.226      2.599      3.958\n",
      "   3       -3.919      3.588      7.159\n",
      "   4        -3.79       2.05      2.756\n",
      "   5       -2.122      3.076      6.603\n",
      "Computing Vina grid ... done.\n",
      "Performing docking (random seed: 123073671) ... \n",
      "0%   10   20   30   40   50   60   70   80   90   100%\n",
      "|----|----|----|----|----|----|----|----|----|----|\n",
      "***************************************************\n",
      "\n",
      "mode |   affinity | dist from best mode\n",
      "     | (kcal/mol) | rmsd l.b.| rmsd u.b.\n",
      "-----+------------+----------+----------\n",
      "   1       -6.382          0          0\n",
      "   2       -6.015      5.014      9.798\n",
      "   3       -6.014      5.084      8.689\n",
      "   4       -5.823      4.304      8.899\n",
      "   5       -5.492      16.39      19.58\n",
      "Computing Vina grid ... done.\n",
      "Performing docking (random seed: 123073671) ... \n",
      "0%   10   20   30   40   50   60   70   80   90   100%\n",
      "|----|----|----|----|----|----|----|----|----|----|\n",
      "***************************************************\n"
     ]
    },
    {
     "name": "stderr",
     "output_type": "stream",
     "text": [
      "WARNING: At low exhaustiveness, it may be impossible to utilize all CPUs.\n",
      "WARNING: At low exhaustiveness, it may be impossible to utilize all CPUs.\n",
      "WARNING: At low exhaustiveness, it may be impossible to utilize all CPUs.\n"
     ]
    },
    {
     "name": "stdout",
     "output_type": "stream",
     "text": [
      "\n",
      "mode |   affinity | dist from best mode\n",
      "     | (kcal/mol) | rmsd l.b.| rmsd u.b.\n",
      "-----+------------+----------+----------\n",
      "   1       -1.488          0          0\n",
      "   2       0.4555      2.816      4.208\n",
      "   3        58.83      4.406      6.716\n",
      "   4        158.9      4.748      7.396\n",
      "   5         1249      2.002      2.733\n",
      "Computing Vina grid ... done.\n",
      "Performing docking (random seed: 123073671) ... \n",
      "0%   10   20   30   40   50   60   70   80   90   100%\n",
      "|----|----|----|----|----|----|----|----|----|----|\n",
      "***************************************************\n",
      "\n",
      "mode |   affinity | dist from best mode\n",
      "     | (kcal/mol) | rmsd l.b.| rmsd u.b.\n",
      "-----+------------+----------+----------\n",
      "   1       -5.271          0          0\n",
      "   2       -5.114      2.469      3.176\n",
      "   3       -4.611      3.603       7.61\n",
      "   4       -4.372      2.539      3.222\n",
      "   5       -4.092      3.398      6.991\n",
      "Computing Vina grid ... done.\n",
      "Performing docking (random seed: 123073671) ... \n",
      "0%   10   20   30   40   50   60   70   80   90   100%\n",
      "|----|----|----|----|----|----|----|----|----|----|\n",
      "***************************************************\n",
      "\n",
      "mode |   affinity | dist from best mode\n",
      "     | (kcal/mol) | rmsd l.b.| rmsd u.b.\n",
      "-----+------------+----------+----------\n",
      "   1       -3.826          0          0\n",
      "   2       -3.409      2.093      3.021\n",
      "   3       -3.292      3.707       7.53\n",
      "   4       -3.024       2.84      4.681\n",
      "   5       -2.769      6.637      11.39\n",
      "Computing Vina grid ... done.\n",
      "Performing docking (random seed: 123073671) ... \n",
      "0%   10   20   30   40   50   60   70   80   90   100%\n",
      "|----|----|----|----|----|----|----|----|----|----|\n",
      "***************************************************\n",
      "\n",
      "mode |   affinity | dist from best mode\n",
      "     | (kcal/mol) | rmsd l.b.| rmsd u.b.\n",
      "-----+------------+----------+----------\n",
      "   1       -6.754          0          0\n",
      "   2       -6.414      3.736      6.611\n",
      "   3       -6.406      14.88      17.81\n",
      "   4       -6.204      3.122       5.98\n",
      "Computing Vina grid ... done.\n",
      "Performing docking (random seed: 123073671) ... \n",
      "0%   10   20   30   40   50   60   70   80   90   100%\n",
      "|----|----|----|----|----|----|----|----|----|----|\n",
      "***************************************************\n",
      "\n",
      "mode |   affinity | dist from best mode\n",
      "     | (kcal/mol) | rmsd l.b.| rmsd u.b.\n",
      "-----+------------+----------+----------\n",
      "   1       -4.336          0          0\n",
      "   2       -3.996      3.046       6.56\n",
      "   3       -3.777      2.389      3.111\n",
      "   4       -3.689      3.414      7.175\n",
      "   5       -3.449      3.815      7.821\n",
      "Computing Vina grid ... done.\n",
      "Performing docking (random seed: 123073671) ... \n",
      "0%   10   20   30   40   50   60   70   80   90   100%\n",
      "|----|----|----|----|----|----|----|----|----|----|\n",
      "***************************************************\n",
      "\n",
      "mode |   affinity | dist from best mode\n",
      "     | (kcal/mol) | rmsd l.b.| rmsd u.b.\n",
      "-----+------------+----------+----------\n",
      "   1        -4.16          0          0\n",
      "   2       -1.782      3.618      7.981\n",
      "   3      -0.9414      3.156      4.903\n",
      "   4        3.022      3.776      8.205\n",
      "   5        34.19      4.032      8.349\n",
      "Computing Vina grid ... "
     ]
    },
    {
     "name": "stderr",
     "output_type": "stream",
     "text": [
      "WARNING: At low exhaustiveness, it may be impossible to utilize all CPUs.\n",
      "WARNING: At low exhaustiveness, it may be impossible to utilize all CPUs.\n",
      "WARNING: At low exhaustiveness, it may be impossible to utilize all CPUs.\n",
      "WARNING: At low exhaustiveness, it may be impossible to utilize all CPUs.\n"
     ]
    },
    {
     "name": "stdout",
     "output_type": "stream",
     "text": [
      "done.\n",
      "Performing docking (random seed: 123073671) ... \n",
      "0%   10   20   30   40   50   60   70   80   90   100%\n",
      "|----|----|----|----|----|----|----|----|----|----|\n",
      "***************************************************\n",
      "\n",
      "mode |   affinity | dist from best mode\n",
      "     | (kcal/mol) | rmsd l.b.| rmsd u.b.\n",
      "-----+------------+----------+----------\n",
      "   1       -7.886          0          0\n",
      "   2       -7.797      1.528      2.154\n",
      "   3       -7.712      3.622       7.41\n",
      "   4       -7.517      3.061      6.801\n",
      "   5       -7.296      3.005      6.959\n",
      "Computing Vina grid ... done.\n",
      "Performing docking (random seed: 123073671) ... \n",
      "0%   10   20   30   40   50   60   70   80   90   100%\n",
      "|----|----|----|----|----|----|----|----|----|----|\n",
      "***************************************************\n"
     ]
    },
    {
     "name": "stderr",
     "output_type": "stream",
     "text": [
      "WARNING: At low exhaustiveness, it may be impossible to utilize all CPUs.\n"
     ]
    }
   ],
   "source": [
    "for i in select_ligs.value:\n",
    "    vina_dock(i)"
   ]
  },
  {
   "cell_type": "code",
   "execution_count": 52,
   "id": "7b90bd48-942d-4e31-a179-740457570858",
   "metadata": {},
   "outputs": [],
   "source": [
    "# Create sdf files from pdbqt\n",
    "for i in select_ligs.value:\n",
    "    if select_type.value == \"Blind docking\":\n",
    "        for pocket in prot_pockets.index:\n",
    "            pdbqt_to_sdf(pdbqt_file=f\"data/vina_out/{i}_vina_pocket_{pocket}.pdbqt\",output=f\"data/vina_out_2/{i}_pocket_{pocket}_vina_out_2.sdf\")\n",
    "    else:\n",
    "        pdbqt_to_sdf(pdbqt_file=f\"data/vina_out/{i}.pdbqt\",output=f\"data/vina_out_2/{i}_vina_out_2.sdf\")"
   ]
  },
  {
   "cell_type": "markdown",
   "id": "64d0c15c-5a37-444e-bc9d-b865476533f3",
   "metadata": {},
   "source": [
    "### Docking using SMINA"
   ]
  },
  {
   "cell_type": "markdown",
   "id": "ec17364d",
   "metadata": {},
   "source": [
    "Below is a step-by-step (cell-by-cell) guide on how the SMINA docking engine is used to generate poses and scores for each pocket and ligand\n",
    "- Prior to docking, two new folders are created in the data folder to organize the output data (smina_out and smina_out_2). The path for the smina docking engine executable is also initialized to allow for the docking engine to be used, as it is a local file.\n",
    "- Using the the pdbqt file for the receptor, the mol2 file for the desired ligand, and the pocket center/size values from the prot_pockets dataframe, ligand poses are generated for each binding pocket (the number of poses depends on the value of num_modes, which is set to 5 in this notebook). The amount of computational effort needed to generate the poses for a given pocket and ligand is called the exhaustiveness. As exhaustiveness increases, the more reproducible the results tend to be. While the default value of exhaustiveness is 8, this notebook uses an exhaustiveness of 5 due to memory limitations.\n",
    "- The results of running the SMINA docking engine are stored as sdf files and can be located in the smina_out folder. However, due to the fact that the output files do not have a flag marking it as three dimensional, the sdf files must be read using SDMolSupplier and re-written using SDWriter to avoid excessive errors. The re-written sdf files can be found in the smina_out_2 folder. The names of each file follows the formula of `(ligand name)_pocket_(pocket number)_(name of folder).sdf` for the sdf files."
   ]
  },
  {
   "cell_type": "code",
   "execution_count": 85,
   "id": "15462062-47f9-421a-8ad2-6b3b35dcf7e3",
   "metadata": {},
   "outputs": [
    {
     "name": "stdout",
     "output_type": "stream",
     "text": [
      "[Errno 17] File exists: '/Users/leesch/Desktop/BASIL/data/smina_out'\n",
      "[Errno 17] File exists: '/Users/leesch/Desktop/BASIL/data/smina_out_2'\n"
     ]
    }
   ],
   "source": [
    "# Create paths for smina software and output files\n",
    "current_dir = os.getcwd()\n",
    "dataPath = os.path.join(current_dir, \"data\")\n",
    "\n",
    "# create smina_out file path/dir, return error if exists\n",
    "smina_out = os.path.join(dataPath, \"smina_out\")\n",
    "try:\n",
    "    os.mkdir(smina_out)\n",
    "except OSError as error:\n",
    "    print(error)\n",
    "\n",
    "# create smina_out_2 file path/dir, return error if exists\n",
    "smina_out_2 = os.path.join(dataPath, \"smina_out_2\")\n",
    "try:\n",
    "    os.mkdir(smina_out_2)\n",
    "except OSError as error:\n",
    "    print(error)"
   ]
  },
  {
   "cell_type": "code",
   "execution_count": null,
   "id": "1f6cbd34-cf48-4b0a-8f6e-14eef43b02d6",
   "metadata": {},
   "outputs": [],
   "source": [
    "# Using SMINA to dock ligand/s in docking boxes based on fpocket's identified pockets\n",
    "d = 0\n",
    "for i in select_ligs.value: \n",
    "    if select_type.value == \"Blind docking\":\n",
    "        for pock_num, pocket in enumerate(prot_pockets.index):\n",
    "            rec = f'data/PDBQT_files/{pdb_id}_protein.pdbqt'\n",
    "            lig = f'data/MOL2_files/{i}_H.mol2'\n",
    "            outfile = f'data/smina_out/{i}_pocket_{pocket}_smina_out.sdf'\n",
    "            ! smina -r {rec} -l {lig} -o {outfile} -center_x {pocket_center[pock_num][0]} -center_y {pocket_center[pock_num][1]} -center_z {pocket_center[pock_num][2]} -size_x {pocket_size[pock_num][0]} -size_y {pocket_size[pock_num][1]} -size_z {pocket_size[pock_num][2]} --exhaustiveness 5 --num_modes 5\n",
    "    else:\n",
    "        rec = f'data/PDBQT_files/{pdb_id}_protein.pdbqt'\n",
    "        lig = f'data/MOL2_files/{i}_H.mol2'\n",
    "        outfile = f'data/smina_out/{i}_smina_out.sdf'\n",
    "        ! smina -r {rec} -l {lig} -o {outfile} --autobox_ligand {lig} --autobox_add 5 --exhaustiveness 5 --num_modes 5"
   ]
  },
  {
   "cell_type": "code",
   "execution_count": null,
   "id": "a8a4cb88-df83-4579-af21-8ab03e863eeb",
   "metadata": {},
   "outputs": [],
   "source": [
    "# Rewrite .sdf output files to add 3D tag\n",
    "# This code will result in warnings. This is normal as long as the warning is\n",
    "# \"Warning: molecule is tagged as 2D, but at least one Z coordinate is not zero. Marking the mol as 3D.\"\n",
    "mols_all = []\n",
    "for i in select_ligs.value:\n",
    "    mols = []\n",
    "    if select_type.value == \"Blind docking\":\n",
    "        for pocket in prot_pockets.index:\n",
    "            with Chem.SDMolSupplier(f'data/smina_out/{i}_pocket_{pocket}_smina_out.sdf') as suppl:\n",
    "                for mol in suppl:\n",
    "                    if mol is not None:\n",
    "                        Chem.MolToMolBlock(mol)\n",
    "                        mols.append(mol)\n",
    "            with Chem.SDWriter(f\"data/smina_out_2/{i}_pocket_{pocket}_smina_out_2.sdf\") as w:\n",
    "                for mol in mols:\n",
    "                    w.write(mol)\n",
    "    else:\n",
    "        with Chem.SDMolSupplier(f'data/smina_out/{i}_smina_out.sdf') as suppl:\n",
    "            for mol in suppl:\n",
    "                if mol is not None:\n",
    "                    Chem.MolToMolBlock(mol)\n",
    "                    mols.append(mol)\n",
    "        with Chem.SDWriter(f\"data/smina_out_2/{i}_smina_out_2.sdf\") as w:\n",
    "            for mol in mols:\n",
    "                w.write(mol)"
   ]
  },
  {
   "cell_type": "markdown",
   "id": "967d528b-6a1d-4dc5-b2c5-661d6a0293b9",
   "metadata": {},
   "source": [
    "## Analysis of docking output"
   ]
  },
  {
   "cell_type": "markdown",
   "id": "125ce4f3",
   "metadata": {},
   "source": [
    "Now that we have results from molecular docking, we need to make sense of the information. If you were to open the sdf files in a text editor, you would see x, y, and z coordinates for each atom in the ligand, the bond types between atoms in the ligand, and the score of the ligand pose. While useful, this information is difficult to interpret and visualize. To get information regarding the number of interactions, the types of interaction, and the atoms (ligand) and residues (receptor) involved in binding the ligand to the receptor, interaction fingerprints (IFPs) can be generated and viewed using the prolif library, which can be used to identify key atoms in the ligand and key residues in the receptor involved in protein-ligand complex formation."
   ]
  },
  {
   "cell_type": "code",
   "execution_count": 86,
   "id": "f6f2b9d7-fa3e-4191-b1ce-b31f462ff950",
   "metadata": {},
   "outputs": [],
   "source": [
    "# load protein\n",
    "prot_mol = Chem.MolFromPDBFile(\"data/PDB_files/\" + str(pdb_id) + \"_protein_H.pdb\")\n",
    "protein_plf = plf.Molecule.from_rdkit(prot_mol)"
   ]
  },
  {
   "cell_type": "code",
   "execution_count": 87,
   "id": "0b7435e6",
   "metadata": {},
   "outputs": [
    {
     "data": {
      "application/vnd.jupyter.widget-view+json": {
       "model_id": "2eec6d1542e147609ee546021647cd31",
       "version_major": 2,
       "version_minor": 0
      },
      "text/plain": [
       "Dropdown(description='Select the docking engine that was used:', options=('smina', 'vina'), style=DescriptionS…"
      ]
     },
     "execution_count": 87,
     "metadata": {},
     "output_type": "execute_result"
    }
   ],
   "source": [
    "style = {'description_width': 'initial'}\n",
    "select_dock = Dropdown(options = [('smina'), ('vina')], description = 'Select the docking engine that was used:', style = style)\n",
    "select_dock"
   ]
  },
  {
   "cell_type": "code",
   "execution_count": 88,
   "id": "81b081fa",
   "metadata": {},
   "outputs": [
    {
     "data": {
      "application/vnd.jupyter.widget-view+json": {
       "model_id": "26cc6bccfe874135ad3fdba0bdc67a05",
       "version_major": 2,
       "version_minor": 0
      },
      "text/plain": [
       "  0%|          | 0/5 [00:00<?, ?it/s]"
      ]
     },
     "metadata": {},
     "output_type": "display_data"
    },
    {
     "data": {
      "application/vnd.jupyter.widget-view+json": {
       "model_id": "17ccd18d502c416b8fdc3838fda00543",
       "version_major": 2,
       "version_minor": 0
      },
      "text/plain": [
       "  0%|          | 0/4 [00:00<?, ?it/s]"
      ]
     },
     "metadata": {},
     "output_type": "display_data"
    },
    {
     "data": {
      "application/vnd.jupyter.widget-view+json": {
       "model_id": "8e22b0b23a034affa4c9abdce50cdd17",
       "version_major": 2,
       "version_minor": 0
      },
      "text/plain": [
       "  0%|          | 0/4 [00:00<?, ?it/s]"
      ]
     },
     "metadata": {},
     "output_type": "display_data"
    },
    {
     "data": {
      "application/vnd.jupyter.widget-view+json": {
       "model_id": "3ace3fdfe4de473d86a771ae40406b96",
       "version_major": 2,
       "version_minor": 0
      },
      "text/plain": [
       "  0%|          | 0/5 [00:00<?, ?it/s]"
      ]
     },
     "metadata": {},
     "output_type": "display_data"
    },
    {
     "data": {
      "application/vnd.jupyter.widget-view+json": {
       "model_id": "0df716b10e144625826c7652fd79cbc3",
       "version_major": 2,
       "version_minor": 0
      },
      "text/plain": [
       "  0%|          | 0/5 [00:00<?, ?it/s]"
      ]
     },
     "metadata": {},
     "output_type": "display_data"
    },
    {
     "data": {
      "application/vnd.jupyter.widget-view+json": {
       "model_id": "6e8b1e81f35a40d3ab19bd99efab58ca",
       "version_major": 2,
       "version_minor": 0
      },
      "text/plain": [
       "  0%|          | 0/5 [00:00<?, ?it/s]"
      ]
     },
     "metadata": {},
     "output_type": "display_data"
    },
    {
     "data": {
      "application/vnd.jupyter.widget-view+json": {
       "model_id": "386cadb720b54694ae7de9c8cc4f803c",
       "version_major": 2,
       "version_minor": 0
      },
      "text/plain": [
       "  0%|          | 0/5 [00:00<?, ?it/s]"
      ]
     },
     "metadata": {},
     "output_type": "display_data"
    },
    {
     "data": {
      "application/vnd.jupyter.widget-view+json": {
       "model_id": "d0917c8023194df39e5d72e17410d9dc",
       "version_major": 2,
       "version_minor": 0
      },
      "text/plain": [
       "  0%|          | 0/5 [00:00<?, ?it/s]"
      ]
     },
     "metadata": {},
     "output_type": "display_data"
    },
    {
     "data": {
      "application/vnd.jupyter.widget-view+json": {
       "model_id": "afcb692e8da0482a84daa62f85c45fb9",
       "version_major": 2,
       "version_minor": 0
      },
      "text/plain": [
       "  0%|          | 0/5 [00:00<?, ?it/s]"
      ]
     },
     "metadata": {},
     "output_type": "display_data"
    },
    {
     "data": {
      "application/vnd.jupyter.widget-view+json": {
       "model_id": "618dd4f9b7434027ba668c3ac1e40367",
       "version_major": 2,
       "version_minor": 0
      },
      "text/plain": [
       "  0%|          | 0/4 [00:00<?, ?it/s]"
      ]
     },
     "metadata": {},
     "output_type": "display_data"
    },
    {
     "data": {
      "application/vnd.jupyter.widget-view+json": {
       "model_id": "f3771032b0db44c983ddbbdf8e29b780",
       "version_major": 2,
       "version_minor": 0
      },
      "text/plain": [
       "  0%|          | 0/5 [00:00<?, ?it/s]"
      ]
     },
     "metadata": {},
     "output_type": "display_data"
    },
    {
     "data": {
      "application/vnd.jupyter.widget-view+json": {
       "model_id": "f9da04e34cae4028a4d7d5d8ef7173c1",
       "version_major": 2,
       "version_minor": 0
      },
      "text/plain": [
       "  0%|          | 0/5 [00:00<?, ?it/s]"
      ]
     },
     "metadata": {},
     "output_type": "display_data"
    },
    {
     "data": {
      "application/vnd.jupyter.widget-view+json": {
       "model_id": "b116227616c34175a08d565fe95c1f98",
       "version_major": 2,
       "version_minor": 0
      },
      "text/plain": [
       "  0%|          | 0/4 [00:00<?, ?it/s]"
      ]
     },
     "metadata": {},
     "output_type": "display_data"
    },
    {
     "data": {
      "application/vnd.jupyter.widget-view+json": {
       "model_id": "4445c5a4a4ff4849936b15825600770d",
       "version_major": 2,
       "version_minor": 0
      },
      "text/plain": [
       "  0%|          | 0/5 [00:00<?, ?it/s]"
      ]
     },
     "metadata": {},
     "output_type": "display_data"
    },
    {
     "data": {
      "application/vnd.jupyter.widget-view+json": {
       "model_id": "53223dcdfa23438a83caaf5a22054038",
       "version_major": 2,
       "version_minor": 0
      },
      "text/plain": [
       "  0%|          | 0/5 [00:00<?, ?it/s]"
      ]
     },
     "metadata": {},
     "output_type": "display_data"
    },
    {
     "data": {
      "application/vnd.jupyter.widget-view+json": {
       "model_id": "6c6cfbb8b2fd401a97111653a4cea185",
       "version_major": 2,
       "version_minor": 0
      },
      "text/plain": [
       "  0%|          | 0/5 [00:00<?, ?it/s]"
      ]
     },
     "metadata": {},
     "output_type": "display_data"
    },
    {
     "data": {
      "application/vnd.jupyter.widget-view+json": {
       "model_id": "309c5549383c42b2b42efbca6c011a69",
       "version_major": 2,
       "version_minor": 0
      },
      "text/plain": [
       "  0%|          | 0/4 [00:00<?, ?it/s]"
      ]
     },
     "metadata": {},
     "output_type": "display_data"
    },
    {
     "data": {
      "application/vnd.jupyter.widget-view+json": {
       "model_id": "b6b7a854ff5146bd9b0d4238b835bd0d",
       "version_major": 2,
       "version_minor": 0
      },
      "text/plain": [
       "  0%|          | 0/5 [00:00<?, ?it/s]"
      ]
     },
     "metadata": {},
     "output_type": "display_data"
    },
    {
     "data": {
      "application/vnd.jupyter.widget-view+json": {
       "model_id": "ad5bbfe37065415d872fe682a8fe8e16",
       "version_major": 2,
       "version_minor": 0
      },
      "text/plain": [
       "  0%|          | 0/5 [00:00<?, ?it/s]"
      ]
     },
     "metadata": {},
     "output_type": "display_data"
    },
    {
     "data": {
      "application/vnd.jupyter.widget-view+json": {
       "model_id": "0549d4dbb8fb493a88f2279a5083b611",
       "version_major": 2,
       "version_minor": 0
      },
      "text/plain": [
       "  0%|          | 0/5 [00:00<?, ?it/s]"
      ]
     },
     "metadata": {},
     "output_type": "display_data"
    },
    {
     "data": {
      "application/vnd.jupyter.widget-view+json": {
       "model_id": "646497e0f4754398aa9f234e30b2462d",
       "version_major": 2,
       "version_minor": 0
      },
      "text/plain": [
       "  0%|          | 0/4 [00:00<?, ?it/s]"
      ]
     },
     "metadata": {},
     "output_type": "display_data"
    },
    {
     "data": {
      "application/vnd.jupyter.widget-view+json": {
       "model_id": "b5543a42c7f04690899505044556eaab",
       "version_major": 2,
       "version_minor": 0
      },
      "text/plain": [
       "  0%|          | 0/5 [00:00<?, ?it/s]"
      ]
     },
     "metadata": {},
     "output_type": "display_data"
    },
    {
     "data": {
      "application/vnd.jupyter.widget-view+json": {
       "model_id": "a191743e756c438ea396d814ee8bcb51",
       "version_major": 2,
       "version_minor": 0
      },
      "text/plain": [
       "  0%|          | 0/5 [00:00<?, ?it/s]"
      ]
     },
     "metadata": {},
     "output_type": "display_data"
    },
    {
     "data": {
      "application/vnd.jupyter.widget-view+json": {
       "model_id": "259273c5cfda476da8e68e591155462d",
       "version_major": 2,
       "version_minor": 0
      },
      "text/plain": [
       "  0%|          | 0/1 [00:00<?, ?it/s]"
      ]
     },
     "metadata": {},
     "output_type": "display_data"
    },
    {
     "data": {
      "application/vnd.jupyter.widget-view+json": {
       "model_id": "9062d7dce3c84f48afc5a33448db1126",
       "version_major": 2,
       "version_minor": 0
      },
      "text/plain": [
       "  0%|          | 0/1 [00:00<?, ?it/s]"
      ]
     },
     "metadata": {},
     "output_type": "display_data"
    },
    {
     "data": {
      "application/vnd.jupyter.widget-view+json": {
       "model_id": "918be225c9444b8ab7b39ad491204b47",
       "version_major": 2,
       "version_minor": 0
      },
      "text/plain": [
       "  0%|          | 0/5 [00:00<?, ?it/s]"
      ]
     },
     "metadata": {},
     "output_type": "display_data"
    },
    {
     "data": {
      "application/vnd.jupyter.widget-view+json": {
       "model_id": "32f61e87a1f944be86ad5bc516a4b9b9",
       "version_major": 2,
       "version_minor": 0
      },
      "text/plain": [
       "  0%|          | 0/5 [00:00<?, ?it/s]"
      ]
     },
     "metadata": {},
     "output_type": "display_data"
    },
    {
     "data": {
      "application/vnd.jupyter.widget-view+json": {
       "model_id": "9542c668868c4a03ab626c27d6d66b07",
       "version_major": 2,
       "version_minor": 0
      },
      "text/plain": [
       "  0%|          | 0/5 [00:00<?, ?it/s]"
      ]
     },
     "metadata": {},
     "output_type": "display_data"
    },
    {
     "data": {
      "application/vnd.jupyter.widget-view+json": {
       "model_id": "ab5bdf680e9340238f98df239ca0edaa",
       "version_major": 2,
       "version_minor": 0
      },
      "text/plain": [
       "  0%|          | 0/4 [00:00<?, ?it/s]"
      ]
     },
     "metadata": {},
     "output_type": "display_data"
    },
    {
     "data": {
      "application/vnd.jupyter.widget-view+json": {
       "model_id": "857e7e07017749acb608732aeccf31fb",
       "version_major": 2,
       "version_minor": 0
      },
      "text/plain": [
       "  0%|          | 0/5 [00:00<?, ?it/s]"
      ]
     },
     "metadata": {},
     "output_type": "display_data"
    },
    {
     "data": {
      "application/vnd.jupyter.widget-view+json": {
       "model_id": "e7b823c82123419ab06f5b1137bd0dd7",
       "version_major": 2,
       "version_minor": 0
      },
      "text/plain": [
       "  0%|          | 0/5 [00:00<?, ?it/s]"
      ]
     },
     "metadata": {},
     "output_type": "display_data"
    },
    {
     "data": {
      "application/vnd.jupyter.widget-view+json": {
       "model_id": "3a2f8c55834d4c6da84e37d2dc19d036",
       "version_major": 2,
       "version_minor": 0
      },
      "text/plain": [
       "  0%|          | 0/5 [00:00<?, ?it/s]"
      ]
     },
     "metadata": {},
     "output_type": "display_data"
    },
    {
     "data": {
      "application/vnd.jupyter.widget-view+json": {
       "model_id": "154bfa113e0044fbbbd80eb619ea6681",
       "version_major": 2,
       "version_minor": 0
      },
      "text/plain": [
       "  0%|          | 0/5 [00:00<?, ?it/s]"
      ]
     },
     "metadata": {},
     "output_type": "display_data"
    },
    {
     "data": {
      "application/vnd.jupyter.widget-view+json": {
       "model_id": "e9da19bb831f44f9a426c92456416735",
       "version_major": 2,
       "version_minor": 0
      },
      "text/plain": [
       "  0%|          | 0/5 [00:00<?, ?it/s]"
      ]
     },
     "metadata": {},
     "output_type": "display_data"
    },
    {
     "data": {
      "application/vnd.jupyter.widget-view+json": {
       "model_id": "42dfc0a4509f4ac7a30100fa6c40e295",
       "version_major": 2,
       "version_minor": 0
      },
      "text/plain": [
       "  0%|          | 0/5 [00:00<?, ?it/s]"
      ]
     },
     "metadata": {},
     "output_type": "display_data"
    },
    {
     "data": {
      "application/vnd.jupyter.widget-view+json": {
       "model_id": "cd84c6f4624b487d94b137020c64ee79",
       "version_major": 2,
       "version_minor": 0
      },
      "text/plain": [
       "  0%|          | 0/5 [00:00<?, ?it/s]"
      ]
     },
     "metadata": {},
     "output_type": "display_data"
    },
    {
     "data": {
      "application/vnd.jupyter.widget-view+json": {
       "model_id": "e1cdc65476b6460cae219bdc311167a3",
       "version_major": 2,
       "version_minor": 0
      },
      "text/plain": [
       "  0%|          | 0/2 [00:00<?, ?it/s]"
      ]
     },
     "metadata": {},
     "output_type": "display_data"
    },
    {
     "data": {
      "application/vnd.jupyter.widget-view+json": {
       "model_id": "f8708003619f4a8da79b4314230bb395",
       "version_major": 2,
       "version_minor": 0
      },
      "text/plain": [
       "  0%|          | 0/5 [00:00<?, ?it/s]"
      ]
     },
     "metadata": {},
     "output_type": "display_data"
    },
    {
     "data": {
      "application/vnd.jupyter.widget-view+json": {
       "model_id": "9936588d9e264a3590239399a314863b",
       "version_major": 2,
       "version_minor": 0
      },
      "text/plain": [
       "  0%|          | 0/5 [00:00<?, ?it/s]"
      ]
     },
     "metadata": {},
     "output_type": "display_data"
    },
    {
     "data": {
      "application/vnd.jupyter.widget-view+json": {
       "model_id": "44fada4b36f44a4e99ebd08de70faa24",
       "version_major": 2,
       "version_minor": 0
      },
      "text/plain": [
       "  0%|          | 0/4 [00:00<?, ?it/s]"
      ]
     },
     "metadata": {},
     "output_type": "display_data"
    },
    {
     "data": {
      "application/vnd.jupyter.widget-view+json": {
       "model_id": "5c7b9058c961461e814a368086a91a46",
       "version_major": 2,
       "version_minor": 0
      },
      "text/plain": [
       "  0%|          | 0/5 [00:00<?, ?it/s]"
      ]
     },
     "metadata": {},
     "output_type": "display_data"
    },
    {
     "data": {
      "application/vnd.jupyter.widget-view+json": {
       "model_id": "c2cdbdf878bb4b018ca37f8d2b1eddd7",
       "version_major": 2,
       "version_minor": 0
      },
      "text/plain": [
       "  0%|          | 0/2 [00:00<?, ?it/s]"
      ]
     },
     "metadata": {},
     "output_type": "display_data"
    },
    {
     "data": {
      "application/vnd.jupyter.widget-view+json": {
       "model_id": "459319d5a03e47688f8a851f8c07680a",
       "version_major": 2,
       "version_minor": 0
      },
      "text/plain": [
       "  0%|          | 0/5 [00:00<?, ?it/s]"
      ]
     },
     "metadata": {},
     "output_type": "display_data"
    },
    {
     "data": {
      "application/vnd.jupyter.widget-view+json": {
       "model_id": "1e44f16df00743e788f8e19ccabf96ef",
       "version_major": 2,
       "version_minor": 0
      },
      "text/plain": [
       "  0%|          | 0/5 [00:00<?, ?it/s]"
      ]
     },
     "metadata": {},
     "output_type": "display_data"
    }
   ],
   "source": [
    "all_ligand_plf = []\n",
    "ligand_plf = []\n",
    "all_df = []\n",
    "all_ifps = []\n",
    "for i in select_ligs.value:\n",
    "    if select_type.value == \"Blind docking\":\n",
    "        for pocket in prot_pockets.index:\n",
    "            lig_suppl = plf.sdf_supplier(f\"data/{select_dock.value}_out_2/{i}_pocket_{pocket}_{select_dock.value}_out_2.sdf\")\n",
    "            fp = plf.Fingerprint(count=True)\n",
    "            fp.run_from_iterable(lig_suppl, protein_plf)\n",
    "            results_df = fp.to_dataframe()\n",
    "            all_df.append(results_df)\n",
    "            for lig in lig_suppl:\n",
    "                all_ligand_plf.append(lig)\n",
    "                ifp = fp.generate(lig, protein_plf, metadata = True)\n",
    "                all_ifps.append(ifp)\n",
    "    else:\n",
    "        lig_suppl = plf.sdf_supplier(f\"data/{select_dock.value}_out_2/{i}_{select_dock.value}_out_2.sdf\")\n",
    "        fp = plf.Fingerprint(count=True)\n",
    "        fp.run_from_iterable(lig_suppl, protein_plf)\n",
    "        results_df = fp.to_dataframe()\n",
    "        all_df.append(results_df)\n",
    "        for lig in lig_suppl:\n",
    "            all_ligand_plf.append(lig)\n",
    "            ifp = fp.generate(lig, protein_plf, metadata = True)\n",
    "            all_ifps.append(ifp)"
   ]
  },
  {
   "cell_type": "code",
   "execution_count": 55,
   "id": "757539fa",
   "metadata": {},
   "outputs": [],
   "source": [
    "all_results = []\n",
    "scores = [] # get list of scores for each pose\n",
    "for h, i in enumerate(select_ligs.value):\n",
    "    # initialize list that contains values all poses in all pockets (for 1 ligand at a time)\n",
    "    nested_results = []\n",
    "    # append pose data for each pocket to nested_results\n",
    "    if select_type.value == \"Blind docking\":\n",
    "        for pocket in prot_pockets.index:\n",
    "            results = Chem.SDMolSupplier(f\"data/{select_dock.value}_out_2/{i}_pocket_{pocket}_{select_dock.value}_out_2.sdf\")\n",
    "            nested_results.append(results)\n",
    "    else:\n",
    "        results = Chem.SDMolSupplier(f\"data/{select_dock.value}_out_2/{i}_{select_dock.value}_out_2.sdf\")\n",
    "        nested_results.append(results) \n",
    "    # add all values in nested_results to allResults list\n",
    "    all_results.append(nested_results)\n",
    "    \n",
    "# get score values for every pose in allResults\n",
    "if select_type.value == \"Blind docking\":\n",
    "    for linenum, i in enumerate(all_results):\n",
    "        for num, pocket in enumerate(i):\n",
    "            for num2, pose in enumerate(pocket):\n",
    "                if select_dock.value == \"smina\":\n",
    "                    scores.append(float(all_results[linenum][num][num2].GetProp('minimizedAffinity')))\n",
    "                else:\n",
    "                    scores.append(float(all_results[linenum][num][num2].GetProp('Score')))\n",
    "else:\n",
    "    for linenum, i in enumerate(all_results):\n",
    "        for num, pose in enumerate(i):\n",
    "            for num2, item in enumerate(pose):\n",
    "                if select_dock.value == \"smina\":\n",
    "                    scores.append(float(all_results[linenum][num][num2].GetProp('minimizedAffinity')))\n",
    "                else:\n",
    "                    scores.append(float(all_results[linenum][num][num2].GetProp('Score')))"
   ]
  },
  {
   "cell_type": "code",
   "execution_count": 66,
   "id": "7aed4c7e",
   "metadata": {},
   "outputs": [],
   "source": [
    "# prot pockets not listed - try to fix?\n",
    "df = pd.concat([d for d in all_df], axis=0, ignore_index=False, sort=False).reset_index()\n",
    "df.insert(1, \"Score\", pd.Series(scores))\n",
    "df = df.fillna(0)"
   ]
  },
  {
   "cell_type": "markdown",
   "id": "89635f2c",
   "metadata": {},
   "source": [
    "While the dataframe generated using the prolif library has a lot of useful information, we are also going to add the distance between interacting ligand and protein atoms, the indexes of both the ligand and protein atoms involved in the interaction, and the functional group the ligand's atom is a member of if applicable."
   ]
  },
  {
   "cell_type": "code",
   "execution_count": 134,
   "id": "30088b30",
   "metadata": {},
   "outputs": [],
   "source": [
    "# fix for site specific\n",
    "if select_type.value == \"Blind docking\":\n",
    "    #df2 = df[[\"cav_id\", \"Frame\", \"Score\"]].copy()\n",
    "    df2 = df[[\"Frame\", \"Score\", \"UNL1\"]].copy()\n",
    "else:\n",
    "    df2 = df[[\"Frame\", \"Score\", \"UNL1\"]].copy()"
   ]
  },
  {
   "cell_type": "code",
   "execution_count": 135,
   "id": "399532e3",
   "metadata": {},
   "outputs": [
    {
     "data": {
      "text/html": [
       "<div>\n",
       "<style scoped>\n",
       "    .dataframe tbody tr th:only-of-type {\n",
       "        vertical-align: middle;\n",
       "    }\n",
       "\n",
       "    .dataframe tbody tr th {\n",
       "        vertical-align: top;\n",
       "    }\n",
       "\n",
       "    .dataframe thead tr th {\n",
       "        text-align: left;\n",
       "    }\n",
       "</style>\n",
       "<table border=\"1\" class=\"dataframe\">\n",
       "  <thead>\n",
       "    <tr>\n",
       "      <th></th>\n",
       "      <th>Frame</th>\n",
       "      <th>Score</th>\n",
       "      <th colspan=\"19\" halign=\"left\">UNL1</th>\n",
       "    </tr>\n",
       "    <tr>\n",
       "      <th></th>\n",
       "      <th></th>\n",
       "      <th></th>\n",
       "      <th>ILE24.H</th>\n",
       "      <th>GLY25.H</th>\n",
       "      <th>GLY69.H</th>\n",
       "      <th>LYS70.H</th>\n",
       "      <th>GLU164.H</th>\n",
       "      <th>SER27.H</th>\n",
       "      <th colspan=\"2\" halign=\"left\">HIS57.H</th>\n",
       "      <th>...</th>\n",
       "      <th>SER195.H</th>\n",
       "      <th colspan=\"2\" halign=\"left\">VAL213.H</th>\n",
       "      <th>TYR76.H</th>\n",
       "      <th colspan=\"2\" halign=\"left\">ILE82.H</th>\n",
       "      <th colspan=\"2\" halign=\"left\">MET84.H</th>\n",
       "      <th>LYS110.H</th>\n",
       "      <th>PRO111.H</th>\n",
       "    </tr>\n",
       "    <tr>\n",
       "      <th></th>\n",
       "      <th></th>\n",
       "      <th></th>\n",
       "      <th>VdWContact</th>\n",
       "      <th>VdWContact</th>\n",
       "      <th>VdWContact</th>\n",
       "      <th>VdWContact</th>\n",
       "      <th>VdWContact</th>\n",
       "      <th>VdWContact</th>\n",
       "      <th>Hydrophobic</th>\n",
       "      <th>PiStacking</th>\n",
       "      <th>...</th>\n",
       "      <th>VdWContact</th>\n",
       "      <th>Hydrophobic</th>\n",
       "      <th>VdWContact</th>\n",
       "      <th>PiStacking</th>\n",
       "      <th>Hydrophobic</th>\n",
       "      <th>VdWContact</th>\n",
       "      <th>Hydrophobic</th>\n",
       "      <th>VdWContact</th>\n",
       "      <th>PiCation</th>\n",
       "      <th>VdWContact</th>\n",
       "    </tr>\n",
       "  </thead>\n",
       "  <tbody>\n",
       "    <tr>\n",
       "      <th>0</th>\n",
       "      <td>0</td>\n",
       "      <td>-3.402</td>\n",
       "      <td>0.0</td>\n",
       "      <td>0.0</td>\n",
       "      <td>0.0</td>\n",
       "      <td>0.0</td>\n",
       "      <td>0.0</td>\n",
       "      <td>0.0</td>\n",
       "      <td>0.0</td>\n",
       "      <td>0.0</td>\n",
       "      <td>...</td>\n",
       "      <td>0.0</td>\n",
       "      <td>0.0</td>\n",
       "      <td>0.0</td>\n",
       "      <td>0.0</td>\n",
       "      <td>0.0</td>\n",
       "      <td>0.0</td>\n",
       "      <td>0.0</td>\n",
       "      <td>0.0</td>\n",
       "      <td>0.0</td>\n",
       "      <td>0.0</td>\n",
       "    </tr>\n",
       "    <tr>\n",
       "      <th>1</th>\n",
       "      <td>1</td>\n",
       "      <td>-3.296</td>\n",
       "      <td>0.0</td>\n",
       "      <td>0.0</td>\n",
       "      <td>0.0</td>\n",
       "      <td>0.0</td>\n",
       "      <td>0.0</td>\n",
       "      <td>0.0</td>\n",
       "      <td>0.0</td>\n",
       "      <td>0.0</td>\n",
       "      <td>...</td>\n",
       "      <td>0.0</td>\n",
       "      <td>0.0</td>\n",
       "      <td>0.0</td>\n",
       "      <td>0.0</td>\n",
       "      <td>0.0</td>\n",
       "      <td>0.0</td>\n",
       "      <td>0.0</td>\n",
       "      <td>0.0</td>\n",
       "      <td>0.0</td>\n",
       "      <td>0.0</td>\n",
       "    </tr>\n",
       "    <tr>\n",
       "      <th>2</th>\n",
       "      <td>2</td>\n",
       "      <td>-3.174</td>\n",
       "      <td>0.0</td>\n",
       "      <td>0.0</td>\n",
       "      <td>0.0</td>\n",
       "      <td>0.0</td>\n",
       "      <td>0.0</td>\n",
       "      <td>0.0</td>\n",
       "      <td>0.0</td>\n",
       "      <td>0.0</td>\n",
       "      <td>...</td>\n",
       "      <td>0.0</td>\n",
       "      <td>0.0</td>\n",
       "      <td>0.0</td>\n",
       "      <td>0.0</td>\n",
       "      <td>0.0</td>\n",
       "      <td>0.0</td>\n",
       "      <td>0.0</td>\n",
       "      <td>0.0</td>\n",
       "      <td>0.0</td>\n",
       "      <td>0.0</td>\n",
       "    </tr>\n",
       "    <tr>\n",
       "      <th>3</th>\n",
       "      <td>3</td>\n",
       "      <td>-2.911</td>\n",
       "      <td>0.0</td>\n",
       "      <td>0.0</td>\n",
       "      <td>0.0</td>\n",
       "      <td>0.0</td>\n",
       "      <td>0.0</td>\n",
       "      <td>0.0</td>\n",
       "      <td>0.0</td>\n",
       "      <td>0.0</td>\n",
       "      <td>...</td>\n",
       "      <td>0.0</td>\n",
       "      <td>0.0</td>\n",
       "      <td>0.0</td>\n",
       "      <td>0.0</td>\n",
       "      <td>0.0</td>\n",
       "      <td>0.0</td>\n",
       "      <td>0.0</td>\n",
       "      <td>0.0</td>\n",
       "      <td>0.0</td>\n",
       "      <td>0.0</td>\n",
       "    </tr>\n",
       "    <tr>\n",
       "      <th>4</th>\n",
       "      <td>4</td>\n",
       "      <td>-2.833</td>\n",
       "      <td>0.0</td>\n",
       "      <td>0.0</td>\n",
       "      <td>0.0</td>\n",
       "      <td>0.0</td>\n",
       "      <td>0.0</td>\n",
       "      <td>0.0</td>\n",
       "      <td>0.0</td>\n",
       "      <td>0.0</td>\n",
       "      <td>...</td>\n",
       "      <td>0.0</td>\n",
       "      <td>0.0</td>\n",
       "      <td>0.0</td>\n",
       "      <td>0.0</td>\n",
       "      <td>0.0</td>\n",
       "      <td>0.0</td>\n",
       "      <td>0.0</td>\n",
       "      <td>0.0</td>\n",
       "      <td>0.0</td>\n",
       "      <td>0.0</td>\n",
       "    </tr>\n",
       "    <tr>\n",
       "      <th>...</th>\n",
       "      <td>...</td>\n",
       "      <td>...</td>\n",
       "      <td>...</td>\n",
       "      <td>...</td>\n",
       "      <td>...</td>\n",
       "      <td>...</td>\n",
       "      <td>...</td>\n",
       "      <td>...</td>\n",
       "      <td>...</td>\n",
       "      <td>...</td>\n",
       "      <td>...</td>\n",
       "      <td>...</td>\n",
       "      <td>...</td>\n",
       "      <td>...</td>\n",
       "      <td>...</td>\n",
       "      <td>...</td>\n",
       "      <td>...</td>\n",
       "      <td>...</td>\n",
       "      <td>...</td>\n",
       "      <td>...</td>\n",
       "      <td>...</td>\n",
       "    </tr>\n",
       "    <tr>\n",
       "      <th>193</th>\n",
       "      <td>0</td>\n",
       "      <td>-6.095</td>\n",
       "      <td>0.0</td>\n",
       "      <td>0.0</td>\n",
       "      <td>0.0</td>\n",
       "      <td>0.0</td>\n",
       "      <td>0.0</td>\n",
       "      <td>0.0</td>\n",
       "      <td>0.0</td>\n",
       "      <td>0.0</td>\n",
       "      <td>...</td>\n",
       "      <td>0.0</td>\n",
       "      <td>0.0</td>\n",
       "      <td>0.0</td>\n",
       "      <td>1.0</td>\n",
       "      <td>1.0</td>\n",
       "      <td>1.0</td>\n",
       "      <td>5.0</td>\n",
       "      <td>1.0</td>\n",
       "      <td>1.0</td>\n",
       "      <td>0.0</td>\n",
       "    </tr>\n",
       "    <tr>\n",
       "      <th>194</th>\n",
       "      <td>1</td>\n",
       "      <td>-5.957</td>\n",
       "      <td>0.0</td>\n",
       "      <td>0.0</td>\n",
       "      <td>0.0</td>\n",
       "      <td>0.0</td>\n",
       "      <td>0.0</td>\n",
       "      <td>0.0</td>\n",
       "      <td>0.0</td>\n",
       "      <td>0.0</td>\n",
       "      <td>...</td>\n",
       "      <td>0.0</td>\n",
       "      <td>0.0</td>\n",
       "      <td>0.0</td>\n",
       "      <td>0.0</td>\n",
       "      <td>0.0</td>\n",
       "      <td>0.0</td>\n",
       "      <td>6.0</td>\n",
       "      <td>0.0</td>\n",
       "      <td>1.0</td>\n",
       "      <td>0.0</td>\n",
       "    </tr>\n",
       "    <tr>\n",
       "      <th>195</th>\n",
       "      <td>2</td>\n",
       "      <td>-5.874</td>\n",
       "      <td>0.0</td>\n",
       "      <td>0.0</td>\n",
       "      <td>0.0</td>\n",
       "      <td>0.0</td>\n",
       "      <td>0.0</td>\n",
       "      <td>0.0</td>\n",
       "      <td>0.0</td>\n",
       "      <td>0.0</td>\n",
       "      <td>...</td>\n",
       "      <td>0.0</td>\n",
       "      <td>0.0</td>\n",
       "      <td>0.0</td>\n",
       "      <td>0.0</td>\n",
       "      <td>0.0</td>\n",
       "      <td>1.0</td>\n",
       "      <td>0.0</td>\n",
       "      <td>1.0</td>\n",
       "      <td>1.0</td>\n",
       "      <td>0.0</td>\n",
       "    </tr>\n",
       "    <tr>\n",
       "      <th>196</th>\n",
       "      <td>3</td>\n",
       "      <td>-5.335</td>\n",
       "      <td>0.0</td>\n",
       "      <td>0.0</td>\n",
       "      <td>0.0</td>\n",
       "      <td>0.0</td>\n",
       "      <td>0.0</td>\n",
       "      <td>0.0</td>\n",
       "      <td>0.0</td>\n",
       "      <td>0.0</td>\n",
       "      <td>...</td>\n",
       "      <td>0.0</td>\n",
       "      <td>0.0</td>\n",
       "      <td>0.0</td>\n",
       "      <td>0.0</td>\n",
       "      <td>0.0</td>\n",
       "      <td>0.0</td>\n",
       "      <td>0.0</td>\n",
       "      <td>0.0</td>\n",
       "      <td>0.0</td>\n",
       "      <td>0.0</td>\n",
       "    </tr>\n",
       "    <tr>\n",
       "      <th>197</th>\n",
       "      <td>4</td>\n",
       "      <td>-5.240</td>\n",
       "      <td>0.0</td>\n",
       "      <td>0.0</td>\n",
       "      <td>0.0</td>\n",
       "      <td>0.0</td>\n",
       "      <td>0.0</td>\n",
       "      <td>0.0</td>\n",
       "      <td>0.0</td>\n",
       "      <td>0.0</td>\n",
       "      <td>...</td>\n",
       "      <td>0.0</td>\n",
       "      <td>0.0</td>\n",
       "      <td>0.0</td>\n",
       "      <td>0.0</td>\n",
       "      <td>0.0</td>\n",
       "      <td>0.0</td>\n",
       "      <td>0.0</td>\n",
       "      <td>0.0</td>\n",
       "      <td>0.0</td>\n",
       "      <td>1.0</td>\n",
       "    </tr>\n",
       "  </tbody>\n",
       "</table>\n",
       "<p>198 rows × 135 columns</p>\n",
       "</div>"
      ],
      "text/plain": [
       "    Frame  Score       UNL1                                              \\\n",
       "                    ILE24.H    GLY25.H    GLY69.H    LYS70.H   GLU164.H   \n",
       "                 VdWContact VdWContact VdWContact VdWContact VdWContact   \n",
       "0       0 -3.402        0.0        0.0        0.0        0.0        0.0   \n",
       "1       1 -3.296        0.0        0.0        0.0        0.0        0.0   \n",
       "2       2 -3.174        0.0        0.0        0.0        0.0        0.0   \n",
       "3       3 -2.911        0.0        0.0        0.0        0.0        0.0   \n",
       "4       4 -2.833        0.0        0.0        0.0        0.0        0.0   \n",
       "..    ...    ...        ...        ...        ...        ...        ...   \n",
       "193     0 -6.095        0.0        0.0        0.0        0.0        0.0   \n",
       "194     1 -5.957        0.0        0.0        0.0        0.0        0.0   \n",
       "195     2 -5.874        0.0        0.0        0.0        0.0        0.0   \n",
       "196     3 -5.335        0.0        0.0        0.0        0.0        0.0   \n",
       "197     4 -5.240        0.0        0.0        0.0        0.0        0.0   \n",
       "\n",
       "                                       ...                                    \\\n",
       "       SER27.H     HIS57.H             ...   SER195.H    VAL213.H              \n",
       "    VdWContact Hydrophobic PiStacking  ... VdWContact Hydrophobic VdWContact   \n",
       "0          0.0         0.0        0.0  ...        0.0         0.0        0.0   \n",
       "1          0.0         0.0        0.0  ...        0.0         0.0        0.0   \n",
       "2          0.0         0.0        0.0  ...        0.0         0.0        0.0   \n",
       "3          0.0         0.0        0.0  ...        0.0         0.0        0.0   \n",
       "4          0.0         0.0        0.0  ...        0.0         0.0        0.0   \n",
       "..         ...         ...        ...  ...        ...         ...        ...   \n",
       "193        0.0         0.0        0.0  ...        0.0         0.0        0.0   \n",
       "194        0.0         0.0        0.0  ...        0.0         0.0        0.0   \n",
       "195        0.0         0.0        0.0  ...        0.0         0.0        0.0   \n",
       "196        0.0         0.0        0.0  ...        0.0         0.0        0.0   \n",
       "197        0.0         0.0        0.0  ...        0.0         0.0        0.0   \n",
       "\n",
       "                                                                       \\\n",
       "       TYR76.H     ILE82.H                MET84.H            LYS110.H   \n",
       "    PiStacking Hydrophobic VdWContact Hydrophobic VdWContact PiCation   \n",
       "0          0.0         0.0        0.0         0.0        0.0      0.0   \n",
       "1          0.0         0.0        0.0         0.0        0.0      0.0   \n",
       "2          0.0         0.0        0.0         0.0        0.0      0.0   \n",
       "3          0.0         0.0        0.0         0.0        0.0      0.0   \n",
       "4          0.0         0.0        0.0         0.0        0.0      0.0   \n",
       "..         ...         ...        ...         ...        ...      ...   \n",
       "193        1.0         1.0        1.0         5.0        1.0      1.0   \n",
       "194        0.0         0.0        0.0         6.0        0.0      1.0   \n",
       "195        0.0         0.0        1.0         0.0        1.0      1.0   \n",
       "196        0.0         0.0        0.0         0.0        0.0      0.0   \n",
       "197        0.0         0.0        0.0         0.0        0.0      0.0   \n",
       "\n",
       "                \n",
       "      PRO111.H  \n",
       "    VdWContact  \n",
       "0          0.0  \n",
       "1          0.0  \n",
       "2          0.0  \n",
       "3          0.0  \n",
       "4          0.0  \n",
       "..         ...  \n",
       "193        0.0  \n",
       "194        0.0  \n",
       "195        0.0  \n",
       "196        0.0  \n",
       "197        1.0  \n",
       "\n",
       "[198 rows x 135 columns]"
      ]
     },
     "execution_count": 135,
     "metadata": {},
     "output_type": "execute_result"
    }
   ],
   "source": [
    "df2"
   ]
  },
  {
   "cell_type": "code",
   "execution_count": 136,
   "id": "336a3080",
   "metadata": {},
   "outputs": [],
   "source": [
    "largest_array_column = {}\n",
    "for col_num, column in enumerate(df):\n",
    "    largest_array = 0\n",
    "    if col_num > 1:\n",
    "        for row in df[column]:\n",
    "            if int(row) > largest_array:\n",
    "                largest_array = int(row)\n",
    "        largest_array_column[column] = largest_array"
   ]
  },
  {
   "cell_type": "code",
   "execution_count": 137,
   "id": "9208c489",
   "metadata": {},
   "outputs": [],
   "source": [
    "%%capture\n",
    "# create new columns for functional group, residue type, distance, and index information\n",
    "# LEE NOTE TO LEE: fix how columns are added. make pretty\n",
    "col_names_list = []\n",
    "residues = []\n",
    "interactions = []\n",
    "total_counter = 0\n",
    "for key in all_ifps:\n",
    "    for key_new in key:\n",
    "        for key_2 in key[key_new]:\n",
    "            print(key_new)\n",
    "            residues.append(str(key_new[1]))\n",
    "            interactions.append(str(key_2))\n",
    "            lig_name = str(key_new[0])\n",
    "            res_name = str(key_new[1])\n",
    "            column_name = (lig_name, res_name, key_2)\n",
    "            if column_name not in col_names_list:\n",
    "                df2[column_name] = df[column_name]\n",
    "                number_of_ints = int(largest_array_column[column_name])\n",
    "                counter_ind = 0\n",
    "                while counter_ind < number_of_ints:\n",
    "                    df2[(lig_name, res_name, f\"Functional group involved ({key_2}){counter_ind}\")] = pd.Series([0] * df.shape[0])\n",
    "                    df2[(lig_name, res_name, f\"Residue type({key_2}){counter_ind}\")] = pd.Series([0] * df.shape[0])\n",
    "                    df2[(lig_name, res_name, f\"Distance ({key_2}){counter_ind}\")] = pd.Series([0] * df.shape[0])\n",
    "                    df2[(lig_name, res_name, f\"Index 1 (Ligand) ({key_2}){counter_ind}\")] = pd.Series([0] * df.shape[0])\n",
    "                    df2[(lig_name, res_name, f\"Index 2 (Ligand) ({key_2}){counter_ind}\")] = pd.Series([0] * df.shape[0])\n",
    "                    df2[(lig_name, res_name, f\"Index 3 (Protein) ({key_2}){counter_ind}\")] = pd.Series([0] * df.shape[0])\n",
    "                    df2[(lig_name, res_name, f\"Index 4 (Protein) ({key_2}){counter_ind}\")] = pd.Series([0] * df.shape[0])\n",
    "                    counter_ind += 1\n",
    "            total_counter += 1"
   ]
  },
  {
   "cell_type": "code",
   "execution_count": 138,
   "id": "f3152edb",
   "metadata": {},
   "outputs": [],
   "source": [
    "df2 = df2.astype(object)"
   ]
  },
  {
   "cell_type": "markdown",
   "id": "aa613da8",
   "metadata": {},
   "source": [
    "To get the functional groups in each ligand, a dictionary is created where the keys are the indexes of atoms determined to be in a functional group, and the corresponding value is the name of the functional group. Due to keys being unable to be used more than once in a dictionary, atoms that are members of two or more functional groups will only have one of their functional groups listed as the value."
   ]
  },
  {
   "cell_type": "code",
   "execution_count": 139,
   "id": "c5428b00",
   "metadata": {},
   "outputs": [],
   "source": [
    "# create amino acid residue and functional group dictionaries\n",
    "all_func_groups, type_dict, functional_groups, functional_groups_dict, groups_to_numbers, groups_dict = get_vars()\n",
    "\n",
    "#LEE NOTE TO LEE: changes made above makes this cell non-functional. fix\n",
    "# find atom indices for ligand and protein, functional groups involved (ligand), residue type (protein), and\n",
    "# distance between ligand and protein in interaction\n",
    "total_counter = 0\n",
    "for number, key in enumerate(all_ifps):\n",
    "    for key_new in key:\n",
    "        for key_2 in key[key_new]:\n",
    "            lig_name = str(key_new[0])\n",
    "            res_name = str(key_new[1])\n",
    "            column_name = (lig_name, res_name, key_2)\n",
    "            get_pose = df2[\"Frame\"][number]\n",
    "            x = key[key_new]\n",
    "            y = x[key_2]\n",
    "            df_groups = [0] * largest_array_column[column_name]\n",
    "            df_residue = [0] * largest_array_column[column_name]\n",
    "            df_distance = [0] * largest_array_column[column_name]\n",
    "            df_ind_1 = [0] * largest_array_column[column_name]\n",
    "            df_ind_2 = [0] * largest_array_column[column_name]\n",
    "            df_ind_3 = [0] * largest_array_column[column_name]\n",
    "            df_ind_4 = [0] * largest_array_column[column_name]\n",
    "            for inst_num, instance in enumerate(y):\n",
    "                distance = instance[\"distance\"]\n",
    "                df_distance[inst_num] = distance\n",
    "                found_res = res_name[:3]\n",
    "                df_residue[inst_num] = (type_dict[found_res])\n",
    "                parent_index = instance[\"parent_indices\"]\n",
    "                if len(parent_index[\"ligand\"]) == 2:\n",
    "                    df_ind_1[inst_num] = parent_index[\"ligand\"][0]\n",
    "                    df_ind_2[inst_num] = parent_index[\"ligand\"][1]\n",
    "                else:\n",
    "                    df_ind_1[inst_num] = parent_index[\"ligand\"][0]\n",
    "                    df_ind_2[inst_num] = 0\n",
    "                if len(parent_index[\"protein\"]) == 2:\n",
    "                    df_ind_3[inst_num] = parent_index[\"protein\"][0]\n",
    "                    df_ind_4[inst_num] = parent_index[\"protein\"][1]\n",
    "                else:\n",
    "                    df_ind_3[inst_num] = parent_index[\"protein\"][0]\n",
    "                    df_ind_4[inst_num] = 0\n",
    "                current = all_ligand_plf[number]\n",
    "                group_ints = group_idxes_from_mol(current)\n",
    "                for value in group_ints.keys():\n",
    "                    if len(parent_index[\"ligand\"]) == 2:\n",
    "                        if value == parent_index[\"ligand\"][0] | value == parent_index[\"ligand\"][1]:\n",
    "                            df_groups[inst_num] = int(groups_to_numbers[group_ints[value]])\n",
    "                    else:\n",
    "                        if value == parent_index[\"ligand\"][0]:\n",
    "                            df_groups[inst_num] = int(groups_to_numbers[group_ints[value]])\n",
    "            number_of_ints = int(largest_array_column[column_name])\n",
    "            counter_ind = 0\n",
    "            while counter < number_of_ints:\n",
    "                df2.at[number, (lig_name, res_name, f\"Functional group involved ({key_2}){counter_ind}\")] = pd.array(df_groups, dtype=int)\n",
    "                df2.at[number, (lig_name, res_name, f\"Residue type({key_2}){counter_ind}\")] = pd.array(df_residue, dtype=int)\n",
    "                df2.at[number, (lig_name, res_name, f\"Distance ({key_2}){counter_ind}\")] = pd.array(df_distance, dtype=int)\n",
    "                df2.at[number, (lig_name, res_name, f\"Index 1 (Ligand) ({key_2}){counter_ind}\")] = pd.array(df_ind_1, dtype=int)\n",
    "                df2.at[number, (lig_name, res_name, f\"Index 2 (Ligand) ({key_2}){counter_ind}\")] = pd.array(df_ind_2, dtype=int)\n",
    "                df2.at[number, (lig_name, res_name, f\"Index 3 (Protein) ({key_2}){counter_ind}\")] = pd.array(df_ind_3, dtype=int)\n",
    "                df2.at[number, (lig_name, res_name, f\"Index 4 (Protein) ({key_2}){counter_ind}\")] = pd.array(df_ind_4, dtype=int)\n",
    "                counter_ind += 1\n",
    "            total_counter += 1"
   ]
  },
  {
   "cell_type": "code",
   "execution_count": 140,
   "id": "122dc2b3",
   "metadata": {},
   "outputs": [
    {
     "data": {
      "text/html": [
       "<div>\n",
       "<style scoped>\n",
       "    .dataframe tbody tr th:only-of-type {\n",
       "        vertical-align: middle;\n",
       "    }\n",
       "\n",
       "    .dataframe tbody tr th {\n",
       "        vertical-align: top;\n",
       "    }\n",
       "\n",
       "    .dataframe thead tr th {\n",
       "        text-align: left;\n",
       "    }\n",
       "</style>\n",
       "<table border=\"1\" class=\"dataframe\">\n",
       "  <thead>\n",
       "    <tr>\n",
       "      <th></th>\n",
       "      <th>Frame</th>\n",
       "      <th>Score</th>\n",
       "      <th colspan=\"19\" halign=\"left\">UNL1</th>\n",
       "    </tr>\n",
       "    <tr>\n",
       "      <th></th>\n",
       "      <th></th>\n",
       "      <th></th>\n",
       "      <th>ILE24.H</th>\n",
       "      <th>GLY25.H</th>\n",
       "      <th>GLY69.H</th>\n",
       "      <th>LYS70.H</th>\n",
       "      <th>GLU164.H</th>\n",
       "      <th>SER27.H</th>\n",
       "      <th colspan=\"2\" halign=\"left\">HIS57.H</th>\n",
       "      <th>...</th>\n",
       "      <th colspan=\"3\" halign=\"left\">ILE82.H</th>\n",
       "      <th colspan=\"7\" halign=\"left\">PRO111.H</th>\n",
       "    </tr>\n",
       "    <tr>\n",
       "      <th></th>\n",
       "      <th></th>\n",
       "      <th></th>\n",
       "      <th>VdWContact</th>\n",
       "      <th>VdWContact</th>\n",
       "      <th>VdWContact</th>\n",
       "      <th>VdWContact</th>\n",
       "      <th>VdWContact</th>\n",
       "      <th>VdWContact</th>\n",
       "      <th>Hydrophobic</th>\n",
       "      <th>PiStacking</th>\n",
       "      <th>...</th>\n",
       "      <th>Index 2 (Ligand) (VdWContact)0</th>\n",
       "      <th>Index 3 (Protein) (VdWContact)0</th>\n",
       "      <th>Index 4 (Protein) (VdWContact)0</th>\n",
       "      <th>Functional group involved (VdWContact)0</th>\n",
       "      <th>Residue type(VdWContact)0</th>\n",
       "      <th>Distance (VdWContact)0</th>\n",
       "      <th>Index 1 (Ligand) (VdWContact)0</th>\n",
       "      <th>Index 2 (Ligand) (VdWContact)0</th>\n",
       "      <th>Index 3 (Protein) (VdWContact)0</th>\n",
       "      <th>Index 4 (Protein) (VdWContact)0</th>\n",
       "    </tr>\n",
       "  </thead>\n",
       "  <tbody>\n",
       "    <tr>\n",
       "      <th>0</th>\n",
       "      <td>0</td>\n",
       "      <td>-3.402</td>\n",
       "      <td>0</td>\n",
       "      <td>0</td>\n",
       "      <td>0</td>\n",
       "      <td>0</td>\n",
       "      <td>0</td>\n",
       "      <td>0</td>\n",
       "      <td>0</td>\n",
       "      <td>0</td>\n",
       "      <td>...</td>\n",
       "      <td>0</td>\n",
       "      <td>0</td>\n",
       "      <td>0</td>\n",
       "      <td>0</td>\n",
       "      <td>0</td>\n",
       "      <td>0</td>\n",
       "      <td>0</td>\n",
       "      <td>0</td>\n",
       "      <td>0</td>\n",
       "      <td>0</td>\n",
       "    </tr>\n",
       "    <tr>\n",
       "      <th>1</th>\n",
       "      <td>1</td>\n",
       "      <td>-3.296</td>\n",
       "      <td>0</td>\n",
       "      <td>0</td>\n",
       "      <td>0</td>\n",
       "      <td>0</td>\n",
       "      <td>0</td>\n",
       "      <td>0</td>\n",
       "      <td>0</td>\n",
       "      <td>0</td>\n",
       "      <td>...</td>\n",
       "      <td>0</td>\n",
       "      <td>0</td>\n",
       "      <td>0</td>\n",
       "      <td>0</td>\n",
       "      <td>0</td>\n",
       "      <td>0</td>\n",
       "      <td>0</td>\n",
       "      <td>0</td>\n",
       "      <td>0</td>\n",
       "      <td>0</td>\n",
       "    </tr>\n",
       "    <tr>\n",
       "      <th>2</th>\n",
       "      <td>2</td>\n",
       "      <td>-3.174</td>\n",
       "      <td>0</td>\n",
       "      <td>0</td>\n",
       "      <td>0</td>\n",
       "      <td>0</td>\n",
       "      <td>0</td>\n",
       "      <td>0</td>\n",
       "      <td>0</td>\n",
       "      <td>0</td>\n",
       "      <td>...</td>\n",
       "      <td>0</td>\n",
       "      <td>0</td>\n",
       "      <td>0</td>\n",
       "      <td>0</td>\n",
       "      <td>0</td>\n",
       "      <td>0</td>\n",
       "      <td>0</td>\n",
       "      <td>0</td>\n",
       "      <td>0</td>\n",
       "      <td>0</td>\n",
       "    </tr>\n",
       "    <tr>\n",
       "      <th>3</th>\n",
       "      <td>3</td>\n",
       "      <td>-2.911</td>\n",
       "      <td>0</td>\n",
       "      <td>0</td>\n",
       "      <td>0</td>\n",
       "      <td>0</td>\n",
       "      <td>0</td>\n",
       "      <td>0</td>\n",
       "      <td>0</td>\n",
       "      <td>0</td>\n",
       "      <td>...</td>\n",
       "      <td>0</td>\n",
       "      <td>0</td>\n",
       "      <td>0</td>\n",
       "      <td>0</td>\n",
       "      <td>0</td>\n",
       "      <td>0</td>\n",
       "      <td>0</td>\n",
       "      <td>0</td>\n",
       "      <td>0</td>\n",
       "      <td>0</td>\n",
       "    </tr>\n",
       "    <tr>\n",
       "      <th>4</th>\n",
       "      <td>4</td>\n",
       "      <td>-2.833</td>\n",
       "      <td>0</td>\n",
       "      <td>0</td>\n",
       "      <td>0</td>\n",
       "      <td>0</td>\n",
       "      <td>0</td>\n",
       "      <td>0</td>\n",
       "      <td>0</td>\n",
       "      <td>0</td>\n",
       "      <td>...</td>\n",
       "      <td>0</td>\n",
       "      <td>0</td>\n",
       "      <td>0</td>\n",
       "      <td>0</td>\n",
       "      <td>0</td>\n",
       "      <td>0</td>\n",
       "      <td>0</td>\n",
       "      <td>0</td>\n",
       "      <td>0</td>\n",
       "      <td>0</td>\n",
       "    </tr>\n",
       "    <tr>\n",
       "      <th>...</th>\n",
       "      <td>...</td>\n",
       "      <td>...</td>\n",
       "      <td>...</td>\n",
       "      <td>...</td>\n",
       "      <td>...</td>\n",
       "      <td>...</td>\n",
       "      <td>...</td>\n",
       "      <td>...</td>\n",
       "      <td>...</td>\n",
       "      <td>...</td>\n",
       "      <td>...</td>\n",
       "      <td>...</td>\n",
       "      <td>...</td>\n",
       "      <td>...</td>\n",
       "      <td>...</td>\n",
       "      <td>...</td>\n",
       "      <td>...</td>\n",
       "      <td>...</td>\n",
       "      <td>...</td>\n",
       "      <td>...</td>\n",
       "      <td>...</td>\n",
       "    </tr>\n",
       "    <tr>\n",
       "      <th>193</th>\n",
       "      <td>0</td>\n",
       "      <td>-6.095</td>\n",
       "      <td>0</td>\n",
       "      <td>0</td>\n",
       "      <td>0</td>\n",
       "      <td>0</td>\n",
       "      <td>0</td>\n",
       "      <td>0</td>\n",
       "      <td>0</td>\n",
       "      <td>0</td>\n",
       "      <td>...</td>\n",
       "      <td>0</td>\n",
       "      <td>0</td>\n",
       "      <td>0</td>\n",
       "      <td>0</td>\n",
       "      <td>0</td>\n",
       "      <td>0</td>\n",
       "      <td>0</td>\n",
       "      <td>0</td>\n",
       "      <td>0</td>\n",
       "      <td>0</td>\n",
       "    </tr>\n",
       "    <tr>\n",
       "      <th>194</th>\n",
       "      <td>1</td>\n",
       "      <td>-5.957</td>\n",
       "      <td>0</td>\n",
       "      <td>0</td>\n",
       "      <td>0</td>\n",
       "      <td>0</td>\n",
       "      <td>0</td>\n",
       "      <td>0</td>\n",
       "      <td>0</td>\n",
       "      <td>0</td>\n",
       "      <td>...</td>\n",
       "      <td>0</td>\n",
       "      <td>0</td>\n",
       "      <td>0</td>\n",
       "      <td>0</td>\n",
       "      <td>0</td>\n",
       "      <td>0</td>\n",
       "      <td>0</td>\n",
       "      <td>0</td>\n",
       "      <td>0</td>\n",
       "      <td>0</td>\n",
       "    </tr>\n",
       "    <tr>\n",
       "      <th>195</th>\n",
       "      <td>2</td>\n",
       "      <td>-5.874</td>\n",
       "      <td>0</td>\n",
       "      <td>0</td>\n",
       "      <td>0</td>\n",
       "      <td>0</td>\n",
       "      <td>0</td>\n",
       "      <td>0</td>\n",
       "      <td>0</td>\n",
       "      <td>0</td>\n",
       "      <td>...</td>\n",
       "      <td>0</td>\n",
       "      <td>0</td>\n",
       "      <td>0</td>\n",
       "      <td>0</td>\n",
       "      <td>0</td>\n",
       "      <td>0</td>\n",
       "      <td>0</td>\n",
       "      <td>0</td>\n",
       "      <td>0</td>\n",
       "      <td>0</td>\n",
       "    </tr>\n",
       "    <tr>\n",
       "      <th>196</th>\n",
       "      <td>3</td>\n",
       "      <td>-5.335</td>\n",
       "      <td>0</td>\n",
       "      <td>0</td>\n",
       "      <td>0</td>\n",
       "      <td>0</td>\n",
       "      <td>0</td>\n",
       "      <td>0</td>\n",
       "      <td>0</td>\n",
       "      <td>0</td>\n",
       "      <td>...</td>\n",
       "      <td>0</td>\n",
       "      <td>0</td>\n",
       "      <td>0</td>\n",
       "      <td>0</td>\n",
       "      <td>0</td>\n",
       "      <td>0</td>\n",
       "      <td>0</td>\n",
       "      <td>0</td>\n",
       "      <td>0</td>\n",
       "      <td>0</td>\n",
       "    </tr>\n",
       "    <tr>\n",
       "      <th>197</th>\n",
       "      <td>4</td>\n",
       "      <td>-5.24</td>\n",
       "      <td>0</td>\n",
       "      <td>0</td>\n",
       "      <td>0</td>\n",
       "      <td>0</td>\n",
       "      <td>0</td>\n",
       "      <td>0</td>\n",
       "      <td>0</td>\n",
       "      <td>0</td>\n",
       "      <td>...</td>\n",
       "      <td>0</td>\n",
       "      <td>0</td>\n",
       "      <td>0</td>\n",
       "      <td>0</td>\n",
       "      <td>0</td>\n",
       "      <td>0</td>\n",
       "      <td>0</td>\n",
       "      <td>0</td>\n",
       "      <td>0</td>\n",
       "      <td>0</td>\n",
       "    </tr>\n",
       "  </tbody>\n",
       "</table>\n",
       "<p>198 rows × 2991 columns</p>\n",
       "</div>"
      ],
      "text/plain": [
       "    Frame  Score       UNL1                                              \\\n",
       "                    ILE24.H    GLY25.H    GLY69.H    LYS70.H   GLU164.H   \n",
       "                 VdWContact VdWContact VdWContact VdWContact VdWContact   \n",
       "0       0 -3.402          0          0          0          0          0   \n",
       "1       1 -3.296          0          0          0          0          0   \n",
       "2       2 -3.174          0          0          0          0          0   \n",
       "3       3 -2.911          0          0          0          0          0   \n",
       "4       4 -2.833          0          0          0          0          0   \n",
       "..    ...    ...        ...        ...        ...        ...        ...   \n",
       "193     0 -6.095          0          0          0          0          0   \n",
       "194     1 -5.957          0          0          0          0          0   \n",
       "195     2 -5.874          0          0          0          0          0   \n",
       "196     3 -5.335          0          0          0          0          0   \n",
       "197     4  -5.24          0          0          0          0          0   \n",
       "\n",
       "                                       ...                                 \\\n",
       "       SER27.H     HIS57.H             ...                        ILE82.H   \n",
       "    VdWContact Hydrophobic PiStacking  ... Index 2 (Ligand) (VdWContact)0   \n",
       "0            0           0          0  ...                              0   \n",
       "1            0           0          0  ...                              0   \n",
       "2            0           0          0  ...                              0   \n",
       "3            0           0          0  ...                              0   \n",
       "4            0           0          0  ...                              0   \n",
       "..         ...         ...        ...  ...                            ...   \n",
       "193          0           0          0  ...                              0   \n",
       "194          0           0          0  ...                              0   \n",
       "195          0           0          0  ...                              0   \n",
       "196          0           0          0  ...                              0   \n",
       "197          0           0          0  ...                              0   \n",
       "\n",
       "                                                                     \\\n",
       "                                                                      \n",
       "    Index 3 (Protein) (VdWContact)0 Index 4 (Protein) (VdWContact)0   \n",
       "0                                 0                               0   \n",
       "1                                 0                               0   \n",
       "2                                 0                               0   \n",
       "3                                 0                               0   \n",
       "4                                 0                               0   \n",
       "..                              ...                             ...   \n",
       "193                               0                               0   \n",
       "194                               0                               0   \n",
       "195                               0                               0   \n",
       "196                               0                               0   \n",
       "197                               0                               0   \n",
       "\n",
       "                                                                       \\\n",
       "                                   PRO111.H                             \n",
       "    Functional group involved (VdWContact)0 Residue type(VdWContact)0   \n",
       "0                                         0                         0   \n",
       "1                                         0                         0   \n",
       "2                                         0                         0   \n",
       "3                                         0                         0   \n",
       "4                                         0                         0   \n",
       "..                                      ...                       ...   \n",
       "193                                       0                         0   \n",
       "194                                       0                         0   \n",
       "195                                       0                         0   \n",
       "196                                       0                         0   \n",
       "197                                       0                         0   \n",
       "\n",
       "                                                           \\\n",
       "                                                            \n",
       "    Distance (VdWContact)0 Index 1 (Ligand) (VdWContact)0   \n",
       "0                        0                              0   \n",
       "1                        0                              0   \n",
       "2                        0                              0   \n",
       "3                        0                              0   \n",
       "4                        0                              0   \n",
       "..                     ...                            ...   \n",
       "193                      0                              0   \n",
       "194                      0                              0   \n",
       "195                      0                              0   \n",
       "196                      0                              0   \n",
       "197                      0                              0   \n",
       "\n",
       "                                                                    \\\n",
       "                                                                     \n",
       "    Index 2 (Ligand) (VdWContact)0 Index 3 (Protein) (VdWContact)0   \n",
       "0                                0                               0   \n",
       "1                                0                               0   \n",
       "2                                0                               0   \n",
       "3                                0                               0   \n",
       "4                                0                               0   \n",
       "..                             ...                             ...   \n",
       "193                              0                               0   \n",
       "194                              0                               0   \n",
       "195                              0                               0   \n",
       "196                              0                               0   \n",
       "197                              0                               0   \n",
       "\n",
       "                                     \n",
       "                                     \n",
       "    Index 4 (Protein) (VdWContact)0  \n",
       "0                                 0  \n",
       "1                                 0  \n",
       "2                                 0  \n",
       "3                                 0  \n",
       "4                                 0  \n",
       "..                              ...  \n",
       "193                               0  \n",
       "194                               0  \n",
       "195                               0  \n",
       "196                               0  \n",
       "197                               0  \n",
       "\n",
       "[198 rows x 2991 columns]"
      ]
     },
     "execution_count": 140,
     "metadata": {},
     "output_type": "execute_result"
    }
   ],
   "source": [
    "df2 = df2.convert_dtypes()\n",
    "df2.to_csv('data/docking_information.csv', index = False)\n",
    "df2"
   ]
  },
  {
   "cell_type": "markdown",
   "id": "b893010c",
   "metadata": {},
   "source": [
    "Using the dropdown created by the cell below, up to five ligand poses can be selected to be viewed with the receptor. The number of viewers created by py3Dmol depends on the value of the \"Number of Poses to View\" dropdown. If multiple ligands were docked, all poses selected to be viewed will be of the same ligand. To select specific poses to view, the pocket number and the pose number corresponding to the desired pose must be selected in the dropdown, making sure that they belong to the same selection as noted in the parentheses of the dropdown's label."
   ]
  },
  {
   "cell_type": "code",
   "execution_count": 94,
   "id": "1eb7e685",
   "metadata": {},
   "outputs": [
    {
     "data": {
      "application/vnd.jupyter.widget-view+json": {
       "model_id": "72da8d48d86f453cbed32e01d12e1b64",
       "version_major": 2,
       "version_minor": 0
      },
      "text/plain": [
       "HBox(children=(Box(children=(Box(children=(Label(value='Ligand'), Dropdown(options=('SIN1', 'FSN501'), value='…"
      ]
     },
     "execution_count": 94,
     "metadata": {},
     "output_type": "execute_result"
    }
   ],
   "source": [
    "# fix for site specific\n",
    "pocket_list = []\n",
    "for pocket in prot_pockets.index:\n",
    "    pocket_list.append((str(pocket), int(pocket)))\n",
    "\n",
    "form_item_layout = Layout(\n",
    "    display='flex',\n",
    "    flex_flow='row',\n",
    "    justify_content='space-between')\n",
    "\n",
    "ligand_number = Dropdown(options = select_ligs.value)\n",
    "visual_number = Dropdown(options = [('1', 1), ('2', 2), ('3', 3), ('4', 4), ('5', 5)])\n",
    "\n",
    "pock_number1 = Dropdown(options = pocket_list)\n",
    "pose_number1 = Dropdown(options = [('1', 1), ('2', 2), ('3', 3), ('4', 4), ('5', 5)])\n",
    "pock_number2 = Dropdown(options = pocket_list)\n",
    "pose_number2 = Dropdown(options = [('1', 1), ('2', 2), ('3', 3), ('4', 4), ('5', 5)])\n",
    "pock_number3 = Dropdown(options = pocket_list)\n",
    "pose_number3 = Dropdown(options = [('1', 1), ('2', 2), ('3', 3), ('4', 4), ('5', 5)])\n",
    "pock_number4 = Dropdown(options = pocket_list)\n",
    "pose_number4 = Dropdown(options = [('1', 1), ('2', 2), ('3', 3), ('4', 4), ('5', 5)])\n",
    "pock_number5 = Dropdown(options = pocket_list)\n",
    "pose_number5 = Dropdown(options = [('1', 1), ('2', 2), ('3', 3), ('4', 4), ('5', 5)])\n",
    "\n",
    "form_items1 = [Box([Label(value='Ligand'), ligand_number], layout=form_item_layout),\n",
    "              Box([Label(value='Number of Poses to View'), visual_number], layout=form_item_layout)]\n",
    "\n",
    "form_items2 = [Box([Label(value='Pocket Number (Selection 1)'), pock_number1], layout=form_item_layout),\n",
    "               Box([Label(value='Pose Number (Selection 1)'), pose_number1], layout=form_item_layout),\n",
    "               Box([Label(value='Pocket Number (Selection 2)'), pock_number2], layout=form_item_layout),\n",
    "               Box([Label(value='Pose Number (Selection 2)'), pose_number2], layout=form_item_layout),\n",
    "               Box([Label(value='Pocket Number (Selection 3)'), pock_number3], layout=form_item_layout),\n",
    "               Box([Label(value='Pose Number (Selection 3)'), pose_number3], layout=form_item_layout),\n",
    "               Box([Label(value='Pocket Number (Selection 4)'), pock_number4], layout=form_item_layout),\n",
    "               Box([Label(value='Pose Number (Selection 4)'), pose_number4], layout=form_item_layout),\n",
    "               Box([Label(value='Pocket Number (Selection 5)'), pock_number5], layout=form_item_layout),\n",
    "               Box([Label(value='Pose Number (Selection 5)'), pose_number5], layout=form_item_layout)\n",
    "              ]\n",
    "\n",
    "form1 = Box(form_items1, layout=Layout(\n",
    "    display='flex',\n",
    "    flex_flow='column',\n",
    "    border='solid 2px',\n",
    "    align_items='stretch',\n",
    "    width='50%'\n",
    "))\n",
    "form2 = Box(form_items2, layout=Layout(\n",
    "    display='flex',\n",
    "    flex_flow='column',\n",
    "    border='solid 2px',\n",
    "    align_items='stretch',\n",
    "    width='50%'\n",
    "))\n",
    "\n",
    "form = HBox([form1, form2])\n",
    "form"
   ]
  },
  {
   "cell_type": "markdown",
   "id": "7d65d4c5",
   "metadata": {},
   "source": [
    "For each pose selected in the dropdown made by the cell above, a viewer containing the receptor (including the space-filling surface of the receptor), the generated ligand pose by the docking engine, and the original ligand pose will be created. All of the generated viewers are linked, so all viewers will rotate and move together. The original ligand pose may not be useful for ligands that were added by uploading a local mol2 file or by inputting a SMILES string."
   ]
  },
  {
   "cell_type": "code",
   "execution_count": null,
   "id": "26ed414f-cf8a-493c-9031-21b822f2b33f",
   "metadata": {},
   "outputs": [],
   "source": [
    "# NEED TO TEST MORE\n",
    "# fix for site specific\n",
    "pocket_selection_list = [int(pock_number1.value), int(pock_number2.value), int(pock_number3.value), int(pock_number4.value), int(pock_number5.value)]\n",
    "pose_selection_list = [int(pose_number1.value), int(pose_number2.value), int(pose_number3.value), int(pose_number4.value), int(pose_number5.value)]\n",
    "\n",
    "#initialize py3dmol viewer\n",
    "view = py3Dmol.view(height = 800, width = 900, viewergrid = (1,int(visual_number.value)), linked = True)\n",
    "view.removeAllModels()\n",
    "view.setViewStyle({'style':'outline','color':'black','width':0.1})\n",
    "\n",
    "# view specified poses\n",
    "num_sel = 0\n",
    "while num_sel < int(visual_number.value): \n",
    "    # add receptor model to all py3dmol viewers\n",
    "    view.addModel(open(f\"data/PDB_files/{pdb_id}_protein_H.pdb\",'r').read(),format='pdb')\n",
    "    Prot=view.getModel(viewer = (0, num_sel))\n",
    "    Prot.setStyle({'cartoon':{'arrows':True, 'tubes':True, 'style':'oval', 'color':'white'}}, viewer = (0, num_sel))\n",
    "    view.addSurface(py3Dmol.VDW,{'opacity':0.6,'color':'white'}, viewer = (0, num_sel))\n",
    "    \n",
    "    # add reference model of ligand to py3dmol viewer\n",
    "    view.addModel(open(f\"data/MOL2_files/{ligand_number.value}_H.mol2\",'r').read(),format='mol2')\n",
    "    ref_m = view.getModel(viewer = (0, num_sel))\n",
    "    ref_m.setStyle({},{'stick':{'colorscheme':'magentaCarbon','radius':0.2}})\n",
    "    \n",
    "    # add experimental docking data of a desired pose in a pocket to py3dmol viewer\n",
    "    selected = Chem.SDMolSupplier(f\"data/{select_dock.value}_out_2/{ligand_number.value}_pocket_{pocket_selection_list[num_sel]}_{select_dock.value}_out_2.sdf\")\n",
    "    p=Chem.MolToMolBlock(selected[pose_selection_list[num_sel] - 1],False)\n",
    "    if dock_engine.value == 'smina':\n",
    "        print('Reference (' + str(ligand_number.value) + '): Magenta | Smina Pose (' + str(ligand_number.value) + '): Cyan')\n",
    "        print ('Score: {}'.format(selected[pose_selection_list[num_sel] - 1].GetProp('minimizedAffinity')))\n",
    "    else:\n",
    "        print('Reference (' + str(ligand_number.value) + '): Magenta | Vina Pose (' + str(ligand_number.value) + '): Cyan')\n",
    "        print ('Pose: {} | Score: {}'.format(selected[pose_selection_list[num_sel] - 1].GetProp('Pose'), selected[pose_selection_list[num_sel] - 1].GetProp('Score')))\n",
    "    view.addModel(p,'mol')\n",
    "    x = view.getModel(viewer = (0, num_sel))\n",
    "    x.setStyle({},{'stick':{'colorscheme':'cyanCarbon','radius':0.2}})\n",
    "    num_sel += 1\n",
    "view.zoomTo()\n",
    "view.show()"
   ]
  },
  {
   "cell_type": "markdown",
   "id": "bb4cd970",
   "metadata": {},
   "source": [
    "Using an IFP, the interactions between the ligand and the receptor can be visualized using prolif's Complex3D submodule. Only one pose and its interactions can be viewed at a time."
   ]
  },
  {
   "cell_type": "code",
   "execution_count": null,
   "id": "9b2fb283",
   "metadata": {},
   "outputs": [],
   "source": [
    "# display interactions. select which one to view using dropdown\n",
    "pose_pock_select = []\n",
    "a = 0\n",
    "while a < int(df.shape[0]):\n",
    "    pose_pock_select.append(a + 1)\n",
    "    a += 1\n",
    "style = {'description_width': 'initial'}\n",
    "select_pose = Dropdown(options = pose_pock_select, description = 'Select Pose to View:', style = style)\n",
    "select_pose"
   ]
  },
  {
   "cell_type": "code",
   "execution_count": null,
   "id": "af1ec355",
   "metadata": {},
   "outputs": [],
   "source": [
    "comp = Complex3D(all_ifps[select_pose.value], all_ligand_plf[select_pose.value], protein_plf)\n",
    "comp.display()"
   ]
  },
  {
   "cell_type": "code",
   "execution_count": null,
   "id": "7838553f",
   "metadata": {},
   "outputs": [],
   "source": []
  }
 ],
 "metadata": {
  "kernelspec": {
   "display_name": "Python 3 (ipykernel)",
   "language": "python",
   "name": "python3"
  },
  "language_info": {
   "codemirror_mode": {
    "name": "ipython",
    "version": 3
   },
   "file_extension": ".py",
   "mimetype": "text/x-python",
   "name": "python",
   "nbconvert_exporter": "python",
   "pygments_lexer": "ipython3",
   "version": "3.12.4"
  },
  "toc": {
   "base_numbering": 1,
   "nav_menu": {},
   "number_sections": true,
   "sideBar": true,
   "skip_h1_title": false,
   "title_cell": "Table of Contents",
   "title_sidebar": "Contents",
   "toc_cell": false,
   "toc_position": {},
   "toc_section_display": true,
   "toc_window_display": false
  }
 },
 "nbformat": 4,
 "nbformat_minor": 5
}
