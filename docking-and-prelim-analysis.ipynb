{
 "cells": [
  {
   "cell_type": "markdown",
   "id": "5b15646e-72dd-48b6-ab6d-a98bfbd56cd1",
   "metadata": {},
   "source": [
    "# Basil Docking V0.1 - Docking and Preliminary Analysis\n",
    "## Purpose\n",
    "\n",
    "__Target Audience__<br>\n",
    "Undergraduate chemistry/biochemistry students and, in general, people that have little to no knowledge of protein-ligand docking and would like to understand the general process of docking a ligand to a protein receptor.\n",
    "\n",
    "__Brief Overview__<br>\n",
    "Molecular docking is a computational method used to predict where molecules are able to bind to a protein receptor and what interactions exist between the molecule (from now on, refered to as \"ligand\") and the receptor. It is a popular technique utilized in drug discovery and design, as when creating new drugs and testing existing drugs aginst new receptors, it is useful to determine the likelihood of binding prior to screening as it can be used to eliminate molecules that are unlikely to bind to the receptor. This significantly reduces the potential cost and time needed to test the efficacy of a set of possible ligands. <br>\n",
    "\n",
    "The general steps to perform molecular docking, assuming the ligand and receptor are ready to be docked, include the generation of potential ligand binding poses and the scoring of each generated pose (which predicts how strongly the ligand binds to the receptor, with a more negative score corresponding to a stronger bond). To dock a ligand to a protein, both the receptor and the ligand/s need to be \"sanitized\"; which includes making sure bonds and protonation states are as they would be in an organism. The receptor and ligand/s also need to be converted into the correct file formats depending on which docking engine is utilized. With all of these steps needed for preparation alone, introducing a need for an in depth view for each distinct step. This series attempts to provide that, as well as give users flexibility to customize the proteins, ligands, and procedures used.<br>\n",
    "\n",
    "This notebook series encompasses \n",
    "1. The preparation needed prior to docking (protein and ligand sanitation, ensuring files are in readable formats, and finding possible binding pockets)\n",
    "2. __The process of docking ligand/s to a protein receptor using two docking engines (VINA and SMINA) and visualizing/analyzing the outputs__\n",
    "3. Further data collection and manipulation\n",
    "\n",
    "__Stepwise summary for this notebook (docking and preliminary analysis, notebook 2 out of 3)__\n",
    "- Get docking box sizes from docking-prep notebook\n",
    "- Dock ligand to protein using either VINA or SMINA\n",
    "- Visualize different poses of ligands docked to protein\n",
    "- Visualize protein-ligand interactions of poses\n",
    "\n",
    "The methods utilized by this notebook are based off of Angel J. Ruiz-Moreno's Jupyter-Dock notebooks, which can be found on their GitHub account AngelRuizMoreno\n",
    "\n",
    "Ruiz-Moreno A.J. Jupyter Dock: Molecular Docking integrated in Jupyter Notebooks. https://doi.org/10.5281/zenodo.5514956"
   ]
  },
  {
   "cell_type": "markdown",
   "id": "33404172-d119-4364-8f44-808a1d703b95",
   "metadata": {},
   "source": [
    "## Table of Libraries Used\n",
    "### Operations, variable creation, and variable manipulation\n",
    "\n",
    "| Module (Submodule/s)| Abbreviation | Role | Citation |\n",
    "| :--- | :--- | :--- | :---|\n",
    "| numpy | np | perform mathematical operations and fix NaN values in dataframe outputs | Harris, C.R., Millman, K.J., van der Walt, S.J. et al. Array programming with NumPy. Nature 585, 357–362 (2020). DOI: 10.1038/s41586-020-2649-2. (Publisher link). |\n",
    "| pandas | pd | organize data in an easy-to-read format and allow for the exporting of data as a .csv file | The pandas development team. (2024). pandas-dev/pandas: Pandas (v2.2.3). Zenodo. https://doi.org/10.5281/zenodo.13819579 |\n",
    "| re |n/a| regular expression; find and pull specific strings of characters depending on need, allow for easy naming and variable creation | Van Rossum, G. (2020). The Python Library Reference, release 3.8.2. Python Software Foundation. |\n",
    "| os | n/a| allow for interaction with computer operating system, including the reading and writing of files |  Van Rossum, G. (2020). The Python Library Reference, release 3.8.2. Python Software Foundation. |\n",
    "| sys |n/a| manipulate python runtime environment |  Van Rossum, G. (2020). The Python Library Reference, release 3.8.2. Python Software Foundation.|\n",
    "| glob |n/a| pull files of interest, specifically for blind docking |  Van Rossum, G. (2020). The Python Library Reference, release 3.8.2. Python Software Foundation. |\n",
    "| warnings | n/a | filter warnings | Van Rossum, G. (2020). The Python Library Reference, release 3.8.2. Python Software Foundation. |\n",
    "\n",
    "### Visualization\n",
    "| Module (Submodule/s)| Abbreviation | Role | Citation |\n",
    "| :--- | :--- | :--- | :--- |\n",
    "| py3Dmol | n/a | apoprotein and protein complex visualization |  Keshavan Seshadri, Peng Liu, and David Ryan Koes. Journal of Chemical Education 2020 97 (10), 3872-3876. https://doi.org/10.1021/acs.jchemed.0c00579. |\n",
    "\n",
    "### Docking\n",
    "| Module (Submodule/s)| Abbreviation | Role | Citation |\n",
    "| :--- | :--- | :--- | :--- |\n",
    "| vina | n/a | ligand-protein docking |  Eberhardt, J., Santos-Martins, D., Tillack, A.F., Forli, S. (2021). AutoDock Vina 1.2.0: New Docking Methods, Expanded Force Field, and Python Bindings. Journal of Chemical Information and Modeling. |\n",
    "| --- | --- | --- | Trott, O., & Olson, A. J. (2010). AutoDock Vina: improving the speed and accuracy of docking with a new scoring function, efficient optimization, and multithreading. Journal of computational chemistry, 31(2), 455-461. |\n",
    "| smina | n/a | ligand-protein docking |  Koes, D. R., Baumgartner, M. P., & Camacho, C. J. (2013). Lessons learned in empirical scoring with smina from the CSAR 2011 benchmarking exercise. Journal of chemical information and modeling, 53(8), 1893–1904. https://doi.org/10.1021/ci300604z |\n",
    "| fpocket | n/a | find possible binding pockets in protein receptors | Le Guilloux, V., Schmidtke, P. & Tuffery, P. Fpocket: An open source platform for ligand pocket detection. BMC Bioinformatics 10, 168 (2009). https://doi.org/10.1186/1471-2105-10-168. |\n",
    "|pdbqt_to_sdf | n/a | create sdf files from pdbqt files created from docking with vina | Ruiz-Moreno A.J. Jupyter Dock: Molecular Docking integrated in Jupyter Notebooks. https://doi.org/10.5281/zenodo.5514956 |\n",
    "\n",
    "### Data analysis\n",
    "| Module (Submodule/s)| Abbreviation | Role | Citation |\n",
    "| :--- | :--- | :--- | :--- |\n",
    "| rdkit (Chem)| n/a | reorder/retrieve ligand atoms, retrieve information from ligand sdf files for visualization and comparison  |  RDKit: Open-source cheminformatics; http://www.rdkit.org |\n",
    "| MDAnalysis (PDB)| mda | allow for the selection of atoms for separating protein from ligands and ligands from each other | R. J. Gowers, M. Linke, J. Barnoud, T. J. E. Reddy, M. N. Melo, S. L. Seyler, D. L. Dotson, J. Domanski, S. Buchoux, I. M. Kenney, and O. Beckstein. MDAnalysis: A Python package for the rapid analysis of molecular dynamics simulations. In S. Benthall and S. Rostrup, editors, Proceedings of the 15th Python in Science Conference, pages 98-105, Austin, TX, 2016. SciPy, doi:10.25080/majora-629e541a-00e. |\n",
    "| --- | --- | --- | N. Michaud-Agrawal, E. J. Denning, T. B. Woolf, and O. Beckstein. MDAnalysis: A Toolkit for the Analysis of Molecular Dynamics Simulations. J. Comput. Chem. 32 (2011), 2319-2327, doi:10.1002/jcc.21787. PMCID:PMC3144279. |\n",
    "| prolif (Complex3D)| plf | calculate, record, and view protein-ligand interactions |  chemosim-lab/ProLIF: v0.3.3 - 2021-06-11.https://doi.org/10.5281/zenodo.4386984. |\n",
    "\n",
    "### UI\n",
    "| Module (Submodule/s)| Abbreviation | Role | Citation |\n",
    "| :--- | :--- | :--- | :--- |\n",
    "| IPython (ipywidgets)| n/a | allow for widgets to be implemented | Fernando Pérez, Brian E. Granger, IPython: A System for Interactive Scientific Computing, Computing in Science and Engineering, vol. 9, no. 3, pp. 21-29, May/June 2007, doi:10.1109/MCSE.2007.53. URL: https://ipython.org |\n",
    "| ipywidgets (Layout, Label, Dropdown, Box)| widgets | create dropdowns for docking engine, pocket number, ligand, and pose selection | Fernando Pérez, Brian E. Granger, IPython: A System for Interactive Scientific Computing, Computing in Science and Engineering, vol. 9, no. 3, pp. 21-29, May/June 2007, doi:10.1109/MCSE.2007.53. URL: https://ipython.org |"
   ]
  },
  {
   "cell_type": "markdown",
   "id": "ee54e537",
   "metadata": {},
   "source": [
    "Import all necessary libraries using the cells below"
   ]
  },
  {
   "cell_type": "code",
   "execution_count": null,
   "id": "9e040484",
   "metadata": {},
   "outputs": [],
   "source": [
    "# find way for this to work without needing ssh key\n",
    "# wouldn't work well on windows, find solution?\n",
    "! git submodule update --init --recursive"
   ]
  },
  {
   "cell_type": "code",
   "execution_count": null,
   "id": "c5a96bde-11e2-4d91-8ad8-6cad43704c9a",
   "metadata": {},
   "outputs": [],
   "source": [
    "import numpy as np\n",
    "import pandas as pd\n",
    "import numbers\n",
    "import re\n",
    "import sys, os\n",
    "import glob\n",
    "\n",
    "import py3Dmol\n",
    "import ipywidgets as widgets\n",
    "from ipywidgets import Layout, Label, Dropdown, Box, HBox, SelectMultiple\n",
    "\n",
    "from vina import Vina\n",
    "\n",
    "from openbabel import pybel\n",
    "from rdkit import Chem\n",
    "import MDAnalysis as mda\n",
    "from MDAnalysis.coordinates import PDB\n",
    "import prolif as plf\n",
    "from prolif.plotting.complex3d import Complex3D\n",
    "\n",
    "sys.path.insert(1, 'utilities/ligandsplitter')\n",
    "from ligandsplitter.ligandanalysis import group_idxes_from_mol, get_ligand_properties, rf_classifier, rf_regressor\n",
    "sys.path.insert(1, 'utilities/')\n",
    "from utils import pdbqt_to_sdf\n",
    "from basil_utils import fetch_data_files, get_ifps, get_scores, get_largest_array_column, expand_df, fill_df, compare_poses_form, compare_poses\n",
    "\n",
    "import warnings\n",
    "warnings.filterwarnings(\"ignore\")\n",
    "warnings.simplefilter(action='ignore', category=pd.errors.PerformanceWarning)"
   ]
  },
  {
   "cell_type": "markdown",
   "id": "823d8be5-c088-4c6b-88ee-b193b1e71657",
   "metadata": {},
   "source": [
    "## Import values from docking-prep"
   ]
  },
  {
   "cell_type": "markdown",
   "id": "e612c7ad",
   "metadata": {},
   "source": [
    "Prior to docking, the data obtained from the previous notebook needs to be imported in order to be used. The glob library retrieves the .csv files created at the end of the previous notebook for both the protein and the ligands. The protein pocket information generated from fpocket is imported from the \"prot_pockets.csv\" file, and the ligand information is imported from the \"ligand_information.csv\" file.\n",
    "</br>\n",
    "\n",
    "To address the presence of multiple .csv files containing information for different proteins and ligands, each generated .csv file in this series contains within its name:\n",
    "1. The PDB ID of the receptor\n",
    "2. The number of ligands generated from the first notebook (for ligand_information only)\n",
    "</br>\n",
    "\n",
    "To select the .csv files of interest, make sure that the characters following the \"id\" in the name corresponds to the PDB ID of interest. For example, for a job using PDB ID \"1oyt\" as the receptor and three ligands, the .csv containing information on its pockets would be named \"data/protein_pockets_id_1oyt.csv\" and the .csv containing information on the ligands would be named \"data/ligand_information_id_1oyt_3.csv\""
   ]
  },
  {
   "cell_type": "code",
   "execution_count": null,
   "id": "b0d8df90",
   "metadata": {},
   "outputs": [],
   "source": [
    "receptor_files, prot_pocket_csvs, ligand_info_csvs = fetch_data_files()"
   ]
  },
  {
   "cell_type": "markdown",
   "id": "a66e06b7",
   "metadata": {},
   "source": [
    "The cell below creates a Dropdown widget which can be used to select the files of interest. Make sure that the PDB IDs in both selections are the same."
   ]
  },
  {
   "cell_type": "code",
   "execution_count": null,
   "id": "e5c85f13",
   "metadata": {},
   "outputs": [],
   "source": [
    "style = {'description_width': 'initial'}\n",
    "box_layout = Layout(display = \"flex\", flex_flow = \"column\", align_items = \"stretch\", border = \"solid\", width = \"75%\")\n",
    "items = [Dropdown(layout = {'width': 'initial'}, options = receptor_files, description = \"Select PDB ID of receptor\", style = style),\n",
    "         Dropdown(layout = {'width': 'initial'}, options = ligand_info_csvs, description = \"Select CSV with Ligand Information\", style = style)]\n",
    "box = Box(children=items, layout = box_layout)\n",
    "box"
   ]
  },
  {
   "cell_type": "markdown",
   "id": "f1200c84",
   "metadata": {},
   "source": [
    "From the Dropdown widget(s) above, dataframes are created from each .csv file that have values that are needed for docking to occur (e.g. ligand/s filenames, center of ligand/s, and size of ligand/s)"
   ]
  },
  {
   "cell_type": "code",
   "execution_count": null,
   "id": "53d1444d-c773-43fa-832b-23a02a19170e",
   "metadata": {},
   "outputs": [],
   "source": [
    "pdb_id = items[0].value\n",
    "csv_selected_ligands = items[1].value\n",
    "csv_smiles_ligands = csv_selected_ligands.replace('information', 'smiles_data')\n",
    "\n",
    "try:\n",
    "    prot_pockets = pd.read_csv(f\"data/protein_pockets_id_{pdb_id}.csv\", index_col = [0])\n",
    "    can_blind_dock = True\n",
    "except:\n",
    "    can_blind_dock = False\n",
    "\n",
    "ligand_information = pd.read_csv(csv_selected_ligands)\n",
    "ligand_smiles = pd.read_csv(csv_smiles_ligands)"
   ]
  },
  {
   "cell_type": "code",
   "execution_count": null,
   "id": "a0f5ee3a-4dce-4ac4-9fc5-b582ec3c2785",
   "metadata": {},
   "outputs": [],
   "source": [
    "ligs = []\n",
    "filenames = []\n",
    "filenames_H = []\n",
    "filenames_pdbqt = []\n",
    "center = []\n",
    "size = []\n",
    "for r in ligand_information.index:\n",
    "    ligs.append(ligand_information[\"ligs\"][r])\n",
    "    filenames.append(ligand_information[\"filenames\"][r])\n",
    "    filenames_H.append(ligand_information[\"filenames_H\"][r])\n",
    "    filenames_pdbqt.append(ligand_information[\"filenames_pdbqt\"][r])\n",
    "    temp = [float(ligand_information[\"center_x\"][r]), float(ligand_information[\"center_y\"][r]), float(ligand_information[\"center_z\"][r])]\n",
    "    center.append(temp)\n",
    "    temp1 = [float(ligand_information[\"size_x\"][r]), float(ligand_information[\"size_y\"][r]), float(ligand_information[\"size_z\"][r])]\n",
    "    size.append(temp1)"
   ]
  },
  {
   "cell_type": "markdown",
   "id": "b8e71e39-9a2c-4d76-9a9f-cd506e5a7c78",
   "metadata": {},
   "source": [
    "## Docking"
   ]
  },
  {
   "cell_type": "markdown",
   "id": "38ea86fb",
   "metadata": {},
   "source": [
    "This notebook utilizes two docking engines for molecular docking: VINA and SMINA. VINA is one of many docking engines available in AutoDock Suite, and is widely used due to its relatively quick docking speed and easy-to-use interface compared to the other docking engines in the suite. SMINA is a fork of VINA, and allows for the modification of scoring terms by users and also adds other functions that make the engine more convenient (allowing multi-ligand files such as .sdf files, improving minimization algorithms, adding additional term types, and allowing for multiple ligand molecular formats). "
   ]
  },
  {
   "cell_type": "markdown",
   "id": "d4edcedc",
   "metadata": {},
   "source": [
    "<div class=\"alert alert-block alert-info\">\n",
    "<b>Please note:</b> \n",
    "VINA only has force field parameters for atoms of the following elements\n",
    "<ul> <li>hydrogen</li> <li>carbon</li> <li>oxygen</li> <li>nitrogen</li> <li>phosphorous</li> <li>sulfur</li> <li>calcium</li> <li>maganese</li> <li>iron</li> <li>zinc</li> <li>halogens (fluorine, chlorine, bromine, iodine)</li> </ul>\n",
    "For ligands containing atoms that are not listed above, it is recommended that users either 1) select all ligands other than those containing atoms that are not supported using the selection widget below or 2) only use SMINA as the docking engine. Trying to dock a ligand with an unsupported ligand using VINA will result in an error.\n",
    "\n",
    "To select multiple ligands using the selection widget, hold down the control key (PC) or command key (Mac) while clicking on the names of each ligand you would like to dock\n",
    "</div>"
   ]
  },
  {
   "cell_type": "code",
   "execution_count": null,
   "id": "4fc844e7",
   "metadata": {},
   "outputs": [],
   "source": [
    "style = {'description_width': 'initial'}\n",
    "select_ligs = SelectMultiple(options = ligs, description = 'Select Ligand/s to Dock:', style = style)\n",
    "select_ligs"
   ]
  },
  {
   "cell_type": "markdown",
   "id": "1bca9219",
   "metadata": {},
   "source": [
    "Ligand docking can either be site-specific or blind. Site-specific docking uses a location of the receptor where we know the ligand binds, and uses the center and size of the ligand as determined in docking_prep. Blind docking attempts to bind the ligand in multiple potential pockets in the protein (determined using fpocket in docking_prep) and requires more computational energy to perform. The option selected in the dropbox below will determine the method used in this notebook."
   ]
  },
  {
   "cell_type": "code",
   "execution_count": null,
   "id": "15a3cc4e",
   "metadata": {},
   "outputs": [],
   "source": [
    "style = {'description_width': 'initial'}\n",
    "if can_blind_dock:\n",
    "    select_type = Dropdown(options = [\"Site-specific docking\",\"Blind docking\"], description = 'Select Docking Type:', style = style)\n",
    "else:\n",
    "    select_type = Dropdown(options = [\"Site-specific docking\"], description = 'Select Docking Type:', style = style)\n",
    "select_type"
   ]
  },
  {
   "cell_type": "code",
   "execution_count": null,
   "id": "54ffa26f",
   "metadata": {},
   "outputs": [],
   "source": [
    "pocket_center = []\n",
    "pocket_size = []\n",
    "for i in select_ligs.value:\n",
    "    for pocket in prot_pockets.index:\n",
    "        c_x = prot_pockets.loc[pocket,'center_x']\n",
    "        c_y = prot_pockets.loc[pocket,'center_y']\n",
    "        c_z = prot_pockets.loc[pocket,'center_z']\n",
    "        s_x = prot_pockets.loc[pocket,'size_x']\n",
    "        s_y = prot_pockets.loc[pocket,'size_y']\n",
    "        s_z = prot_pockets.loc[pocket,'size_z']\n",
    "        pocket_center.append([c_x, c_y, c_z])\n",
    "        pocket_size.append([s_x, s_y, s_z])"
   ]
  },
  {
   "cell_type": "markdown",
   "id": "126a57d9-40ba-48c1-b6e9-b8e22e6c908d",
   "metadata": {},
   "source": [
    "### Docking using VINA"
   ]
  },
  {
   "cell_type": "markdown",
   "id": "7151d7bd",
   "metadata": {},
   "source": [
    "Below is a step-by-step (cell-by-cell) guide on how the VINA docking engine is used to generate poses and scores for each pocket and ligand\n",
    "- Prior to docking, two new folders are created in the data folder to organize the output data (vina_out and vina_out_2). \n",
    "- Using the information collected in the docking-prep notebook, each pocket's center values and size values are added to their respective lists, which are called pocket_center and pocket_size. In both lists, each instance is a list of the x, y, and z values corresponding to one pocket's data (as a result, pocket_center and pocket_size are nested lists, and the length of both lists is equal to the number of binding pockets)\n",
    "    - For example, pocket_center may look like this: [[x1, y1, z1][x2, y2, z2][x3, y3, z3]]\n",
    "- Using the pocket size and center lists and the pdbqt files for the receptor and desired ligand, ligand poses are generated for each binding pocket (the number of poses depends on the value of n_poses, which is set to 5 in this notebook). The amount of computational effort needed to generate the poses for a given pocket and ligand is called the exhaustiveness. As exhaustiveness increases, the more reproducible the results tend to be. While the default value of exhaustiveness is 8, this notebook uses an exhaustiveness of 5 due to memory limitations.\n",
    "- The results of running the VINA docking engine are stored as pdbqt files and can be located in the vina_out folder. In order to analyze and vizualize the results, the pdbqt files are converted into sdf files using the function pdbqt_to_sdf (created by Angel Ruiz-Moreno), which can be found in the vina_out_2 folder. The names of each file follows the formula of `(ligand name)_vina_pocket_(pocket number).pdbqt` for the pdbqt files and `(ligand name)_pocket_(pocket number)_(name of folder).sdf` for the sdf files."
   ]
  },
  {
   "cell_type": "code",
   "execution_count": null,
   "id": "400e2ae4",
   "metadata": {},
   "outputs": [],
   "source": [
    "current_dir = os.getcwd()\n",
    "dataPath = os.path.join(current_dir, \"data\")\n",
    "vina_out = os.path.join(current_dir, \"data\", \"vina_out\")\n",
    "vina_out_2 = os.path.join(current_dir, \"data\", \"vina_out_2\")\n",
    "\n",
    "bool_data = os.path.exists(dataPath)\n",
    "bool_vina = os.path.exists(vina_out)\n",
    "bool_vina2 = os.path.exists(vina_out_2)\n",
    "\n",
    "if(bool_data == False):\n",
    "    print(\"ERROR: Cannot find 'data' folder. Make sure you are in the correct directory.\")\n",
    "elif(bool_vina == False):\n",
    "    print(\"ERROR: Cannot find 'vina_out' folder. Creating folder...\")\n",
    "    os.mkdir(vina_out)\n",
    "elif(bool_vina2 == False):\n",
    "    print(\"ERROR: Cannot find 'vina_out_2' folder. Creating folder...\")\n",
    "    os.mkdir(vina_out_2)"
   ]
  },
  {
   "cell_type": "code",
   "execution_count": null,
   "id": "41efb55a",
   "metadata": {},
   "outputs": [],
   "source": [
    "def vina_dock(ligand):\n",
    "    v = Vina(sf_name='vina')\n",
    "    v.set_receptor(f'data/PDBQT_files/{pdb_id}_protein.pdbqt')\n",
    "    v.set_ligand_from_file(f\"data/PDBQT_files/{ligand}_H.pdbqt\")\n",
    "    if select_type.value == \"Blind docking\":\n",
    "        for pock_num, pocket in enumerate(prot_pockets.index):\n",
    "            v.compute_vina_maps(center = pocket_center[pock_num], box_size = pocket_size[pock_num])\n",
    "            v.dock(exhaustiveness=5, n_poses=5)\n",
    "            v.write_poses(\"data/vina_out/\" + str(ligand) + \"_vina_pocket_\" + str(pocket) + '.pdbqt', n_poses=5, overwrite=True)\n",
    "    else:\n",
    "        v.compute_vina_maps(center = center[ligs.index(ligand)], box_size = size[ligs.index(ligand)])\n",
    "        v.dock(exhaustiveness=5, n_poses=5)\n",
    "        v.write_poses(\"data/vina_out/\" + str(ligand) + '.pdbqt', n_poses=5, overwrite=True)"
   ]
  },
  {
   "cell_type": "code",
   "execution_count": null,
   "id": "83d532c9",
   "metadata": {},
   "outputs": [],
   "source": [
    "for i in select_ligs.value:\n",
    "    vina_dock(i)"
   ]
  },
  {
   "cell_type": "code",
   "execution_count": null,
   "id": "7b90bd48-942d-4e31-a179-740457570858",
   "metadata": {},
   "outputs": [],
   "source": [
    "# Create sdf files from pdbqt\n",
    "for i in select_ligs.value:\n",
    "    if select_type.value == \"Blind docking\":\n",
    "        for pocket in prot_pockets.index:\n",
    "            pdbqt_to_sdf(pdbqt_file=f\"data/vina_out/{i}_vina_pocket_{pocket}.pdbqt\",output=f\"data/vina_out_2/{i}_pocket_{pocket}_vina_out_2.sdf\")\n",
    "    else:\n",
    "        pdbqt_to_sdf(pdbqt_file=f\"data/vina_out/{i}.pdbqt\",output=f\"data/vina_out_2/{i}_vina_out_2.sdf\")"
   ]
  },
  {
   "cell_type": "markdown",
   "id": "64d0c15c-5a37-444e-bc9d-b865476533f3",
   "metadata": {},
   "source": [
    "### Docking using SMINA"
   ]
  },
  {
   "cell_type": "markdown",
   "id": "ec17364d",
   "metadata": {},
   "source": [
    "Below is a step-by-step (cell-by-cell) guide on how the SMINA docking engine is used to generate poses and scores for each pocket and ligand\n",
    "- Prior to docking, two new folders are created in the data folder to organize the output data (smina_out and smina_out_2). The path for the smina docking engine executable is also initialized to allow for the docking engine to be used, as it is a local file.\n",
    "- Using the the pdbqt file for the receptor, the mol2 file for the desired ligand, and the pocket center/size values from the prot_pockets dataframe, ligand poses are generated for each binding pocket (the number of poses depends on the value of num_modes, which is set to 5 in this notebook). The amount of computational effort needed to generate the poses for a given pocket and ligand is called the exhaustiveness. As exhaustiveness increases, the more reproducible the results tend to be. While the default value of exhaustiveness is 8, this notebook uses an exhaustiveness of 5 due to memory limitations.\n",
    "- The results of running the SMINA docking engine are stored as sdf files and can be located in the smina_out folder. However, due to the fact that the output files do not have a flag marking it as three dimensional, the sdf files must be read using SDMolSupplier and re-written using SDWriter to avoid excessive errors. The re-written sdf files can be found in the smina_out_2 folder. The names of each file follows the formula of `(ligand name)_pocket_(pocket number)_(name of folder).sdf` for the sdf files."
   ]
  },
  {
   "cell_type": "code",
   "execution_count": null,
   "id": "f12f90bf",
   "metadata": {},
   "outputs": [],
   "source": [
    "current_dir = os.getcwd()\n",
    "dataPath = os.path.join(current_dir, \"data\")\n",
    "smina_out = os.path.join(current_dir, \"data\", \"smina_out\")\n",
    "smina_out_2 = os.path.join(current_dir, \"data\", \"smina_out_2\")\n",
    "\n",
    "bool_data = os.path.exists(dataPath)\n",
    "bool_smina = os.path.exists(smina_out)\n",
    "bool_smina2 = os.path.exists(smina_out_2)\n",
    "\n",
    "if(bool_data == False):\n",
    "    print(\"ERROR: Cannot find 'data' folder. Make sure you are in the correct directory.\")\n",
    "elif(bool_smina == False):\n",
    "    print(\"ERROR: Cannot find 'smina_out' folder. Creating folder...\")\n",
    "    os.mkdir(smina_out)\n",
    "elif(bool_smina2 == False):\n",
    "    print(\"ERROR: Cannot find 'smina_out_2' folder. Creating folder...\")\n",
    "    os.mkdir(smina_out_2)"
   ]
  },
  {
   "cell_type": "code",
   "execution_count": null,
   "id": "1f6cbd34-cf48-4b0a-8f6e-14eef43b02d6",
   "metadata": {},
   "outputs": [],
   "source": [
    "# Using SMINA to dock ligand/s in docking boxes based on fpocket's identified pockets\n",
    "d = 0\n",
    "for i in select_ligs.value: \n",
    "    if select_type.value == \"Blind docking\":\n",
    "        for pock_num, pocket in enumerate(prot_pockets.index):\n",
    "            rec = f'data/PDBQT_files/{pdb_id}_protein.pdbqt'\n",
    "            lig = f'data/MOL2_files/{i}_H.mol2'\n",
    "            outfile = f'data/smina_out/{i}_pocket_{pocket}_smina_out.sdf'\n",
    "            ! smina -r {rec} -l {lig} -o {outfile} --center_x {pocket_center[pock_num][0]} --center_y {pocket_center[pock_num][1]} --center_z {pocket_center[pock_num][2]} --size_x {pocket_size[pock_num][0]} --size_y {pocket_size[pock_num][1]} --size_z {pocket_size[pock_num][2]} --exhaustiveness 5 --num_modes 5\n",
    "    else:\n",
    "        rec = f'data/PDBQT_files/{pdb_id}_protein.pdbqt'\n",
    "        lig = f'data/MOL2_files/{i}_H.mol2'\n",
    "        outfile = f'data/smina_out/{i}_smina_out.sdf'\n",
    "        ! smina -r {rec} -l {lig} -o {outfile} --autobox_ligand {lig} --autobox_add 5 --exhaustiveness 5 --num_modes 5"
   ]
  },
  {
   "cell_type": "code",
   "execution_count": null,
   "id": "a8a4cb88-df83-4579-af21-8ab03e863eeb",
   "metadata": {},
   "outputs": [],
   "source": [
    "# Rewrite .sdf output files to add 3D tag\n",
    "# This code will result in warnings. This is normal as long as the warning is\n",
    "# \"Warning: molecule is tagged as 2D, but at least one Z coordinate is not zero. Marking the mol as 3D.\"\n",
    "mols_all = []\n",
    "for i in select_ligs.value:\n",
    "    mols = []\n",
    "    if select_type.value == \"Blind docking\":\n",
    "        for pocket in prot_pockets.index:\n",
    "            with Chem.SDMolSupplier(f'data/smina_out/{i}_pocket_{pocket}_smina_out.sdf') as suppl:\n",
    "                for mol in suppl:\n",
    "                    if mol is not None:\n",
    "                        Chem.MolToMolBlock(mol)\n",
    "                        mols.append(mol)\n",
    "            with Chem.SDWriter(f\"data/smina_out_2/{i}_pocket_{pocket}_smina_out_2.sdf\") as w:\n",
    "                for mol in mols:\n",
    "                    w.write(mol)\n",
    "    else:\n",
    "        with Chem.SDMolSupplier(f'data/smina_out/{i}_smina_out.sdf') as suppl:\n",
    "            for mol in suppl:\n",
    "                if mol is not None:\n",
    "                    Chem.MolToMolBlock(mol)\n",
    "                    mols.append(mol)\n",
    "        with Chem.SDWriter(f\"data/smina_out_2/{i}_smina_out_2.sdf\") as w:\n",
    "            for mol in mols:\n",
    "                w.write(mol)"
   ]
  },
  {
   "cell_type": "markdown",
   "id": "967d528b-6a1d-4dc5-b2c5-661d6a0293b9",
   "metadata": {},
   "source": [
    "## Analysis of docking output"
   ]
  },
  {
   "cell_type": "markdown",
   "id": "125ce4f3",
   "metadata": {},
   "source": [
    "Now that we have results from molecular docking, we need to make sense of the information. If you were to open the sdf files in a text editor, you would see x, y, and z coordinates for each atom in the ligand, the bond types between atoms in the ligand, and the score of the ligand pose. While useful, this information is difficult to interpret and visualize. To get information regarding the number of interactions, the types of interaction, and the atoms (ligand) and residues (receptor) involved in binding the ligand to the receptor, interaction fingerprints (IFPs) can be generated and viewed using the prolif library, which can be used to identify key atoms in the ligand and key residues in the receptor involved in protein-ligand complex formation."
   ]
  },
  {
   "cell_type": "code",
   "execution_count": null,
   "id": "f6f2b9d7-fa3e-4191-b1ce-b31f462ff950",
   "metadata": {},
   "outputs": [],
   "source": [
    "# load protein\n",
    "prot_mol = Chem.MolFromPDBFile(f\"data/PDB_files/{pdb_id}_protein_H.pdb\")\n",
    "protein_plf = plf.Molecule.from_rdkit(prot_mol)"
   ]
  },
  {
   "cell_type": "code",
   "execution_count": null,
   "id": "0b7435e6",
   "metadata": {},
   "outputs": [],
   "source": [
    "style = {'description_width': 'initial'}\n",
    "select_dock = Dropdown(options = [('smina'), ('vina')], description = 'Select the docking engine that was used:', style = style)\n",
    "select_dock"
   ]
  },
  {
   "cell_type": "code",
   "execution_count": null,
   "id": "81b081fa",
   "metadata": {},
   "outputs": [],
   "source": [
    "# get interaction fingerprints for all docked poses\n",
    "all_df, all_ifps, all_ligand_plf, ligand_plf_descriptors = get_ifps(select_type.value, select_dock.value, select_ligs.value, prot_pockets, protein_plf)\n"
   ]
  },
  {
   "cell_type": "code",
   "execution_count": null,
   "id": "757539fa",
   "metadata": {},
   "outputs": [],
   "source": [
    "# get scores for all docked poses\n",
    "scores = get_scores(select_type.value, select_dock.value, select_ligs.value, prot_pockets)\n"
   ]
  },
  {
   "cell_type": "code",
   "execution_count": null,
   "id": "7aed4c7e",
   "metadata": {},
   "outputs": [],
   "source": [
    "# prot pockets not listed - try to fix?\n",
    "df = pd.concat([d for d in all_df], axis=0, ignore_index=False, sort=False).reset_index()\n",
    "df.insert(1, \"Score\", pd.Series(scores))\n",
    "df = df.fillna(0)"
   ]
  },
  {
   "cell_type": "code",
   "execution_count": null,
   "id": "ac9e07a8",
   "metadata": {},
   "outputs": [],
   "source": [
    "df"
   ]
  },
  {
   "cell_type": "markdown",
   "id": "89635f2c",
   "metadata": {},
   "source": [
    "While the dataframe generated using the prolif library has a lot of useful information, we are also going to add the distance between interacting ligand and protein atoms, the indexes of both the ligand and protein atoms involved in the interaction, and the functional group the ligand's atom is a member of if applicable."
   ]
  },
  {
   "cell_type": "code",
   "execution_count": null,
   "id": "30088b30",
   "metadata": {},
   "outputs": [],
   "source": [
    "# fix for site specific\n",
    "if select_type.value == \"Blind docking\":\n",
    "    #df2 = df[[\"cav_id\", \"Frame\", \"Score\"]].copy()\n",
    "    df2 = df[[\"Frame\", \"Score\", \"UNL1\"]].copy()\n",
    "else:\n",
    "    df2 = df[[\"Frame\", \"Score\", \"UNL1\"]].copy()"
   ]
  },
  {
   "cell_type": "code",
   "execution_count": null,
   "id": "336a3080",
   "metadata": {},
   "outputs": [],
   "source": [
    "largest_array_column = get_largest_array_column(df)"
   ]
  },
  {
   "cell_type": "code",
   "execution_count": null,
   "id": "9208c489",
   "metadata": {},
   "outputs": [],
   "source": [
    "%%capture\n",
    "# create new columns for functional group, residue type, distance, and index information\n",
    "expand_df(all_ifps, df, df2, largest_array_column)"
   ]
  },
  {
   "cell_type": "markdown",
   "id": "aa613da8",
   "metadata": {},
   "source": [
    "To get the functional groups in each ligand, a dictionary is created where the keys are the indexes of atoms determined to be in a functional group, and the corresponding value is the name of the functional group. Due to keys being unable to be used more than once in a dictionary, atoms that are members of two or more functional groups will only have one of their functional groups listed as the value."
   ]
  },
  {
   "cell_type": "code",
   "execution_count": null,
   "id": "c5428b00",
   "metadata": {},
   "outputs": [],
   "source": [
    "# find atom indices for ligand and protein, functional groups involved (ligand), residue type (protein), and\n",
    "# distance between ligand and protein in interaction\n",
    "fill_df(df2, all_ifps, all_ligand_plf, largest_array_column)"
   ]
  },
  {
   "cell_type": "code",
   "execution_count": null,
   "id": "122dc2b3",
   "metadata": {},
   "outputs": [],
   "source": [
    "df2 = df2.convert_dtypes()\n",
    "df2.to_csv(f'data/{pdb_id}_{str(len(select_ligs.value))}_ligands_docking_information.csv', index = False)\n",
    "df2"
   ]
  },
  {
   "cell_type": "markdown",
   "id": "305d9824",
   "metadata": {},
   "source": [
    "### Visualization of Docking Poses"
   ]
  },
  {
   "cell_type": "markdown",
   "id": "b893010c",
   "metadata": {},
   "source": [
    "Using the dropdown created by the cell below, two different ligand poses can be selected to be viewed with the receptor and compared. A given pose for a ligand can be compared against its original pose (e.g. its location and pose relative to the receptor prior to docking) or against another pose generated by the docking engine. The original ligand pose may not be useful for ligands that were added by uploading a local mol2 file or by inputting a SMILES string.\n"
   ]
  },
  {
   "cell_type": "code",
   "execution_count": null,
   "id": "039464bd",
   "metadata": {},
   "outputs": [],
   "source": [
    "pose_mode = Dropdown(options = [('Compare to original pose', 1), ('Compare to other docked poses', 2)])\n",
    "pose_mode"
   ]
  },
  {
   "cell_type": "markdown",
   "id": "464b5d6a",
   "metadata": {},
   "source": [
    "To select specific poses to view, use the form created by the cell below. Depending on whether blind docking or site-specific docking was used to find binding locations, you will be able to select generated poses for a specific pocket or poses without the ability to specify the pocket of interest, respectively. \n",
    "\n",
    "If you are comparing a pose against the original pose (i.e. the conformation prior to docking), only one additional pose can be specified for viewing. Otherwise, if you are comparing different docked poses, two different poses can be specified. "
   ]
  },
  {
   "cell_type": "markdown",
   "id": "62cb0485",
   "metadata": {},
   "source": [
    "<div class=\"alert alert-block alert-info\">\n",
    "<b>Tip for Pose Selection: </b>\n",
    "When selecting the pocket number (if applicable) and the pose number corresponding to each desired pose in the dropdown, make sure that they belong to the same selection as noted in the parentheses of the dropdown's label. \n",
    "\n",
    "__Example 1__ _(After using site-specific docking as the docking method)_: </br>\n",
    "To assign the conformation of a given ligand as seen in pose number 5 to View 1, select \"5\" in the dropdown marked \"Pose Number (View 1)\"\n",
    "    \n",
    "__Example 2__ _(After using blind docking as the docking method)_:</br>\n",
    "To assign the conformation of a given ligand as seen in pocket number 5 and pose number 3 to View 1, select \"5\" in the dropdown marked \"Pocket Number (View 1)\" and \"3\" in the dropdown marked \"Pose Number (View 1)\"\n",
    "\n",
    "__Example 3__ _(After using blind docking as the docking method)_: </br>\n",
    "To assign the conformation of a given ligand as seen in pocket number 5 and pose number 3 to View 1 and the conformation as seen in pocket number 2 and pose number 4 to View 2, select \"5\" in the dropdown marked \"Pocket Number (View 1)\", \"3\" in the dropdown marked \"Pose Number (View 1)\", \"2\" in the dropdown marked \"Pocket Number (View 2)\", and \"4\" in the dropdown marked \"Pose Number (View 2)\"</div>"
   ]
  },
  {
   "cell_type": "code",
   "execution_count": null,
   "id": "1eb7e685",
   "metadata": {},
   "outputs": [],
   "source": [
    "# Need to test more\n",
    "form, ligand_number, form_items1, form_items2 = compare_poses_form(select_type.value, select_ligs.value, prot_pockets, pose_mode.value)\n",
    "form"
   ]
  },
  {
   "cell_type": "markdown",
   "id": "7d65d4c5",
   "metadata": {},
   "source": [
    "For the poses selected in the form made by the cell above, a viewer containing the receptor (including the space-filling surface of the receptor) and the two ligand poses specified will be created. "
   ]
  },
  {
   "cell_type": "code",
   "execution_count": null,
   "id": "b0d413de",
   "metadata": {},
   "outputs": [],
   "source": [
    "pockets = {}\n",
    "poses = {}\n",
    "for index, value in enumerate(form_items1):\n",
    "    pockets[index + 1] = form_items1[index + 1].value\n",
    "\n",
    "for index, value in enumerate(form_items2):\n",
    "    poses[index + 1] = form_items2[index + 1].value"
   ]
  },
  {
   "cell_type": "code",
   "execution_count": null,
   "id": "8b7759ae",
   "metadata": {},
   "outputs": [],
   "source": [
    "compare_poses(pdb_id, select_type.value, pose_mode.value, ligand_number.value, select_dock.value, pockets, poses)"
   ]
  },
  {
   "cell_type": "markdown",
   "id": "06d2e549",
   "metadata": {},
   "source": [
    "### Visualization of Protein-Ligand Interactions"
   ]
  },
  {
   "cell_type": "markdown",
   "id": "bb4cd970",
   "metadata": {},
   "source": [
    "Using an IFP, the interactions between the ligand and the receptor can be visualized using prolif's Complex3D submodule. Only one pose and its interactions can be viewed at a time. If a pose has no interactions assigned to it, the ligand will not be shown in the display and only the protein will be visible."
   ]
  },
  {
   "cell_type": "code",
   "execution_count": null,
   "id": "9b2fb283",
   "metadata": {},
   "outputs": [],
   "source": [
    "# display interactions. select which one to view using dropdown\n",
    "# NEED TO TEST MORE\n",
    "pose_pock_select = []\n",
    "a = 0\n",
    "while a < int(df.shape[0]):\n",
    "    pose_pock_select.append((ligand_plf_descriptors[a], a))\n",
    "    a += 1\n",
    "style = {'description_width': 'initial'}\n",
    "select_pose = Dropdown(options = pose_pock_select, description = 'Select Pose to View:', style = style)\n",
    "select_pose"
   ]
  },
  {
   "cell_type": "code",
   "execution_count": null,
   "id": "af1ec355",
   "metadata": {},
   "outputs": [],
   "source": [
    "comp = Complex3D(all_ifps[select_pose.value], all_ligand_plf[select_pose.value], protein_plf)\n",
    "comp.display()"
   ]
  },
  {
   "cell_type": "code",
   "execution_count": null,
   "id": "f2aaa768",
   "metadata": {},
   "outputs": [],
   "source": [
    "# EVERYTHING BELOW THIS IS STILL IN PROGRESS"
   ]
  },
  {
   "cell_type": "markdown",
   "id": "1700b128",
   "metadata": {},
   "source": [
    "### Determine which ligand features affect ligand binding affinity the strongest"
   ]
  },
  {
   "cell_type": "markdown",
   "id": "4a88afe6",
   "metadata": {},
   "source": [
    "(info)"
   ]
  },
  {
   "cell_type": "code",
   "execution_count": null,
   "id": "57379359",
   "metadata": {},
   "outputs": [],
   "source": [
    "affinity_importances = rf_regressor(df2)"
   ]
  },
  {
   "cell_type": "code",
   "execution_count": null,
   "id": "4d541527",
   "metadata": {},
   "outputs": [],
   "source": [
    "affinity_importances"
   ]
  },
  {
   "cell_type": "markdown",
   "id": "11aa04f3",
   "metadata": {},
   "source": [
    "### Determine if features and properties suggest potential oral bioavailability of ligand"
   ]
  },
  {
   "cell_type": "markdown",
   "id": "19ab328b",
   "metadata": {},
   "source": [
    "Lipinski's Rule of 5 (LRO5) states that drugs that meet at least three of the following criteria are likely to be orally bioactive\n",
    "1. Molecular mass less than 500 daltons\n",
    "2. Octonal-water partition coefficient that is 5 or less\n",
    "3. No more than 5 hydrogen bond donors\n",
    "4. No more than 10 hydrogen bond acceptors\n",
    "\n",
    "From this, it can bestated that in general small drugs that are more hydrophilic (low partition coefficient) that are overall stable (does not give or receive a large number of protons) are more likely to be orally bioactive than large, unstable, hydrophobic drugs."
   ]
  },
  {
   "cell_type": "markdown",
   "id": "ca3ea222",
   "metadata": {},
   "source": [
    "(Why are there variants?)\n",
    "\n",
    "The Ghose filter further refines the rules set up by LRO5 by adding the following criteria:\n",
    "1. Octonal-water partition coefficient is between -0.4 and +5.6\n",
    "2. Molar refractivity is between 40 and 130\n",
    "3. Molecular weight is between 180 and 480 daltons\n",
    "4. Number of atoms is between 20 and 70 (including hydrogen bond donors and acceptors)\n",
    "\n",
    "Veber's rule completely changes the prediction methods to determine orally bioactive drugs, only checking for two criteria:\n",
    "1. The molecule has 10 or fewer rotatable bonds\n",
    "2. The molecule has a polar surface area equal to 140 square angstroms or less"
   ]
  },
  {
   "cell_type": "code",
   "execution_count": null,
   "id": "5f43ed71",
   "metadata": {},
   "outputs": [],
   "source": [
    "# ligand_information dataframe used for ligand information\n",
    "bioactive_df = pd.read_csv(\"data/oral_bioactive_test_train.csv\")\n",
    "try:\n",
    "    bioactive_df = pd.concat([bioactive_df, ligand_smiles])\n",
    "except:\n",
    "    bioactive_df = pd.read_csv(\"data/oral_bioactive_test_train.csv\")"
   ]
  },
  {
   "cell_type": "code",
   "execution_count": null,
   "id": "159e5e8c",
   "metadata": {},
   "outputs": [],
   "source": [
    "lig_bioactive_df = get_ligand_properties(bioactive_df)\n",
    "lig_bioactive_df"
   ]
  },
  {
   "cell_type": "code",
   "execution_count": null,
   "id": "9a1e91ad",
   "metadata": {},
   "outputs": [],
   "source": [
    "# select method of obtaining PDB ID using Dropdown widget: manual or random generation\n",
    "style = {'description_width': 'initial'}\n",
    "methods = Dropdown(options = [\"LRO5\", \"Ghose\", \"Veber\"], description = 'Select Method for Analysis:', style = style)\n",
    "methods"
   ]
  },
  {
   "cell_type": "code",
   "execution_count": null,
   "id": "41148e8e",
   "metadata": {},
   "outputs": [],
   "source": [
    "bioactive_importances = rf_classifier(lig_bioactive_df, methods.value)"
   ]
  },
  {
   "cell_type": "code",
   "execution_count": null,
   "id": "83525b11",
   "metadata": {},
   "outputs": [],
   "source": [
    "bioactive_importances"
   ]
  }
 ],
 "metadata": {
  "kernelspec": {
   "display_name": "Python 3 (ipykernel)",
   "language": "python",
   "name": "python3"
  },
  "language_info": {
   "codemirror_mode": {
    "name": "ipython",
    "version": 3
   },
   "file_extension": ".py",
   "mimetype": "text/x-python",
   "name": "python",
   "nbconvert_exporter": "python",
   "pygments_lexer": "ipython3",
   "version": "3.12.4"
  },
  "toc": {
   "base_numbering": 1,
   "nav_menu": {},
   "number_sections": true,
   "sideBar": true,
   "skip_h1_title": false,
   "title_cell": "Table of Contents",
   "title_sidebar": "Contents",
   "toc_cell": false,
   "toc_position": {},
   "toc_section_display": true,
   "toc_window_display": false
  }
 },
 "nbformat": 4,
 "nbformat_minor": 5
}
