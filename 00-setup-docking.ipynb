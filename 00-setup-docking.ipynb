{
 "cells": [
  {
   "cell_type": "markdown",
   "id": "7a1664f0",
   "metadata": {},
   "source": [
    "# Basil Docking V0.1 - Notebook Set Up\n",
    "## Purpose\n",
    "\n",
    "__Target Audience__<br>\n",
    "Undergraduate chemistry/biochemistry students and, in general, people that have little to no knowledge of protein-ligand docking and would like to understand the general process of docking a ligand to a protein receptor.\n",
    "\n",
    "__Brief Overview__<br>\n",
    "Molecular docking is a computational method used to predict where molecules are able to bind to a protein receptor and what interactions exist between the molecule (from now on, refered to as \"ligand\") and the receptor. It is a popular technique utilized in drug discovery and design, as when creating new drugs and testing existing drugs aginst new receptors, it is useful to determine the likelihood of binding prior to screening as it can be used to eliminate molecules that are unlikely to bind to the receptor. This significantly reduces the potential cost and time needed to test the efficacy of a set of possible ligands. <br>\n",
    "\n",
    "The general steps to perform molecular docking, assuming the ligand and receptor are ready to be docked, include the generation of potential ligand binding poses and the scoring of each generated pose (which predicts how strongly the ligand binds to the receptor, with a more negative score corresponding to a stronger bond). To dock a ligand to a protein, both the receptor and the ligand/s need to be \"sanitized\"; which includes making sure bonds and protonation states are as they would be in an organism. The receptor and ligand/s also need to be converted into the correct file formats depending on which docking engine is utilized. With all of these steps needed for preparation alone, introducing a (more)<br>\n",
    "\n",
    "This notebook series encompasses<br>\n",
    "1. The preparation needed prior to docking (protein and ligand sanitation, ensuring files are in readable formats, and finding possible binding pockets)\n",
    "2. The process of docking ligand/s to a protein receptor using two docking engines (VINA and SMINA) and visualizing/analyzing the outputs\n",
    "3. Further data collection and manipulation"
   ]
  },
  {
   "cell_type": "markdown",
   "id": "11006032",
   "metadata": {},
   "source": [
    "## Welcome to basil_dock"
   ]
  },
  {
   "cell_type": "code",
   "execution_count": 1,
   "id": "460b2d6b",
   "metadata": {},
   "outputs": [],
   "source": [
    "# embed a video explaining set up process"
   ]
  },
  {
   "cell_type": "markdown",
   "id": "68f49015",
   "metadata": {},
   "source": [
    "## Install packages"
   ]
  },
  {
   "cell_type": "markdown",
   "id": "ec236a0a",
   "metadata": {},
   "source": [
    "### Install using conda"
   ]
  },
  {
   "cell_type": "code",
   "execution_count": null,
   "id": "1deef92e",
   "metadata": {},
   "outputs": [],
   "source": [
    "# method not ideal. workshop this"
   ]
  },
  {
   "cell_type": "code",
   "execution_count": null,
   "id": "58e86343",
   "metadata": {},
   "outputs": [],
   "source": [
    "! pip install ipywidgets"
   ]
  },
  {
   "cell_type": "code",
   "execution_count": 1,
   "id": "918749f1",
   "metadata": {},
   "outputs": [],
   "source": [
    "from ipywidgets import Dropdown\n",
    "import os, sys"
   ]
  },
  {
   "cell_type": "code",
   "execution_count": 13,
   "id": "39644e07",
   "metadata": {},
   "outputs": [
    {
     "data": {
      "application/vnd.jupyter.widget-view+json": {
       "model_id": "0b5972e669ff44788db5bcbcec15d331",
       "version_major": 2,
       "version_minor": 0
      },
      "text/plain": [
       "Dropdown(description='Select Your Operating System from Dropdown:', options=('Mac', 'Windows', 'Ubuntu'), styl…"
      ]
     },
     "execution_count": 13,
     "metadata": {},
     "output_type": "execute_result"
    }
   ],
   "source": [
    "style = {'description_width': 'initial'}\n",
    "select_os = Dropdown(options = [\"Mac\", \"Windows\", \"Ubuntu\"], description = 'Select Your Operating System from Dropdown:', style = style)\n",
    "select_os"
   ]
  },
  {
   "cell_type": "code",
   "execution_count": null,
   "id": "b306d6b1",
   "metadata": {},
   "outputs": [],
   "source": [
    "envir_file = \"\"\n",
    "if select_os.value == \"Windows\":\n",
    "    envir_file = \"environment_windows.yml\" #not yet created\n",
    "elif select_os.value == \"Mac\":\n",
    "    envir_file = \"environment_macos.yml\" # good to go\n",
    "elif select_os.value == \"Ubuntu\":\n",
    "    envir_file = \"environment_ubuntu.yml\" #good to go"
   ]
  },
  {
   "cell_type": "code",
   "execution_count": null,
   "id": "6b5e04c4",
   "metadata": {},
   "outputs": [],
   "source": [
    "# change conda environment to basil_dock\n",
    "! conda env create -f {envir_file} -y "
   ]
  },
  {
   "cell_type": "markdown",
   "id": "571cf6cb",
   "metadata": {},
   "source": [
    "### Install using PIP"
   ]
  },
  {
   "cell_type": "markdown",
   "id": "f8084670",
   "metadata": {},
   "source": [
    "For using this notebook, certain libraries are required in order for analysis to perform as planned. You can either use a conda library (provided as a yml file) or install all required libraries using pip install. Only run the cells below if you will not use a conda library to install required libraries, and only use them as needed. If you are using a conda library, start at the coding cell that imports the libraries."
   ]
  },
  {
   "cell_type": "code",
   "execution_count": null,
   "id": "79f95460",
   "metadata": {},
   "outputs": [],
   "source": []
  },
  {
   "cell_type": "markdown",
   "id": "b2dada1a",
   "metadata": {},
   "source": [
    "## Obtaining the ligandsplitter package"
   ]
  },
  {
   "cell_type": "markdown",
   "id": "f55af7c8",
   "metadata": {},
   "source": [
    "If you are running this notebook for the first time, please execute the next cell"
   ]
  },
  {
   "cell_type": "code",
   "execution_count": 7,
   "id": "652d2f07",
   "metadata": {},
   "outputs": [
    {
     "name": "stdout",
     "output_type": "stream",
     "text": [
      "/Users/leesch/Desktop/BASIL/utilities\n"
     ]
    }
   ],
   "source": [
    "cwd = os.getcwd()\n",
    "cwd = os.path.join(cwd, \"utilities\")\n",
    "print(cwd)"
   ]
  },
  {
   "cell_type": "code",
   "execution_count": null,
   "id": "16ca95c3",
   "metadata": {},
   "outputs": [],
   "source": [
    "# wouldn't work well on windows (issue with finding git), find solution?\n",
    "! cd {cwd}\n",
    "! git clone --recursive https://github.com/leesch27/ligandsplitter.git"
   ]
  },
  {
   "cell_type": "markdown",
   "id": "079b3740",
   "metadata": {},
   "source": [
    "Test to make sure ligandsplitter submodule has been cloned correctly"
   ]
  },
  {
   "cell_type": "code",
   "execution_count": null,
   "id": "4277b7f0",
   "metadata": {},
   "outputs": [],
   "source": [
    "# wouldn't work well on windows (issue with finding git), find solution?\n",
    "! git submodule update --recursive --init"
   ]
  }
 ],
 "metadata": {
  "kernelspec": {
   "display_name": "Python 3 (ipykernel)",
   "language": "python",
   "name": "python3"
  },
  "language_info": {
   "codemirror_mode": {
    "name": "ipython",
    "version": 3
   },
   "file_extension": ".py",
   "mimetype": "text/x-python",
   "name": "python",
   "nbconvert_exporter": "python",
   "pygments_lexer": "ipython3",
   "version": "3.12.4"
  },
  "toc": {
   "base_numbering": 1,
   "nav_menu": {},
   "number_sections": true,
   "sideBar": true,
   "skip_h1_title": false,
   "title_cell": "Table of Contents",
   "title_sidebar": "Contents",
   "toc_cell": false,
   "toc_position": {},
   "toc_section_display": true,
   "toc_window_display": false
  }
 },
 "nbformat": 4,
 "nbformat_minor": 5
}
